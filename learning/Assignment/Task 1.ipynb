{
 "cells": [
  {
   "cell_type": "markdown",
   "id": "4bb6fa23",
   "metadata": {},
   "source": [
    "Task 1: Email Validation"
   ]
  },
  {
   "cell_type": "code",
   "execution_count": null,
   "id": "2248d6fd",
   "metadata": {},
   "outputs": [],
   "source": [
    "\n",
    "\n",
    "# assigning a variable to the email input\n",
    "\n",
    "email = input(\"Enter your email: \").lower()\n",
    "\n",
    "# checking if the email contains '@' and '.'\n",
    "\n",
    "valed = email.count (\"@\") == 1 and email.count (\".\") == 1\n",
    "\n",
    "print(\"valid email\" )\n",
    "\n",
    "# checking user name + domain\n",
    "\n",
    "user_name = email.split(\"@\")[0]\n",
    "domain = email.split(\"@\")[1]\n",
    "\n",
    "print(\"User name: \", user_name)\n",
    "print(\"Domain: \", domain)\n",
    "\n",
    "# checking domain .com or .edu\n",
    "ending = domain.split(\".\")[-1]\n",
    "if ending == \"com\" :\n",
    "    print(\"Domain is .Commercial Domain\")\n",
    "elif ending == \"edu\":\n",
    "    print(\"Domain is .Educational Domain\")\n",
    "else:\n",
    "    print(\"Other Domain\")\n"
   ]
  },
  {
   "cell_type": "markdown",
   "id": "1544d101",
   "metadata": {},
   "source": [
    " Task 2: Decode First Message"
   ]
  },
  {
   "cell_type": "code",
   "execution_count": null,
   "id": "6ea2e544",
   "metadata": {},
   "outputs": [
    {
     "ename": "AttributeError",
     "evalue": "'str' object has no attribute 'remove'",
     "output_type": "error",
     "traceback": [
      "\u001b[31m---------------------------------------------------------------------------\u001b[39m",
      "\u001b[31mAttributeError\u001b[39m                            Traceback (most recent call last)",
      "\u001b[36mCell\u001b[39m\u001b[36m \u001b[39m\u001b[32mIn[5]\u001b[39m\u001b[32m, line 10\u001b[39m\n\u001b[32m      8\u001b[39m \u001b[38;5;66;03m# reverse word1\u001b[39;00m\n\u001b[32m      9\u001b[39m reversed_word1 = word1[::-\u001b[32m1\u001b[39m] +\u001b[33m\"\u001b[39m\u001b[33me\u001b[39m\u001b[33m\"\u001b[39m\n\u001b[32m---> \u001b[39m\u001b[32m10\u001b[39m \u001b[43mword2\u001b[49m\u001b[43m.\u001b[49m\u001b[43mremove\u001b[49m[\u001b[32m0\u001b[39m]\n\u001b[32m     12\u001b[39m \u001b[38;5;66;03m# word 1 + word 2\u001b[39;00m\n\u001b[32m     13\u001b[39m decoded_message = reversed_word1 + \u001b[33m\"\u001b[39m\u001b[33m \u001b[39m\u001b[33m\"\u001b[39m + word2\n",
      "\u001b[31mAttributeError\u001b[39m: 'str' object has no attribute 'remove'"
     ]
    }
   ],
   "source": [
    "\n",
    "\n",
    "# Encoded Message\n",
    "message = \"###!!@mocleW EPGTQ!!!6789\"\n",
    "\n",
    "# delete special characters and numbers\n",
    "core_message = message.replace(\"#\", \"\").replace(\"!\", \"\").replace(\"@\", \"\").replace(\"6789\", \"\")\n",
    "word1, word2 = core_message.split()  # divide the message into two words\n",
    "\n",
    "# reverse word1\n",
    "reversed_word1 = word1[::-1] +\"e\"\n",
    "\n",
    "# word 1 + word 2\n",
    "decoded_message = reversed_word1 + \" \" + word2\n",
    "\n",
    "# print the decoded message\n",
    "print(\"Encoded Message:\", decoded_message)\n"
   ]
  },
  {
   "cell_type": "markdown",
   "id": "635d4a02",
   "metadata": {},
   "source": [
    " Task 3: Decode Second Message"
   ]
  },
  {
   "cell_type": "code",
   "execution_count": 1,
   "id": "49e66145",
   "metadata": {},
   "outputs": [
    {
     "name": "stdout",
     "output_type": "stream",
     "text": [
      "String\n",
      "PLEU\n",
      "Encoded Message: String PLEU\n"
     ]
    }
   ],
   "source": [
    "massage_2 = \"&&&**$gnirtS PLIO!!@1234\"\n",
    "# Encoded Message 2\n",
    "clean_massage_2 = massage_2.replace(\"&\",\"\").replace(\"**\",\"\").replace(\"!\",\"\").replace(\"@\", \"\").replace(\"1234\",\"\").replace(\"$\",\"\")\n",
    "word3 , word4 = clean_massage_2.split()\n",
    "\n",
    "# reverse word1\n",
    "x = word3[::-1]\n",
    "print(x)\n",
    "\n",
    "# replace \n",
    "y = word4.replace(\"I\",\"E\").replace(\"O\",\"U\")\n",
    "print(y)\n",
    "\n",
    "# word 3 + word 4\n",
    "decoded_message2 = x + \" \" + y\n",
    "print(\"Encoded Message:\", decoded_message2)\n",
    "\n"
   ]
  },
  {
   "cell_type": "code",
   "execution_count": null,
   "id": "4b6a0876",
   "metadata": {},
   "outputs": [],
   "source": []
  }
 ],
 "metadata": {
  "kernelspec": {
   "display_name": "venv",
   "language": "python",
   "name": "python3"
  },
  "language_info": {
   "codemirror_mode": {
    "name": "ipython",
    "version": 3
   },
   "file_extension": ".py",
   "mimetype": "text/x-python",
   "name": "python",
   "nbconvert_exporter": "python",
   "pygments_lexer": "ipython3",
   "version": "3.13.3"
  }
 },
 "nbformat": 4,
 "nbformat_minor": 5
}
