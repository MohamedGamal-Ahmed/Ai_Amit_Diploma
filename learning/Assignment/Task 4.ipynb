{
 "cells": [
  {
   "cell_type": "markdown",
   "id": "54d1d615",
   "metadata": {},
   "source": [
    "Write a function that inputs a number and prints the multiplication table of that\n",
    "number"
   ]
  },
  {
   "cell_type": "code",
   "execution_count": 3,
   "id": "69117ebf",
   "metadata": {},
   "outputs": [
    {
     "name": "stdout",
     "output_type": "stream",
     "text": [
      "5 x 1 = 5\n",
      "5 x 2 = 10\n",
      "5 x 3 = 15\n",
      "5 x 4 = 20\n",
      "5 x 5 = 25\n",
      "5 x 6 = 30\n",
      "5 x 7 = 35\n",
      "5 x 8 = 40\n",
      "5 x 9 = 45\n",
      "5 x 10 = 50\n"
     ]
    }
   ],
   "source": [
    "def multiplication_table(number):\n",
    "    \"\"\"\n",
    "    Prints the multiplication table from 1 to 10 for the given number.\n",
    "\n",
    "    :param number: The number for which the multiplication table is displayed\n",
    "    :type number: int\n",
    "\n",
    "    :return: None (prints output directly)\n",
    "    :rtype: None\n",
    "    \"\"\"\n",
    "\n",
    "    for i in range(1, 11):\n",
    "        print(f\"{number} x {i} = {number * i}\")\n",
    "\n",
    "num = int(input(\"Enter a number to display its multiplication table: \"))\n",
    "multiplication_table(num)\n"
   ]
  },
  {
   "cell_type": "markdown",
   "id": "736865a5",
   "metadata": {},
   "source": [
    "Write a program to print twin primes less than 1000. If two\n",
    "consecutive odd numbers are both prime then they are known as\n",
    "twin primes"
   ]
  },
  {
   "cell_type": "code",
   "execution_count": null,
   "id": "480a9d09",
   "metadata": {},
   "outputs": [
    {
     "name": "stdout",
     "output_type": "stream",
     "text": [
      "3 and 5\n",
      "5 and 7\n",
      "11 and 13\n",
      "17 and 19\n",
      "29 and 31\n",
      "41 and 43\n",
      "59 and 61\n",
      "71 and 73\n",
      "101 and 103\n",
      "107 and 109\n",
      "137 and 139\n",
      "149 and 151\n",
      "179 and 181\n",
      "191 and 193\n",
      "197 and 199\n",
      "227 and 229\n",
      "239 and 241\n",
      "269 and 271\n",
      "281 and 283\n",
      "311 and 313\n",
      "347 and 349\n",
      "419 and 421\n",
      "431 and 433\n",
      "461 and 463\n",
      "521 and 523\n",
      "569 and 571\n",
      "599 and 601\n",
      "617 and 619\n",
      "641 and 643\n",
      "659 and 661\n",
      "809 and 811\n",
      "821 and 823\n",
      "827 and 829\n",
      "857 and 859\n",
      "881 and 883\n"
     ]
    }
   ],
   "source": [
    "def is_prime(n):\n",
    "    \"\"\"\n",
    "    Check if a number is a prime number.\n",
    "\n",
    "    :param n: The number to check for primality\n",
    "    :type n: int\n",
    "\n",
    "    :return: True if the number is prime, False otherwise\n",
    "    :rtype: bool\n",
    "    \"\"\"\n",
    "\n",
    "    if n < 2:\n",
    "        return False\n",
    "    for i in range(2, int(n**0.5) + 1):\n",
    "        if n % i == 0:\n",
    "            return False\n",
    "    return True\n",
    "\n",
    "for num in range(3, 1000, 2):\n",
    "    if is_prime(num) and is_prime(num + 2):\n",
    "        print(num, \"and\", num + 2)"
   ]
  },
  {
   "cell_type": "markdown",
   "id": "a47e8f29",
   "metadata": {},
   "source": [
    "3. Write a program to find out the prime factors of a number.\n",
    "Example: prime factors of 56"
   ]
  },
  {
   "cell_type": "code",
   "execution_count": null,
   "id": "426be48c",
   "metadata": {},
   "outputs": [
    {
     "name": "stdout",
     "output_type": "stream",
     "text": [
      "Prime factors of 56: [2, 2, 2, 7]\n"
     ]
    }
   ],
   "source": [
    "def prime_factors(n):\n",
    "    \"\"\"\n",
    "    Calculate the prime factors of a given number.\n",
    "\n",
    "    :param n: The number to find its prime factors\n",
    "    :type n: int\n",
    "\n",
    "    :return: A list of the prime factors of the number\n",
    "    :rtype: list[int]\n",
    "    \"\"\"\n",
    "    factors = []\n",
    "    divisor = 2\n",
    "    while n > 1:\n",
    "        if n % divisor == 0:\n",
    "            factors.append(divisor)  \n",
    "            n //= divisor\n",
    "        else:\n",
    "            divisor += 1\n",
    "    return factors  \n",
    "\n",
    "num = 56\n",
    "print(f\"Prime factors of {num}: {prime_factors(num)}\")\n"
   ]
  },
  {
   "cell_type": "markdown",
   "id": "b21fa720",
   "metadata": {},
   "source": [
    "4. Write a function that converts a decimal number to binary number"
   ]
  },
  {
   "cell_type": "code",
   "execution_count": null,
   "id": "76b038f6",
   "metadata": {},
   "outputs": [
    {
     "name": "stdout",
     "output_type": "stream",
     "text": [
      "1\n",
      "11\n",
      "011\n",
      "1011\n",
      "converts a decimal number to binary number: 1011\n"
     ]
    }
   ],
   "source": [
    "def decimal_to_binary(n):\n",
    "    \"\"\"\n",
    "    Converts a decimal number to its binary representation.\n",
    "\n",
    "    :param n: The decimal number to convert\n",
    "    :type n: int\n",
    "\n",
    "    :return: The binary representation of the number as a string\n",
    "    :rtype: str\n",
    "    \"\"\"\n",
    "    s = \"\"\n",
    "    while n > 0:\n",
    "        r = n % 2\n",
    "        s = str(r) + s\n",
    "        print(s)\n",
    "        n = n // 2\n",
    "    return s if s else \"0\"  \n",
    "\n",
    "n = int(input(\"Enter a number: \"))\n",
    "print(f\"converts a decimal number to binary number:\" , decimal_to_binary(n))\n",
    "\n"
   ]
  },
  {
   "cell_type": "code",
   "execution_count": 4,
   "id": "1305a82a",
   "metadata": {},
   "outputs": [
    {
     "name": "stdout",
     "output_type": "stream",
     "text": [
      "10100"
     ]
    }
   ],
   "source": [
    "def dectobin(num):\n",
    "    if num > 1:\n",
    "        dectobin(num // 2)\n",
    "    print(num % 2, end='')\n",
    "\n",
    "dectobin(20)\n"
   ]
  },
  {
   "cell_type": "markdown",
   "id": "f46b1edd",
   "metadata": {},
   "source": [
    "program to convert binary  to decimal number "
   ]
  },
  {
   "cell_type": "code",
   "execution_count": 16,
   "id": "bf2a32ca",
   "metadata": {},
   "outputs": [
    {
     "name": "stdout",
     "output_type": "stream",
     "text": [
      "The decimal equivalent is: 11\n"
     ]
    }
   ],
   "source": [
    "binary = input(\"Enter a binary number: \")\n",
    "decimal = int(binary, 2)  \n",
    "print(f\"The decimal equivalent is: {decimal}\")"
   ]
  },
  {
   "cell_type": "markdown",
   "id": "6bfdd597",
   "metadata": {},
   "source": [
    "5. A number is called perfect if the sum of proper divisors of that number is equal to the number. For example 28 is perfect\n",
    "number, since 1+2+4+7+14=28. Write a program to print all the perfect numbers in a given range"
   ]
  },
  {
   "cell_type": "code",
   "execution_count": 1,
   "id": "5055c5e5",
   "metadata": {},
   "outputs": [
    {
     "name": "stdout",
     "output_type": "stream",
     "text": [
      "The divisors of 6 are: [1, 2, 3]\n"
     ]
    }
   ],
   "source": [
    "def isperfect(number):\n",
    "    \"\"\"\n",
    "    Find and return all divisors of a number (excluding the number itself).\n",
    "\n",
    "    :param number: The number to find its divisors\n",
    "    :type number: int\n",
    "\n",
    "    :return: A list of divisors of the number\n",
    "    :rtype: list[int]\n",
    "    \"\"\"\n",
    "    divisors = [] \n",
    "    for i in range(1, number): \n",
    "        if number % i == 0:  \n",
    "            divisors.append(i)  \n",
    "    return divisors  \n",
    "\n",
    "\n",
    "num = int(input(\"Enter a number: \"))\n",
    "print(f\"The divisors of {num} are: {isperfect(num)}\")"
   ]
  },
  {
   "cell_type": "code",
   "execution_count": 23,
   "id": "0a5a88b2",
   "metadata": {},
   "outputs": [
    {
     "name": "stdout",
     "output_type": "stream",
     "text": [
      "[0, 6, 28]\n"
     ]
    }
   ],
   "source": [
    "def is_perfect(n):\n",
    "    divisors = [i for i in range(1, n) if n % i == 0]  \n",
    "    return sum(divisors) == n  \n",
    "def perfect_numbers(start, end):\n",
    "    return [num for num in range(start, end + 1) if is_perfect(num)]  \n",
    "\n",
    "\n",
    "print(perfect_numbers(0, 100))"
   ]
  },
  {
   "cell_type": "code",
   "execution_count": 24,
   "id": "86e19f5a",
   "metadata": {},
   "outputs": [
    {
     "name": "stdout",
     "output_type": "stream",
     "text": [
      "28 is a perfect number because 1 + 2 + 4 + 7 + 14 = 28\n"
     ]
    }
   ],
   "source": [
    "def get_divisors_if_perfect(number):\n",
    "    \"\"\"\n",
    "    Check if a number is perfect and return its divisors if it is.\n",
    "\n",
    "    :param number: The number to check\n",
    "    :type number: int\n",
    "\n",
    "    :return: A list of divisors if perfect, otherwise an empty list\n",
    "    :rtype: list[int]\n",
    "    \"\"\"\n",
    "    divisors = []\n",
    "    for i in range(1, number):\n",
    "        if number % i == 0:\n",
    "            divisors.append(i)\n",
    "    return divisors if sum(divisors) == number else []\n",
    "num = int(input(\"Enter a number: \"))\n",
    "divs = get_divisors_if_perfect(num)\n",
    "\n",
    "if divs:\n",
    "    print(f\"{num} is a perfect number because {' + '.join(map(str, divs))} = {num}\")\n",
    "else:\n",
    "    print(f\"{num} is NOT a perfect number.\")"
   ]
  },
  {
   "cell_type": "code",
   "execution_count": 7,
   "id": "98b9f82d",
   "metadata": {},
   "outputs": [
    {
     "data": {
      "text/plain": [
       "[5, 19, 95]"
      ]
     },
     "execution_count": 7,
     "metadata": {},
     "output_type": "execute_result"
    }
   ],
   "source": [
    "def filterodd(lst):\n",
    "    return list(filter(lambda num: (num% 2 != 0),lst))\n",
    "\n",
    "filterodd([0,2,5,8,19,20,34,95])"
   ]
  },
  {
   "cell_type": "code",
   "execution_count": null,
   "id": "bbd80ea3",
   "metadata": {},
   "outputs": [],
   "source": []
  }
 ],
 "metadata": {
  "kernelspec": {
   "display_name": "Python 3",
   "language": "python",
   "name": "python3"
  },
  "language_info": {
   "codemirror_mode": {
    "name": "ipython",
    "version": 3
   },
   "file_extension": ".py",
   "mimetype": "text/x-python",
   "name": "python",
   "nbconvert_exporter": "python",
   "pygments_lexer": "ipython3",
   "version": "3.12.4"
  }
 },
 "nbformat": 4,
 "nbformat_minor": 5
}
