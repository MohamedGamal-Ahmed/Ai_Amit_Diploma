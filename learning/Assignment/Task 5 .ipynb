{
 "cells": [
  {
   "cell_type": "code",
   "execution_count": 1,
   "id": "a9c30a65",
   "metadata": {},
   "outputs": [
    {
     "name": "stdout",
     "output_type": "stream",
     "text": [
      "The factorial of 5 is 120\n"
     ]
    }
   ],
   "source": [
    "class FactorialTask:\n",
    "    \"\"\"\n",
    "    Class to compute the factorial of a non-negative integer.\n",
    "\n",
    "    Attributes:\n",
    "        num (int): The number to compute the factorial of.\n",
    "    \"\"\"\n",
    "\n",
    "    def __init__(self, num):\n",
    "        \"\"\"\n",
    "        Initialize the FactorialTask with a number.\n",
    "\n",
    "        :param num: The number to compute factorial for\n",
    "        :type num: int\n",
    "        \"\"\"\n",
    "        self.num = num\n",
    "\n",
    "    def compute(self):\n",
    "        \"\"\"\n",
    "        Recursively compute the factorial of the number.\n",
    "\n",
    "        :return: The factorial result\n",
    "        :rtype: int\n",
    "        \"\"\"\n",
    "        if self.num == 0 or self.num == 1:\n",
    "            return 1\n",
    "        else:\n",
    "            return self.num * FactorialTask(self.num - 1).compute()\n",
    "\n",
    "\n",
    "#### test your class \n",
    "if __name__ == \"__main__\":\n",
    "    number = int(input(\"Enter a number: \"))\n",
    "    task = FactorialTask(number)\n",
    "    result = task.compute()\n",
    "    print(f\"The factorial of {number} is {result}\")\n"
   ]
  },
  {
   "cell_type": "code",
   "execution_count": 4,
   "id": "1198b7ce",
   "metadata": {},
   "outputs": [
    {
     "name": "stdout",
     "output_type": "stream",
     "text": [
      "5 is a prime number.\n"
     ]
    }
   ],
   "source": [
    "class IsPrime:\n",
    "    \"\"\"\n",
    "    Class to check whether a number is prime.\n",
    "\n",
    "    Attributes:\n",
    "        num (int): The number to check.\n",
    "    \"\"\"\n",
    "\n",
    "    def __init__(self, num):\n",
    "        \"\"\"\n",
    "        Initialize with the number to check.\n",
    "        \n",
    "        :param num: The number to be checked\n",
    "        :type num: int\n",
    "        \"\"\"\n",
    "        self.num = num\n",
    "\n",
    "    def is_prime(self):\n",
    "        \"\"\"\n",
    "        Check if the number is prime.\n",
    "\n",
    "        :return: True if prime, False otherwise\n",
    "        :rtype: bool\n",
    "        \"\"\"\n",
    "        if self.num < 2:\n",
    "            return False\n",
    "        for i in range(2, int(self.num**0.5) + 1):\n",
    "            if self.num % i == 0:\n",
    "                return False\n",
    "        return True\n",
    "if __name__ == \"__main__\":\n",
    "    number = int(input(\"Enter a number: \"))\n",
    "    checker = IsPrime(number)\n",
    "    if checker.is_prime():\n",
    "        print(f\"{number} is a prime number.\")\n",
    "    else:\n",
    "        print(f\"{number} is NOT a prime number.\")\n"
   ]
  },
  {
   "cell_type": "code",
   "execution_count": 5,
   "id": "741c91b3",
   "metadata": {},
   "outputs": [
    {
     "name": "stdout",
     "output_type": "stream",
     "text": [
      "Common divisors of 5 and 10: [1, 5]\n"
     ]
    }
   ],
   "source": [
    "class CommonDivisors:\n",
    "    \"\"\"\n",
    "    Class to find the common divisors between two numbers.\n",
    "\n",
    "    Attributes:\n",
    "        num1 (int): The first number\n",
    "        num2 (int): The second number\n",
    "    \"\"\"\n",
    "\n",
    "    def __init__(self, num1, num2):\n",
    "        \"\"\"\n",
    "        Initialize with two numbers.\n",
    "\n",
    "        :param num1: First number\n",
    "        :type num1: int\n",
    "        :param num2: Second number\n",
    "        :type num2: int\n",
    "        \"\"\"\n",
    "        self.num1 = num1\n",
    "        self.num2 = num2\n",
    "\n",
    "    def get_common_divisors(self):\n",
    "        \"\"\"\n",
    "        Compute and return the common divisors between the two numbers.\n",
    "\n",
    "        :return: List of common divisors\n",
    "        :rtype: list[int]\n",
    "        \"\"\"\n",
    "        mn = min(self.num1, self.num2)\n",
    "        common_divisors = []\n",
    "        for i in range(1, mn + 1):\n",
    "            if self.num1 % i == 0 and self.num2 % i == 0:\n",
    "                common_divisors.append(i)\n",
    "        return common_divisors\n",
    "if __name__ == \"__main__\":\n",
    "    num1 = int(input(\"Enter the first number: \"))\n",
    "    num2 = int(input(\"Enter the second number: \"))\n",
    "\n",
    "    task = CommonDivisors(num1, num2)\n",
    "    result = task.get_common_divisors()\n",
    "\n",
    "    print(f\"Common divisors of {num1} and {num2}: {result}\")\n",
    "\n"
   ]
  },
  {
   "cell_type": "markdown",
   "id": "146fec7e",
   "metadata": {},
   "source": [
    "# Task 4. \n",
    "- Given two strings, write a program that efficiently finds the longest common subsequence\n",
    "\n",
    "- **Ex:** str1 = \"Welcome to Machine Learning Diploma\" str2 = \"I am studying a Machine Learning Course\" --> Machine Learning"
   ]
  },
  {
   "cell_type": "code",
   "execution_count": null,
   "id": "6d4990f5",
   "metadata": {},
   "outputs": [],
   "source": []
  },
  {
   "cell_type": "code",
   "execution_count": null,
   "id": "655236b3",
   "metadata": {},
   "outputs": [],
   "source": [
    "def longest_common_substring(str1, str2):\n",
    "    longes_str = \"\"\n",
    "    for i in range(len(str1)):\n",
    "        for j in range(i, len(str1)):\n",
    "            sub_str = str1[i:j+1]\n",
    "            if sub_str in str2 and len(sub_str) > len(longes_str):\n",
    "                longes_str = sub_str\n",
    "    return longes_str\n",
    "\n"
   ]
  },
  {
   "cell_type": "code",
   "execution_count": 2,
   "id": "338451ac",
   "metadata": {},
   "outputs": [
    {
     "name": "stdout",
     "output_type": "stream",
     "text": [
      "The longest common substring is: 'world'\n"
     ]
    }
   ],
   "source": [
    "class LongestCommonSubstring:\n",
    "    \"\"\"\n",
    "    Class to find the longest common substring between two strings.\n",
    "    \"\"\"\n",
    "\n",
    "    def __init__(self, str1, str2):\n",
    "        \"\"\"\n",
    "        Initialize with two input strings.\n",
    "\n",
    "        :param str1: First string\n",
    "        :type str1: str\n",
    "        :param str2: Second string\n",
    "        :type str2: str\n",
    "        \"\"\"\n",
    "        self.str1 = str1\n",
    "        self.str2 = str2\n",
    "\n",
    "    def find(self):\n",
    "        \"\"\"\n",
    "        Find the longest common substring between str1 and str2.\n",
    "\n",
    "        :return: Longest common substring\n",
    "        :rtype: str\n",
    "        \"\"\"\n",
    "        longes_str = \"\"\n",
    "        for i in range(len(self.str1)):\n",
    "            for j in range(i, len(self.str1)):\n",
    "                sub_str = self.str1[i:j+1]\n",
    "                if sub_str in self.str2 and len(sub_str) > len(longes_str):\n",
    "                    longes_str = sub_str\n",
    "        return longes_str\n",
    "if __name__ == \"__main__\":\n",
    "    str1 = input(\"Enter first string: \")\n",
    "    str2 = input(\"Enter second string: \")\n",
    "\n",
    "    lcs = LongestCommonSubstring(str1, str2)\n",
    "    result = lcs.find()\n",
    "    print(f\"The longest common substring is: '{result}'\")\n"
   ]
  },
  {
   "cell_type": "markdown",
   "id": "5b06d605",
   "metadata": {},
   "source": [
    "# Task 5.\n",
    "- Write a function that will take a given string and reverse the order of words.\n",
    "\n",
    "- **Ex:** “Hello world” → ”world Hello”"
   ]
  },
  {
   "cell_type": "code",
   "execution_count": 2,
   "id": "fd018326",
   "metadata": {},
   "outputs": [
    {
     "data": {
      "text/plain": [
       "'world hello'"
      ]
     },
     "execution_count": 2,
     "metadata": {},
     "output_type": "execute_result"
    }
   ],
   "source": [
    "def reverse_words(s):\n",
    "    lst = s.split()\n",
    "    reversed_lst = lst[::-1]\n",
    "    return \" \".join(reversed_lst)\n",
    "\n",
    "    \n",
    "    for i in new_lst:\n",
    "        new_str += i + \" \"\n",
    "        print(new_str)\n",
    "    new_str = new_str[:-1]\n",
    "    # print(new_str)\n",
    "    \n",
    "    return new_lst\n",
    "s = \"Hello World . to the \"\n",
    "reverse_words('hello world')"
   ]
  },
  {
   "cell_type": "code",
   "execution_count": 4,
   "id": "5bbe50ce",
   "metadata": {},
   "outputs": [
    {
     "name": "stdout",
     "output_type": "stream",
     "text": [
      "Reversed: World Hello\n"
     ]
    }
   ],
   "source": [
    "class ReverseWords:\n",
    "    \"\"\"\n",
    "    Class to reverse the order of words in a given sentence.\n",
    "    \"\"\"\n",
    "\n",
    "    def __init__(self, sentence):\n",
    "        \"\"\"\n",
    "        Initialize with the sentence to process.\n",
    "\n",
    "        :param sentence: The sentence whose words will be reversed\n",
    "        :type sentence: str\n",
    "        \"\"\"\n",
    "        self.sentence = sentence\n",
    "\n",
    "    def reverse(self):\n",
    "        \"\"\"\n",
    "        Reverse the order of words in the sentence.\n",
    "\n",
    "        :return: The sentence with words reversed\n",
    "        :rtype: str\n",
    "        \"\"\"\n",
    "        words = self.sentence.split()\n",
    "        reversed_words = words[::-1]\n",
    "        return \" \".join(reversed_words)\n",
    "if __name__ == \"__main__\":\n",
    "    s = input(\"Enter a sentence: \")\n",
    "    task = ReverseWords(s)\n",
    "    result = task.reverse()\n",
    "    print(\"Reversed:\", result)\n"
   ]
  },
  {
   "cell_type": "code",
   "execution_count": 7,
   "id": "dfb9fdf2",
   "metadata": {},
   "outputs": [
    {
     "name": "stdout",
     "output_type": "stream",
     "text": [
      "Generated password: 7!TN*iBJI9\n"
     ]
    }
   ],
   "source": [
    "import random\n",
    "\n",
    "class PasswordGenerator:\n",
    "    \"\"\"\n",
    "    Class to generate a random password of a specified length.\n",
    "\n",
    "    Attributes:\n",
    "        length (int): Desired length of the password\n",
    "    \"\"\"\n",
    "\n",
    "    def __init__(self, length):\n",
    "        \"\"\"\n",
    "        Initialize the PasswordGenerator with a given length.\n",
    "\n",
    "        :param length: The length of the password to generate\n",
    "        :type length: int\n",
    "        \"\"\"\n",
    "        self.length = length\n",
    "        self.characters = \"abcdefghijklmnopqrstuvwxyzABCDEFGHIJKLMNOPQRSTUVWXYZ1234567890!@#$%^&*\"\n",
    "\n",
    "    def generate(self):\n",
    "        \"\"\"\n",
    "        Generate a random password using the specified characters.\n",
    "\n",
    "        :return: The generated password\n",
    "        :rtype: str\n",
    "        \"\"\"\n",
    "        password = \"\"\n",
    "        for _ in range(self.length):\n",
    "            password += random.choice(self.characters)\n",
    "        return password\n",
    "if __name__ == \"__main__\":\n",
    "    length = int(input(\"Enter password length: \"))\n",
    "    generator = PasswordGenerator(length)\n",
    "    password = generator.generate()\n",
    "    print(\"Generated password:\", password)\n"
   ]
  },
  {
   "cell_type": "code",
   "execution_count": null,
   "id": "bbe76574",
   "metadata": {},
   "outputs": [],
   "source": []
  },
  {
   "cell_type": "code",
   "execution_count": null,
   "id": "c2820ea4",
   "metadata": {},
   "outputs": [],
   "source": []
  }
 ],
 "metadata": {
  "kernelspec": {
   "display_name": "Python 3",
   "language": "python",
   "name": "python3"
  },
  "language_info": {
   "codemirror_mode": {
    "name": "ipython",
    "version": 3
   },
   "file_extension": ".py",
   "mimetype": "text/x-python",
   "name": "python",
   "nbconvert_exporter": "python",
   "pygments_lexer": "ipython3",
   "version": "3.12.4"
  }
 },
 "nbformat": 4,
 "nbformat_minor": 5
}
