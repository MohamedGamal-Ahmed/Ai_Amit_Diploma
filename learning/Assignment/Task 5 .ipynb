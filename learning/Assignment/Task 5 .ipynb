{
 "cells": [
  {
   "cell_type": "code",
   "execution_count": null,
   "id": "f3591869",
   "metadata": {},
   "outputs": [
    {
     "name": "stdout",
     "output_type": "stream",
     "text": [
      "Folder created at: c:\\Users\\Mgama\\PYTHON\\Ai_Amit_Diploma\\learning\\Assignment\\test_task5\n"
     ]
    }
   ],
   "source": [
    "import os \n",
    "import random\n",
    "\n",
    "folder_path = \"test_task5\"\n",
    "\n",
    "if not os.path.exists(folder_path):\n",
    "    os.makedirs(folder_path)\n",
    "\n",
    "print(f\"Folder created at: {os.path.abspath(folder_path)}\")\n"
   ]
  },
  {
   "cell_type": "code",
   "execution_count": 10,
   "id": "2587cfa0",
   "metadata": {},
   "outputs": [],
   "source": [
    "def creat_files(folder , count):\n",
    "    for i in range(count):\n",
    "        file_path =os.path.join(folder,f\"file_{i}.txt\")\n",
    "        with open(file_path , \"w\")as f:\n",
    "            f.write(f\"this is file number{i}\")"
   ]
  },
  {
   "cell_type": "code",
   "execution_count": null,
   "id": "a9c30a65",
   "metadata": {},
   "outputs": [],
   "source": []
  }
 ],
 "metadata": {
  "kernelspec": {
   "display_name": "Python 3",
   "language": "python",
   "name": "python3"
  },
  "language_info": {
   "codemirror_mode": {
    "name": "ipython",
    "version": 3
   },
   "file_extension": ".py",
   "mimetype": "text/x-python",
   "name": "python",
   "nbconvert_exporter": "python",
   "pygments_lexer": "ipython3",
   "version": "3.12.4"
  }
 },
 "nbformat": 4,
 "nbformat_minor": 5
}
