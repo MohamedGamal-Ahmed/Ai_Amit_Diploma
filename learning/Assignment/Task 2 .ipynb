{
 "cells": [
  {
   "cell_type": "markdown",
   "id": "04a9477d",
   "metadata": {},
   "source": [
    "1. Write a Python program to add an item to a tuple."
   ]
  },
  {
   "cell_type": "code",
   "execution_count": null,
   "id": "cd4589f4",
   "metadata": {},
   "outputs": [
    {
     "name": "stdout",
     "output_type": "stream",
     "text": [
      "<class 'tuple'>\n",
      "(1, 2, 3, 4, 5, 6, 7, 'mohamed', 'gamal', [1, 2, 3], 'add an item to a tuple')\n"
     ]
    }
   ],
   "source": [
    "my_tuple = (1,2,3,4,5,6,7,\"mohamed\",\"gamal\",[1,2,3])\n",
    "\n",
    "x=list(my_tuple)\n",
    "\n",
    "x.append(\"add an item to a tuple\")\n",
    "y=tuple(x)\n",
    "\n",
    "print(type(y))\n",
    "print (y)\n"
   ]
  },
  {
   "cell_type": "markdown",
   "id": "0ea96097",
   "metadata": {},
   "source": [
    "2. Write a Python program to sum all the items in a list"
   ]
  },
  {
   "cell_type": "code",
   "execution_count": 7,
   "id": "27fe88b5",
   "metadata": {},
   "outputs": [
    {
     "name": "stdout",
     "output_type": "stream",
     "text": [
      "Sum of list items: 10\n"
     ]
    }
   ],
   "source": [
    "my_list = [1, 2, 3, 4]\n",
    "total = 0\n",
    "\n",
    "for num in my_list:\n",
    "    total += num\n",
    "\n",
    "print(\"Sum of list items:\", total)"
   ]
  },
  {
   "cell_type": "markdown",
   "id": "18f2fdbb",
   "metadata": {},
   "source": [
    "3. Write a Python program to multiply all the items in a list"
   ]
  },
  {
   "cell_type": "code",
   "execution_count": 8,
   "id": "1fd0cebc",
   "metadata": {},
   "outputs": [
    {
     "name": "stdout",
     "output_type": "stream",
     "text": [
      "Product of list items: 24\n"
     ]
    }
   ],
   "source": [
    "my_list = [1, 2, 3, 4]\n",
    "product = 1\n",
    "\n",
    "for num in my_list:\n",
    "    product *= num\n",
    "\n",
    "print(\"Product of list items:\", product)"
   ]
  },
  {
   "cell_type": "markdown",
   "id": "e05d69d8",
   "metadata": {},
   "source": [
    "4. Write a Python program to get the smallest number from a list\n",
    "5. Write a Python program to get the largest number from a list."
   ]
  },
  {
   "cell_type": "code",
   "execution_count": 9,
   "id": "3639e183",
   "metadata": {},
   "outputs": [
    {
     "name": "stdout",
     "output_type": "stream",
     "text": [
      "Smallest number is: 1\n",
      "Largest number is: 50\n"
     ]
    }
   ],
   "source": [
    "my_list3 = [1, 2, 3, 4, 50, 7, 3]\n",
    "\n",
    "smallest = my_list3[0]\n",
    "largest = my_list3[0]\n",
    "\n",
    "for num in my_list3:\n",
    "    if num < smallest:\n",
    "        smallest = num\n",
    "    if num > largest:\n",
    "        largest = num\n",
    "\n",
    "print(\"Smallest number is:\", smallest)\n",
    "print(\"Largest number is:\", largest)"
   ]
  },
  {
   "cell_type": "markdown",
   "id": "5c298bd7",
   "metadata": {},
   "source": [
    "6. Write a Python program to count the number of strings from a given list of strings"
   ]
  },
  {
   "cell_type": "code",
   "execution_count": 10,
   "id": "1f61da8c",
   "metadata": {},
   "outputs": [
    {
     "name": "stdout",
     "output_type": "stream",
     "text": [
      "Number of strings in the list: 4\n"
     ]
    }
   ],
   "source": [
    "my_list_of_strings = [\"mohamed\", \"gamal\", \"abdulaziz\", \"mohamed\"]\n",
    "\n",
    "count = len(my_list_of_strings)\n",
    "\n",
    "print(\"Number of strings in the list:\", count)"
   ]
  },
  {
   "cell_type": "markdown",
   "id": "d7036d2f",
   "metadata": {},
   "source": [
    "7. Write a Python program to clone or copy a list"
   ]
  },
  {
   "cell_type": "code",
   "execution_count": null,
   "id": "90a7006f",
   "metadata": {},
   "outputs": [
    {
     "name": "stdout",
     "output_type": "stream",
     "text": [
      "[1, 2, 3, 4, 'mohamed']\n",
      "[1, 2, 3, 4, 'mohamed']\n"
     ]
    }
   ],
   "source": [
    "my_list4 = [1,2,3,4,\"mohamed\"]\n",
    "\n",
    "list_copy = my_list4.copy()\n",
    "\n",
    "print(my_list4)\n",
    "print(list_copy)"
   ]
  },
  {
   "cell_type": "markdown",
   "id": "b80a2251",
   "metadata": {},
   "source": [
    "8. Write a Python program to remove item(s) from a given set."
   ]
  },
  {
   "cell_type": "code",
   "execution_count": null,
   "id": "5340a13a",
   "metadata": {},
   "outputs": [
    {
     "name": "stdout",
     "output_type": "stream",
     "text": [
      "<class 'set'>\n",
      "{'my name is', 'gamal'}\n"
     ]
    }
   ],
   "source": [
    "my_set = {\"my name is\",\"mohamed\",'gamal'}\n",
    "to_add = list(my_set)\n",
    "\n",
    "x= input(\"choose item / s to remove :\")\n",
    "to_add.remove(x)\n",
    "\n",
    "my_set_update = set(to_add)\n",
    "\n",
    "print (type(my_set_update))\n",
    "print (my_set_update)\n"
   ]
  },
  {
   "cell_type": "code",
   "execution_count": 16,
   "id": "0571f78c",
   "metadata": {},
   "outputs": [
    {
     "name": "stdout",
     "output_type": "stream",
     "text": [
      "<class 'set'>\n",
      "{'my name is', 'gamal'}\n"
     ]
    }
   ],
   "source": [
    "my_set = {\"my name is\", \"mohamed\", \"gamal\"}\n",
    "to_add = list(my_set)\n",
    "\n",
    "x = input(\"Choose item to remove: \")\n",
    "\n",
    "if x in to_add:\n",
    "    to_add.remove(x)\n",
    "else:\n",
    "    print(f\"{x} not found in the list.\")\n",
    "\n",
    "my_set_update = set(to_add)\n",
    "print(type(my_set_update))\n",
    "print(my_set_update)\n"
   ]
  },
  {
   "cell_type": "markdown",
   "id": "4272d586",
   "metadata": {},
   "source": [
    "9. Write a Python program to check if a set is a subset of another set"
   ]
  },
  {
   "cell_type": "code",
   "execution_count": 20,
   "id": "f2bc8bd6",
   "metadata": {},
   "outputs": [
    {
     "name": "stdout",
     "output_type": "stream",
     "text": [
      " The first set is a subset of the second set\n"
     ]
    }
   ],
   "source": [
    "set1 = {1, 2, 3}\n",
    "\n",
    "set2 = {1, 2, 3, 4, 5}\n",
    "\n",
    "if set1 <= set2:\n",
    "    print(\" The first set is a subset of the second set\")\n",
    "else:\n",
    "    print (\"The two sets are not equal\")\n",
    "\n"
   ]
  },
  {
   "cell_type": "markdown",
   "id": "5f7b26f6",
   "metadata": {},
   "source": [
    "10. Write a Python program to remove all elements from a given set"
   ]
  },
  {
   "cell_type": "code",
   "execution_count": 23,
   "id": "799cb065",
   "metadata": {},
   "outputs": [
    {
     "name": "stdout",
     "output_type": "stream",
     "text": [
      "{1, 2, 3, 4, 5}\n",
      "Set after removing all elements: set()\n"
     ]
    }
   ],
   "source": [
    "my_set = {1, 2, 3, 4, 5}  \n",
    "print (my_set)\n",
    "my_set.clear()   \n",
    "\n",
    "print(\"Set after removing all elements:\", my_set)  "
   ]
  },
  {
   "cell_type": "markdown",
   "id": "6bce93e4",
   "metadata": {},
   "source": [
    "11. Write a Python program to find the maximum and minimum values in a set."
   ]
  },
  {
   "cell_type": "code",
   "execution_count": 1,
   "id": "a679b159",
   "metadata": {},
   "outputs": [
    {
     "name": "stdout",
     "output_type": "stream",
     "text": [
      "Minimum: 123\n",
      "Maximum: 700\n"
     ]
    }
   ],
   "source": [
    "my_set = {123, 145, 188, 299, 700}  \n",
    "\n",
    "x = min(my_set)\n",
    "y = max(my_set)\n",
    "\n",
    "print(\"Minimum:\", x)\n",
    "print(\"Maximum:\", y)"
   ]
  },
  {
   "cell_type": "markdown",
   "id": "dd24002b",
   "metadata": {},
   "source": [
    "12. Write a Python program to find the index of an item in a tuple"
   ]
  },
  {
   "cell_type": "code",
   "execution_count": 2,
   "id": "99ea47c9",
   "metadata": {},
   "outputs": [
    {
     "name": "stdout",
     "output_type": "stream",
     "text": [
      "The index of '10' is: 9\n"
     ]
    }
   ],
   "source": [
    "my_tuple = (1,2,3,4,5,6,7,8,9,10)\n",
    "\n",
    "item = int(input(\"Enter number between 1 : 10 :- \"))\n",
    "\n",
    "index = my_tuple.index(item)\n",
    "\n",
    "print(f\"The index of '{item}' is: {index}\")"
   ]
  },
  {
   "cell_type": "markdown",
   "id": "f7ecda7c",
   "metadata": {},
   "source": [
    "13. Write a Python program to convert a tuple to a dictionary."
   ]
  },
  {
   "cell_type": "code",
   "execution_count": 8,
   "id": "c4b2ff4d",
   "metadata": {},
   "outputs": [
    {
     "name": "stdout",
     "output_type": "stream",
     "text": [
      "<class 'dict'>\n",
      "{1: 'a', 2: 'b', 3: 'c'}\n"
     ]
    }
   ],
   "source": [
    "my_tuple = (( 1, \"a\"), (2 , \"b\") , (3,\"c\"))\n",
    "\n",
    "x= dict(my_tuple)\n",
    "\n",
    "print (type(x))\n",
    "print(x)"
   ]
  },
  {
   "cell_type": "markdown",
   "id": "4a57113d",
   "metadata": {},
   "source": [
    "14. Write a Python program to unzip a list of tuples into individual lists"
   ]
  },
  {
   "cell_type": "code",
   "execution_count": null,
   "id": "a2de49ac",
   "metadata": {},
   "outputs": [
    {
     "name": "stdout",
     "output_type": "stream",
     "text": [
      "my first list is (1, 2, 3)\n",
      "my second list is('a', 'b', 'c')\n"
     ]
    }
   ],
   "source": [
    "zipped = [(1, 'a'), (2, 'b'), (3, 'c')]\n",
    "\n",
    "list1_tuple, list2_tuple = zip(*zipped)\n",
    "\n",
    "list1 = list(list1_tuple)\n",
    "list2 = list(list2_tuple)\n",
    "\n",
    "print('My first list is:', list1)\n",
    "print('My second list is:', list2)"
   ]
  },
  {
   "cell_type": "markdown",
   "id": "6d945184",
   "metadata": {},
   "source": [
    "15. Write a Python program to reverse a tuple"
   ]
  },
  {
   "cell_type": "code",
   "execution_count": 20,
   "id": "8d729db1",
   "metadata": {},
   "outputs": [
    {
     "name": "stdout",
     "output_type": "stream",
     "text": [
      "Original tuple: (10, 20, 30, 40, 50)\n",
      "Reversed tuple: (50, 40, 30, 20, 10)\n"
     ]
    }
   ],
   "source": [
    "tup = (10, 20, 30, 40, 50)\n",
    "\n",
    "\n",
    "reversed_tup = tup[::-1]\n",
    "\n",
    "print(\"Original tuple:\", tup)\n",
    "print(\"Reversed tuple:\", reversed_tup)\n"
   ]
  },
  {
   "cell_type": "markdown",
   "id": "bf50df1d",
   "metadata": {},
   "source": [
    "16. Write a Python program to convert a list of tuples into a dictionary."
   ]
  },
  {
   "cell_type": "code",
   "execution_count": 24,
   "id": "b539940c",
   "metadata": {},
   "outputs": [
    {
     "name": "stdout",
     "output_type": "stream",
     "text": [
      "<class 'list'>\n",
      "<class 'dict'>\n",
      "{'apple': 'red', 'banana': 'yellow', 'grapes': 'purple'}\n"
     ]
    }
   ],
   "source": [
    "tuple_list = [('apple', 'red'), ('banana', 'yellow'), ('grapes', 'purple')]\n",
    "\n",
    "fruit_colors = dict(tuple_list)\n",
    "\n",
    "print(type(tuple_list))\n",
    "print(type(fruit_colors))\n",
    "print(fruit_colors)\n"
   ]
  },
  {
   "cell_type": "markdown",
   "id": "76c8b844",
   "metadata": {},
   "source": [
    "17. Write a Python program to replace the last value of tuples in a list"
   ]
  },
  {
   "cell_type": "code",
   "execution_count": 40,
   "id": "bff6c8f1",
   "metadata": {},
   "outputs": [
    {
     "name": "stdout",
     "output_type": "stream",
     "text": [
      "Updated list: [(1, 2, 30), (4, 5, 30), (7, 8, 30)]\n"
     ]
    }
   ],
   "source": [
    "tuples_list = [(1, 2, 3), (4, 5, 6), (7, 8, 9)]\n",
    "new_value = int(input(\"Enter new value: \"))\n",
    "\n",
    "new_list = [tuple(x[:-1] + (new_value,)) for x in tuples_list]\n",
    "\n",
    "print(\"Updated list:\", new_list)"
   ]
  },
  {
   "cell_type": "markdown",
   "id": "8ebb6b8f",
   "metadata": {},
   "source": [
    "18. Write a Python program to sort a tuple by its float element"
   ]
  },
  {
   "cell_type": "code",
   "execution_count": null,
   "id": "4a48926f",
   "metadata": {},
   "outputs": [
    {
     "data": {
      "text/plain": [
       "tuple"
      ]
     },
     "execution_count": 41,
     "metadata": {},
     "output_type": "execute_result"
    }
   ],
   "source": [
    "data = [(\"item1\", 2.4), (\"item2\", 0.5), (\"item3\", 9.1)]\n"
   ]
  },
  {
   "cell_type": "markdown",
   "id": "1d94da76",
   "metadata": {},
   "source": [
    "                                                    ************** codewars *********************"
   ]
  },
  {
   "cell_type": "markdown",
   "id": "83083133",
   "metadata": {},
   "source": [
    "\n",
    "Complete the solution so that it reverses all of the words within the string passed in.\n",
    "\n",
    "Words are separated by exactly one space and there are no leading or trailing spaces."
   ]
  },
  {
   "cell_type": "code",
   "execution_count": 43,
   "id": "b9e5e6da",
   "metadata": {},
   "outputs": [
    {
     "name": "stdout",
     "output_type": "stream",
     "text": [
      "battle no requires which that is victory greatest The\n"
     ]
    }
   ],
   "source": [
    "massage = \"The greatest victory is that which requires no battle\"\n",
    "\n",
    "reversed_words = massage.split()[::-1]\n",
    "\n",
    "print(*reversed_words)\n"
   ]
  },
  {
   "cell_type": "markdown",
   "id": "17bf9733",
   "metadata": {},
   "source": [
    "Create a function which answers the question \"Are you playing banjo?\".\n",
    "If your name starts with the letter \"R\" or lower case \"r\", you are playing banjo!\n",
    "\n",
    "The function takes a name as its only argument, and returns one of the following strings:"
   ]
  },
  {
   "cell_type": "code",
   "execution_count": null,
   "id": "885c78ff",
   "metadata": {},
   "outputs": [
    {
     "name": "stdout",
     "output_type": "stream",
     "text": [
      "Ramy plays banjo\n"
     ]
    }
   ],
   "source": [
    "name = input(\"enter your name: \")\n",
    "\n",
    "print(name + (\" plays banjo\" if name and (name[0] in \"Rr\") else \" does not play banjo\"))"
   ]
  },
  {
   "cell_type": "code",
   "execution_count": null,
   "id": "11d014ac",
   "metadata": {},
   "outputs": [],
   "source": []
  }
 ],
 "metadata": {
  "kernelspec": {
   "display_name": "venv",
   "language": "python",
   "name": "python3"
  },
  "language_info": {
   "codemirror_mode": {
    "name": "ipython",
    "version": 3
   },
   "file_extension": ".py",
   "mimetype": "text/x-python",
   "name": "python",
   "nbconvert_exporter": "python",
   "pygments_lexer": "ipython3",
   "version": "3.13.3"
  }
 },
 "nbformat": 4,
 "nbformat_minor": 5
}
