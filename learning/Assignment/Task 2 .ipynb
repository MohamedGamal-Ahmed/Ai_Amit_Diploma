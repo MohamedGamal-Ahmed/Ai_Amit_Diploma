{
 "cells": [
  {
   "cell_type": "markdown",
   "id": "04a9477d",
   "metadata": {},
   "source": [
    "1. Write a Python program to add an item to a tuple."
   ]
  },
  {
   "cell_type": "code",
   "execution_count": null,
   "id": "cd4589f4",
   "metadata": {},
   "outputs": [
    {
     "name": "stdout",
     "output_type": "stream",
     "text": [
      "<class 'tuple'>\n",
      "(1, 2, 3, 4, 5, 6, 7, 'mohamed', 'gamal', [1, 2, 3], 'add an item to a tuple')\n"
     ]
    }
   ],
   "source": [
    "my_tuple = (1,2,3,4,5,6,7,\"mohamed\",\"gamal\",[1,2,3])\n",
    "\n",
    "x=list(my_tuple)\n",
    "\n",
    "x.append(\"add an item to a tuple\")\n",
    "y=tuple(x)\n",
    "\n",
    "print(type(y))\n",
    "print (y)\n"
   ]
  },
  {
   "cell_type": "markdown",
   "id": "0ea96097",
   "metadata": {},
   "source": [
    "2. Write a Python program to sum all the items in a list"
   ]
  },
  {
   "cell_type": "code",
   "execution_count": 7,
   "id": "27fe88b5",
   "metadata": {},
   "outputs": [
    {
     "name": "stdout",
     "output_type": "stream",
     "text": [
      "Sum of list items: 10\n"
     ]
    }
   ],
   "source": [
    "my_list = [1, 2, 3, 4]\n",
    "total = 0\n",
    "\n",
    "for num in my_list:\n",
    "    total += num\n",
    "\n",
    "print(\"Sum of list items:\", total)"
   ]
  },
  {
   "cell_type": "markdown",
   "id": "18f2fdbb",
   "metadata": {},
   "source": [
    "3. Write a Python program to multiply all the items in a list"
   ]
  },
  {
   "cell_type": "code",
   "execution_count": 8,
   "id": "1fd0cebc",
   "metadata": {},
   "outputs": [
    {
     "name": "stdout",
     "output_type": "stream",
     "text": [
      "Product of list items: 24\n"
     ]
    }
   ],
   "source": [
    "my_list = [1, 2, 3, 4]\n",
    "product = 1\n",
    "\n",
    "for num in my_list:\n",
    "    product *= num\n",
    "\n",
    "print(\"Product of list items:\", product)"
   ]
  },
  {
   "cell_type": "markdown",
   "id": "e05d69d8",
   "metadata": {},
   "source": [
    "4. Write a Python program to get the smallest number from a list\n",
    "5. Write a Python program to get the largest number from a list."
   ]
  },
  {
   "cell_type": "code",
   "execution_count": 9,
   "id": "3639e183",
   "metadata": {},
   "outputs": [
    {
     "name": "stdout",
     "output_type": "stream",
     "text": [
      "Smallest number is: 1\n",
      "Largest number is: 50\n"
     ]
    }
   ],
   "source": [
    "my_list3 = [1, 2, 3, 4, 50, 7, 3]\n",
    "\n",
    "smallest = my_list3[0]\n",
    "largest = my_list3[0]\n",
    "\n",
    "for num in my_list3:\n",
    "    if num < smallest:\n",
    "        smallest = num\n",
    "    if num > largest:\n",
    "        largest = num\n",
    "\n",
    "print(\"Smallest number is:\", smallest)\n",
    "print(\"Largest number is:\", largest)"
   ]
  },
  {
   "cell_type": "markdown",
   "id": "5c298bd7",
   "metadata": {},
   "source": [
    "6. Write a Python program to count the number of strings from a given list of strings"
   ]
  },
  {
   "cell_type": "code",
   "execution_count": 10,
   "id": "1f61da8c",
   "metadata": {},
   "outputs": [
    {
     "name": "stdout",
     "output_type": "stream",
     "text": [
      "Number of strings in the list: 4\n"
     ]
    }
   ],
   "source": [
    "my_list_of_strings = [\"mohamed\", \"gamal\", \"abdulaziz\", \"mohamed\"]\n",
    "\n",
    "count = len(my_list_of_strings)\n",
    "\n",
    "print(\"Number of strings in the list:\", count)"
   ]
  },
  {
   "cell_type": "code",
   "execution_count": null,
   "id": "d9cd2470",
   "metadata": {},
   "outputs": [],
   "source": []
  }
 ],
 "metadata": {
  "kernelspec": {
   "display_name": "venv",
   "language": "python",
   "name": "python3"
  },
  "language_info": {
   "codemirror_mode": {
    "name": "ipython",
    "version": 3
   },
   "file_extension": ".py",
   "mimetype": "text/x-python",
   "name": "python",
   "nbconvert_exporter": "python",
   "pygments_lexer": "ipython3",
   "version": "3.13.3"
  }
 },
 "nbformat": 4,
 "nbformat_minor": 5
}
