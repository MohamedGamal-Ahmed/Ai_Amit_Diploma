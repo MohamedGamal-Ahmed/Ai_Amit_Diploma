{
 "cells": [
  {
   "cell_type": "markdown",
   "id": "8ae94897",
   "metadata": {},
   "source": [
    "# python for machine learning"
   ]
  },
  {
   "cell_type": "markdown",
   "id": "91402fd3",
   "metadata": {},
   "source": [
    "Basic\n"
   ]
  },
  {
   "cell_type": "code",
   "execution_count": null,
   "id": "0a4eb539",
   "metadata": {},
   "outputs": [
    {
     "data": {
      "text/plain": [
       "5"
      ]
     },
     "execution_count": 8,
     "metadata": {},
     "output_type": "execute_result"
    }
   ],
   "source": [
    "# addition\n",
    "2+3"
   ]
  },
  {
   "cell_type": "code",
   "execution_count": 9,
   "id": "06ee47a5",
   "metadata": {},
   "outputs": [
    {
     "data": {
      "text/plain": [
       "3"
      ]
     },
     "execution_count": 9,
     "metadata": {},
     "output_type": "execute_result"
    }
   ],
   "source": [
    "# subtraction\n",
    "5-2"
   ]
  },
  {
   "cell_type": "code",
   "execution_count": 10,
   "id": "dc13fc24",
   "metadata": {},
   "outputs": [
    {
     "data": {
      "text/plain": [
       "3.0"
      ]
     },
     "execution_count": 10,
     "metadata": {},
     "output_type": "execute_result"
    }
   ],
   "source": [
    "# div\n",
    "6/2"
   ]
  },
  {
   "cell_type": "code",
   "execution_count": 11,
   "id": "e2cbaac7",
   "metadata": {},
   "outputs": [
    {
     "data": {
      "text/plain": [
       "6"
      ]
     },
     "execution_count": 11,
     "metadata": {},
     "output_type": "execute_result"
    }
   ],
   "source": [
    "# mult \n",
    "2*3"
   ]
  },
  {
   "cell_type": "code",
   "execution_count": 2,
   "id": "14673512",
   "metadata": {},
   "outputs": [
    {
     "data": {
      "text/plain": [
       "5"
      ]
     },
     "execution_count": 2,
     "metadata": {},
     "output_type": "execute_result"
    }
   ],
   "source": [
    "'''\n",
    "this comment \n",
    "'''\n",
    "# 2+3\n",
    "2+3\n",
    "\n"
   ]
  },
  {
   "cell_type": "code",
   "execution_count": 3,
   "id": "d344e5f0",
   "metadata": {},
   "outputs": [
    {
     "data": {
      "text/plain": [
       "8"
      ]
     },
     "execution_count": 3,
     "metadata": {},
     "output_type": "execute_result"
    }
   ],
   "source": [
    "# power\n",
    "2**3"
   ]
  },
  {
   "cell_type": "code",
   "execution_count": 4,
   "id": "1263d4ef",
   "metadata": {},
   "outputs": [
    {
     "data": {
      "text/plain": [
       "2.0"
      ]
     },
     "execution_count": 4,
     "metadata": {},
     "output_type": "execute_result"
    }
   ],
   "source": [
    "# can also do roots this way \n",
    "4**0.5"
   ]
  },
  {
   "cell_type": "code",
   "execution_count": 5,
   "id": "fdd1fa7a",
   "metadata": {},
   "outputs": [
    {
     "data": {
      "text/plain": [
       "105"
      ]
     },
     "execution_count": 5,
     "metadata": {},
     "output_type": "execute_result"
    }
   ],
   "source": [
    "# order of operations follwed in python \n",
    "2+10*10+3\n"
   ]
  },
  {
   "cell_type": "code",
   "execution_count": 6,
   "id": "d8b378ed",
   "metadata": {},
   "outputs": [
    {
     "data": {
      "text/plain": [
       "156"
      ]
     },
     "execution_count": 6,
     "metadata": {},
     "output_type": "execute_result"
    }
   ],
   "source": [
    "# can use parntheses to specify orders\n",
    "(2+10)*(10+3)"
   ]
  },
  {
   "cell_type": "code",
   "execution_count": 9,
   "id": "4893f7ee",
   "metadata": {},
   "outputs": [],
   "source": [
    "# Data types\n",
    "# integers   رقم صحيح \n",
    "\n",
    "# lsit \n",
    "# dictioanry\n",
    "# boleans\n",
    "# sets لازم كل العناصر تكةن فريدة \n",
    "\n",
    "\n",
    "\n"
   ]
  },
  {
   "cell_type": "code",
   "execution_count": 11,
   "id": "a027fb74",
   "metadata": {},
   "outputs": [
    {
     "data": {
      "text/plain": [
       "int"
      ]
     },
     "execution_count": 11,
     "metadata": {},
     "output_type": "execute_result"
    }
   ],
   "source": [
    "x= 5\n",
    "type (x)\n"
   ]
  },
  {
   "cell_type": "code",
   "execution_count": 12,
   "id": "a1a76d4c",
   "metadata": {},
   "outputs": [
    {
     "data": {
      "text/plain": [
       "str"
      ]
     },
     "execution_count": 12,
     "metadata": {},
     "output_type": "execute_result"
    }
   ],
   "source": [
    "x= \"y\"\n",
    "type (x)"
   ]
  },
  {
   "cell_type": "code",
   "execution_count": 13,
   "id": "a3c0af26",
   "metadata": {},
   "outputs": [
    {
     "data": {
      "text/plain": [
       "complex"
      ]
     },
     "execution_count": 13,
     "metadata": {},
     "output_type": "execute_result"
    }
   ],
   "source": [
    "type (5+6J)"
   ]
  },
  {
   "cell_type": "code",
   "execution_count": 15,
   "id": "a4956874",
   "metadata": {},
   "outputs": [
    {
     "name": "stdout",
     "output_type": "stream",
     "text": [
      "y\n"
     ]
    }
   ],
   "source": [
    "print (x)\n",
    "x= 9"
   ]
  },
  {
   "cell_type": "code",
   "execution_count": 16,
   "id": "4d812300",
   "metadata": {},
   "outputs": [
    {
     "name": "stdout",
     "output_type": "stream",
     "text": [
      "9\n"
     ]
    }
   ],
   "source": [
    "print (x)"
   ]
  },
  {
   "cell_type": "code",
   "execution_count": 17,
   "id": "632d0779",
   "metadata": {},
   "outputs": [
    {
     "name": "stdout",
     "output_type": "stream",
     "text": [
      "Welcome , the last values of x is : 10\n"
     ]
    }
   ],
   "source": [
    "x = 10 \n",
    "print (\"Welcome , the last values of x is :\" , x)"
   ]
  },
  {
   "cell_type": "code",
   "execution_count": 20,
   "id": "82823d88",
   "metadata": {},
   "outputs": [
    {
     "name": "stdout",
     "output_type": "stream",
     "text": [
      "welcome\n",
      "----------------\n",
      "35\n",
      "5\n"
     ]
    }
   ],
   "source": [
    "print (\"welcome\")\n",
    "print (\"----------------\")\n",
    "print (30+5)\n",
    "print (5)"
   ]
  },
  {
   "cell_type": "code",
   "execution_count": 28,
   "id": "10368c32",
   "metadata": {},
   "outputs": [
    {
     "name": "stdout",
     "output_type": "stream",
     "text": [
      "hello\n",
      "world\n",
      "hello world welcome  to amit  "
     ]
    }
   ],
   "source": [
    "print (\"hello\")\n",
    "print(\"world\")\n",
    "print (\"hello \", end=\"\")\n",
    "print(\"world\" , end= \" \")\n",
    "print(\"welcome\", end=\" \")\n",
    "print(\" to amit \",end=\" \")"
   ]
  },
  {
   "cell_type": "code",
   "execution_count": 43,
   "id": "8f567400",
   "metadata": {},
   "outputs": [
    {
     "name": "stdout",
     "output_type": "stream",
     "text": [
      "27\n"
     ]
    }
   ],
   "source": [
    "# Variabels\n",
    "name = \"Ahmed\"\n",
    "age = 25\n",
    "age += 1     # add year after Print\n",
    "age = age + 1\n",
    "print(age)\n"
   ]
  },
  {
   "cell_type": "code",
   "execution_count": null,
   "id": "1a889f22",
   "metadata": {},
   "outputs": [
    {
     "name": "stdout",
     "output_type": "stream",
     "text": [
      "1\n"
     ]
    }
   ],
   "source": [
    "# assign a single value several variables\n",
    "a=b=c=1\n",
    "print(b)"
   ]
  },
  {
   "cell_type": "code",
   "execution_count": 45,
   "id": "acea6476",
   "metadata": {},
   "outputs": [
    {
     "name": "stdout",
     "output_type": "stream",
     "text": [
      "Ali\n"
     ]
    }
   ],
   "source": [
    "# assign a single value multiple variables\n",
    "a , b , c = 1, 2, \"Ali\"\n",
    "print (c)"
   ]
  },
  {
   "cell_type": "code",
   "execution_count": 47,
   "id": "ec845223",
   "metadata": {},
   "outputs": [],
   "source": [
    "#variables \n",
    "x = 5 \n",
    "X = 6"
   ]
  },
  {
   "cell_type": "code",
   "execution_count": 54,
   "id": "73f2f580",
   "metadata": {},
   "outputs": [
    {
     "data": {
      "text/plain": [
       "25"
      ]
     },
     "execution_count": 54,
     "metadata": {},
     "output_type": "execute_result"
    }
   ],
   "source": [
    "# Breaking a long line\n",
    "massage = \" this is a long message need to be\" \\\n",
    "          \"broken into multiple line fpr readability\"\n",
    "massage\n",
    "result = (2+3+\n",
    "          4*5)\n",
    "result"
   ]
  },
  {
   "cell_type": "code",
   "execution_count": null,
   "id": "9714e129",
   "metadata": {},
   "outputs": [
    {
     "data": {
      "text/plain": [
       "30"
      ]
     },
     "execution_count": 56,
     "metadata": {},
     "output_type": "execute_result"
    }
   ],
   "source": [
    "# one line statements\n",
    "x = 10 ; y = 20 ; z = x + y\n",
    "name = \" john\" ; age = 30 ; city = \"New York\""
   ]
  },
  {
   "cell_type": "code",
   "execution_count": 57,
   "id": "d95061e7",
   "metadata": {},
   "outputs": [
    {
     "name": "stdout",
     "output_type": "stream",
     "text": [
      "hello , world 1\n"
     ]
    },
    {
     "data": {
      "text/plain": [
       "11"
      ]
     },
     "execution_count": 57,
     "metadata": {},
     "output_type": "execute_result"
    }
   ],
   "source": [
    "print('hello , world 1')\n",
    "len(\"hello world\")\n"
   ]
  },
  {
   "cell_type": "code",
   "execution_count": 75,
   "id": "6745b515",
   "metadata": {},
   "outputs": [
    {
     "name": "stdout",
     "output_type": "stream",
     "text": [
      "h\n"
     ]
    }
   ],
   "source": [
    "#string indexing\n",
    "x= 'hello world'\n",
    "print (x[0])\n"
   ]
  },
  {
   "cell_type": "code",
   "execution_count": 61,
   "id": "1250ce4e",
   "metadata": {},
   "outputs": [
    {
     "name": "stdout",
     "output_type": "stream",
     "text": [
      "o\n"
     ]
    }
   ],
   "source": [
    "print (x[7])\n"
   ]
  },
  {
   "cell_type": "code",
   "execution_count": 64,
   "id": "d5541b4e",
   "metadata": {},
   "outputs": [
    {
     "name": "stdout",
     "output_type": "stream",
     "text": [
      "d\n"
     ]
    }
   ],
   "source": [
    "print (x[-1])\n"
   ]
  },
  {
   "cell_type": "markdown",
   "id": "feebcb48",
   "metadata": {},
   "source": [
    "# Slicing"
   ]
  },
  {
   "cell_type": "code",
   "execution_count": 66,
   "id": "4ed63de9",
   "metadata": {},
   "outputs": [
    {
     "data": {
      "text/plain": [
       "'ello world'"
      ]
     },
     "execution_count": 66,
     "metadata": {},
     "output_type": "execute_result"
    }
   ],
   "source": [
    "x[1:]"
   ]
  },
  {
   "cell_type": "code",
   "execution_count": 67,
   "id": "1b747db9",
   "metadata": {},
   "outputs": [
    {
     "data": {
      "text/plain": [
       "'hello world'"
      ]
     },
     "execution_count": 67,
     "metadata": {},
     "output_type": "execute_result"
    }
   ],
   "source": [
    "x[:]"
   ]
  },
  {
   "cell_type": "code",
   "execution_count": 68,
   "id": "981da616",
   "metadata": {},
   "outputs": [
    {
     "data": {
      "text/plain": [
       "'ello'"
      ]
     },
     "execution_count": 68,
     "metadata": {},
     "output_type": "execute_result"
    }
   ],
   "source": [
    "x[1:5]"
   ]
  },
  {
   "cell_type": "code",
   "execution_count": 69,
   "id": "cb14d364",
   "metadata": {},
   "outputs": [
    {
     "data": {
      "text/plain": [
       "'hello'"
      ]
     },
     "execution_count": 69,
     "metadata": {},
     "output_type": "execute_result"
    }
   ],
   "source": [
    "x[0:5]"
   ]
  },
  {
   "cell_type": "code",
   "execution_count": 77,
   "id": "3b7b3210",
   "metadata": {},
   "outputs": [
    {
     "data": {
      "text/plain": [
       "'d'"
      ]
     },
     "execution_count": 77,
     "metadata": {},
     "output_type": "execute_result"
    }
   ],
   "source": [
    "x[-1:]"
   ]
  },
  {
   "cell_type": "code",
   "execution_count": 72,
   "id": "8bc3e5e4",
   "metadata": {},
   "outputs": [
    {
     "data": {
      "text/plain": [
       "[1, 4, 7, 10]"
      ]
     },
     "execution_count": 72,
     "metadata": {},
     "output_type": "execute_result"
    }
   ],
   "source": [
    "s= [1,2,3,4,5,6,7,8,9,10]\n",
    "s[::3]\n"
   ]
  },
  {
   "cell_type": "code",
   "execution_count": 79,
   "id": "b2fb4ad6",
   "metadata": {},
   "outputs": [
    {
     "name": "stdout",
     "output_type": "stream",
     "text": [
      "AMIT LEARNING\n"
     ]
    }
   ],
   "source": [
    "name = \"amit learning\"\n",
    "print (name.upper())"
   ]
  },
  {
   "cell_type": "code",
   "execution_count": 12,
   "id": "5aa63a46",
   "metadata": {},
   "outputs": [
    {
     "name": "stdout",
     "output_type": "stream",
     "text": [
      "mohamed@gmail.com\n",
      "mohamed@\n",
      "gmail.com\n"
     ]
    }
   ],
   "source": [
    "x= input(\"please enter your email\")\n",
    "print (x)\n",
    "username = (x[0:7])\n",
    "print (username)\n",
    "domain = (x[8:17])\n",
    "print (domain)\n",
    "\n",
    "\n"
   ]
  },
  {
   "cell_type": "markdown",
   "id": "6a7642a8",
   "metadata": {},
   "source": [
    "# Task 1 : Email Validation"
   ]
  },
  {
   "cell_type": "code",
   "execution_count": 15,
   "id": "8a244477",
   "metadata": {},
   "outputs": [
    {
     "name": "stdout",
     "output_type": "stream",
     "text": [
      "valid email\n",
      "User name:  m.gamal\n",
      "Domain:  outlook.com\n",
      "Domain is .Commercial Domain\n"
     ]
    }
   ],
   "source": [
    "\n",
    "# assigning a variable to the email input\n",
    "\n",
    "email = input(\"Enter your email: \").lower()\n",
    "\n",
    "# checking if the email contains '@' and '.'\n",
    "\n",
    "valed = email.count (\"@\") == 1 and email.count (\".\") == 1\n",
    "\n",
    "print(\"valid email\" )\n",
    "\n",
    "# checking user name + domain\n",
    "\n",
    "user_name = email.split(\"@\")[0]\n",
    "domain = email.split(\"@\")[1]\n",
    "\n",
    "print(\"User name: \", user_name)\n",
    "print(\"Domain: \", domain)\n",
    "\n",
    "# checking domain .com or .edu\n",
    "ending = domain.split(\".\")[-1]\n",
    "if ending == \"com\" :\n",
    "    print(\"Domain is .Commercial Domain\")\n",
    "elif ending == \"edu\":\n",
    "    print(\"Domain is .Educational Domain\")\n",
    "else:\n",
    "    print(\"Other Domain\")"
   ]
  },
  {
   "cell_type": "markdown",
   "id": "a0718840",
   "metadata": {},
   "source": [
    "# Task 1 : Encoded Message"
   ]
  },
  {
   "cell_type": "code",
   "execution_count": 14,
   "id": "a3beabbd",
   "metadata": {},
   "outputs": [
    {
     "name": "stdout",
     "output_type": "stream",
     "text": [
      "Welcome\n",
      "EPGTQ\n",
      "Encoded Message: Welcome EPGTQ\n"
     ]
    }
   ],
   "source": [
    "\n",
    "# Encoded Message\n",
    "message = \"###!!@emocleW EPGTQ!!!6789\"\n",
    "\n",
    "# delete special characters and numbers\n",
    "core_message = message.replace(\"#\", \"\").replace(\"!\", \"\").replace(\"@\", \"\").replace(\"6789\", \"\")\n",
    "word1, word2 = core_message.split()  # divide the message into two words\n",
    "\n",
    "# reverse word1\n",
    "reversed_word1 = word1[::-1]\n",
    "print(reversed_word1)\n",
    "# word 1 + word 2\n",
    "decoded_message = reversed_word1 + \" \" + word2\n",
    "print(word2)\n",
    "# print the decoded message\n",
    "print(\"Encoded Message:\", decoded_message)\n"
   ]
  },
  {
   "cell_type": "markdown",
   "id": "0f760a0d",
   "metadata": {},
   "source": [
    "Task-3:"
   ]
  },
  {
   "cell_type": "code",
   "execution_count": null,
   "id": "7e47e1b9",
   "metadata": {},
   "outputs": [
    {
     "name": "stdout",
     "output_type": "stream",
     "text": [
      "String\n",
      "PLEU\n",
      "Encoded Message: String PLEU\n"
     ]
    }
   ],
   "source": [
    "massage_2 = \"&&&**$gnirtS PLIO!!@1234\"\n",
    "# Encoded Message 2\n",
    "clean_massage_2 = massage_2.replace(\"&\",\"\").replace(\"**\",\"\").replace(\"!\",\"\").replace(\"@\", \"\").replace(\"1234\",\"\").replace(\"$\",\"\")\n",
    "word3 , word4 = clean_massage_2.split()\n",
    "\n",
    "# reverse word1\n",
    "x = word3[::-1]\n",
    "print(x)\n",
    "\n",
    "# replace \n",
    "y = word4.replace(\"I\",\"E\").replace(\"O\",\"U\")\n",
    "print(y)\n",
    "\n",
    "# word 3 + word 4\n",
    "decoded_message2 = x + \" \" + y\n",
    "print(\"Encoded Message:\", decoded_message2)\n"
   ]
  },
  {
   "cell_type": "code",
   "execution_count": 5,
   "id": "88fa7534",
   "metadata": {},
   "outputs": [
    {
     "name": "stdout",
     "output_type": "stream",
     "text": [
      "[1, 2, 3, 4, 5] (1, 2)\n"
     ]
    }
   ],
   "source": [
    "x=[1,2,3,4,5]\n",
    "type (x)\n",
    "y = (1,2)\n",
    "list(y)\n",
    "print(x , y)"
   ]
  },
  {
   "cell_type": "code",
   "execution_count": null,
   "id": "0e82e3a6",
   "metadata": {},
   "outputs": [
    {
     "name": "stdout",
     "output_type": "stream",
     "text": [
      "<class 'list'>\n",
      "amit \n",
      "true\n"
     ]
    },
    {
     "ename": "TypeError",
     "evalue": "'types.GenericAlias' object does not support item assignment",
     "output_type": "error",
     "traceback": [
      "\u001b[31m---------------------------------------------------------------------------\u001b[39m",
      "\u001b[31mTypeError\u001b[39m                                 Traceback (most recent call last)",
      "\u001b[36mCell\u001b[39m\u001b[36m \u001b[39m\u001b[32mIn[20]\u001b[39m\u001b[32m, line 8\u001b[39m\n\u001b[32m      6\u001b[39m \u001b[38;5;28mprint\u001b[39m((list_one[\u001b[32m7\u001b[39m][\u001b[32m3\u001b[39m])) \u001b[38;5;66;03m# علشان اجيب True من ليست داخل list\u001b[39;00m\n\u001b[32m      7\u001b[39m list_one[\u001b[32m6\u001b[39m]=\u001b[38;5;28;01mFalse\u001b[39;00m\n\u001b[32m----> \u001b[39m\u001b[32m8\u001b[39m \u001b[38;5;28;43mlist\u001b[39;49m\u001b[43m[\u001b[49m\u001b[32;43m7\u001b[39;49m\u001b[43m]\u001b[49m\u001b[43m[\u001b[49m\u001b[32;43m3\u001b[39;49m\u001b[43m]\u001b[49m=\u001b[33m\"\u001b[39m\u001b[33m1\u001b[39m\u001b[33m\"\u001b[39m\n\u001b[32m      9\u001b[39m list_one\n",
      "\u001b[31mTypeError\u001b[39m: 'types.GenericAlias' object does not support item assignment"
     ]
    }
   ],
   "source": [
    "list_one = [1,2,3,4, \"amit \" , \"learning\", True ,[1,2,3,\"true\",[\"ml\",\"dl\",\"ds\"]]]\n",
    "print(type(list_one))\n",
    "list_one = [1,2,3,4, \"amit \" , \"learning\", True ,[1,2,3,\"true\",[\"ml\",\"dl\",\"ds\"]]]\n",
    "print((list_one[4]))\n",
    "list_one = [1,2,3,4, \"amit \" , \"learning\", True ,[1,2,3,\"true\",[\"ml\",\"dl\",\"ds\"]]]\n",
    "print((list_one[7][3])) # علشان اجيب True من ليست داخل list\n",
    "\n",
    "\n"
   ]
  },
  {
   "cell_type": "code",
   "execution_count": 22,
   "id": "66478b7c",
   "metadata": {},
   "outputs": [
    {
     "data": {
      "text/plain": [
       "[1, 2, 3, 4, 'amit ', 'learning', False, [1, 2, 3, '1', ['ml', 'dl', 'ds']]]"
      ]
     },
     "execution_count": 22,
     "metadata": {},
     "output_type": "execute_result"
    }
   ],
   "source": [
    "list_one = [1,2,3,4, \"amit \" , \"learning\", True ,[1,2,3,\"true\",[\"ml\",\"dl\",\"ds\"]]]\n",
    "list_one[6]=False\n",
    "list_one[7][3]=\"1\"\n",
    "list_one"
   ]
  },
  {
   "cell_type": "code",
   "execution_count": 25,
   "id": "df94b137",
   "metadata": {},
   "outputs": [
    {
     "data": {
      "text/plain": [
       "[1,\n",
       " 2,\n",
       " 3,\n",
       " 4,\n",
       " 'amit ',\n",
       " 'learning',\n",
       " False,\n",
       " [[1, 2, 3, 4, 5, 3], 2, 3, '1', ['ml', 'dl', 'ds']]]"
      ]
     },
     "execution_count": 25,
     "metadata": {},
     "output_type": "execute_result"
    }
   ],
   "source": [
    "list_one [7][0]=[1,2,3,4,5,3]\n",
    "list_one\n"
   ]
  },
  {
   "cell_type": "code",
   "execution_count": 27,
   "id": "ea6330a3",
   "metadata": {},
   "outputs": [
    {
     "data": {
      "text/plain": [
       "tuple"
      ]
     },
     "execution_count": 27,
     "metadata": {},
     "output_type": "execute_result"
    }
   ],
   "source": [
    "c= (1,2,3)\n",
    "type(c)"
   ]
  },
  {
   "cell_type": "code",
   "execution_count": 31,
   "id": "6c516480",
   "metadata": {},
   "outputs": [
    {
     "data": {
      "text/plain": [
       "{1, 2, 3}"
      ]
     },
     "execution_count": 31,
     "metadata": {},
     "output_type": "execute_result"
    }
   ],
   "source": [
    "x = [1,1,2,2,3,3]\n",
    "x = set(x)\n",
    "x"
   ]
  },
  {
   "cell_type": "code",
   "execution_count": 35,
   "id": "3f747325",
   "metadata": {},
   "outputs": [
    {
     "data": {
      "text/plain": [
       "['amit', 'learing', 'Python', 'machine learning']"
      ]
     },
     "execution_count": 35,
     "metadata": {},
     "output_type": "execute_result"
    }
   ],
   "source": [
    "list_one = [\"amit\",\"learing\",\"Python\"]\n",
    "list_one.append(\"machine learning\")\n",
    "list_one\n"
   ]
  },
  {
   "cell_type": "code",
   "execution_count": 36,
   "id": "8c2dd28f",
   "metadata": {},
   "outputs": [
    {
     "data": {
      "text/plain": [
       "['machine learning', 'amit', 'learing', 'Python']"
      ]
     },
     "execution_count": 36,
     "metadata": {},
     "output_type": "execute_result"
    }
   ],
   "source": [
    "list_one = [\"amit\",\"learing\",\"Python\"]\n",
    "list_one.insert(0 , \"machine learning\")\n",
    "list_one"
   ]
  },
  {
   "cell_type": "code",
   "execution_count": 38,
   "id": "a16bcaf3",
   "metadata": {},
   "outputs": [
    {
     "data": {
      "text/plain": [
       "['amit', 'learing', 'Python', 'm', 'a', 'c', 'h', 'i', 'n', 'e']"
      ]
     },
     "execution_count": 38,
     "metadata": {},
     "output_type": "execute_result"
    }
   ],
   "source": [
    "list_one = [\"amit\",\"learing\",\"Python\"]\n",
    "list_one.extend(\"machine\")\n",
    "list_one"
   ]
  },
  {
   "cell_type": "code",
   "execution_count": 45,
   "id": "bca395dd",
   "metadata": {},
   "outputs": [
    {
     "data": {
      "text/plain": [
       "['X', 'Python']"
      ]
     },
     "execution_count": 45,
     "metadata": {},
     "output_type": "execute_result"
    }
   ],
   "source": [
    "list_one = [\"amit\",\"X\",\"Python\"]\n",
    "list_one.remove(\"amit\")\n",
    "list_one\n"
   ]
  },
  {
   "cell_type": "code",
   "execution_count": 50,
   "id": "13bfad03",
   "metadata": {},
   "outputs": [
    {
     "data": {
      "text/plain": [
       "['X', 'Python']"
      ]
     },
     "execution_count": 50,
     "metadata": {},
     "output_type": "execute_result"
    }
   ],
   "source": [
    "list_one = [\"amit\",\"X\",\"Python\"]\n",
    "list_one.pop(0)\n",
    "list_one\n"
   ]
  },
  {
   "cell_type": "code",
   "execution_count": 55,
   "id": "a56aade5",
   "metadata": {},
   "outputs": [
    {
     "data": {
      "text/plain": [
       "['X', 'Python']"
      ]
     },
     "execution_count": 55,
     "metadata": {},
     "output_type": "execute_result"
    }
   ],
   "source": [
    "list_one = [\"amit\",\"X\",\"Python\"]\n",
    "list_one.remove(\"amit\")\n",
    "list_one"
   ]
  },
  {
   "cell_type": "code",
   "execution_count": 64,
   "id": "16d83b8c",
   "metadata": {},
   "outputs": [
    {
     "data": {
      "text/plain": [
       "['X', 'Python']"
      ]
     },
     "execution_count": 64,
     "metadata": {},
     "output_type": "execute_result"
    }
   ],
   "source": [
    "list_one = [\"amit\",\"X\",\"Python\"]\n",
    "#del list_one  #for DELETE all list \n",
    "del list_one[0]\n",
    "list_one"
   ]
  },
  {
   "cell_type": "code",
   "execution_count": 67,
   "id": "b10da1cb",
   "metadata": {},
   "outputs": [
    {
     "data": {
      "text/plain": [
       "'mohamed'"
      ]
     },
     "execution_count": 67,
     "metadata": {},
     "output_type": "execute_result"
    }
   ],
   "source": [
    "x= input(\"enter Your name: \")\n",
    "x"
   ]
  },
  {
   "cell_type": "code",
   "execution_count": 76,
   "id": "e2d26948",
   "metadata": {},
   "outputs": [
    {
     "data": {
      "text/plain": [
       "['2', '3']"
      ]
     },
     "execution_count": 76,
     "metadata": {},
     "output_type": "execute_result"
    }
   ],
   "source": [
    "x =[\"1\",\"2\",\"3\"]\n",
    "z =input(\"Enter yor num to remove \")\n",
    "x.remove(z)\n",
    "x"
   ]
  },
  {
   "cell_type": "code",
   "execution_count": 83,
   "id": "a604eecb",
   "metadata": {},
   "outputs": [
    {
     "data": {
      "text/plain": [
       "1"
      ]
     },
     "execution_count": 83,
     "metadata": {},
     "output_type": "execute_result"
    }
   ],
   "source": [
    "my_list=[1,2,3,2,3,3]\n",
    "index_of_2 = my_list.index(2)\n",
    "index_of_2\n"
   ]
  },
  {
   "cell_type": "code",
   "execution_count": 90,
   "id": "5093e88a",
   "metadata": {},
   "outputs": [
    {
     "data": {
      "text/plain": [
       "1"
      ]
     },
     "execution_count": 90,
     "metadata": {},
     "output_type": "execute_result"
    }
   ],
   "source": [
    "my_list=[1,2,3,2,3,3]\n",
    "Count_of_2 = my_list.count(23)\n",
    "index_of_2\n"
   ]
  },
  {
   "cell_type": "code",
   "execution_count": 96,
   "id": "56b33c85",
   "metadata": {},
   "outputs": [
    {
     "data": {
      "text/plain": [
       "[1, 2, 2, 3, 4, 9, 15]"
      ]
     },
     "execution_count": 96,
     "metadata": {},
     "output_type": "execute_result"
    }
   ],
   "source": [
    "my_list_2 = [3,1,2,4,15,9,2]\n",
    "x = my_list_2.sort()\n",
    "my_list_2"
   ]
  },
  {
   "cell_type": "code",
   "execution_count": 89,
   "id": "b045321c",
   "metadata": {},
   "outputs": [
    {
     "data": {
      "text/plain": [
       "[2, 9, 15, 4, 2, 1, 3]"
      ]
     },
     "execution_count": 89,
     "metadata": {},
     "output_type": "execute_result"
    }
   ],
   "source": [
    "my_list_2 = [3,1,2,4,15,9,2]\n",
    "my_list_2.reverse()\n",
    "my_list_2"
   ]
  },
  {
   "cell_type": "code",
   "execution_count": 99,
   "id": "2d87a6a6",
   "metadata": {},
   "outputs": [
    {
     "ename": "TypeError",
     "evalue": "'tuple' object does not support item assignment",
     "output_type": "error",
     "traceback": [
      "\u001b[31m---------------------------------------------------------------------------\u001b[39m",
      "\u001b[31mTypeError\u001b[39m                                 Traceback (most recent call last)",
      "\u001b[36mCell\u001b[39m\u001b[36m \u001b[39m\u001b[32mIn[99]\u001b[39m\u001b[32m, line 2\u001b[39m\n\u001b[32m      1\u001b[39m tuple_one = (\u001b[32m1\u001b[39m,\u001b[32m2\u001b[39m,\u001b[32m3\u001b[39m,\u001b[32m4\u001b[39m,\u001b[32m5.5\u001b[39m,\u001b[32m4.5\u001b[39m, \u001b[33m\"\u001b[39m\u001b[33mamit\u001b[39m\u001b[33m\"\u001b[39m, \u001b[33m\"\u001b[39m\u001b[33mahmed\u001b[39m\u001b[33m\"\u001b[39m)\n\u001b[32m----> \u001b[39m\u001b[32m2\u001b[39m \u001b[43mtuple_one\u001b[49m\u001b[43m[\u001b[49m\u001b[32;43m2\u001b[39;49m\u001b[43m]\u001b[49m = \u001b[33m\"\u001b[39m\u001b[33mwelcome\u001b[39m\u001b[33m\"\u001b[39m\n\u001b[32m      3\u001b[39m tuple_one\n",
      "\u001b[31mTypeError\u001b[39m: 'tuple' object does not support item assignment"
     ]
    }
   ],
   "source": [
    "tuple_one = (1,2,3,4,5.5,4.5, \"amit\", \"ahmed\")\n",
    "tuple_one[2] = \"welcome\"\n",
    "tuple_one"
   ]
  },
  {
   "cell_type": "code",
   "execution_count": 110,
   "id": "b0448e60",
   "metadata": {},
   "outputs": [
    {
     "name": "stdout",
     "output_type": "stream",
     "text": [
      "12\n",
      "20\n",
      "5.0\n",
      "20\n"
     ]
    }
   ],
   "source": [
    "First_num = (int(input(\"Enter First num :\" )))\n",
    "second_num = (int(input(\"Enter second num :\" )))\n",
    "x= First_num + second_num\n",
    "y=First_num * second_num\n",
    "z=First_num / second_num\n",
    "c=First_num * second_num\n",
    "print (x)\n",
    "print (y)\n",
    "print (z)\n",
    "print (c)\n"
   ]
  },
  {
   "cell_type": "code",
   "execution_count": null,
   "id": "a6d2278a",
   "metadata": {},
   "outputs": [
    {
     "name": "stdout",
     "output_type": "stream",
     "text": [
      "a isnot grather than b\n"
     ]
    }
   ],
   "source": [
    "a = 10 \n",
    "b = 5 \n",
    "if a < b :\n",
    "    print (\"a is grater tan b \")\n",
    "else :\n",
    "    print (\"a is not grater than b\")"
   ]
  },
  {
   "cell_type": "code",
   "execution_count": 1,
   "id": "aef27645",
   "metadata": {},
   "outputs": [
    {
     "name": "stdout",
     "output_type": "stream",
     "text": [
      "a is greater than b\n"
     ]
    }
   ],
   "source": [
    "a = 200\n",
    "b = 33\n",
    "if b > a :\n",
    "    print ( \"b is greater then a\")\n",
    "elif  a == b:\n",
    "    print (\"a and b are equal\")\n",
    "else : \n",
    "    print (\"a is greater than b\")"
   ]
  },
  {
   "cell_type": "code",
   "execution_count": null,
   "id": "637c3e5f",
   "metadata": {},
   "outputs": [
    {
     "name": "stdout",
     "output_type": "stream",
     "text": [
      "both x and y are poistive . \n"
     ]
    }
   ],
   "source": [
    "x = 5\n",
    "y = 10 \n",
    "if x > 0 and y > 0:\n",
    "    print(\"both x and y are positive . \")\n"
   ]
  },
  {
   "cell_type": "code",
   "execution_count": 3,
   "id": "42f80040",
   "metadata": {},
   "outputs": [
    {
     "name": "stdout",
     "output_type": "stream",
     "text": [
      "your qualify for spical considerations\n"
     ]
    }
   ],
   "source": [
    "age = 15\n",
    "if age < 18 or age >=65 :\n",
    "    print(\"your qualify for spical considerations\")\n",
    "    "
   ]
  },
  {
   "cell_type": "code",
   "execution_count": 4,
   "id": "16c5a23d",
   "metadata": {},
   "outputs": [],
   "source": [
    "rain = False\n",
    "if rain :\n",
    "    print(\"welcome\")"
   ]
  },
  {
   "cell_type": "code",
   "execution_count": 5,
   "id": "8937f72f",
   "metadata": {},
   "outputs": [
    {
     "name": "stdout",
     "output_type": "stream",
     "text": [
      "odd\n"
     ]
    }
   ],
   "source": [
    "x= 5\n",
    "result = \"even\" if x % 2 == 0 else\"odd\"\n",
    "print (result)"
   ]
  },
  {
   "cell_type": "code",
   "execution_count": 8,
   "id": "fb494aa5",
   "metadata": {},
   "outputs": [
    {
     "name": "stdout",
     "output_type": "stream",
     "text": [
      "15\n"
     ]
    }
   ],
   "source": [
    "a= 10 \n",
    "b= 5 \n",
    "result = a+b if a>b else a-b\n",
    "print (result)"
   ]
  },
  {
   "cell_type": "code",
   "execution_count": 13,
   "id": "d363ce6b",
   "metadata": {},
   "outputs": [
    {
     "name": "stdout",
     "output_type": "stream",
     "text": [
      "adult\n"
     ]
    }
   ],
   "source": [
    "age = 21\n",
    "\n",
    "print (\"adult\") if age >= 18 else (print(\"teenager\") if age >= 13 else print(\"child\"))"
   ]
  },
  {
   "cell_type": "code",
   "execution_count": 22,
   "id": "a3d11253",
   "metadata": {},
   "outputs": [
    {
     "name": "stdout",
     "output_type": "stream",
     "text": [
      "adult\n"
     ]
    }
   ],
   "source": [
    "age = 23\n",
    "if age >= 21 :\n",
    "    print(\"adult\")\n",
    "    if age <= 13 :\n",
    "        print(\"child\")\n",
    "else :\n",
    "    print (\"teenage\")\n"
   ]
  },
  {
   "cell_type": "code",
   "execution_count": null,
   "id": "5afa3a75",
   "metadata": {},
   "outputs": [
    {
     "name": "stdout",
     "output_type": "stream",
     "text": [
      "it's sunny day \n",
      "this weather is worm\n"
     ]
    }
   ],
   "source": [
    "is_sunny = True\n",
    "temperature = 25 \n",
    "if is_sunny : \n",
    "    print (\"it's sunny day \")\n",
    "    if temperature > 20:\n",
    "        print(\"this weather is worm\")\n",
    "    else :\n",
    "        print(\"the weather is cool\")\n",
    "else :\n",
    "    print(\"it's not a sunny day \")"
   ]
  },
  {
   "cell_type": "code",
   "execution_count": null,
   "id": "bb171a98",
   "metadata": {},
   "outputs": [
    {
     "name": "stdout",
     "output_type": "stream",
     "text": [
      "your grade is F\n"
     ]
    }
   ],
   "source": [
    "grade = int(input(\"enter your grade :\"))\n",
    "if grade  <= 100 and grade >= 90 :\n",
    "    print (\" your grad is A\")\n",
    "elif grade  >= 80 and grade <= 90 :\n",
    "    print (\" your grad is B\")\n",
    "elif grade  >= 70 and grade <= 80 :\n",
    "    print (\" your grad is C\")\n",
    "elif grade  == 70  :\n",
    "    print (\" your grad is D\")\n",
    "else :\n",
    "    print (\"your grade is F\")\n",
    "\n",
    "#  مراجعة حل السؤال في الملف المرسل علي الواتس اب"
   ]
  },
  {
   "cell_type": "code",
   "execution_count": 20,
   "id": "20c491dc",
   "metadata": {},
   "outputs": [
    {
     "name": "stdout",
     "output_type": "stream",
     "text": [
      "python\n",
      "python\n",
      "python\n",
      "python\n",
      " loop finished\n"
     ]
    }
   ],
   "source": [
    "for x in \"amit\" :\n",
    "    print (\"python\")\n",
    "else :\n",
    "    print(\" loop finished\")"
   ]
  },
  {
   "cell_type": "code",
   "execution_count": 21,
   "id": "87092263",
   "metadata": {},
   "outputs": [
    {
     "name": "stdout",
     "output_type": "stream",
     "text": [
      "0\n",
      "1\n",
      "2\n",
      "3\n",
      "4\n",
      "5\n",
      "6\n",
      "7\n",
      "8\n",
      "9\n"
     ]
    }
   ],
   "source": [
    "for x in range(10):\n",
    "    print (x)"
   ]
  },
  {
   "cell_type": "code",
   "execution_count": 23,
   "id": "15fce6ca",
   "metadata": {},
   "outputs": [
    {
     "name": "stdout",
     "output_type": "stream",
     "text": [
      "amit\n",
      "amit\n",
      "amit\n",
      "amit\n",
      "amit\n",
      "amit\n",
      "amit\n",
      "amit\n",
      "amit\n",
      "amit\n"
     ]
    }
   ],
   "source": [
    "for x in range(10):\n",
    "    print (\"amit\")"
   ]
  },
  {
   "cell_type": "code",
   "execution_count": 25,
   "id": "8ec6d64e",
   "metadata": {},
   "outputs": [
    {
     "name": "stdout",
     "output_type": "stream",
     "text": [
      "0\n",
      "1\n",
      "2\n",
      "4\n",
      "5\n"
     ]
    }
   ],
   "source": [
    "for i in range (6):\n",
    "    if i == 3:\n",
    "        continue\n",
    "    print(i)"
   ]
  },
  {
   "cell_type": "code",
   "execution_count": 26,
   "id": "64f60c78",
   "metadata": {},
   "outputs": [
    {
     "name": "stdout",
     "output_type": "stream",
     "text": [
      "0\n",
      "1\n",
      "2\n",
      "3\n"
     ]
    }
   ],
   "source": [
    "for i in range(6):\n",
    "    if i == 4 :\n",
    "        break\n",
    "    print(i)\n"
   ]
  },
  {
   "cell_type": "code",
   "execution_count": 31,
   "id": "f9b327c0",
   "metadata": {},
   "outputs": [
    {
     "name": "stdout",
     "output_type": "stream",
     "text": [
      "0\n",
      "1\n",
      "2\n",
      "4\n",
      "5\n"
     ]
    }
   ],
   "source": [
    "for i in range (6):\n",
    "    if i == 3:\n",
    "        continue\n",
    "    print(i)\n",
    "\n"
   ]
  },
  {
   "cell_type": "code",
   "execution_count": 32,
   "id": "b2112999",
   "metadata": {},
   "outputs": [
    {
     "name": "stdout",
     "output_type": "stream",
     "text": [
      "0\n",
      "1\n",
      "2\n",
      "3\n",
      "4\n",
      "5\n"
     ]
    }
   ],
   "source": [
    "for i in range (6):\n",
    "    if i == 3:\n",
    "        pass\n",
    "    print(i)\n"
   ]
  },
  {
   "cell_type": "code",
   "execution_count": 34,
   "id": "a2d821b1",
   "metadata": {},
   "outputs": [
    {
     "name": "stdout",
     "output_type": "stream",
     "text": [
      "6\n",
      "5\n",
      "4\n",
      "3\n",
      "2\n",
      "1\n"
     ]
    }
   ],
   "source": [
    "x = 6\n",
    "while x> 0 :\n",
    "    print(x)\n",
    "    x -=1"
   ]
  },
  {
   "cell_type": "code",
   "execution_count": 36,
   "id": "e70c66f4",
   "metadata": {},
   "outputs": [
    {
     "name": "stdout",
     "output_type": "stream",
     "text": [
      "python\n",
      "python\n",
      "python\n",
      "python\n",
      "python\n",
      "python\n"
     ]
    }
   ],
   "source": [
    "x = 6\n",
    "while x> 0 :\n",
    "    print(\"python\")\n",
    "    x -=1"
   ]
  },
  {
   "cell_type": "code",
   "execution_count": 37,
   "id": "36ae3207",
   "metadata": {},
   "outputs": [
    {
     "name": "stdout",
     "output_type": "stream",
     "text": [
      "20\n",
      "<class 'function'>\n",
      "<class 'function'>\n"
     ]
    }
   ],
   "source": [
    "z = lambda x:x+10\n",
    "print (z(10))\n",
    "print(type(z))\n",
    "def addition(x):\n",
    "    return x\n",
    "print(type(addition))"
   ]
  },
  {
   "cell_type": "code",
   "execution_count": null,
   "id": "affa0199",
   "metadata": {},
   "outputs": [
    {
     "name": "stdout",
     "output_type": "stream",
     "text": [
      "2\n",
      "4\n",
      "6\n",
      "8\n",
      "10\n"
     ]
    }
   ],
   "source": [
    "list1 = [1,2,3,4,5,6,7,8,9,10]\n",
    "for i in list1:\n",
    "    if i % 2 == 0 :\n",
    "        print(i)\n"
   ]
  },
  {
   "cell_type": "code",
   "execution_count": 49,
   "id": "5a4679df",
   "metadata": {},
   "outputs": [
    {
     "name": "stdout",
     "output_type": "stream",
     "text": [
      "My Name is :1\n",
      "My Name is :3\n",
      "My Name is :5\n",
      "My Name is :7\n",
      "My Name is :9\n"
     ]
    }
   ],
   "source": [
    "list1 = [1,2,3,4,5,6,7,8,9,10]\n",
    "for i in list1:\n",
    "    if i % 2 == 1 :\n",
    "        print(f\"My Name is :{i}\")"
   ]
  },
  {
   "cell_type": "code",
   "execution_count": null,
   "id": "ca629238",
   "metadata": {},
   "outputs": [
    {
     "name": "stdout",
     "output_type": "stream",
     "text": [
      "my number is 1\n",
      "my number is 3\n",
      "my number is 5\n",
      "my number is 7\n",
      "my number is 9\n"
     ]
    }
   ],
   "source": [
    "list1 = [1,2,3,4,5,6,7,8,9,10]\n",
    "for i in list1:\n",
    "    if i % 2 == 1 :\n",
    "        print('my number is {}'.format(i))"
   ]
  },
  {
   "cell_type": "code",
   "execution_count": 59,
   "id": "d82b4c62",
   "metadata": {},
   "outputs": [],
   "source": [
    "def even_odd(x):\n",
    "    if x % 2 == 0 :\n",
    "        print('even is {}'.format(x))\n",
    "    else:\n",
    "        print('odd is {}'.format(x))\n",
    "    \n"
   ]
  },
  {
   "cell_type": "code",
   "execution_count": 65,
   "id": "a251bca3",
   "metadata": {},
   "outputs": [
    {
     "name": "stdout",
     "output_type": "stream",
     "text": [
      "(2, 4)\n",
      "(6, 8)\n",
      "(10, 12)\n",
      "2 4\n",
      "6 8\n",
      "10 12\n"
     ]
    }
   ],
   "source": [
    "list2 = [(2,4), (6,8),(10,12)]\n",
    "for number in list2:\n",
    "    print(number)\n",
    "for (t1,t2) in list2:\n",
    "    print(t1,t2)\n"
   ]
  },
  {
   "cell_type": "code",
   "execution_count": null,
   "id": "70244b81",
   "metadata": {},
   "outputs": [
    {
     "data": {
      "text/plain": [
       "[3, 6, 9]"
      ]
     },
     "execution_count": 67,
     "metadata": {},
     "output_type": "execute_result"
    }
   ],
   "source": [
    "x=[[1,2,3],[4,5,6],[7,8,9]]\n",
    "x=[num[2]for num in x] # list comprehension\n",
    "x"
   ]
  },
  {
   "cell_type": "code",
   "execution_count": 73,
   "id": "ee371282",
   "metadata": {},
   "outputs": [
    {
     "data": {
      "text/plain": [
       "dict_items([('k1', 1), ('k2', 2), ('k3', 3)])"
      ]
     },
     "execution_count": 73,
     "metadata": {},
     "output_type": "execute_result"
    }
   ],
   "source": [
    "d = {'k1': 1, 'k2':2,'k3': 3}\n",
    "d.items()"
   ]
  },
  {
   "cell_type": "code",
   "execution_count": 74,
   "id": "1f093238",
   "metadata": {},
   "outputs": [
    {
     "name": "stdout",
     "output_type": "stream",
     "text": [
      "k1\n",
      "k2\n",
      "k3\n",
      "my key is k1 my format is1\n",
      "my key is k2 my format is2\n",
      "my key is k3 my format is3\n"
     ]
    }
   ],
   "source": [
    "d = {'k1': 1, 'k2':2,'k3': 3}\n",
    "d.items()\n",
    "for items in d .keys():\n",
    "    print(items)\n",
    "for k,v in d.items():\n",
    "    print('my key is {}'.format(k), 'my format is{}'.format(v))"
   ]
  },
  {
   "cell_type": "code",
   "execution_count": 76,
   "id": "af1d77f8",
   "metadata": {},
   "outputs": [
    {
     "name": "stdout",
     "output_type": "stream",
     "text": [
      "x is currently :  0\n",
      "x is still less than 10 , adding 1 to x\n",
      "x is currently :  1\n",
      "x is still less than 10 , adding 1 to x\n",
      "x is currently :  2\n",
      "x is still less than 10 , adding 1 to x\n",
      "x is currently :  3\n",
      "x is still less than 10 , adding 1 to x\n",
      "x is currently :  4\n",
      "x is still less than 10 , adding 1 to x\n",
      "x is currently :  5\n",
      "x is still less than 10 , adding 1 to x\n",
      "x is currently :  6\n",
      "x is still less than 10 , adding 1 to x\n",
      "x is currently :  7\n",
      "x is still less than 10 , adding 1 to x\n",
      "x is currently :  8\n",
      "x is still less than 10 , adding 1 to x\n",
      "x is currently :  9\n",
      "x is still less than 10 , adding 1 to x\n",
      "all done\n"
     ]
    }
   ],
   "source": [
    "x = 0\n",
    "while x < 10:\n",
    "    print('x is currently : ', x)\n",
    "    print('x is still less than 10 , adding 1 to x')\n",
    "    x+=1\n",
    "else:\n",
    "    print(\"all done\")"
   ]
  },
  {
   "cell_type": "code",
   "execution_count": 2,
   "id": "7f601d74",
   "metadata": {},
   "outputs": [
    {
     "name": "stdout",
     "output_type": "stream",
     "text": [
      "first number = 4 , second number = 5\n"
     ]
    }
   ],
   "source": [
    "def function1 (x,y):\n",
    "    print (f\"first number = {x} , second number = {y}\")\n",
    "function1(4,5)\n"
   ]
  },
  {
   "cell_type": "code",
   "execution_count": 4,
   "id": "397105b6",
   "metadata": {},
   "outputs": [
    {
     "name": "stdout",
     "output_type": "stream",
     "text": [
      "my name is mohamed, and my age is 35\n"
     ]
    }
   ],
   "source": [
    "def function_1(name, age):\n",
    "    print (f\"my name is {name}, and my age is {age}\")\n",
    "function_1(\"mohamed\" , 35)"
   ]
  },
  {
   "cell_type": "code",
   "execution_count": 7,
   "id": "14893d61",
   "metadata": {},
   "outputs": [
    {
     "name": "stdout",
     "output_type": "stream",
     "text": [
      "my name is mohsmed , and my age is 35\n"
     ]
    }
   ],
   "source": [
    "def info (x,y):\n",
    "    print (f\"my name is {x}, and my age is {y}\")\n",
    "\n",
    "name = input(\"enter your name :\")\n",
    "age= input (\"enter your age :\")\n",
    "info(name, age)\n",
    "\n"
   ]
  },
  {
   "cell_type": "code",
   "execution_count": 14,
   "id": "7870b9f8",
   "metadata": {},
   "outputs": [
    {
     "name": "stdout",
     "output_type": "stream",
     "text": [
      "my name is mohamed, and my age is 35\n"
     ]
    }
   ],
   "source": [
    "def info (a,z):\n",
    "    print (f\"my name is {a}, and my age is {z}\")\n",
    "\n",
    "name = input(\"enter your name :\")\n",
    "age= input (\"enter your age :\")\n",
    "info(a = name, z = age)"
   ]
  },
  {
   "cell_type": "code",
   "execution_count": 16,
   "id": "60eb8036",
   "metadata": {},
   "outputs": [
    {
     "name": "stdout",
     "output_type": "stream",
     "text": [
      "my name is mohamed, and my age is 20\n"
     ]
    }
   ],
   "source": [
    "def why (c,d = 20):\n",
    "    print (f\"my name is {c}, and my age is {d}\")\n",
    "why(\"mohamed\")"
   ]
  },
  {
   "cell_type": "code",
   "execution_count": 20,
   "id": "fe82c0fe",
   "metadata": {},
   "outputs": [
    {
     "data": {
      "text/plain": [
       "('mohamed', 'ahmed', 'amit', 2, 3, 4, True)"
      ]
     },
     "execution_count": 20,
     "metadata": {},
     "output_type": "execute_result"
    }
   ],
   "source": [
    "def help (*x):\n",
    "    return x\n",
    "help(\"mohamed\", \"ahmed\" , \"amit\", 2,3,4, True)"
   ]
  },
  {
   "cell_type": "code",
   "execution_count": 23,
   "id": "963506a0",
   "metadata": {},
   "outputs": [
    {
     "name": "stdout",
     "output_type": "stream",
     "text": [
      "{'key1': 10.5, 'key2': 2, 'key3': 'mohamed'}\n",
      "<class 'dict'>\n"
     ]
    }
   ],
   "source": [
    "def function_2 (** name):\n",
    "    print(name)\n",
    "    print(type(name))\n",
    "function_2(key1 = 10.5 , key2 = 2 , key3 = \"mohamed\")"
   ]
  },
  {
   "cell_type": "code",
   "execution_count": 45,
   "id": "d2433f0e",
   "metadata": {},
   "outputs": [
    {
     "name": "stdout",
     "output_type": "stream",
     "text": [
      "0\n",
      "1\n",
      "2\n",
      "3\n",
      "8\n"
     ]
    }
   ],
   "source": [
    "def sum_y(n1,n2):\n",
    "    # i = lambda i :i+10\n",
    "\n",
    "    for i in range (4):\n",
    "        print(i)\n",
    "\n",
    "    return(n1+n2)\n",
    "\n",
    "print(sum_y(5,3))\n",
    "\n",
    "\n"
   ]
  },
  {
   "cell_type": "code",
   "execution_count": 32,
   "id": "b444c2b8",
   "metadata": {},
   "outputs": [
    {
     "name": "stdout",
     "output_type": "stream",
     "text": [
      "15\n"
     ]
    }
   ],
   "source": [
    "function_5 = lambda x:x+ 10\n",
    "print(function_5(5))"
   ]
  },
  {
   "cell_type": "code",
   "execution_count": 31,
   "id": "99bc0222",
   "metadata": {},
   "outputs": [
    {
     "name": "stdout",
     "output_type": "stream",
     "text": [
      "22\n"
     ]
    }
   ],
   "source": [
    "def function3 (n):\n",
    "    return lambda a : a * n\n",
    "function_6 = function3(2)\n",
    "print(function_6(11))"
   ]
  },
  {
   "cell_type": "code",
   "execution_count": 6,
   "id": "a7acf554",
   "metadata": {},
   "outputs": [
    {
     "name": "stdout",
     "output_type": "stream",
     "text": [
      "15\n",
      "17\n",
      "85\n",
      "4.0\n"
     ]
    }
   ],
   "source": [
    "def add(x, y):\n",
    "    return x + y\n",
    "def subtract(x, y):\n",
    "    return x - y    \n",
    "def multiply(x, y):\n",
    "    return x * y\n",
    "def divide(x, y):\n",
    "    return x / y\n",
    "def calculator(x, y, operation):\n",
    "    if operation == 'add':\n",
    "        return add(x, y)\n",
    "    elif operation == 'subtract':\n",
    "        return subtract(x, y)\n",
    "    elif operation == 'multiply':\n",
    "        return multiply(x, y)\n",
    "    elif operation == 'divide':\n",
    "        return divide(x, y)\n",
    "    else:\n",
    "        return \"Invalid operation\"\n",
    "    \n",
    "print(calculator(10, 5, 'add'))\n",
    "print(calculator(22, 5, 'subtract'))\n",
    "print(calculator(17, 5, 'multiply'))\n",
    "print(calculator(20,5,'divide'))"
   ]
  },
  {
   "cell_type": "code",
   "execution_count": 7,
   "id": "c28b8f78",
   "metadata": {},
   "outputs": [
    {
     "name": "stdout",
     "output_type": "stream",
     "text": [
      "15\n",
      "17\n",
      "85\n",
      "4.0\n"
     ]
    }
   ],
   "source": [
    "def calculator(x, y, operation):\n",
    "    if operation == 'add':\n",
    "        return add(x, y)\n",
    "    elif operation == 'subtract':\n",
    "        return subtract(x, y)\n",
    "    elif operation == 'multiply':\n",
    "        return multiply(x, y)\n",
    "    elif operation == 'divide':\n",
    "        return divide(x, y)\n",
    "    else:\n",
    "        return \"Invalid operation\"\n",
    "    \n",
    "print(calculator(10, 5, 'add'))\n",
    "print(calculator(22, 5, 'subtract'))\n",
    "print(calculator(17, 5, 'multiply'))\n",
    "print(calculator(20,5,'divide'))"
   ]
  },
  {
   "cell_type": "code",
   "execution_count": 23,
   "id": "9c84d8e6",
   "metadata": {},
   "outputs": [
    {
     "name": "stdout",
     "output_type": "stream",
     "text": [
      "Your grade is A.\n"
     ]
    }
   ],
   "source": [
    "scoure = int(input(\"Enter your grade: \"))\n",
    "\n",
    "def degree(scoure):\n",
    "    if 90 <= scoure <= 100:\n",
    "        return \"A\"\n",
    "    elif 80 <= scoure < 90:\n",
    "        return \"B\"\n",
    "    elif 70 <= scoure < 80:\n",
    "        return \"C\"\n",
    "    elif scoure == 70:\n",
    "        return \"D\"\n",
    "    else:\n",
    "        return \"F\"\n",
    "\n",
    "print(f\"Your grade is {degree(scoure)}.\")\n"
   ]
  },
  {
   "cell_type": "code",
   "execution_count": 23,
   "id": "cdd19896",
   "metadata": {},
   "outputs": [
    {
     "name": "stdout",
     "output_type": "stream",
     "text": [
      "1.Add\n",
      "2.Subtract\n",
      "3.Multiply\n",
      "4.Divide\n",
      "10 + 26 = 36\n"
     ]
    }
   ],
   "source": [
    "def add(x, y):\n",
    "    return x + y\n",
    "\n",
    "def subtract(x, y):\n",
    "    return x - y\n",
    "\n",
    "def multiply(x, y):\n",
    "    return x * y\n",
    "\n",
    "def divide(x, y):\n",
    "    return x / y\n",
    "\n",
    "print(\"1.Add\")\n",
    "print(\"2.Subtract\")\n",
    "print(\"3.Multiply\")\n",
    "print(\"4.Divide\")\n",
    "\n",
    "choice = input(\"Enter choice(1/2/3/4): \")\n",
    "\n",
    "num1 = int(input(\"Enter first number: \"))\n",
    "num2 = int(input(\"Enter second number: \"))\n",
    "\n",
    "if choice == '1':\n",
    "    print(num1,\"+\",num2,\"=\", add(num1,num2))\n",
    "\n",
    "elif choice == '2':\n",
    "    print(num1,\"-\",num2,\"=\", subtract(num1,num2))\n",
    "\n",
    "elif choice == '3':\n",
    "    print(num1,\"*\",num2,\"=\", multiply(num1,num2))\n",
    "\n",
    "elif choice == '4':\n",
    "    print(num1,\"/\",num2,\"=\", divide(num1,num2))\n",
    "else:\n",
    "    print(\"Invalid input\")"
   ]
  },
  {
   "cell_type": "code",
   "execution_count": 27,
   "id": "4aefbba3",
   "metadata": {},
   "outputs": [
    {
     "data": {
      "text/plain": [
       "4"
      ]
     },
     "execution_count": 27,
     "metadata": {},
     "output_type": "execute_result"
    }
   ],
   "source": [
    "def square ( num):\n",
    "    return num**2\n",
    "\n",
    "square(2)"
   ]
  },
  {
   "cell_type": "code",
   "execution_count": 28,
   "id": "7d5445fc",
   "metadata": {},
   "outputs": [
    {
     "data": {
      "text/plain": [
       "[1, 4, 9, 16, 25]"
      ]
     },
     "execution_count": 28,
     "metadata": {},
     "output_type": "execute_result"
    }
   ],
   "source": [
    "my_num = [1,2,3,4,5]\n",
    "map(square,my_num)\n",
    "list(map(square,my_num))"
   ]
  },
  {
   "cell_type": "code",
   "execution_count": 5,
   "id": "477258ee",
   "metadata": {},
   "outputs": [
    {
     "name": "stdout",
     "output_type": "stream",
     "text": [
      "Hello!\n"
     ]
    }
   ],
   "source": [
    "def say_hello():\n",
    "    print(\"Hello!\")\n",
    "say_hello()"
   ]
  },
  {
   "cell_type": "code",
   "execution_count": 6,
   "id": "80fd4489",
   "metadata": {},
   "outputs": [
    {
     "name": "stdout",
     "output_type": "stream",
     "text": [
      "Hello, Gamal!\n"
     ]
    }
   ],
   "source": [
    "def greet(name):\n",
    "    print(f\"Hello, {name}!\")\n",
    "greet (\"Gamal\")"
   ]
  },
  {
   "cell_type": "code",
   "execution_count": 7,
   "id": "cf0aaba5",
   "metadata": {},
   "outputs": [
    {
     "name": "stdout",
     "output_type": "stream",
     "text": [
      "The square is: 25\n"
     ]
    }
   ],
   "source": [
    "def square(num):\n",
    "    return num ** 2\n",
    "result = square(5)\n",
    "print(\"The square is:\", result)"
   ]
  },
  {
   "cell_type": "code",
   "execution_count": 8,
   "id": "1f8abedc",
   "metadata": {},
   "outputs": [
    {
     "name": "stdout",
     "output_type": "stream",
     "text": [
      "result : 12\n"
     ]
    }
   ],
   "source": [
    "def multiply (x , y):\n",
    "    return x * y\n",
    "result = multiply (3 , 4)\n",
    "print (\"result :\" , result)"
   ]
  },
  {
   "cell_type": "code",
   "execution_count": 11,
   "id": "4b5535db",
   "metadata": {},
   "outputs": [
    {
     "name": "stdout",
     "output_type": "stream",
     "text": [
      "result : odd\n"
     ]
    }
   ],
   "source": [
    "def even_check (num):\n",
    "    if num % 2 == 0 :\n",
    "        return \"even\"\n",
    "    else : \n",
    "        return \"odd\"\n",
    "result = even_check(7)\n",
    "print(\"result :\", result)"
   ]
  },
  {
   "cell_type": "code",
   "execution_count": 26,
   "id": "89aba839",
   "metadata": {},
   "outputs": [
    {
     "name": "stdout",
     "output_type": "stream",
     "text": [
      "10 - 5 = 5\n"
     ]
    }
   ],
   "source": [
    "num1 = int(input(\"Enter x :\"))\n",
    "num2 = int(input(\"enter y:\"))\n",
    "choice = input(\"Enter choice(1/2): \")\n",
    "def add(x, y):\n",
    "    return x + y\n",
    "def subtract(x, y):\n",
    "    return x - y\n",
    "if choice == '1':\n",
    "    print(num1,\"+\",num2,\"=\", add(num1,num2))\n",
    "\n",
    "elif choice == '2':\n",
    "    print(num1,\"-\",num2,\"=\", subtract(num1,num2))\n",
    "else:\n",
    "    print(\"Invalid input\")\n"
   ]
  },
  {
   "cell_type": "code",
   "execution_count": null,
   "id": "dea821fb",
   "metadata": {},
   "outputs": [
    {
     "name": "stdout",
     "output_type": "stream",
     "text": [
      "Result: 100\n",
      "10 mul 10 = 100\n"
     ]
    }
   ],
   "source": [
    "def calculator(x, y, operation):\n",
    "    if operation == \"add\":\n",
    "        return x + y\n",
    "    elif operation == \"sub\":\n",
    "        return x - y\n",
    "    elif operation == \"mul\":\n",
    "        return x * y\n",
    "    elif operation == \"div\":\n",
    "        if y != 0:\n",
    "            return x / y\n",
    "        else:\n",
    "            return \"Cannot divide by zero\"\n",
    "    else:\n",
    "        return \"Invalid operation\"\n",
    "\n",
    "\n",
    "num1 = int(input(\"Enter first number: \"))\n",
    "num2 = int(input(\"Enter second number: \"))\n",
    "op = input(\"Enter operation (add / sub / mul / div): \")\n",
    "\n",
    "result = calculator(num1, num2, op)\n",
    "print(\"Result:\", result)\n",
    "print(f\"{num1} {op} {num2} = {result}\")\n"
   ]
  },
  {
   "cell_type": "code",
   "execution_count": 39,
   "id": "edbcdd84",
   "metadata": {},
   "outputs": [
    {
     "name": "stdout",
     "output_type": "stream",
     "text": [
      "5\n"
     ]
    }
   ],
   "source": [
    "def calculator(operation, x, y):\n",
    "    if operation == 'add':\n",
    "        return x + y\n",
    "    elif operation == 'subtract':\n",
    "        return x - y\n",
    "    elif operation == 'multiply':\n",
    "        return x * y\n",
    "    elif operation == 'divide':\n",
    "        if y != 0:\n",
    "            return x / y\n",
    "        else:\n",
    "            return \"Error: Division by zero\"\n",
    "    else:\n",
    "        return \"Invalid\"\n",
    "\n",
    "print(calculator('subtract', 10, 5))\n"
   ]
  },
  {
   "cell_type": "code",
   "execution_count": 47,
   "id": "abb83323",
   "metadata": {},
   "outputs": [
    {
     "name": "stdout",
     "output_type": "stream",
     "text": [
      "try anther time :  40\n"
     ]
    }
   ],
   "source": [
    "def your_grade(grade):\n",
    "    if grade == 100 :\n",
    "        return \"a\"\n",
    "    elif grade < 100 and grade >= 80:\n",
    "        return \"b\"\n",
    "    elif grade < 80 and grade >= 50:\n",
    "        return \"C\"\n",
    "    else:\n",
    "        print(\"try anther time : \" , your_grade1)\n",
    "your_grade1= int(input(\"Enter your grade :\" ))\n",
    "\n",
    "your_grade(your_grade1)\n"
   ]
  },
  {
   "cell_type": "code",
   "execution_count": null,
   "id": "9031fba5",
   "metadata": {},
   "outputs": [],
   "source": []
  }
 ],
 "metadata": {
  "kernelspec": {
   "display_name": "venv",
   "language": "python",
   "name": "python3"
  },
  "language_info": {
   "codemirror_mode": {
    "name": "ipython",
    "version": 3
   },
   "file_extension": ".py",
   "mimetype": "text/x-python",
   "name": "python",
   "nbconvert_exporter": "python",
   "pygments_lexer": "ipython3",
   "version": "3.13.3"
  }
 },
 "nbformat": 4,
 "nbformat_minor": 5
}
