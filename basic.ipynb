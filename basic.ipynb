{
 "cells": [
  {
   "cell_type": "markdown",
   "id": "8ae94897",
   "metadata": {},
   "source": [
    "# python for machine learning"
   ]
  },
  {
   "cell_type": "markdown",
   "id": "91402fd3",
   "metadata": {},
   "source": [
    "Basic\n"
   ]
  },
  {
   "cell_type": "code",
   "execution_count": null,
   "id": "0a4eb539",
   "metadata": {},
   "outputs": [],
   "source": [
    "# addition\n",
    "2+3"
   ]
  },
  {
   "cell_type": "code",
   "execution_count": null,
   "id": "06ee47a5",
   "metadata": {},
   "outputs": [],
   "source": [
    "# subtraction\n",
    "5-2"
   ]
  },
  {
   "cell_type": "code",
   "execution_count": null,
   "id": "dc13fc24",
   "metadata": {},
   "outputs": [],
   "source": [
    "# div\n",
    "6/2"
   ]
  },
  {
   "cell_type": "code",
   "execution_count": null,
   "id": "e2cbaac7",
   "metadata": {},
   "outputs": [],
   "source": [
    "# mult \n",
    "2*3"
   ]
  },
  {
   "cell_type": "code",
   "execution_count": null,
   "id": "14673512",
   "metadata": {},
   "outputs": [],
   "source": [
    "'''\n",
    "this comment \n",
    "'''\n",
    "# 2+3\n",
    "2+3\n",
    "\n"
   ]
  },
  {
   "cell_type": "code",
   "execution_count": null,
   "id": "d344e5f0",
   "metadata": {},
   "outputs": [],
   "source": [
    "# power\n",
    "2**3"
   ]
  },
  {
   "cell_type": "code",
   "execution_count": null,
   "id": "1263d4ef",
   "metadata": {},
   "outputs": [],
   "source": [
    "# can also do roots this way \n",
    "4**0.5"
   ]
  },
  {
   "cell_type": "code",
   "execution_count": null,
   "id": "fdd1fa7a",
   "metadata": {},
   "outputs": [],
   "source": [
    "# order of operations follwed in python \n",
    "2+10*10+3\n"
   ]
  },
  {
   "cell_type": "code",
   "execution_count": null,
   "id": "d8b378ed",
   "metadata": {},
   "outputs": [],
   "source": [
    "# can use parntheses to specify orders\n",
    "(2+10)*(10+3)"
   ]
  },
  {
   "cell_type": "code",
   "execution_count": null,
   "id": "4893f7ee",
   "metadata": {},
   "outputs": [],
   "source": [
    "# Data types\n",
    "# integers   رقم صحيح \n",
    "\n",
    "# lsit \n",
    "# dictioanry\n",
    "# boleans\n",
    "# sets لازم كل العناصر تكةن فريدة \n",
    "\n",
    "\n",
    "\n"
   ]
  },
  {
   "cell_type": "code",
   "execution_count": null,
   "id": "a027fb74",
   "metadata": {},
   "outputs": [],
   "source": [
    "x= 5\n",
    "type (x)\n"
   ]
  },
  {
   "cell_type": "code",
   "execution_count": null,
   "id": "a1a76d4c",
   "metadata": {},
   "outputs": [],
   "source": [
    "x= \"y\"\n",
    "type (x)"
   ]
  },
  {
   "cell_type": "code",
   "execution_count": null,
   "id": "a3c0af26",
   "metadata": {},
   "outputs": [],
   "source": [
    "type (5+6J)"
   ]
  },
  {
   "cell_type": "code",
   "execution_count": null,
   "id": "a4956874",
   "metadata": {},
   "outputs": [],
   "source": [
    "print (x)\n",
    "x= 9"
   ]
  },
  {
   "cell_type": "code",
   "execution_count": null,
   "id": "4d812300",
   "metadata": {},
   "outputs": [],
   "source": [
    "print (x)"
   ]
  },
  {
   "cell_type": "code",
   "execution_count": null,
   "id": "632d0779",
   "metadata": {},
   "outputs": [],
   "source": [
    "x = 10 \n",
    "print (\"Welcome , the last values of x is :\" , x)"
   ]
  },
  {
   "cell_type": "code",
   "execution_count": null,
   "id": "82823d88",
   "metadata": {},
   "outputs": [],
   "source": [
    "print (\"welcome\")\n",
    "print (\"----------------\")\n",
    "print (30+5)\n",
    "print (5)"
   ]
  },
  {
   "cell_type": "code",
   "execution_count": null,
   "id": "10368c32",
   "metadata": {},
   "outputs": [],
   "source": [
    "print (\"hello\")\n",
    "print(\"world\")\n",
    "print (\"hello \", end=\"\")\n",
    "print(\"world\" , end= \" \")\n",
    "print(\"welcome\", end=\" \")\n",
    "print(\" to amit \",end=\" \")"
   ]
  },
  {
   "cell_type": "code",
   "execution_count": null,
   "id": "8f567400",
   "metadata": {},
   "outputs": [],
   "source": [
    "# Variabels\n",
    "name = \"Ahmed\"\n",
    "age = 25\n",
    "age += 1     # add year after Print\n",
    "age = age + 1\n",
    "print(age)\n"
   ]
  },
  {
   "cell_type": "code",
   "execution_count": null,
   "id": "1a889f22",
   "metadata": {},
   "outputs": [],
   "source": [
    "# assign a single value several variables\n",
    "a=b=c=1\n",
    "print(b)"
   ]
  },
  {
   "cell_type": "code",
   "execution_count": null,
   "id": "acea6476",
   "metadata": {},
   "outputs": [],
   "source": [
    "# assign a single value multiple variables\n",
    "a , b , c = 1, 2, \"Ali\"\n",
    "print (c)"
   ]
  },
  {
   "cell_type": "code",
   "execution_count": null,
   "id": "ec845223",
   "metadata": {},
   "outputs": [],
   "source": [
    "#variables \n",
    "x = 5 \n",
    "X = 6"
   ]
  },
  {
   "cell_type": "code",
   "execution_count": null,
   "id": "73f2f580",
   "metadata": {},
   "outputs": [],
   "source": [
    "# Breaking a long line\n",
    "massage = \" this is a long message need to be\" \\\n",
    "          \"broken into multiple line fpr readability\"\n",
    "massage\n",
    "result = (2+3+\n",
    "          4*5)\n",
    "result"
   ]
  },
  {
   "cell_type": "code",
   "execution_count": null,
   "id": "9714e129",
   "metadata": {},
   "outputs": [],
   "source": [
    "# one line statements\n",
    "x = 10 ; y = 20 ; z = x + y\n",
    "name = \" john\" ; age = 30 ; city = \"New York\""
   ]
  },
  {
   "cell_type": "code",
   "execution_count": null,
   "id": "d95061e7",
   "metadata": {},
   "outputs": [],
   "source": [
    "print('hello , world 1')\n",
    "len(\"hello world\")\n"
   ]
  },
  {
   "cell_type": "code",
   "execution_count": null,
   "id": "6745b515",
   "metadata": {},
   "outputs": [],
   "source": [
    "#string indexing\n",
    "x= 'hello world'\n",
    "print (x[0])\n"
   ]
  },
  {
   "cell_type": "code",
   "execution_count": null,
   "id": "1250ce4e",
   "metadata": {},
   "outputs": [],
   "source": [
    "print (x[7])\n"
   ]
  },
  {
   "cell_type": "code",
   "execution_count": null,
   "id": "d5541b4e",
   "metadata": {},
   "outputs": [],
   "source": [
    "print (x[-1])\n"
   ]
  },
  {
   "cell_type": "markdown",
   "id": "feebcb48",
   "metadata": {},
   "source": [
    "# Slicing"
   ]
  },
  {
   "cell_type": "code",
   "execution_count": null,
   "id": "4ed63de9",
   "metadata": {},
   "outputs": [],
   "source": [
    "x[1:]"
   ]
  },
  {
   "cell_type": "code",
   "execution_count": null,
   "id": "1b747db9",
   "metadata": {},
   "outputs": [],
   "source": [
    "x[:]"
   ]
  },
  {
   "cell_type": "code",
   "execution_count": null,
   "id": "981da616",
   "metadata": {},
   "outputs": [],
   "source": [
    "x[1:5]"
   ]
  },
  {
   "cell_type": "code",
   "execution_count": null,
   "id": "cb14d364",
   "metadata": {},
   "outputs": [],
   "source": [
    "x[0:5]"
   ]
  },
  {
   "cell_type": "code",
   "execution_count": null,
   "id": "3b7b3210",
   "metadata": {},
   "outputs": [],
   "source": [
    "x[-1:]"
   ]
  },
  {
   "cell_type": "code",
   "execution_count": null,
   "id": "8bc3e5e4",
   "metadata": {},
   "outputs": [],
   "source": [
    "s= [1,2,3,4,5,6,7,8,9,10]\n",
    "s[::3]\n"
   ]
  },
  {
   "cell_type": "code",
   "execution_count": null,
   "id": "b2fb4ad6",
   "metadata": {},
   "outputs": [],
   "source": [
    "name = \"amit learning\"\n",
    "print (name.upper())"
   ]
  },
  {
   "cell_type": "code",
   "execution_count": null,
   "id": "5aa63a46",
   "metadata": {},
   "outputs": [],
   "source": [
    "x= input(\"please enter your email\")\n",
    "print (x)\n",
    "username = (x[0:7])\n",
    "print (username)\n",
    "domain = (x[8:17])\n",
    "print (domain)\n",
    "\n",
    "\n"
   ]
  },
  {
   "cell_type": "markdown",
   "id": "6a7642a8",
   "metadata": {},
   "source": [
    "# Task 1 : Email Validation"
   ]
  },
  {
   "cell_type": "code",
   "execution_count": null,
   "id": "8a244477",
   "metadata": {},
   "outputs": [],
   "source": [
    "\n",
    "# assigning a variable to the email input\n",
    "\n",
    "email = input(\"Enter your email: \").lower()\n",
    "\n",
    "# checking if the email contains '@' and '.'\n",
    "\n",
    "valed = email.count (\"@\") == 1 and email.count (\".\") == 1\n",
    "\n",
    "print(\"valid email\" )\n",
    "\n",
    "# checking user name + domain\n",
    "\n",
    "user_name = email.split(\"@\")[0]\n",
    "domain = email.split(\"@\")[1]\n",
    "\n",
    "print(\"User name: \", user_name)\n",
    "print(\"Domain: \", domain)\n",
    "\n",
    "# checking domain .com or .edu\n",
    "ending = domain.split(\".\")[-1]\n",
    "if ending == \"com\" :\n",
    "    print(\"Domain is .Commercial Domain\")\n",
    "elif ending == \"edu\":\n",
    "    print(\"Domain is .Educational Domain\")\n",
    "else:\n",
    "    print(\"Other Domain\")"
   ]
  },
  {
   "cell_type": "markdown",
   "id": "a0718840",
   "metadata": {},
   "source": [
    "# Task 1 : Encoded Message"
   ]
  },
  {
   "cell_type": "code",
   "execution_count": null,
   "id": "a3beabbd",
   "metadata": {},
   "outputs": [],
   "source": [
    "\n",
    "# Encoded Message\n",
    "message = \"###!!@emocleW EPGTQ!!!6789\"\n",
    "\n",
    "# delete special characters and numbers\n",
    "core_message = message.replace(\"#\", \"\").replace(\"!\", \"\").replace(\"@\", \"\").replace(\"6789\", \"\")\n",
    "word1, word2 = core_message.split()  # divide the message into two words\n",
    "\n",
    "# reverse word1\n",
    "reversed_word1 = word1[::-1]\n",
    "print(reversed_word1)\n",
    "# word 1 + word 2\n",
    "decoded_message = reversed_word1 + \" \" + word2\n",
    "print(word2)\n",
    "# print the decoded message\n",
    "print(\"Encoded Message:\", decoded_message)\n"
   ]
  },
  {
   "cell_type": "markdown",
   "id": "0f760a0d",
   "metadata": {},
   "source": [
    "Task-3:"
   ]
  },
  {
   "cell_type": "code",
   "execution_count": null,
   "id": "7e47e1b9",
   "metadata": {},
   "outputs": [],
   "source": [
    "massage_2 = \"&&&**$gnirtS PLIO!!@1234\"\n",
    "# Encoded Message 2\n",
    "clean_massage_2 = massage_2.replace(\"&\",\"\").replace(\"**\",\"\").replace(\"!\",\"\").replace(\"@\", \"\").replace(\"1234\",\"\").replace(\"$\",\"\")\n",
    "word3 , word4 = clean_massage_2.split()\n",
    "\n",
    "# reverse word1\n",
    "x = word3[::-1]\n",
    "print(x)\n",
    "\n",
    "# replace \n",
    "y = word4.replace(\"I\",\"E\").replace(\"O\",\"U\")\n",
    "print(y)\n",
    "\n",
    "# word 3 + word 4\n",
    "decoded_message2 = x + \" \" + y\n",
    "print(\"Encoded Message:\", decoded_message2)\n"
   ]
  },
  {
   "cell_type": "code",
   "execution_count": null,
   "id": "88fa7534",
   "metadata": {},
   "outputs": [],
   "source": [
    "x=[1,2,3,4,5]\n",
    "type (x)\n",
    "y = (1,2)\n",
    "list(y)\n",
    "print(x , y)"
   ]
  },
  {
   "cell_type": "code",
   "execution_count": null,
   "id": "0e82e3a6",
   "metadata": {},
   "outputs": [],
   "source": [
    "list_one = [1,2,3,4, \"amit \" , \"learning\", True ,[1,2,3,\"true\",[\"ml\",\"dl\",\"ds\"]]]\n",
    "print(type(list_one))\n",
    "list_one = [1,2,3,4, \"amit \" , \"learning\", True ,[1,2,3,\"true\",[\"ml\",\"dl\",\"ds\"]]]\n",
    "print((list_one[4]))\n",
    "list_one = [1,2,3,4, \"amit \" , \"learning\", True ,[1,2,3,\"true\",[\"ml\",\"dl\",\"ds\"]]]\n",
    "print((list_one[7][3])) # علشان اجيب True من ليست داخل list\n",
    "\n",
    "\n"
   ]
  },
  {
   "cell_type": "code",
   "execution_count": null,
   "id": "66478b7c",
   "metadata": {},
   "outputs": [],
   "source": [
    "list_one = [1,2,3,4, \"amit \" , \"learning\", True ,[1,2,3,\"true\",[\"ml\",\"dl\",\"ds\"]]]\n",
    "list_one[6]=False\n",
    "list_one[7][3]=\"1\"\n",
    "list_one"
   ]
  },
  {
   "cell_type": "code",
   "execution_count": null,
   "id": "df94b137",
   "metadata": {},
   "outputs": [],
   "source": [
    "list_one [7][0]=[1,2,3,4,5,3]\n",
    "list_one\n"
   ]
  },
  {
   "cell_type": "code",
   "execution_count": null,
   "id": "ea6330a3",
   "metadata": {},
   "outputs": [],
   "source": [
    "c= (1,2,3)\n",
    "type(c)"
   ]
  },
  {
   "cell_type": "code",
   "execution_count": null,
   "id": "6c516480",
   "metadata": {},
   "outputs": [],
   "source": [
    "x = [1,1,2,2,3,3]\n",
    "x = set(x)\n",
    "x"
   ]
  },
  {
   "cell_type": "code",
   "execution_count": null,
   "id": "3f747325",
   "metadata": {},
   "outputs": [],
   "source": [
    "list_one = [\"amit\",\"learing\",\"Python\"]\n",
    "list_one.append(\"machine learning\")\n",
    "list_one\n"
   ]
  },
  {
   "cell_type": "code",
   "execution_count": null,
   "id": "8c2dd28f",
   "metadata": {},
   "outputs": [],
   "source": [
    "list_one = [\"amit\",\"learing\",\"Python\"]\n",
    "list_one.insert(0 , \"machine learning\")\n",
    "list_one"
   ]
  },
  {
   "cell_type": "code",
   "execution_count": null,
   "id": "a16bcaf3",
   "metadata": {},
   "outputs": [],
   "source": [
    "list_one = [\"amit\",\"learing\",\"Python\"]\n",
    "list_one.extend(\"machine\")\n",
    "list_one"
   ]
  },
  {
   "cell_type": "code",
   "execution_count": null,
   "id": "bca395dd",
   "metadata": {},
   "outputs": [],
   "source": [
    "list_one = [\"amit\",\"X\",\"Python\"]\n",
    "list_one.remove(\"amit\")\n",
    "list_one\n"
   ]
  },
  {
   "cell_type": "code",
   "execution_count": null,
   "id": "13bfad03",
   "metadata": {},
   "outputs": [],
   "source": [
    "list_one = [\"amit\",\"X\",\"Python\"]\n",
    "list_one.pop(0)\n",
    "list_one\n"
   ]
  },
  {
   "cell_type": "code",
   "execution_count": null,
   "id": "a56aade5",
   "metadata": {},
   "outputs": [],
   "source": [
    "list_one = [\"amit\",\"X\",\"Python\"]\n",
    "list_one.remove(\"amit\")\n",
    "list_one"
   ]
  },
  {
   "cell_type": "code",
   "execution_count": null,
   "id": "16d83b8c",
   "metadata": {},
   "outputs": [],
   "source": [
    "list_one = [\"amit\",\"X\",\"Python\"]\n",
    "#del list_one  #for DELETE all list \n",
    "del list_one[0]\n",
    "list_one"
   ]
  },
  {
   "cell_type": "code",
   "execution_count": null,
   "id": "b10da1cb",
   "metadata": {},
   "outputs": [],
   "source": [
    "x= input(\"enter Your name: \")\n",
    "x"
   ]
  },
  {
   "cell_type": "code",
   "execution_count": null,
   "id": "e2d26948",
   "metadata": {},
   "outputs": [],
   "source": [
    "x =[\"1\",\"2\",\"3\"]\n",
    "z =input(\"Enter yor num to remove \")\n",
    "x.remove(z)\n",
    "x"
   ]
  },
  {
   "cell_type": "code",
   "execution_count": null,
   "id": "a604eecb",
   "metadata": {},
   "outputs": [],
   "source": [
    "my_list=[1,2,3,2,3,3]\n",
    "index_of_2 = my_list.index(2)\n",
    "index_of_2\n"
   ]
  },
  {
   "cell_type": "code",
   "execution_count": null,
   "id": "5093e88a",
   "metadata": {},
   "outputs": [],
   "source": [
    "my_list=[1,2,3,2,3,3]\n",
    "Count_of_2 = my_list.count(23)\n",
    "index_of_2\n"
   ]
  },
  {
   "cell_type": "code",
   "execution_count": null,
   "id": "56b33c85",
   "metadata": {},
   "outputs": [],
   "source": [
    "my_list_2 = [3,1,2,4,15,9,2]\n",
    "x = my_list_2.sort()\n",
    "my_list_2"
   ]
  },
  {
   "cell_type": "code",
   "execution_count": null,
   "id": "b045321c",
   "metadata": {},
   "outputs": [],
   "source": [
    "my_list_2 = [3,1,2,4,15,9,2]\n",
    "my_list_2.reverse()\n",
    "my_list_2"
   ]
  },
  {
   "cell_type": "code",
   "execution_count": null,
   "id": "2d87a6a6",
   "metadata": {},
   "outputs": [],
   "source": [
    "tuple_one = (1,2,3,4,5.5,4.5, \"amit\", \"ahmed\")\n",
    "tuple_one[2] = \"welcome\"\n",
    "tuple_one"
   ]
  },
  {
   "cell_type": "code",
   "execution_count": null,
   "id": "b0448e60",
   "metadata": {},
   "outputs": [],
   "source": [
    "First_num = (int(input(\"Enter First num :\" )))\n",
    "second_num = (int(input(\"Enter second num :\" )))\n",
    "x= First_num + second_num\n",
    "y=First_num * second_num\n",
    "z=First_num / second_num\n",
    "c=First_num * second_num\n",
    "print (x)\n",
    "print (y)\n",
    "print (z)\n",
    "print (c)\n"
   ]
  },
  {
   "cell_type": "code",
   "execution_count": null,
   "id": "a6d2278a",
   "metadata": {},
   "outputs": [],
   "source": [
    "a = 10 \n",
    "b = 5 \n",
    "if a < b :\n",
    "    print (\"a is grater tan b \")\n",
    "else :\n",
    "    print (\"a is not grater than b\")"
   ]
  },
  {
   "cell_type": "code",
   "execution_count": null,
   "id": "aef27645",
   "metadata": {},
   "outputs": [],
   "source": [
    "a = 200\n",
    "b = 33\n",
    "if b > a :\n",
    "    print ( \"b is greater then a\")\n",
    "elif  a == b:\n",
    "    print (\"a and b are equal\")\n",
    "else : \n",
    "    print (\"a is greater than b\")"
   ]
  },
  {
   "cell_type": "code",
   "execution_count": null,
   "id": "637c3e5f",
   "metadata": {},
   "outputs": [],
   "source": [
    "x = 5\n",
    "y = 10 \n",
    "if x > 0 and y > 0:\n",
    "    print(\"both x and y are positive . \")\n"
   ]
  },
  {
   "cell_type": "code",
   "execution_count": null,
   "id": "42f80040",
   "metadata": {},
   "outputs": [],
   "source": [
    "age = 15\n",
    "if age < 18 or age >=65 :\n",
    "    print(\"your qualify for spical considerations\")\n",
    "    "
   ]
  },
  {
   "cell_type": "code",
   "execution_count": null,
   "id": "16c5a23d",
   "metadata": {},
   "outputs": [],
   "source": [
    "rain = False\n",
    "if rain :\n",
    "    print(\"welcome\")"
   ]
  },
  {
   "cell_type": "code",
   "execution_count": null,
   "id": "8937f72f",
   "metadata": {},
   "outputs": [],
   "source": [
    "x= 5\n",
    "result = \"even\" if x % 2 == 0 else\"odd\"\n",
    "print (result)"
   ]
  },
  {
   "cell_type": "code",
   "execution_count": null,
   "id": "fb494aa5",
   "metadata": {},
   "outputs": [],
   "source": [
    "a= 10 \n",
    "b= 5 \n",
    "result = a+b if a>b else a-b\n",
    "print (result)"
   ]
  },
  {
   "cell_type": "code",
   "execution_count": null,
   "id": "d363ce6b",
   "metadata": {},
   "outputs": [],
   "source": [
    "age = 21\n",
    "\n",
    "print (\"adult\") if age >= 18 else (print(\"teenager\") if age >= 13 else print(\"child\"))"
   ]
  },
  {
   "cell_type": "code",
   "execution_count": null,
   "id": "a3d11253",
   "metadata": {},
   "outputs": [],
   "source": [
    "age = 23\n",
    "if age >= 21 :\n",
    "    print(\"adult\")\n",
    "    if age <= 13 :\n",
    "        print(\"child\")\n",
    "else :\n",
    "    print (\"teenage\")\n"
   ]
  },
  {
   "cell_type": "code",
   "execution_count": null,
   "id": "5afa3a75",
   "metadata": {},
   "outputs": [],
   "source": [
    "is_sunny = True\n",
    "temperature = 25 \n",
    "if is_sunny : \n",
    "    print (\"it's sunny day \")\n",
    "    if temperature > 20:\n",
    "        print(\"this weather is worm\")\n",
    "    else :\n",
    "        print(\"the weather is cool\")\n",
    "else :\n",
    "    print(\"it's not a sunny day \")"
   ]
  },
  {
   "cell_type": "code",
   "execution_count": null,
   "id": "bb171a98",
   "metadata": {},
   "outputs": [],
   "source": [
    "grade = int(input(\"enter your grade :\"))\n",
    "if grade  <= 100 and grade >= 90 :\n",
    "    print (\" your grad is A\")\n",
    "elif grade  >= 80 and grade <= 90 :\n",
    "    print (\" your grad is B\")\n",
    "elif grade  >= 70 and grade <= 80 :\n",
    "    print (\" your grad is C\")\n",
    "elif grade  == 70  :\n",
    "    print (\" your grad is D\")\n",
    "else :\n",
    "    print (\"your grade is F\")\n",
    "\n",
    "#  مراجعة حل السؤال في الملف المرسل علي الواتس اب"
   ]
  },
  {
   "cell_type": "code",
   "execution_count": null,
   "id": "20c491dc",
   "metadata": {},
   "outputs": [],
   "source": [
    "for x in \"amit\" :\n",
    "    print (\"python\")\n",
    "else :\n",
    "    print(\" loop finished\")"
   ]
  },
  {
   "cell_type": "code",
   "execution_count": null,
   "id": "87092263",
   "metadata": {},
   "outputs": [],
   "source": [
    "for x in range(10):\n",
    "    print (x)"
   ]
  },
  {
   "cell_type": "code",
   "execution_count": null,
   "id": "15fce6ca",
   "metadata": {},
   "outputs": [],
   "source": [
    "for x in range(10):\n",
    "    print (\"amit\")"
   ]
  },
  {
   "cell_type": "code",
   "execution_count": null,
   "id": "8ec6d64e",
   "metadata": {},
   "outputs": [],
   "source": [
    "for i in range (6):\n",
    "    if i == 3:\n",
    "        continue\n",
    "    print(i)"
   ]
  },
  {
   "cell_type": "code",
   "execution_count": null,
   "id": "64f60c78",
   "metadata": {},
   "outputs": [],
   "source": [
    "for i in range(6):\n",
    "    if i == 4 :\n",
    "        break\n",
    "    print(i)\n"
   ]
  },
  {
   "cell_type": "code",
   "execution_count": null,
   "id": "f9b327c0",
   "metadata": {},
   "outputs": [],
   "source": [
    "for i in range (6):\n",
    "    if i == 3:\n",
    "        continue\n",
    "    print(i)\n",
    "\n"
   ]
  },
  {
   "cell_type": "code",
   "execution_count": null,
   "id": "b2112999",
   "metadata": {},
   "outputs": [],
   "source": [
    "for i in range (6):\n",
    "    if i == 3:\n",
    "        pass\n",
    "    print(i)\n"
   ]
  },
  {
   "cell_type": "code",
   "execution_count": null,
   "id": "a2d821b1",
   "metadata": {},
   "outputs": [],
   "source": [
    "x = 6\n",
    "while x> 0 :\n",
    "    print(x)\n",
    "    x -=1"
   ]
  },
  {
   "cell_type": "code",
   "execution_count": null,
   "id": "e70c66f4",
   "metadata": {},
   "outputs": [],
   "source": [
    "x = 6\n",
    "while x> 0 :\n",
    "    print(\"python\")\n",
    "    x -=1"
   ]
  },
  {
   "cell_type": "code",
   "execution_count": null,
   "id": "36ae3207",
   "metadata": {},
   "outputs": [],
   "source": [
    "z = lambda x:x+10\n",
    "print (z(10))\n",
    "print(type(z))\n",
    "def addition(x):\n",
    "    return x\n",
    "print(type(addition))"
   ]
  },
  {
   "cell_type": "code",
   "execution_count": null,
   "id": "affa0199",
   "metadata": {},
   "outputs": [],
   "source": [
    "list1 = [1,2,3,4,5,6,7,8,9,10]\n",
    "for i in list1:\n",
    "    if i % 2 == 0 :\n",
    "        print(i)\n"
   ]
  },
  {
   "cell_type": "code",
   "execution_count": null,
   "id": "5a4679df",
   "metadata": {},
   "outputs": [],
   "source": [
    "list1 = [1,2,3,4,5,6,7,8,9,10]\n",
    "for i in list1:\n",
    "    if i % 2 == 1 :\n",
    "        print(f\"My Name is :{i}\")"
   ]
  },
  {
   "cell_type": "code",
   "execution_count": null,
   "id": "ca629238",
   "metadata": {},
   "outputs": [],
   "source": [
    "list1 = [1,2,3,4,5,6,7,8,9,10]\n",
    "for i in list1:\n",
    "    if i % 2 == 1 :\n",
    "        print('my number is {}'.format(i))"
   ]
  },
  {
   "cell_type": "code",
   "execution_count": null,
   "id": "d82b4c62",
   "metadata": {},
   "outputs": [],
   "source": [
    "def even_odd(x):\n",
    "    if x % 2 == 0 :\n",
    "        print('even is {}'.format(x))\n",
    "    else:\n",
    "        print('odd is {}'.format(x))\n",
    "    \n"
   ]
  },
  {
   "cell_type": "code",
   "execution_count": null,
   "id": "a251bca3",
   "metadata": {},
   "outputs": [],
   "source": [
    "list2 = [(2,4), (6,8),(10,12)]\n",
    "for number in list2:\n",
    "    print(number)\n",
    "for (t1,t2) in list2:\n",
    "    print(t1,t2)\n"
   ]
  },
  {
   "cell_type": "code",
   "execution_count": null,
   "id": "70244b81",
   "metadata": {},
   "outputs": [],
   "source": [
    "x=[[1,2,3],[4,5,6],[7,8,9]]\n",
    "x=[num[2]for num in x] # list comprehension\n",
    "x"
   ]
  },
  {
   "cell_type": "code",
   "execution_count": null,
   "id": "ee371282",
   "metadata": {},
   "outputs": [],
   "source": [
    "d = {'k1': 1, 'k2':2,'k3': 3}\n",
    "d.items()"
   ]
  },
  {
   "cell_type": "code",
   "execution_count": null,
   "id": "1f093238",
   "metadata": {},
   "outputs": [],
   "source": [
    "d = {'k1': 1, 'k2':2,'k3': 3}\n",
    "d.items()\n",
    "for items in d .keys():\n",
    "    print(items)\n",
    "for k,v in d.items():\n",
    "    print('my key is {}'.format(k), 'my format is{}'.format(v))"
   ]
  },
  {
   "cell_type": "code",
   "execution_count": null,
   "id": "af1d77f8",
   "metadata": {},
   "outputs": [],
   "source": [
    "x = 0\n",
    "while x < 10:\n",
    "    print('x is currently : ', x)\n",
    "    print('x is still less than 10 , adding 1 to x')\n",
    "    x+=1\n",
    "else:\n",
    "    print(\"all done\")"
   ]
  },
  {
   "cell_type": "code",
   "execution_count": null,
   "id": "7f601d74",
   "metadata": {},
   "outputs": [],
   "source": [
    "def function1 (x,y):\n",
    "    print (f\"first number = {x} , second number = {y}\")\n",
    "function1(4,5)\n"
   ]
  },
  {
   "cell_type": "code",
   "execution_count": null,
   "id": "397105b6",
   "metadata": {},
   "outputs": [],
   "source": [
    "def function_1(name, age):\n",
    "    print (f\"my name is {name}, and my age is {age}\")\n",
    "function_1(\"mohamed\" , 35)"
   ]
  },
  {
   "cell_type": "code",
   "execution_count": null,
   "id": "14893d61",
   "metadata": {},
   "outputs": [],
   "source": [
    "def info (x,y):\n",
    "    print (f\"my name is {x}, and my age is {y}\")\n",
    "\n",
    "name = input(\"enter your name :\")\n",
    "age= input (\"enter your age :\")\n",
    "info(name, age)\n",
    "\n"
   ]
  },
  {
   "cell_type": "code",
   "execution_count": null,
   "id": "7870b9f8",
   "metadata": {},
   "outputs": [],
   "source": [
    "def info (a,z):\n",
    "    print (f\"my name is {a}, and my age is {z}\")\n",
    "\n",
    "name = input(\"enter your name :\")\n",
    "age= input (\"enter your age :\")\n",
    "info(a = name, z = age)"
   ]
  },
  {
   "cell_type": "code",
   "execution_count": null,
   "id": "60eb8036",
   "metadata": {},
   "outputs": [],
   "source": [
    "def why (c,d = 20):\n",
    "    print (f\"my name is {c}, and my age is {d}\")\n",
    "why(\"mohamed\")"
   ]
  },
  {
   "cell_type": "code",
   "execution_count": null,
   "id": "fe82c0fe",
   "metadata": {},
   "outputs": [],
   "source": [
    "def help (*x):\n",
    "    return x\n",
    "help(\"mohamed\", \"ahmed\" , \"amit\", 2,3,4, True)"
   ]
  },
  {
   "cell_type": "code",
   "execution_count": null,
   "id": "963506a0",
   "metadata": {},
   "outputs": [],
   "source": [
    "def function_2 (** name):\n",
    "    print(name)\n",
    "    print(type(name))\n",
    "function_2(key1 = 10.5 , key2 = 2 , key3 = \"mohamed\")"
   ]
  },
  {
   "cell_type": "code",
   "execution_count": null,
   "id": "d2433f0e",
   "metadata": {},
   "outputs": [],
   "source": [
    "def sum_y(n1,n2):\n",
    "    # i = lambda i :i+10\n",
    "\n",
    "    for i in range (4):\n",
    "        print(i)\n",
    "\n",
    "    return(n1+n2)\n",
    "\n",
    "print(sum_y(5,3))\n",
    "\n",
    "\n"
   ]
  },
  {
   "cell_type": "code",
   "execution_count": null,
   "id": "b444c2b8",
   "metadata": {},
   "outputs": [],
   "source": [
    "function_5 = lambda x:x+ 10\n",
    "print(function_5(5))"
   ]
  },
  {
   "cell_type": "code",
   "execution_count": null,
   "id": "99bc0222",
   "metadata": {},
   "outputs": [],
   "source": [
    "def function3 (n):\n",
    "    return lambda a : a * n\n",
    "function_6 = function3(2)\n",
    "print(function_6(11))"
   ]
  },
  {
   "cell_type": "code",
   "execution_count": null,
   "id": "a7acf554",
   "metadata": {},
   "outputs": [],
   "source": [
    "def add(x, y):\n",
    "    return x + y\n",
    "def subtract(x, y):\n",
    "    return x - y    \n",
    "def multiply(x, y):\n",
    "    return x * y\n",
    "def divide(x, y):\n",
    "    return x / y\n",
    "def calculator(x, y, operation):\n",
    "    if operation == 'add':\n",
    "        return add(x, y)\n",
    "    elif operation == 'subtract':\n",
    "        return subtract(x, y)\n",
    "    elif operation == 'multiply':\n",
    "        return multiply(x, y)\n",
    "    elif operation == 'divide':\n",
    "        return divide(x, y)\n",
    "    else:\n",
    "        return \"Invalid operation\"\n",
    "    \n",
    "print(calculator(10, 5, 'add'))\n",
    "print(calculator(22, 5, 'subtract'))\n",
    "print(calculator(17, 5, 'multiply'))\n",
    "print(calculator(20,5,'divide'))"
   ]
  },
  {
   "cell_type": "code",
   "execution_count": null,
   "id": "c28b8f78",
   "metadata": {},
   "outputs": [],
   "source": [
    "def calculator(x, y, operation):\n",
    "    if operation == 'add':\n",
    "        return add(x, y)\n",
    "    elif operation == 'subtract':\n",
    "        return subtract(x, y)\n",
    "    elif operation == 'multiply':\n",
    "        return multiply(x, y)\n",
    "    elif operation == 'divide':\n",
    "        return divide(x, y)\n",
    "    else:\n",
    "        return \"Invalid operation\"\n",
    "    \n",
    "print(calculator(10, 5, 'add'))\n",
    "print(calculator(22, 5, 'subtract'))\n",
    "print(calculator(17, 5, 'multiply'))\n",
    "print(calculator(20,5,'divide'))"
   ]
  },
  {
   "cell_type": "code",
   "execution_count": null,
   "id": "9c84d8e6",
   "metadata": {},
   "outputs": [],
   "source": [
    "scoure = int(input(\"Enter your grade: \"))\n",
    "\n",
    "def degree(scoure):\n",
    "    if 90 <= scoure <= 100:\n",
    "        return \"A\"\n",
    "    elif 80 <= scoure < 90:\n",
    "        return \"B\"\n",
    "    elif 70 <= scoure < 80:\n",
    "        return \"C\"\n",
    "    elif scoure == 70:\n",
    "        return \"D\"\n",
    "    else:\n",
    "        return \"F\"\n",
    "\n",
    "print(f\"Your grade is {degree(scoure)}.\")\n"
   ]
  },
  {
   "cell_type": "code",
   "execution_count": null,
   "id": "cdd19896",
   "metadata": {},
   "outputs": [],
   "source": [
    "def add(x, y):\n",
    "    return x + y\n",
    "\n",
    "def subtract(x, y):\n",
    "    return x - y\n",
    "\n",
    "def multiply(x, y):\n",
    "    return x * y\n",
    "\n",
    "def divide(x, y):\n",
    "    return x / y\n",
    "\n",
    "print(\"1.Add\")\n",
    "print(\"2.Subtract\")\n",
    "print(\"3.Multiply\")\n",
    "print(\"4.Divide\")\n",
    "\n",
    "choice = input(\"Enter choice(1/2/3/4): \")\n",
    "\n",
    "num1 = int(input(\"Enter first number: \"))\n",
    "num2 = int(input(\"Enter second number: \"))\n",
    "\n",
    "if choice == '1':\n",
    "    print(num1,\"+\",num2,\"=\", add(num1,num2))\n",
    "\n",
    "elif choice == '2':\n",
    "    print(num1,\"-\",num2,\"=\", subtract(num1,num2))\n",
    "\n",
    "elif choice == '3':\n",
    "    print(num1,\"*\",num2,\"=\", multiply(num1,num2))\n",
    "\n",
    "elif choice == '4':\n",
    "    print(num1,\"/\",num2,\"=\", divide(num1,num2))\n",
    "else:\n",
    "    print(\"Invalid input\")"
   ]
  },
  {
   "cell_type": "code",
   "execution_count": null,
   "id": "4aefbba3",
   "metadata": {},
   "outputs": [],
   "source": [
    "def square ( num):\n",
    "    return num**2\n",
    "\n",
    "square(2)"
   ]
  },
  {
   "cell_type": "code",
   "execution_count": null,
   "id": "7d5445fc",
   "metadata": {},
   "outputs": [],
   "source": [
    "\n",
    "square(2)\n",
    "my_num = [1,2,3,4,5]\n",
    "map(square,my_num)\n",
    "list(map(square,my_num))"
   ]
  },
  {
   "cell_type": "code",
   "execution_count": null,
   "id": "477258ee",
   "metadata": {},
   "outputs": [],
   "source": [
    "def say_hello():\n",
    "    print(\"Hello!\")\n",
    "say_hello()"
   ]
  },
  {
   "cell_type": "code",
   "execution_count": null,
   "id": "80fd4489",
   "metadata": {},
   "outputs": [],
   "source": [
    "def greet(name):\n",
    "    print(f\"Hello, {name}!\")\n",
    "greet (\"Gamal\")"
   ]
  },
  {
   "cell_type": "code",
   "execution_count": null,
   "id": "cf0aaba5",
   "metadata": {},
   "outputs": [],
   "source": [
    "def square(num):\n",
    "    return num ** 2\n",
    "result = square(5)\n",
    "print(\"The square is:\", result)"
   ]
  },
  {
   "cell_type": "code",
   "execution_count": null,
   "id": "1f8abedc",
   "metadata": {},
   "outputs": [],
   "source": [
    "def multiply (x , y):\n",
    "    return x * y\n",
    "result = multiply (3 , 4)\n",
    "print (\"result :\" , result)"
   ]
  },
  {
   "cell_type": "code",
   "execution_count": null,
   "id": "4b5535db",
   "metadata": {},
   "outputs": [],
   "source": [
    "def even_check (num):\n",
    "    if num % 2 == 0 :\n",
    "        return \"even\"\n",
    "    else : \n",
    "        return \"odd\"\n",
    "result = even_check(7)\n",
    "print(\"result :\", result)"
   ]
  },
  {
   "cell_type": "code",
   "execution_count": null,
   "id": "89aba839",
   "metadata": {},
   "outputs": [],
   "source": [
    "num1 = int(input(\"Enter x :\"))\n",
    "num2 = int(input(\"enter y:\"))\n",
    "choice = input(\"Enter choice(1/2): \")\n",
    "def add(x, y):\n",
    "    return x + y\n",
    "def subtract(x, y):\n",
    "    return x - y\n",
    "if choice == '1':\n",
    "    print(num1,\"+\",num2,\"=\", add(num1,num2))\n",
    "\n",
    "elif choice == '2':\n",
    "    print(num1,\"-\",num2,\"=\", subtract(num1,num2))\n",
    "else:\n",
    "    print(\"Invalid input\")\n"
   ]
  },
  {
   "cell_type": "code",
   "execution_count": null,
   "id": "dea821fb",
   "metadata": {},
   "outputs": [],
   "source": [
    "def calculator(x, y, operation):\n",
    "    if operation == \"add\":\n",
    "        return x + y\n",
    "    elif operation == \"sub\":\n",
    "        return x - y\n",
    "    elif operation == \"mul\":\n",
    "        return x * y\n",
    "    elif operation == \"div\":\n",
    "        if y != 0:\n",
    "            return x / y\n",
    "        else:\n",
    "            return \"Cannot divide by zero\"\n",
    "    else:\n",
    "        return \"Invalid operation\"\n",
    "\n",
    "\n",
    "num1 = int(input(\"Enter first number: \"))\n",
    "num2 = int(input(\"Enter second number: \"))\n",
    "op = input(\"Enter operation (add / sub / mul / div): \")\n",
    "\n",
    "result = calculator(num1, num2, op)\n",
    "print(\"Result:\", result)\n",
    "print(f\"{num1} {op} {num2} = {result}\")\n"
   ]
  },
  {
   "cell_type": "code",
   "execution_count": null,
   "id": "edbcdd84",
   "metadata": {},
   "outputs": [],
   "source": [
    "def calculator(operation, x, y):\n",
    "    if operation == 'add':\n",
    "        return x + y\n",
    "    elif operation == 'subtract':\n",
    "        return x - y\n",
    "    elif operation == 'multiply':\n",
    "        return x * y\n",
    "    elif operation == 'divide':\n",
    "        if y != 0:\n",
    "            return x / y\n",
    "        else:\n",
    "            return \"Error: Division by zero\"\n",
    "    else:\n",
    "        return \"Invalid\"\n",
    "\n",
    "print(calculator('subtract', 10, 5))\n"
   ]
  },
  {
   "cell_type": "code",
   "execution_count": null,
   "id": "abb83323",
   "metadata": {},
   "outputs": [],
   "source": [
    "def your_grade(grade):\n",
    "    if grade == 100 :\n",
    "        return \"a\"\n",
    "    elif grade < 100 and grade >= 80:\n",
    "        return \"b\"\n",
    "    elif grade < 80 and grade >= 50:\n",
    "        return \"C\"\n",
    "    else:\n",
    "        print(\"try anther time : \" , your_grade1)\n",
    "your_grade1= int(input(\"Enter your grade :\" ))\n",
    "\n",
    "your_grade(your_grade1)\n"
   ]
  },
  {
   "cell_type": "code",
   "execution_count": null,
   "id": "9031fba5",
   "metadata": {},
   "outputs": [],
   "source": [
    "def greet(name=\"Guest\"):\n",
    "    return f\"Welcome, {name}!\"\n",
    "print(greet())            # Welcome, Guest!\n",
    "print(greet(\"Mohamed\"))   # Welcome, Mohamed!"
   ]
  },
  {
   "cell_type": "code",
   "execution_count": null,
   "id": "f42b0a05",
   "metadata": {},
   "outputs": [],
   "source": [
    "def info (name , job = \"student\"):\n",
    "    return f\"Welcome {name}, I am a {job}\"\n",
    "print (info(\"ali\"))\n",
    "print (info(\"mohamed\" , \"engineer\"))"
   ]
  },
  {
   "cell_type": "code",
   "execution_count": null,
   "id": "84e2867b",
   "metadata": {},
   "outputs": [],
   "source": [
    "def info(name, job=\"student\"):\n",
    "    return f\"Welcome {name}, I am a {job}\"\n",
    "\n",
    "# استخدام الدالة\n",
    "print(info(\"Ali\"))  # بدون وظيفة، تستخدم الافتراضية\n",
    "print(info(\"Mohamed\", \"Engineer\"))  # بوظيفة محددة"
   ]
  },
  {
   "cell_type": "code",
   "execution_count": null,
   "id": "e5109791",
   "metadata": {},
   "outputs": [],
   "source": [
    "def stats(a, b):\n",
    "    total = a + b\n",
    "    average = total / 2\n",
    "    return total, average\n",
    "t, avg = stats(10, 20)\n",
    "print(\"Total:\", t)\n",
    "print(\"Average:\", avg)"
   ]
  },
  {
   "cell_type": "code",
   "execution_count": null,
   "id": "002d5d87",
   "metadata": {},
   "outputs": [],
   "source": [
    "def min_max(n, x):\n",
    "    if n < x:\n",
    "        return n, x  # n أصغر و x أكبر\n",
    "    else:\n",
    "        return x, n  # x أصغر و n أكبر\n",
    "\n",
    "# استدعاء الدالة وتخزين النتائج\n",
    "small, large = min_max(10, 5)\n",
    "\n",
    "# الطباعة\n",
    "print(f\"The min number is: {small}\")\n",
    "print(f\"The max number is: {large}\")"
   ]
  },
  {
   "cell_type": "code",
   "execution_count": null,
   "id": "6c879146",
   "metadata": {},
   "outputs": [],
   "source": [
    "def analyze(numbers):\n",
    "    total = sum(numbers)\n",
    "    avg = total / len(numbers)\n",
    "    return total, avg\n",
    "nums = [10, 20, 30, 40]\n",
    "total, average = analyze(nums)\n",
    "\n",
    "print(\"Total:\", total)\n",
    "print(\"Average:\", average)"
   ]
  },
  {
   "cell_type": "code",
   "execution_count": null,
   "id": "d8c00165",
   "metadata": {},
   "outputs": [],
   "source": [
    "def count_even_odd(numbers):\n",
    "    even_count = 0\n",
    "    odd_count = 0\n",
    "\n",
    "    for num in numbers:\n",
    "        if num % 2 == 0:\n",
    "            even_count += 1\n",
    "        else:\n",
    "            odd_count += 1\n",
    "\n",
    "    return even_count, odd_count\n",
    "\n",
    "# استخدام الدالة\n",
    "even, odd = count_even_odd([1, 2, 3, 4, 5, 6, 7, 8, 9, 10])\n",
    "\n",
    "print(f\"The even numbers count is: {even}\")\n",
    "print(f\"The odd numbers count is: {odd}\")\n",
    "\n"
   ]
  },
  {
   "cell_type": "code",
   "execution_count": null,
   "id": "071dee0a",
   "metadata": {},
   "outputs": [],
   "source": [
    "def separate_even_odd(numbers):\n",
    "    evens = []\n",
    "    odds = []\n",
    "\n",
    "    for num in numbers:\n",
    "        if num % 2 == 0:\n",
    "            evens.append(num)\n",
    "        else:\n",
    "            odds.append(num)\n",
    "\n",
    "    return evens, odds\n",
    "even_nums, odd_nums = separate_even_odd([1, 2, 3, 4, 5, 6, 7, 8, 9, 10])\n",
    "\n",
    "print(\"Even numbers:\", even_nums)\n",
    "print(\"Odd numbers:\", odd_nums)"
   ]
  },
  {
   "cell_type": "code",
   "execution_count": null,
   "id": "cc3d66a6",
   "metadata": {},
   "outputs": [],
   "source": [
    "my_num = [1,2,3,4,5]\n",
    "def square ( num):\n",
    "    num = (sum(my_num))\n",
    "    return num**2\n",
    "\n",
    "square(2)\n",
    "\n"
   ]
  },
  {
   "cell_type": "code",
   "execution_count": null,
   "id": "8ed39952",
   "metadata": {},
   "outputs": [],
   "source": [
    "dic = {\"name\": \"mohamed\", \"age\": \"35\", \"phone\": \"123456789\"}\n",
    "\n",
    "def data(x, y, z=\"123456789\"):\n",
    "    return f\"Welcome {x}, I am {y}, my phone {z}\"\n",
    "\n",
    "x = dic[\"name\"]\n",
    "y = dic[\"age\"]\n",
    "z = dic[\"phone\"]\n",
    "\n",
    "print(data(x, y, z))\n"
   ]
  },
  {
   "cell_type": "code",
   "execution_count": null,
   "id": "97b93c4f",
   "metadata": {},
   "outputs": [],
   "source": [
    "dic_1 = {\"name\":\"mohamed\", \"age\":35}\n",
    "def info (**arg):\n",
    "    for k , v in arg.items():\n",
    "        print(k,v)\n",
    "    return arg\n",
    "\n",
    "result = info(**dic_1)"
   ]
  },
  {
   "cell_type": "code",
   "execution_count": null,
   "id": "f8fd5ed6",
   "metadata": {},
   "outputs": [],
   "source": [
    "dic_2 = {\"name\":\"mohamed\", \"age\":34}\n",
    "for x,y in dic_2.items():\n",
    "    print(x,y)"
   ]
  },
  {
   "cell_type": "code",
   "execution_count": null,
   "id": "efe7ee9c",
   "metadata": {},
   "outputs": [],
   "source": [
    "def sum_all(*numbers):\n",
    "    sum = 0\n",
    "    for n in numbers:\n",
    "        sum += n \n",
    "    return sum\n",
    "print(sum_all(1,2,3))"
   ]
  },
  {
   "cell_type": "code",
   "execution_count": null,
   "id": "7ee10955",
   "metadata": {},
   "outputs": [],
   "source": [
    "def mult_all(*numbers):\n",
    "    mult = 1\n",
    "    for n in numbers:\n",
    "        mult *=  n\n",
    "    return mult\n",
    "\n",
    "print(mult_all(1,2,3,4,5,6))"
   ]
  },
  {
   "cell_type": "code",
   "execution_count": null,
   "id": "9f3ed8df",
   "metadata": {},
   "outputs": [],
   "source": [
    "def counter (start = 0):\n",
    "    n = start\n",
    "    while True:\n",
    "        yield n       # use yield to generate on item at a time\n",
    "        n += 1\n",
    "\n",
    "for i in counter (5):\n",
    "    if i > 10:\n",
    "        break"
   ]
  },
  {
   "cell_type": "code",
   "execution_count": null,
   "id": "c2b1c1ac",
   "metadata": {},
   "outputs": [],
   "source": [
    "def fib ():\n",
    "    a,b = 0,1\n",
    "    while True:\n",
    "        yield a\n",
    "        a,b = b , a + b\n",
    "for n in fib():\n",
    "    if n > 20:\n",
    "        break\n",
    "    print(n)"
   ]
  },
  {
   "cell_type": "code",
   "execution_count": null,
   "id": "576808f8",
   "metadata": {},
   "outputs": [],
   "source": [
    "nums = (x**2 for x in range (10))\n",
    "print (type(nums))\n",
    "print (list(nums))"
   ]
  },
  {
   "cell_type": "code",
   "execution_count": null,
   "id": "dc5aa5b9",
   "metadata": {},
   "outputs": [],
   "source": [
    "nums = (x + 20 for x in range (10))\n",
    "print (list(nums))"
   ]
  },
  {
   "cell_type": "code",
   "execution_count": null,
   "id": "8f7f3153",
   "metadata": {},
   "outputs": [],
   "source": [
    "attacks = [\"kimura\" , \"armbar\", \"triangle\"]\n",
    "random.choice(attacks)"
   ]
  },
  {
   "cell_type": "code",
   "execution_count": null,
   "id": "58b94c0b",
   "metadata": {},
   "outputs": [],
   "source": [
    "import random\n",
    "def lazy_randoom_attacks():\n",
    "    while True:\n",
    "\n",
    "        attack = random.choice(attacks)\n",
    "\n",
    "        print(\"yielding attack\")\n",
    "        yield attack\n",
    "        \n",
    "generator = lazy_randoom_attacks()\n",
    "for _ in range(5):\n",
    "    print(next(generator))\n",
    "\n"
   ]
  },
  {
   "cell_type": "code",
   "execution_count": null,
   "id": "d84ed84f",
   "metadata": {},
   "outputs": [],
   "source": [
    "import random\n",
    "attacks = [\"kimura\" , \"armbar\", \"triangle\"]\n",
    "random.choice(attacks)\n"
   ]
  },
  {
   "cell_type": "markdown",
   "id": "5997fcab",
   "metadata": {},
   "source": [
    "Exceptions"
   ]
  },
  {
   "cell_type": "code",
   "execution_count": null,
   "id": "daec7f14",
   "metadata": {},
   "outputs": [],
   "source": [
    "try :\n",
    "    5/0\n",
    "except:\n",
    "    print(\"not accept to divid by zero\")"
   ]
  },
  {
   "cell_type": "code",
   "execution_count": null,
   "id": "1cccd5a8",
   "metadata": {},
   "outputs": [],
   "source": [
    "try :\n",
    "    x = 10 \n",
    "    y = int(input())\n",
    "    x / y\n",
    "except :\n",
    "    print('division by zero')"
   ]
  },
  {
   "cell_type": "code",
   "execution_count": null,
   "id": "7cc92a1a",
   "metadata": {},
   "outputs": [],
   "source": [
    "try :\n",
    "    5/0\n",
    "except Exception as e:\n",
    "    print (e)"
   ]
  },
  {
   "cell_type": "code",
   "execution_count": null,
   "id": "5bae201d",
   "metadata": {},
   "outputs": [],
   "source": [
    "try :\n",
    "    print(y)\n",
    "except NameError:\n",
    "    print(\"something went wrong\")\n",
    "else:\n",
    "    print(\"nothing is wrong\")"
   ]
  },
  {
   "cell_type": "code",
   "execution_count": null,
   "id": "22dfea0c",
   "metadata": {},
   "outputs": [],
   "source": [
    "try :\n",
    "    x = 10\n",
    "    y= int(input())\n",
    "    x/y\n",
    "except:\n",
    "    print('devision by zero')\n",
    "finally:\n",
    "    print(\"done\")"
   ]
  },
  {
   "cell_type": "markdown",
   "id": "09f455ed",
   "metadata": {},
   "source": [
    "read file"
   ]
  },
  {
   "cell_type": "code",
   "execution_count": null,
   "id": "84ddc1ae",
   "metadata": {},
   "outputs": [],
   "source": [
    "import os\n",
    "import sys\n",
    "\n",
    "f = open(r\"C:/Users/Mgama/PYTHON/Ai_Amit_Diploma/test.txt\",\"r\")\n",
    "print(f.read())\n",
    "f.close()"
   ]
  },
  {
   "cell_type": "code",
   "execution_count": null,
   "id": "a528b26d",
   "metadata": {},
   "outputs": [],
   "source": [
    "f = open(r\"C:/Users/Mgama/PYTHON/Ai_Amit_Diploma/test.txt\",\"r\")\n",
    "all_lines = f.readlines()\n",
    "for line in all_lines:\n",
    "    print(line)"
   ]
  },
  {
   "cell_type": "code",
   "execution_count": null,
   "id": "c33f19d7",
   "metadata": {},
   "outputs": [],
   "source": [
    "f = open(r\"C:/Users/Mgama/PYTHON/Ai_Amit_Diploma/test.txt\",\"w\")\n",
    "f.write(\"hello\")\n",
    "f.closed\n",
    "\n",
    "f = open(r\"C:/Users/Mgama/PYTHON/Ai_Amit_Diploma/test.txt\",\"r\")\n",
    "print(f.read())\n",
    "f.close()"
   ]
  },
  {
   "cell_type": "code",
   "execution_count": null,
   "id": "7d0530fc",
   "metadata": {},
   "outputs": [],
   "source": [
    "f = open(r\"C:/Users/Mgama/PYTHON/Ai_Amit_Diploma/test.txt\",\"a\")\n",
    "for i in range (30):\n",
    "    f.write(\"\\n i love python\" + str(i))\n",
    "f.close\n",
    "f = open(r\"C:/Users/Mgama/PYTHON/Ai_Amit_Diploma/test.txt\",\"r\")\n",
    "print(f.read())\n",
    "f.close()"
   ]
  },
  {
   "cell_type": "code",
   "execution_count": null,
   "id": "092c9307",
   "metadata": {},
   "outputs": [],
   "source": [
    "def calculate(x, y, operator):\n",
    "    \"\"\"Perform basic arithmetic operations.\"\"\"\n",
    "    if operator == \"+\":\n",
    "        return x + y\n",
    "    elif operator == \"-\":\n",
    "        return x - y\n",
    "    elif operator == \"*\":\n",
    "        return x * y\n",
    "    elif operator == \"/\":\n",
    "        return x / y if y != 0 else \"Error: Division by zero\"\n",
    "\n",
    "print(\"\\n=== Welcome to the Basic Calculator ===\")\n",
    "print(\"Addition (+) | Subtraction (-) | Multiplication (*) | Division (/)\")\n",
    "print(\"Type 'exit' to quit.\\n\")\n",
    "\n",
    "while True:\n",
    "    try:\n",
    "        num1 = float(input(\"Enter the first number: \"))\n",
    "    except ValueError:\n",
    "        print(\"Invalid input. Please enter a numeric value.\")\n",
    "        continue\n",
    "\n",
    "    while True:\n",
    "        choice = input(\"Enter an operation (+, -, *, /): \").strip()\n",
    "        if choice in [\"+\", \"-\", \"*\", \"/\"]:\n",
    "            break\n",
    "        print(\"Invalid operation. Please try again.\")\n",
    "\n",
    "    try:\n",
    "        num2 = float(input(\"Enter the second number: \"))\n",
    "    except ValueError:\n",
    "        print(\"Invalid input. Please enter a numeric value.\")\n",
    "        continue\n",
    "\n",
    "    result = calculate(num1, num2, choice)\n",
    "\n",
    "    if choice == \"/\" and num2 == 0:\n",
    "        print(\"\\nError: Division by zero\\n\")\n",
    "    else:\n",
    "        print(f\"\\nResult: {num1} {choice} {num2} = {calculate(num1, num2, choice)}\\n\")\n",
    "\n",
    "    again = input(\"Do you want to perform another calculation? (yes/no): \").strip().lower()\n",
    "    if again != \"yes\":\n",
    "        print(\"Thank you for using the calculator. Goodbye!\")\n",
    "        break"
   ]
  },
  {
   "cell_type": "code",
   "execution_count": null,
   "id": "c0144e5a",
   "metadata": {},
   "outputs": [],
   "source": [
    "def show_details (*skills):\n",
    "    print (f\"hello mohamed your skills is :\")\n",
    "    for skill in skills:\n",
    "        print(skill)\n",
    "\n",
    "show_details (\"word\" , \"excel\", \"css\" , \"python\")"
   ]
  },
  {
   "cell_type": "code",
   "execution_count": null,
   "id": "2ce8e4af",
   "metadata": {},
   "outputs": [],
   "source": [
    "def show_details (name , *skills):\n",
    "    print (f\"hello {name} your skills is :\")\n",
    "    for skill in skills:\n",
    "        print(skill)\n",
    "\n",
    "show_details (\"Ali\" , \"word\" , \"excel\", \"css\" , \"python\")"
   ]
  },
  {
   "cell_type": "code",
   "execution_count": null,
   "id": "8ce18aec",
   "metadata": {},
   "outputs": [],
   "source": [
    "def say_hello (name , age = \"unknown\" , country=\"unknown\"):\n",
    "    print ( f\"hello {name} , your age is {age}, your country is {country}\")\n",
    "\n",
    "say_hello(\"mohamed\", 35 , \"egypt\")\n",
    "say_hello(\"ali\", 35 )\n",
    "say_hello(\"jimmy\")"
   ]
  },
  {
   "cell_type": "code",
   "execution_count": null,
   "id": "a9d523dd",
   "metadata": {},
   "outputs": [],
   "source": [
    "def factorial (num):\n",
    "    if num == 0:\n",
    "        return 0\n",
    "    if num == 1 :\n",
    "        return 1\n",
    "    return num * factorial(num-1)                  # مضروب الخمسة[5*4*3*2*1]\n",
    "factorial(5)"
   ]
  },
  {
   "cell_type": "code",
   "execution_count": null,
   "id": "f9de1486",
   "metadata": {},
   "outputs": [],
   "source": [
    "def factorial(num):\n",
    "    result = 1\n",
    "    for i in range(2, num + 1):\n",
    "        result *= i\n",
    "    return result\n",
    "\n",
    "print(factorial(5))"
   ]
  },
  {
   "cell_type": "code",
   "execution_count": null,
   "id": "802b95d9",
   "metadata": {},
   "outputs": [],
   "source": [
    "def is_prime(num):\n",
    "    for i in range(2 , num):\n",
    "        if num % 2 == 0 :\n",
    "            return False\n",
    "    return True\n",
    "\n",
    "is_prime(20)\n"
   ]
  },
  {
   "cell_type": "code",
   "execution_count": null,
   "id": "40f020c0",
   "metadata": {},
   "outputs": [],
   "source": [
    "def is_prime(num):\n",
    "    for i in range(2 , num):\n",
    "        if num % 2 == 0 :\n",
    "            return False\n",
    "    return True\n",
    "\n",
    "is_prime(19)"
   ]
  },
  {
   "cell_type": "code",
   "execution_count": null,
   "id": "7527cab4",
   "metadata": {},
   "outputs": [],
   "source": [
    "def dividors (num1, num2):\n",
    "    mn = min(num1 , num2)\n",
    "    common_dividors = []\n",
    "    for i in range(1 , mn+1):\n",
    "        if num1 % i == 0 and num2 % i == 0:\n",
    "            common_dividors.append(i)\n",
    "    return common_dividors\n",
    "dividors(20, 10)"
   ]
  },
  {
   "cell_type": "code",
   "execution_count": null,
   "id": "76a75147",
   "metadata": {},
   "outputs": [],
   "source": [
    "def dividors(num1, num2):  # تعريف دالة للبحث عن القواسم المشتركة بين عددين\n",
    "    mn = min(num1, num2)  # تحديد أصغر عدد بين الاثنين لتقليل نطاق البحث\n",
    "    common_dividors = []  # إنشاء قائمة فارغة لتخزين القواسم المشتركة\n",
    "\n",
    "    for i in range(1, mn+1):  # التكرار من 1 إلى أصغر عدد بين الاثنين\n",
    "        if num1 % i == 0 and num2 % i == 0:  # التحقق مما إذا كان i قاسمًا مشتركًا للعددين\n",
    "            common_dividors.append(i)  # إذا كان القاسم مشتركًا، يتم إضافته إلى القائمة\n",
    "\n",
    "    return common_dividors  # إرجاع القائمة التي تحتوي على القواسم المشتركة\n",
    "\n",
    "print(dividors(20, 10))  # استدعاء الدالة واختبارها بقيم محددة"
   ]
  },
  {
   "cell_type": "code",
   "execution_count": null,
   "id": "b1d071ec",
   "metadata": {},
   "outputs": [],
   "source": [
    "eveen =[]\n",
    "def even_fun(num):\n",
    "    for i in range (num+1):\n",
    "        if i % 2 == 0 :\n",
    "            print(eveen.append(i))\n",
    "    return eveen\n",
    "print(even_fun(10))"
   ]
  },
  {
   "cell_type": "code",
   "execution_count": null,
   "id": "dbd8c2e6",
   "metadata": {},
   "outputs": [],
   "source": [
    "odd =[]\n",
    "def odd_fun(num):\n",
    "    \n",
    "    for i in range (num+1):\n",
    "        if i % 2 == 1 :\n",
    "            print(odd.append(i))\n",
    "    return odd\n",
    "print(odd_fun(10))"
   ]
  },
  {
   "cell_type": "code",
   "execution_count": null,
   "id": "07b4a7d4",
   "metadata": {},
   "outputs": [],
   "source": [
    "str1 = input()\n",
    "str2 = input()\n",
    "\n",
    "longes_str = \"\"\n",
    "for i in range(len(str1)):\n",
    "    for j in range (i , len(str1)):\n",
    "        sub_str = str1[i:j+1]\n",
    "        print(sub_str)\n",
    "        if sub_str in str2:\n",
    "            if len (sub_str) > len(longes_str):\n",
    "\n",
    "                longes_str = sub_str\n",
    "\n",
    "longes_str"
   ]
  },
  {
   "cell_type": "code",
   "execution_count": null,
   "id": "ae42af36",
   "metadata": {},
   "outputs": [],
   "source": [
    "def longest_common_substring(str1, str2):\n",
    "    longest_str = \"\"  \n",
    "    \n",
    "    for i in range(len(str1)):\n",
    "        for j in range(i, len(str1)):\n",
    "            sub_str = str1[i:j+1]  \n",
    "            if sub_str in str2: \n",
    "                if len(sub_str) > len(longest_str):  \n",
    "                    longest_str = sub_str  \n",
    "\n",
    "    return longest_str  \n",
    "\n",
    "\n",
    "str1 = input()\n",
    "str2 = input()\n",
    "result = longest_common_substring(str1, str2)\n",
    "print(f\"The longest str is :\", result)"
   ]
  },
  {
   "cell_type": "code",
   "execution_count": null,
   "id": "36f605af",
   "metadata": {},
   "outputs": [],
   "source": [
    "str1 = input()  # إدخال أول سلسلة نصية من المستخدم\n",
    "str2 = input()  # إدخال ثاني سلسلة نصية من المستخدم\n",
    "\n",
    "longes_str = \"\"  # متغير لتخزين أطول سلسلة مشتركة\n",
    "\n",
    "# حلقة تمر عبر كل حرف في str1 كنقطة بداية\n",
    "for i in range(len(str1)):  \n",
    "    # حلقة أخرى للتمرير على جميع النهايات المحتملة للجزء الفرعي\n",
    "    for j in range(i, len(str1)):  \n",
    "        sub_str = str1[i:j+1]  # استخراج الجزء الفرعي من str1\n",
    "        print(sub_str)  # طباعة الجزء الفرعي لرؤية كل الاحتمالات\n",
    "        \n",
    "        # التحقق مما إذا كان الجزء الفرعي موجودًا في str2\n",
    "        if sub_str in str2:  \n",
    "            # إذا كان طول الجزء الفرعي أكبر من أطول سلسلة مشتركة حتى الآن، نقوم بتحديثها\n",
    "            if len(sub_str) > len(longes_str):  \n",
    "                longes_str = sub_str  \n",
    "\n",
    "longes_str  # طباعة أو إرجاع أطول سلسلة مشتركة"
   ]
  },
  {
   "cell_type": "code",
   "execution_count": 34,
   "id": "caa1c303",
   "metadata": {},
   "outputs": [
    {
     "name": "stdout",
     "output_type": "stream",
     "text": [
      "m\n",
      "mo\n",
      "moh\n",
      "moha\n",
      "moham\n",
      "mohame\n",
      "mohamed\n",
      "o\n",
      "oh\n",
      "oha\n",
      "oham\n",
      "ohame\n",
      "ohamed\n",
      "h\n",
      "ha\n",
      "ham\n",
      "hame\n",
      "hamed\n",
      "a\n",
      "am\n",
      "ame\n",
      "amed\n",
      "m\n",
      "me\n",
      "med\n",
      "e\n",
      "ed\n",
      "d\n",
      "mohamed\n"
     ]
    }
   ],
   "source": [
    "str1 = input()\n",
    "str2 = input()\n",
    "\n",
    "def compare (str1,str2):\n",
    "    long_string = \"\"\n",
    "    for i in range(len(str1)):\n",
    "        for j in range(i,len(str1)):\n",
    "            sub_str=str1[i:j+1]\n",
    "            print(sub_str)\n",
    "            if sub_str in str2:\n",
    "                if len(sub_str)>len(long_string):\n",
    "                    long_string = sub_str\n",
    "    print(long_string)\n",
    "\n",
    "compare(str1,str2)"
   ]
  },
  {
   "cell_type": "code",
   "execution_count": 35,
   "id": "ce121dc9",
   "metadata": {},
   "outputs": [
    {
     "name": "stdout",
     "output_type": "stream",
     "text": [
      "['world', 'hello']\n",
      "world \n",
      "worldhello \n"
     ]
    },
    {
     "data": {
      "text/plain": [
       "['world', 'hello']"
      ]
     },
     "execution_count": 35,
     "metadata": {},
     "output_type": "execute_result"
    }
   ],
   "source": [
    "def fun (s):\n",
    "    lst = s .split(\" \")\n",
    "    new_lst = lst[::-1]\n",
    "    print(new_lst)\n",
    "    new_str = \"\"\n",
    "    for i in new_lst:\n",
    "        new_str += i + \" \"\n",
    "        print(new_str)\n",
    "        new_str = new_str[:-1]\n",
    "    \n",
    "    return new_lst\n",
    "\n",
    "s = \"hello world\"\n",
    "fun(\"hello world\")"
   ]
  },
  {
   "cell_type": "code",
   "execution_count": null,
   "id": "7f1a5cde",
   "metadata": {},
   "outputs": [],
   "source": [
    "def fun(s):\n",
    "    # تقسيم النص إلى قائمة من الكلمات باستخدام المسافة كمحدد\n",
    "    lst = s.split(\" \")\n",
    "    \n",
    "    # عكس ترتيب الكلمات في القائمة\n",
    "    new_lst = lst[::-1]\n",
    "    \n",
    "    # طباعة القائمة بعد عكسها (للتأكد من النتيجة)\n",
    "    print(new_lst)\n",
    "\n",
    "    # إنشاء متغير لتخزين النص الجديد بعد التعديلات\n",
    "    new_str = \"\"\n",
    "\n",
    "    # تكرار عبر القائمة المعكوسة لبناء النص الجديد تدريجياً\n",
    "    for i in new_lst:\n",
    "        new_str += i + \" \"  # إضافة الكلمة الحالية متبوعة بمسافة\n",
    "        print(new_str)  # طباعة النص بعد كل إضافة جديدة\n",
    "        new_str = new_str[:-1]  # إزالة المسافة الزائدة في نهاية النص\n",
    "    \n",
    "    # إعادة القائمة المعكوسة كقيمة راجعة من الدالة\n",
    "    return new_lst\n",
    "\n",
    "# تجربة الدالة باستخدام النص \"hello world\"\n",
    "s = \"hello world\"\n",
    "fun(s)"
   ]
  },
  {
   "cell_type": "code",
   "execution_count": 36,
   "id": "014f51af",
   "metadata": {},
   "outputs": [
    {
     "name": "stdout",
     "output_type": "stream",
     "text": [
      "['world', 'hello']\n",
      "world hello\n"
     ]
    },
    {
     "data": {
      "text/plain": [
       "['world', 'hello']"
      ]
     },
     "execution_count": 36,
     "metadata": {},
     "output_type": "execute_result"
    }
   ],
   "source": [
    "def fun(s):\n",
    "    # تقسيم النص إلى قائمة من الكلمات\n",
    "    lst = s.split(\" \")\n",
    "    \n",
    "    # عكس ترتيب الكلمات\n",
    "    new_lst = lst[::-1]\n",
    "    \n",
    "    # طباعة القائمة المعكوسة\n",
    "    print(new_lst)\n",
    "\n",
    "    # استخدام join لإنشاء النص الجديد من القائمة المعكوسة\n",
    "    new_str = \" \".join(new_lst)\n",
    "    \n",
    "    print(new_str)  # طباعة النص النهائي بعد إعادة ترتيب الكلمات\n",
    "    \n",
    "    return new_lst\n",
    "\n",
    "# تجربة الدالة\n",
    "s = \"hello world\"\n",
    "fun(s)"
   ]
  },
  {
   "cell_type": "code",
   "execution_count": 41,
   "id": "2e2c4ccc",
   "metadata": {},
   "outputs": [
    {
     "name": "stdout",
     "output_type": "stream",
     "text": [
      ";J)6+jj3\n"
     ]
    }
   ],
   "source": [
    "import random\n",
    "\n",
    "def generate_password(length):\n",
    "    characters = \"abcdefghijkaldjfn;ashf;kasdhnf;ljasnSLDJF;SJHG;KWJSHGKUWHRUOTHSJCVN.KJCJBV1324654897!@#$%^&*()_+\"\n",
    "    password = \"\"\n",
    "\n",
    "    for _ in range(length):\n",
    "        password += random .choice(characters)\n",
    "    \n",
    "    return password\n",
    "\n",
    "generate_length = 8\n",
    "random_password = generate_password(generate_length)\n",
    "print(random_password)"
   ]
  }
 ],
 "metadata": {
  "kernelspec": {
   "display_name": "venv",
   "language": "python",
   "name": "python3"
  },
  "language_info": {
   "codemirror_mode": {
    "name": "ipython",
    "version": 3
   },
   "file_extension": ".py",
   "mimetype": "text/x-python",
   "name": "python",
   "nbconvert_exporter": "python",
   "pygments_lexer": "ipython3",
   "version": "3.13.3"
  }
 },
 "nbformat": 4,
 "nbformat_minor": 5
}
