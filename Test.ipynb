{
 "cells": [
  {
   "cell_type": "markdown",
   "id": "8b8c65ad",
   "metadata": {},
   "source": [
    "---- This is Email validation test------"
   ]
  },
  {
   "cell_type": "code",
   "execution_count": 9,
   "id": "96d23398",
   "metadata": {},
   "outputs": [
    {
     "name": "stdout",
     "output_type": "stream",
     "text": [
      "Valid email\n",
      "Username: m.gamal\n",
      "Domain: outlook\n",
      "Domain Type: Commercial Domain\n"
     ]
    }
   ],
   "source": [
    "email = input(\"Enter your email: \")\n",
    "\n",
    "at_valid = email.count(\"@\") == 1\n",
    "dot_after_at = \".\" in email[email.index(\"@\"):]\n",
    "valid = all([at_valid, dot_after_at])\n",
    "\n",
    "# طباعة النتيجة بدون استخدام if\n",
    "result = [\"Invalid email\", \"Valid email\"][valid]\n",
    "print(result)\n",
    "\n",
    "# استخراج اسم المستخدم\n",
    "username = email.split(\"@\")[0]\n",
    "print(\"Username:\", username)\n",
    "\n",
    "# استخراج الدومين\n",
    "domain_part = email.split(\"@\")[1]\n",
    "domain = domain_part[:domain_part.rfind(\".\")]\n",
    "print(\"Domain:\", domain)\n",
    "\n",
    "# تحديد نوع الدومين بدون if\n",
    "endings = {\n",
    "    \".com\": \"Commercial Domain\",\n",
    "    \".edu\": \"Educational Domain\"\n",
    "}\n",
    "domain_type = endings.get(email[-4:], \"Other Domain\")\n",
    "print(\"Domain Type:\", domain_type)\n"
   ]
  },
  {
   "cell_type": "code",
   "execution_count": 10,
   "id": "3ba48778",
   "metadata": {},
   "outputs": [
    {
     "name": "stdout",
     "output_type": "stream",
     "text": [
      "valid Email\n",
      "user name : m.gamal\n",
      " Domain : outlook.com\n",
      "domain is . Commercial Domain\n"
     ]
    }
   ],
   "source": [
    "#Email input\n",
    "mail= input(\"Enter your Email : \").lower()\n",
    "# Email validation\n",
    "valid = email.count (\"@\") == 1 ,  email.count (\".\")==1\n",
    "print (\"valid Email\")\n",
    "# split User name\n",
    "user_name = email.split(\"@\")[0]\n",
    "# Split Domain\n",
    "domain = email.split(\"@\")[1]\n",
    "print (\"user name :\", user_name)\n",
    "print(\" Domain :\", domain)\n",
    "#  Ending Check .com or .edu or other\n",
    "ending = domain.split(\".\")[-1]\n",
    "if ending == \"com\":\n",
    "    print (\"domain is . Commercial Domain\")\n",
    "elif ending == \"edu\":\n",
    "    print (\"domain is . Educational Domain\")\n",
    "else :\n",
    "    print (\"other Domain\")"
   ]
  },
  {
   "cell_type": "code",
   "execution_count": 13,
   "id": "cbc4587d",
   "metadata": {},
   "outputs": [
    {
     "name": "stdout",
     "output_type": "stream",
     "text": [
      "Extract Username: mohamed\n",
      "ExtractDomain: com\n",
      "Commercial Domain\n"
     ]
    }
   ],
   "source": [
    "x = input(\"Enter your Email : \").lower()\n",
    "y = x.split('@')\n",
    "z = x.split('.')\n",
    "print(\"Extract Username:\" , y[0])\n",
    "print(\"ExtractDomain:\" , z[1])\n",
    "print((\"Educational Domain\", \"Commercial Domain\", \"Other Domain\")[(z[1] == \"edu\") + (z[1]==\"com\")])"
   ]
  },
  {
   "cell_type": "code",
   "execution_count": null,
   "id": "d952576b",
   "metadata": {},
   "outputs": [],
   "source": []
  }
 ],
 "metadata": {
  "kernelspec": {
   "display_name": "venv",
   "language": "python",
   "name": "python3"
  },
  "language_info": {
   "codemirror_mode": {
    "name": "ipython",
    "version": 3
   },
   "file_extension": ".py",
   "mimetype": "text/x-python",
   "name": "python",
   "nbconvert_exporter": "python",
   "pygments_lexer": "ipython3",
   "version": "3.13.3"
  }
 },
 "nbformat": 4,
 "nbformat_minor": 5
}
