{
 "cells": [
  {
   "cell_type": "code",
   "execution_count": 2,
   "id": "bd15f222",
   "metadata": {},
   "outputs": [
    {
     "name": "stdout",
     "output_type": "stream",
     "text": [
      "My name is : Mohamed gamal\n",
      "My age is: 35\n",
      "My grade : 3.99\n",
      "My gender : male\n"
     ]
    }
   ],
   "source": [
    "class STUDENT:\n",
    "    def __init__(self):\n",
    "        self.student_name = \"Mohamed gamal\"\n",
    "        self.Student_age = 35\n",
    "        self.student_grade = 3.99\n",
    "        self.student_gender = \"male\"\n",
    "\n",
    "    def student_info(self):\n",
    "        print(f\"My name is : {self.student_name}\")\n",
    "        print(f\"My age is: {self.Student_age}\") \n",
    "        print(f\"My grade : {self.student_grade}\")\n",
    "        print(f\"My gender : {self.student_gender}\")\n",
    "\n",
    "s1 = STUDENT()\n",
    "s1.student_info()"
   ]
  },
  {
   "cell_type": "code",
   "execution_count": null,
   "id": "25005184",
   "metadata": {},
   "outputs": [
    {
     "name": "stdout",
     "output_type": "stream",
     "text": [
      "Addition of 10 and 5 is: 15\n",
      "Subtraction of 10 and 5 is: 5\n"
     ]
    }
   ],
   "source": [
    "\n",
    "#class Calculator take two numbers and perform addition and subtraction\n",
    "# and print the results\n",
    "class Calculator:\n",
    "    def __init__(self, num1, num2):\n",
    "        self.num1 = num1\n",
    "        self.num2 = num2\n",
    "    def add(self):\n",
    "        return self.num1 + self.num2\n",
    "    def subtract(self):\n",
    "        return self.num1 - self.num2\n",
    "\n",
    "\n",
    "\n",
    "num1 = int(input(\"Enter first number: \"))   # Input first numbers from the user \n",
    "num2 = int(input(\"Enter second number: \"))  # Input second numbers from the user \n",
    "\n",
    "c1 = Calculator(num1, num2)    # inherits the class Calculator\n",
    "c1.add()                        # performs addition\n",
    "c2 = Calculator(num1, num2)\n",
    "c2.subtract()\n",
    "print (f\"Addition of {num1} and {num2} is: {c1.add()}\")\n",
    "print (f\"Subtraction of {num1} and {num2} is: {c2.subtract()}\")"
   ]
  },
  {
   "cell_type": "code",
   "execution_count": 1,
   "id": "f4d9533c",
   "metadata": {},
   "outputs": [
    {
     "name": "stdout",
     "output_type": "stream",
     "text": [
      "I can fly\n"
     ]
    }
   ],
   "source": [
    "from abc import ABC, abstractmethod\n",
    "\n",
    "class Animal (ABC):\n",
    "    @abstractmethod\n",
    "    def move(self):\n",
    "        pass\n",
    "\n",
    "class Bird(Animal):\n",
    "    def move(self):\n",
    "        print(\"I can fly\")\n",
    "\n",
    "class Cat(Animal):\n",
    "    def move(self):\n",
    "        print(\"I can run\")\n",
    "\n",
    "a = Bird()\n",
    "a.move()"
   ]
  },
  {
   "cell_type": "code",
   "execution_count": 2,
   "id": "4c27d694",
   "metadata": {},
   "outputs": [
    {
     "name": "stdout",
     "output_type": "stream",
     "text": [
      "A is doing this\n"
     ]
    }
   ],
   "source": [
    "class A():\n",
    "    def do_this(self):\n",
    "        print(\"A is doing this\")\n",
    "\n",
    "class B(A):\n",
    "    pass\n",
    "\n",
    "class C():\n",
    "    def do_this(self):\n",
    "        print(\"C is doing this\")\n",
    "\n",
    "class D(B, C):\n",
    "    pass\n",
    "\n",
    "d = D()\n",
    "x = d.do_this()"
   ]
  },
  {
   "cell_type": "code",
   "execution_count": 6,
   "id": "398c9abe",
   "metadata": {},
   "outputs": [
    {
     "name": "stdout",
     "output_type": "stream",
     "text": [
      "Generated password: vq(DP4WXdp\n"
     ]
    }
   ],
   "source": [
    "import random\n",
    "class password_generator:\n",
    "    def __init__(self, length):\n",
    "        self.length = length\n",
    "\n",
    "    def generate(self):\n",
    "        characters = \"abcdefghijklmnopqrstuvwxyzABCDEFGHIJKLMNOPQRSTUVWXYZ0123456789!@#$%^&*()\"\n",
    "        password = \"\"\n",
    "\n",
    "        for _ in range(self.length):\n",
    "            password += random.choice(characters)\n",
    "        return password\n",
    "    \n",
    "if __name__ == \"__main__\":\n",
    "    p1 = password_generator(10)  # Create an instance with desired length\n",
    "    p1.generate()  # Generate the password\n",
    "    print(f\"Generated password: {p1.generate()}\")  # Print the generated password\n",
    "\n",
    "\n",
    "\n"
   ]
  },
  {
   "cell_type": "code",
   "execution_count": 7,
   "id": "86a06c6d",
   "metadata": {},
   "outputs": [
    {
     "name": "stdout",
     "output_type": "stream",
     "text": [
      "Welcome: 1\n",
      "Ali: 4\n",
      "Hi: 2\n",
      "No: 3\n"
     ]
    }
   ],
   "source": [
    "class WordFrequencyCounter:\n",
    "\n",
    "    def __init__(self, words):\n",
    "    \n",
    "        self.words = words\n",
    "\n",
    "    def count_frequencies(self):\n",
    "    \n",
    "        freq_dict = {}\n",
    "        for word in self.words:\n",
    "            if word in freq_dict:\n",
    "                freq_dict[word] += 1\n",
    "            else:\n",
    "                freq_dict[word] = 1\n",
    "        return freq_dict\n",
    "if __name__ == \"__main__\":\n",
    "    \n",
    "    words = [\"Welcome\", \"Ali\", \"Hi\", \"Ali\", \"No\", \"Hi\", \"No\", \"Ali\", \"No\", \"Ali\"]\n",
    "    \n",
    "    counter = WordFrequencyCounter(words)\n",
    "    result = counter.count_frequencies()\n",
    "\n",
    "    for word, count in result.items():\n",
    "        print(f\"{word}: {count}\")"
   ]
  },
  {
   "cell_type": "code",
   "execution_count": null,
   "id": "17006fb9",
   "metadata": {},
   "outputs": [],
   "source": [
    "def count_word_frequencies(words):\n",
    "    freq_dict = {}\n",
    "    for word in words:\n",
    "        if word in freq_dict:\n",
    "            freq_dict[word] += 1\n",
    "        else:\n",
    "            freq_dict[word] = 1\n",
    "    return freq_dict\n",
    "\n",
    "words = [\"Welcome\", \"Ali\", \"Hi\", \"Ali\", \"No\", \"Hi\", \"No\", \"Ali\", \"No\", \"Ali\"]\n",
    "unique_words = set(words)\n",
    "counts = {word: words.count(word) for word in unique_words}\n",
    "for word in unique_words:\n",
    "    print(f\"{word}: {counts[word]}\")\n",
    "\n",
    "\n"
   ]
  },
  {
   "cell_type": "code",
   "execution_count": null,
   "id": "0fa69cdf",
   "metadata": {},
   "outputs": [],
   "source": [
    "\n",
    "def count_word_frequencies(words):\n",
    "\n",
    "    freq_dict = {}\n",
    "    for word in words:\n",
    "        freq_dict[word] = freq_dict.get(word, 0) + 1\n",
    "    return freq_dict\n",
    "\n",
    "words = [\"Welcome\", \"Ali\", \"Hi\", \"Ali\", \"No\", \"Hi\", \"No\", \"Ali\", \"No\", \"Ali\"]\n",
    "\n",
    "counts = count_word_frequencies(words)\n",
    "\n",
    "for word in sorted(counts):\n",
    "    print(f\"{word}: {counts[word]}\")"
   ]
  },
  {
   "cell_type": "code",
   "execution_count": null,
   "id": "acd70680",
   "metadata": {},
   "outputs": [],
   "source": [
    "class WordFrequencies:\n",
    "    def __init__(self, words):\n",
    "        self.words = words\n",
    "\n",
    "    def count_word_frequencies(self):\n",
    "        freq_dict = {}\n",
    "        for word in self.words:\n",
    "            freq_dict[word] = freq_dict.get(word, 0) + 1\n",
    "        return freq_dict\n",
    "\n",
    "    def display_frequencies(self):\n",
    "        counts = self.count_word_frequencies()\n",
    "        for word in sorted(counts):\n",
    "            print(f\"{word}: {counts[word]}\")\n",
    "\n",
    "if __name__ == \"__main__\":\n",
    "    words = [\"Welcome\", \"Ali\", \"Hi\", \"Ali\", \"No\", \"Hi\", \"No\", \"Ali\", \"No\", \"Ali\"]\n",
    "    wf = WordFrequencies(words)\n",
    "    wf.display_frequencies()\n"
   ]
  },
  {
   "cell_type": "code",
   "execution_count": null,
   "id": "535f8398",
   "metadata": {},
   "outputs": [],
   "source": [
    "import random\n",
    "\n",
    "# Predefined responses\n",
    "responses = {\n",
    "    \"hello\": [\"Hello!\", \"Hi there!\", \"Greetings!\"],\n",
    "    \"how are you\": [\"I'm doing well, thank you!\", \"I'm fine, how about you?\"],\n",
    "    \"goodbye\": [\"Goodbye!\", \"See you later!\", \"Farewell!\"],\n",
    "    \"default\": [\"I'm sorry, I didn't understand.\", \"Could you please rephrase that?\"]\n",
    "}\n",
    "\n",
    "# Function to get a response based on user input\n",
    "def get_response(user_input):\n",
    "    for key in responses:\n",
    "        if key in user_input:\n",
    "            return random.choice(responses[key])\n",
    "    \n",
    "    return random.choice(responses[\"default\"])\n",
    "\n",
    "# Chatbot function\n",
    "def chatbot():\n",
    "    print(\"Chatbot: Hi! How can I assist you today?\")\n",
    "    \n",
    "    while True:\n",
    "        user_input = input(\"User: \").lower()\n",
    "        response = get_response(user_input)\n",
    "        print(\"Chatbot:\", response)\n",
    "        \n",
    "        if user_input == \"goodbye\":\n",
    "            break\n",
    "\n",
    "# Run the chatbot\n",
    "chatbot()"
   ]
  },
  {
   "cell_type": "code",
   "execution_count": 12,
   "id": "a9894ba4",
   "metadata": {},
   "outputs": [
    {
     "name": "stdout",
     "output_type": "stream",
     "text": [
      "Chatbot: Hello! Type 'goodbye' to exit.\n",
      "Chatbot: Hi there!\n",
      "Chatbot: Could you repeat it?\n",
      "Chatbot: I'm good, thanks!\n",
      "Chatbot: Could you repeat it?\n",
      "Chatbot: Goodbye!\n"
     ]
    }
   ],
   "source": [
    "import random\n",
    "\n",
    "class ChatBot:\n",
    "    def __init__(self):\n",
    "        self.responses = {\n",
    "            \"hello\": [\"Hello!\", \"Hi there!\", \"Greetings!\"],\n",
    "            \"how are you\": [\"I'm good, thanks!\", \"Doing well, and you?\"],\n",
    "            \"goodbye\": [\"Goodbye!\", \"See you!\", \"Take care!\"],\n",
    "            \"default\": [\"I didn't get that.\", \"Could you repeat it?\"]\n",
    "        }\n",
    "\n",
    "    def get_response(self, user_input):\n",
    "        user_input = user_input.lower()\n",
    "        for key in self.responses:\n",
    "            if key in user_input:\n",
    "                return random.choice(self.responses[key])\n",
    "        return random.choice(self.responses[\"default\"])\n",
    "\n",
    "    def start(self):\n",
    "        print(\"Chatbot: Hello! Type 'goodbye' to exit.\")\n",
    "        while True:\n",
    "            user_input = input(\"You: \")\n",
    "            response = self.get_response(user_input)\n",
    "            print(\"Chatbot:\", response)\n",
    "            if \"goodbye\" in user_input.lower():\n",
    "                break\n",
    "\n",
    "\n",
    "bot = ChatBot()\n",
    "bot.start()\n"
   ]
  },
  {
   "cell_type": "code",
   "execution_count": 3,
   "id": "a140bd01",
   "metadata": {},
   "outputs": [
    {
     "name": "stdout",
     "output_type": "stream",
     "text": [
      "[1 2 3]\n",
      "[4 5 6]\n"
     ]
    }
   ],
   "source": [
    "import numpy as np\n",
    "\n",
    "# Example usage of numpy\n",
    "v1 = np.array([1, 2, 3])\n",
    "v2 = np.array([4, 5, 6])\n",
    "print(v1)\n",
    "print(v2)\n"
   ]
  },
  {
   "cell_type": "code",
   "execution_count": null,
   "id": "2182adc2",
   "metadata": {},
   "outputs": [
    {
     "name": "stdout",
     "output_type": "stream",
     "text": [
      "<class 'list'>\n",
      "<class 'numpy.ndarray'>\n"
     ]
    }
   ],
   "source": [
    "list_1 = [1, 2, 3] \n",
    "print(type(list_1)) # check type of list_1\n",
    "# Convert list_1 to a numpy array\n",
    "x = np.array(list_1) \n",
    "print(type(x))"
   ]
  },
  {
   "cell_type": "code",
   "execution_count": 6,
   "id": "cc6c2137",
   "metadata": {},
   "outputs": [
    {
     "name": "stdout",
     "output_type": "stream",
     "text": [
      "[ 4 10 18]\n"
     ]
    }
   ],
   "source": [
    "v1 = np.array([1, 2, 3])\n",
    "v2 = np.array([4, 5, 6])\n",
    "w= v1 * v2  # Add two numpy arrays\n",
    "print(w)  # Print the result of the addition\n"
   ]
  },
  {
   "cell_type": "code",
   "execution_count": 1,
   "id": "f6bc6a9f",
   "metadata": {},
   "outputs": [],
   "source": [
    "import numpy as np"
   ]
  },
  {
   "cell_type": "code",
   "execution_count": 7,
   "id": "4688e7c4",
   "metadata": {},
   "outputs": [
    {
     "name": "stdout",
     "output_type": "stream",
     "text": [
      "<class 'numpy.ndarray'>\n",
      "D 0\n",
      "5\n"
     ]
    }
   ],
   "source": [
    "s= np.array(5)  # Create a numpy array with a single element\n",
    "print (type(s))  # Check the type of the numpy array\n",
    "print(\"D\", s.ndim)  # Print the number of dimensions\n",
    "print(s)  # Print the numpy array"
   ]
  },
  {
   "cell_type": "code",
   "execution_count": 9,
   "id": "2c6b8c25",
   "metadata": {},
   "outputs": [
    {
     "name": "stdout",
     "output_type": "stream",
     "text": [
      "<class 'numpy.ndarray'>\n",
      "(3,)\n"
     ]
    },
    {
     "data": {
      "text/plain": [
       "array([1, 2, 3])"
      ]
     },
     "execution_count": 9,
     "metadata": {},
     "output_type": "execute_result"
    }
   ],
   "source": [
    "v= np.array([1, 2, 3])\n",
    "print(type(v))  # Check the type of the numpy array\n",
    "print(v.shape)  # Print the shape of the numpy array\n",
    "v"
   ]
  },
  {
   "cell_type": "code",
   "execution_count": 11,
   "id": "a9b93473",
   "metadata": {},
   "outputs": [
    {
     "name": "stdout",
     "output_type": "stream",
     "text": [
      "<class 'numpy.ndarray'>\n",
      "2 D\n",
      "(2, 3)\n",
      "[[1 2 3]\n",
      " [4 5 6]]\n"
     ]
    }
   ],
   "source": [
    "m= np.array([[1, 2, 3],\n",
    "            [4, 5, 6]\n",
    "            ])\n",
    "print(type(m))  # Check the type of the numpy array\n",
    "print(m.ndim , \"D\")  # Print the number of dimensions\n",
    "print(m.shape)  # Print the shape of the numpy array\n",
    "print(m)  # Print the numpy array"
   ]
  },
  {
   "cell_type": "code",
   "execution_count": 12,
   "id": "d1a16747",
   "metadata": {},
   "outputs": [
    {
     "name": "stdout",
     "output_type": "stream",
     "text": [
      "[[1 2]\n",
      " [3 4]\n",
      " [5 6]]\n",
      "<class 'numpy.ndarray'>\n"
     ]
    }
   ],
   "source": [
    "vec_1 = np.array([1, 2, 3, 4 ,5 , 6])  \n",
    "matrix_1 = vec_1.reshape(3,2)  # Reshape the vector into a 2x3 matrix\n",
    "print(matrix_1)  # Print the reshaped matrix\n",
    "print(type(matrix_1))  # Check the type of the reshaped matrix"
   ]
  },
  {
   "cell_type": "code",
   "execution_count": 17,
   "id": "9bdfd517",
   "metadata": {},
   "outputs": [
    {
     "name": "stdout",
     "output_type": "stream",
     "text": [
      "[[1]\n",
      " [2]\n",
      " [3]\n",
      " [4]\n",
      " [5]]\n"
     ]
    }
   ],
   "source": [
    "vec_2 = np.array([1, 2, 3, 4 ,5 ])\n",
    "matrix_3 = vec_2.reshape(vec_2.shape[0],1)  \n",
    "print(matrix_3)  "
   ]
  },
  {
   "cell_type": "code",
   "execution_count": 18,
   "id": "45ef9ab8",
   "metadata": {},
   "outputs": [
    {
     "name": "stdout",
     "output_type": "stream",
     "text": [
      "[[1]\n",
      " [2]\n",
      " [3]\n",
      " [4]\n",
      " [5]]\n"
     ]
    }
   ],
   "source": [
    "vec_2 = np.array([1, 2, 3, 4 ,5 ])\n",
    "#matrix_3 = vec_2.reshape(vec_2.shape[0],1)  \n",
    "matrix_4 = vec_2[:, None]  # Reshape the vector into a column vector\n",
    "print(matrix_4) "
   ]
  },
  {
   "cell_type": "code",
   "execution_count": 19,
   "id": "ef21b73c",
   "metadata": {},
   "outputs": [
    {
     "name": "stdout",
     "output_type": "stream",
     "text": [
      "int64\n"
     ]
    }
   ],
   "source": [
    "m_1 = np.array([[1, 2, 3],\n",
    "                [4, 5, 6],\n",
    "                [7,8,9]\n",
    "                ])\n",
    "\n",
    "print(m_1.dtype)  # Check the type of the numpy array"
   ]
  },
  {
   "cell_type": "code",
   "execution_count": 20,
   "id": "0d04033f",
   "metadata": {},
   "outputs": [
    {
     "name": "stdout",
     "output_type": "stream",
     "text": [
      "int64\n"
     ]
    }
   ],
   "source": [
    "m_1 = np.array([[1, True, 3],\n",
    "                [4, 5, 6],\n",
    "                [7,8,9]\n",
    "                ])\n",
    "\n",
    "print(m_1.dtype)  # Check the type of the numpy array"
   ]
  },
  {
   "cell_type": "code",
   "execution_count": 27,
   "id": "6ea04938",
   "metadata": {},
   "outputs": [
    {
     "name": "stdout",
     "output_type": "stream",
     "text": [
      "<U21\n",
      "[['1' 'True' 'Mohamed Gamal']\n",
      " ['4' '5' '6']\n",
      " ['7' '8' '9']]\n"
     ]
    }
   ],
   "source": [
    "class student:\n",
    "    def __init__(self, name):\n",
    "        self.name = name\n",
    "\n",
    "s = student(\"Mohamed Gamal\")\n",
    "m_1 = np.array([[1, True, s.name],\n",
    "                [4, 5, 6],\n",
    "                [7,8,9]\n",
    "                ])\n",
    "\n",
    "print(m_1.dtype) \n",
    "print(m_1)  # Print the numpy array with mixed data types\n"
   ]
  },
  {
   "cell_type": "code",
   "execution_count": null,
   "id": "857b06d8",
   "metadata": {},
   "outputs": [
    {
     "data": {
      "text/plain": [
       "np.int64(6)"
      ]
     },
     "execution_count": 30,
     "metadata": {},
     "output_type": "execute_result"
    }
   ],
   "source": [
    "m = np.array([[1, 2, 3],\n",
    "        [4, 5, 6],\n",
    "        [7, 8, 9],\n",
    "        [0,0,0]\n",
    "        ])  # indexing example [1 ,2 , 3] = index 0 \n",
    "\n",
    "m[1,2]"
   ]
  },
  {
   "cell_type": "code",
   "execution_count": 31,
   "id": "9222607e",
   "metadata": {},
   "outputs": [
    {
     "data": {
      "text/plain": [
       "np.int64(5)"
      ]
     },
     "execution_count": 31,
     "metadata": {},
     "output_type": "execute_result"
    }
   ],
   "source": [
    "m = np.array([[1, 2, 3],\n",
    "        [4, 5, 6],\n",
    "        [7, 8, 9],\n",
    "        [0,0,0]\n",
    "        ])  # indexing example [1 ,2 , 3] = index 0 \n",
    "\n",
    "m[1,-2]"
   ]
  },
  {
   "cell_type": "code",
   "execution_count": 33,
   "id": "27800987",
   "metadata": {},
   "outputs": [
    {
     "data": {
      "text/plain": [
       "array([5, 1, 2, 3])"
      ]
     },
     "execution_count": 33,
     "metadata": {},
     "output_type": "execute_result"
    }
   ],
   "source": [
    "v_3 = np.array([3,2,5,1,2,3,0])\n",
    "v_3[2:6]  # Slicing the array to get elements from index 2 to 4"
   ]
  },
  {
   "cell_type": "code",
   "execution_count": 34,
   "id": "27d6bbef",
   "metadata": {},
   "outputs": [
    {
     "data": {
      "text/plain": [
       "array([[4, 5],\n",
       "       [7, 8]])"
      ]
     },
     "execution_count": 34,
     "metadata": {},
     "output_type": "execute_result"
    }
   ],
   "source": [
    "m = np.array([[1, 2, 3],\n",
    "        [4, 5, 6],\n",
    "        [7, 8, 9],\n",
    "        [0,0,0]\n",
    "        ])\n",
    "\n",
    "m[1:3 , 0:2]  # Slicing the array to get rows 1 to 2 and columns 0 to 1"
   ]
  },
  {
   "cell_type": "code",
   "execution_count": 35,
   "id": "6f9c643e",
   "metadata": {},
   "outputs": [
    {
     "data": {
      "text/plain": [
       "array([[4, 5],\n",
       "       [7, 8]])"
      ]
     },
     "execution_count": 35,
     "metadata": {},
     "output_type": "execute_result"
    }
   ],
   "source": [
    "m = np.array([[1, 2, 3],\n",
    "        [4, 5, 6],\n",
    "        [7, 8, 9],\n",
    "        [0,0,0]\n",
    "        ])\n",
    "\n",
    "m[-3:-1 , -3:-1]  # Slicing the array to get rows 1 to 2 and columns 0 to 1"
   ]
  },
  {
   "cell_type": "code",
   "execution_count": 36,
   "id": "68370b9d",
   "metadata": {},
   "outputs": [
    {
     "name": "stdout",
     "output_type": "stream",
     "text": [
      "[[1 4 7 0]\n",
      " [2 5 8 0]\n",
      " [3 6 9 0]]\n"
     ]
    }
   ],
   "source": [
    "m = np.array([[1, 2, 3],\n",
    "        [4, 5, 6],\n",
    "        [7, 8, 9],\n",
    "        [0,0,0]\n",
    "        ])\n",
    "\n",
    "mat_t = m.T  # Transpose the matrix\n",
    "print(mat_t)  # Print the transposed matrix"
   ]
  },
  {
   "cell_type": "code",
   "execution_count": 38,
   "id": "ef5640d3",
   "metadata": {},
   "outputs": [
    {
     "data": {
      "text/plain": [
       "array([[0., 0., 0., 0.],\n",
       "       [0., 0., 0., 0.],\n",
       "       [0., 0., 0., 0.]])"
      ]
     },
     "execution_count": 38,
     "metadata": {},
     "output_type": "execute_result"
    }
   ],
   "source": [
    "mat = np.zeros((3, 4))  # Create a 2x3 matrix filled with zeros\n",
    "mat"
   ]
  },
  {
   "cell_type": "code",
   "execution_count": 39,
   "id": "c61c0c2e",
   "metadata": {},
   "outputs": [
    {
     "data": {
      "text/plain": [
       "array([[1., 1., 1., 1.],\n",
       "       [1., 1., 1., 1.],\n",
       "       [1., 1., 1., 1.]])"
      ]
     },
     "execution_count": 39,
     "metadata": {},
     "output_type": "execute_result"
    }
   ],
   "source": [
    "mat = np.ones((3, 4))  # Create a 2x3 matrix filled with zeros\n",
    "mat"
   ]
  },
  {
   "cell_type": "code",
   "execution_count": 41,
   "id": "7900c577",
   "metadata": {},
   "outputs": [
    {
     "name": "stdout",
     "output_type": "stream",
     "text": [
      "[[5 5 5 5]\n",
      " [5 5 5 5]\n",
      " [5 5 5 5]]\n"
     ]
    }
   ],
   "source": [
    "mat = np.full((3, 4), 5)  # Create a 3*4 matrix filled with fives\n",
    "print(mat)  # Print the matrix filled with fives"
   ]
  },
  {
   "cell_type": "code",
   "execution_count": 44,
   "id": "129603bd",
   "metadata": {},
   "outputs": [
    {
     "name": "stdout",
     "output_type": "stream",
     "text": [
      "[[2.5e-323 2.5e-323 2.5e-323 2.5e-323]\n",
      " [2.5e-323 2.5e-323 2.5e-323 2.5e-323]\n",
      " [2.5e-323 2.5e-323 2.5e-323 2.5e-323]]\n"
     ]
    }
   ],
   "source": [
    "mat = np.empty((3, 4))  # Create an empty matrix with shape 3x4\n",
    "print(mat)  # Print the empty matrix"
   ]
  },
  {
   "cell_type": "code",
   "execution_count": 47,
   "id": "3b3c5be9",
   "metadata": {},
   "outputs": [
    {
     "name": "stdout",
     "output_type": "stream",
     "text": [
      "[  0  30  60  90 120 150 180 210 240 270 300 330 360]\n"
     ]
    }
   ],
   "source": [
    "angles = np.arange(0,361,30)  # Create a numpy array with angles\n",
    "print(angles)  # Print the numpy array with angles"
   ]
  },
  {
   "cell_type": "code",
   "execution_count": 51,
   "id": "e2b8be63",
   "metadata": {},
   "outputs": [
    {
     "name": "stdout",
     "output_type": "stream",
     "text": [
      "[ 0.          1.11111111  2.22222222  3.33333333  4.44444444  5.55555556\n",
      "  6.66666667  7.77777778  8.88888889 10.        ]\n"
     ]
    }
   ],
   "source": [
    "vec = np.linspace(0, 10, num = 10)  # Create a numpy array with evenly spaced values\n",
    "print(vec)  # Print the numpy array with evenly spaced values"
   ]
  },
  {
   "cell_type": "code",
   "execution_count": 53,
   "id": "b651ad77",
   "metadata": {},
   "outputs": [
    {
     "name": "stdout",
     "output_type": "stream",
     "text": [
      "[[1. 0. 0.]\n",
      " [0. 1. 0.]\n",
      " [0. 0. 1.]]\n"
     ]
    }
   ],
   "source": [
    "iden = np. identity(3,)      # Create a 3x3 identity matrix\n",
    "print(iden)  # Print the identity matrix"
   ]
  },
  {
   "cell_type": "code",
   "execution_count": 57,
   "id": "306b10c0",
   "metadata": {},
   "outputs": [
    {
     "name": "stdout",
     "output_type": "stream",
     "text": [
      "[[ 0.          0.41666667  0.83333333  1.25        1.66666667]\n",
      " [ 2.08333333  2.5         2.91666667  3.33333333  3.75      ]\n",
      " [ 4.16666667  4.58333333  5.          5.41666667  5.83333333]\n",
      " [ 6.25        6.66666667  7.08333333  7.5         7.91666667]\n",
      " [ 8.33333333  8.75        9.16666667  9.58333333 10.        ]]\n"
     ]
    }
   ],
   "source": [
    "vec = np.linspace(0, 10, num = 25)  # Create a numpy array with evenly spaced values\n",
    "mat = vec.reshape(5, 5)  # Reshape the vector into a 5x5 matrix\n",
    "print(mat)  # Print the numpy array with evenly spaced values"
   ]
  },
  {
   "cell_type": "code",
   "execution_count": 60,
   "id": "96986e93",
   "metadata": {},
   "outputs": [
    {
     "name": "stdout",
     "output_type": "stream",
     "text": [
      "[[0.79186594 0.65402678 0.44168126 0.31160391]\n",
      " [0.04822086 0.21036576 0.6148988  0.78342293]\n",
      " [0.57749712 0.34201432 0.61421345 0.98859533]]\n"
     ]
    }
   ],
   "source": [
    "np. random.random((3, 4))  # Create a 3x4 matrix with random values\n",
    "print(np.random.random((3, 4)))  # Print the random matrix"
   ]
  },
  {
   "cell_type": "code",
   "execution_count": 1,
   "id": "5dd2abcd",
   "metadata": {},
   "outputs": [],
   "source": [
    "import numpy as np"
   ]
  },
  {
   "cell_type": "code",
   "execution_count": null,
   "id": "9fc44010",
   "metadata": {},
   "outputs": [
    {
     "name": "stdout",
     "output_type": "stream",
     "text": [
      "[[1. 1. 1. 1.]\n",
      " [1. 1. 1. 1.]\n",
      " [1. 1. 1. 1.]]\n",
      "[[0. 0. 0. 0.]\n",
      " [0. 0. 0. 0.]\n",
      " [0. 0. 0. 0.]\n",
      " [0. 0. 0. 0.]]\n"
     ]
    }
   ],
   "source": [
    "mat_1 = np.ones((3, 4))  # Create a 3x4 matrix filled with ones\n",
    "print(mat_1)  # Print the matrix filled with ones   \n",
    "mat_2 = np.zeros((4, 4))  # Create another 3x4 matrix filled with ones\n",
    "print(mat_2)  # Print the second matrix filled with ones\n",
    "\n",
    "np.savez(\"C:/Users/Mgama/Ai_Amit_Diploma/images.npz\" , ones_mat = mat_1 , zeros_mat = mat_2)  # Save the matrices to a .npz file"
   ]
  },
  {
   "cell_type": "code",
   "execution_count": 8,
   "id": "50cc4bf5",
   "metadata": {},
   "outputs": [
    {
     "name": "stdout",
     "output_type": "stream",
     "text": [
      "[[1. 1. 1. 1.]\n",
      " [1. 1. 1. 1.]\n",
      " [1. 1. 1. 1.]]\n",
      "[[0. 0. 0. 0.]\n",
      " [0. 0. 0. 0.]\n",
      " [0. 0. 0. 0.]\n",
      " [0. 0. 0. 0.]]\n"
     ]
    }
   ],
   "source": [
    "with np.load(\"C:/Users/Mgama/Ai_Amit_Diploma/images.npz\") as file:  # Load the saved matrices from the .npz file\n",
    "    mat_1 = file['ones_mat']  # Access the matrix filled with ones\n",
    "    mat_2 = file['zeros_mat']  # Access the matrix filled with zeros\n",
    "    print(mat_1)  # Print the loaded matrix filled with ones\n",
    "    print(mat_2)  # Print the loaded matrix filled with zeros"
   ]
  },
  {
   "cell_type": "code",
   "execution_count": 9,
   "id": "720e6ca9",
   "metadata": {},
   "outputs": [
    {
     "name": "stdout",
     "output_type": "stream",
     "text": [
      "[[1 2 3]\n",
      " [0 0 0]\n",
      " [4 5 6]\n",
      " [1 1 1]]\n"
     ]
    }
   ],
   "source": [
    "m_1 = np.array([[1, 2, 3],\n",
    "                [0, 0, 0]])\n",
    "m_2 = np.array([[4, 5, 6],\n",
    "                [1, 1, 1]])\n",
    "\n",
    "v_mat = np.vstack((m_1, m_2))  # Stack the two matrices vertically\n",
    "print(v_mat)  # Print the vertically stacked matrix"
   ]
  },
  {
   "cell_type": "code",
   "execution_count": 10,
   "id": "8ffff986",
   "metadata": {},
   "outputs": [
    {
     "name": "stdout",
     "output_type": "stream",
     "text": [
      "[[1 2 3 4 5 6]\n",
      " [0 0 0 1 1 1]]\n"
     ]
    }
   ],
   "source": [
    "m_1 = np.array([[1, 2, 3],\n",
    "                [0, 0, 0]])\n",
    "m_2 = np.array([[4, 5, 6],\n",
    "                [1, 1, 1]])\n",
    "\n",
    "v_mat = np.hstack((m_1, m_2))  # Stack the two matrices vertically\n",
    "print(v_mat)  # Print the vertically stacked matrix"
   ]
  },
  {
   "cell_type": "code",
   "execution_count": 11,
   "id": "828d830f",
   "metadata": {},
   "outputs": [
    {
     "data": {
      "text/plain": [
       "array([False, False, False,  True, False])"
      ]
     },
     "execution_count": 11,
     "metadata": {},
     "output_type": "execute_result"
    }
   ],
   "source": [
    "s = 4\n",
    "v= np.array([1, 2, 3, 4, 5])  # Create a numpy array with values from 1 to 5\n",
    "v == s  # Check if the elements of the array are equal to 4"
   ]
  },
  {
   "cell_type": "code",
   "execution_count": 13,
   "id": "7d914260",
   "metadata": {},
   "outputs": [
    {
     "data": {
      "text/plain": [
       "array([False,  True, False])"
      ]
     },
     "execution_count": 13,
     "metadata": {},
     "output_type": "execute_result"
    }
   ],
   "source": [
    "v1 = np.array([1, 3, 3])\n",
    "v2 = np.array([4, 3, 4])\n",
    "v1 == v2  # Check if the two arrays are equal element-wise"
   ]
  },
  {
   "cell_type": "code",
   "execution_count": 14,
   "id": "ce01e779",
   "metadata": {},
   "outputs": [
    {
     "data": {
      "text/plain": [
       "array([[False,  True, False],\n",
       "       [False,  True, False]])"
      ]
     },
     "execution_count": 14,
     "metadata": {},
     "output_type": "execute_result"
    }
   ],
   "source": [
    "m_1 = np.array([[1, 2, 3],\n",
    "                [0, 0, 0]])\n",
    "m_2 = np.array([[4, 2, 6],\n",
    "                [1, 0, 1]])\n",
    "m_1 == m_2  # Check if the two matrices are equal element-wise"
   ]
  },
  {
   "cell_type": "code",
   "execution_count": 15,
   "id": "2aef4353",
   "metadata": {},
   "outputs": [
    {
     "data": {
      "text/plain": [
       "np.False_"
      ]
     },
     "execution_count": 15,
     "metadata": {},
     "output_type": "execute_result"
    }
   ],
   "source": [
    "v = np.array([1, 2, 3, 4, 5])\n",
    "np.all(v>1)  # Check if all elements of the array are greater than 1\n"
   ]
  },
  {
   "cell_type": "code",
   "execution_count": 16,
   "id": "a0434a28",
   "metadata": {},
   "outputs": [
    {
     "data": {
      "text/plain": [
       "np.True_"
      ]
     },
     "execution_count": 16,
     "metadata": {},
     "output_type": "execute_result"
    }
   ],
   "source": [
    "v = np.array([1, 2, 3, 4, 5])\n",
    "np.any(v>1)  # Check if any elements of the array are greater than 1"
   ]
  },
  {
   "cell_type": "code",
   "execution_count": 18,
   "id": "df8169f9",
   "metadata": {},
   "outputs": [
    {
     "data": {
      "text/plain": [
       "array([ True, False,  True, False, False])"
      ]
     },
     "execution_count": 18,
     "metadata": {},
     "output_type": "execute_result"
    }
   ],
   "source": [
    "v1 = np.array([1, 2, 1 ,4, 5])\n",
    "v2 = np.array([2, 4, 0 ,6, 3])\n",
    "np.isclose(v1, v2 , atol= 1)  # Check if the two arrays are close to each other element-wise"
   ]
  },
  {
   "cell_type": "code",
   "execution_count": 25,
   "id": "cd6ff9cf",
   "metadata": {},
   "outputs": [
    {
     "data": {
      "text/plain": [
       "True"
      ]
     },
     "execution_count": 25,
     "metadata": {},
     "output_type": "execute_result"
    }
   ],
   "source": [
    "v1 = np.array([1, 2, 1 ,1, 1])\n",
    "v2 = np.array([1, 1, 1 ,1, 1])\n",
    "np.allclose(v1, v2 , atol= 1)  # Check if the two arrays are close to each other element-wise"
   ]
  },
  {
   "cell_type": "code",
   "execution_count": 26,
   "id": "b5691d24",
   "metadata": {},
   "outputs": [
    {
     "name": "stdout",
     "output_type": "stream",
     "text": [
      "[False False False  True  True]\n"
     ]
    }
   ],
   "source": [
    "v = np.array([1, 2, 3, 4, 5])\n",
    "condition = v >= 4\n",
    "print(condition)  # Print the boolean array where elements are greater than or equal to 4"
   ]
  },
  {
   "cell_type": "code",
   "execution_count": 28,
   "id": "45168a3e",
   "metadata": {},
   "outputs": [
    {
     "name": "stdout",
     "output_type": "stream",
     "text": [
      "[False False False  True  True]\n",
      "[4 5]\n"
     ]
    }
   ],
   "source": [
    "v = np.array([1, 2, 3, 4, 5])\n",
    "condition = v >= 4\n",
    "print (condition)  # Print the boolean array where elements are greater than or equal to 4\n",
    "condition_access = v[condition]  # Access the elements of the array that satisfy the condition\n",
    "print(condition_access)  # Print the elements of the array that satisfy the condition"
   ]
  },
  {
   "cell_type": "code",
   "execution_count": 29,
   "id": "520cb4f0",
   "metadata": {},
   "outputs": [
    {
     "name": "stdout",
     "output_type": "stream",
     "text": [
      "[False False False  True  True]\n",
      "[ 1  2  3 -1 -1]\n"
     ]
    }
   ],
   "source": [
    "v = np.array([1, 2, 3, 4, 5])\n",
    "condition = v >= 4\n",
    "print (condition)  # Print the boolean array where elements are greater than or equal to 4\n",
    "v[condition]  = -1 # \n",
    "print (v)  # Print the modified array where elements greater than or equal to 4 are set to -1"
   ]
  },
  {
   "cell_type": "code",
   "execution_count": 30,
   "id": "a98e1043",
   "metadata": {},
   "outputs": [
    {
     "name": "stdout",
     "output_type": "stream",
     "text": [
      "[ 1  2  3 -1 -1]\n"
     ]
    }
   ],
   "source": [
    "v = np.array([1, 2, 3, 4, 5])\n",
    "condition = v >= 4\n",
    "n_condition = np.where(condition, -1, v)  # Set elements greater than or equal to 4 to -1\n",
    "print(n_condition)  # Print the modified array where elements greater than or equal to 4"
   ]
  },
  {
   "cell_type": "code",
   "execution_count": 1,
   "id": "4bf9d687",
   "metadata": {},
   "outputs": [
    {
     "name": "stdout",
     "output_type": "stream",
     "text": [
      "Note: you may need to restart the kernel to use updated packages.\n"
     ]
    },
    {
     "name": "stderr",
     "output_type": "stream",
     "text": [
      "ERROR: Invalid requirement: '#': Expected package name at the start of dependency specifier\n",
      "    #\n",
      "    ^\n"
     ]
    }
   ],
   "source": [
    "pip install pandas # Install pandas library"
   ]
  },
  {
   "cell_type": "code",
   "execution_count": 1,
   "id": "813773ac",
   "metadata": {},
   "outputs": [],
   "source": [
    "import pandas as pd  # Import pandas library\n"
   ]
  },
  {
   "cell_type": "code",
   "execution_count": 6,
   "id": "37bb90a9",
   "metadata": {},
   "outputs": [
    {
     "name": "stdout",
     "output_type": "stream",
     "text": [
      "0    1\n",
      "1    2\n",
      "2    3\n",
      "3    4\n",
      "dtype: int64\n"
     ]
    }
   ],
   "source": [
    "s = pd.Series([1, 2, 3, 4])  # Create a pandas Series with values from 1 to 5\n",
    "\n",
    "print(s)  # Print the pandas Series"
   ]
  },
  {
   "cell_type": "code",
   "execution_count": 7,
   "id": "e9bd1032",
   "metadata": {},
   "outputs": [
    {
     "name": "stdout",
     "output_type": "stream",
     "text": [
      "A    1\n",
      "b    2\n",
      "c    3\n",
      "D    4\n",
      "dtype: int64\n"
     ]
    }
   ],
   "source": [
    "s = pd.Series([1, 2, 3, 4], index=[\"A\",\"b\", \"c\",\"D\"]) # create a pandas Series with custom index\n",
    "print(s)  # Print the pandas Series with custom index"
   ]
  },
  {
   "cell_type": "code",
   "execution_count": 10,
   "id": "bca618e4",
   "metadata": {},
   "outputs": [
    {
     "name": "stdout",
     "output_type": "stream",
     "text": [
      "   Index   ID     Name\n",
      "0      1  111    Ahmed\n",
      "1      2  222      Ali\n",
      "2      3  333  Mohamed\n",
      "3      4  444    Gamal\n"
     ]
    }
   ],
   "source": [
    "data_1 = [[1,111,'Ahmed'],\n",
    "            [2,222,'Ali'],\n",
    "            [3,333,'Mohamed'],\n",
    "            [4,444,'Gamal']\n",
    "            ]\n",
    "\n",
    "type(data_1)  # Check the type of data_1, which should be a list of lists\n",
    "df = pd.DataFrame(data_1, columns=[\"Index\", \"ID\", \"Name\"])  # Create a pandas DataFrame from the list of lists\n",
    "print(df)  # Print the pandas DataFrame"
   ]
  },
  {
   "cell_type": "code",
   "execution_count": 11,
   "id": "bb8c10ee",
   "metadata": {},
   "outputs": [
    {
     "name": "stdout",
     "output_type": "stream",
     "text": [
      "   s1  s2       s3\n",
      "0  10  10     math\n",
      "1  11  12  science\n",
      "2  17  15  english\n",
      "3   9  10   arabic\n"
     ]
    }
   ],
   "source": [
    "data_2 ={\"s1\" : [10 ,11, 17, 9],\n",
    "            \"s2\" : [10 ,12, 15, 10],\n",
    "            \"s3\" : ['math', 'science', 'english', \"arabic\"]}\n",
    "df2 = pd.DataFrame(data_2)  # Create a pandas DataFrame from the dictionary\n",
    "print(df2)  # Print the pandas DataFrame created from the dictionary"
   ]
  },
  {
   "cell_type": "code",
   "execution_count": 12,
   "id": "d724f259",
   "metadata": {},
   "outputs": [
    {
     "data": {
      "text/html": [
       "<div>\n",
       "<style scoped>\n",
       "    .dataframe tbody tr th:only-of-type {\n",
       "        vertical-align: middle;\n",
       "    }\n",
       "\n",
       "    .dataframe tbody tr th {\n",
       "        vertical-align: top;\n",
       "    }\n",
       "\n",
       "    .dataframe thead th {\n",
       "        text-align: right;\n",
       "    }\n",
       "</style>\n",
       "<table border=\"1\" class=\"dataframe\">\n",
       "  <thead>\n",
       "    <tr style=\"text-align: right;\">\n",
       "      <th></th>\n",
       "      <th>s1</th>\n",
       "      <th>s2</th>\n",
       "      <th>s3</th>\n",
       "    </tr>\n",
       "  </thead>\n",
       "  <tbody>\n",
       "    <tr>\n",
       "      <th>0</th>\n",
       "      <td>10</td>\n",
       "      <td>10</td>\n",
       "      <td>math</td>\n",
       "    </tr>\n",
       "    <tr>\n",
       "      <th>1</th>\n",
       "      <td>11</td>\n",
       "      <td>12</td>\n",
       "      <td>science</td>\n",
       "    </tr>\n",
       "    <tr>\n",
       "      <th>2</th>\n",
       "      <td>17</td>\n",
       "      <td>15</td>\n",
       "      <td>english</td>\n",
       "    </tr>\n",
       "    <tr>\n",
       "      <th>3</th>\n",
       "      <td>9</td>\n",
       "      <td>10</td>\n",
       "      <td>arabic</td>\n",
       "    </tr>\n",
       "  </tbody>\n",
       "</table>\n",
       "</div>"
      ],
      "text/plain": [
       "   s1  s2       s3\n",
       "0  10  10     math\n",
       "1  11  12  science\n",
       "2  17  15  english\n",
       "3   9  10   arabic"
      ]
     },
     "metadata": {},
     "output_type": "display_data"
    }
   ],
   "source": [
    "display(df2)  # Display the DataFrame in a Jupyter Notebook or similar environment"
   ]
  },
  {
   "cell_type": "code",
   "execution_count": null,
   "id": "ceee5b0c",
   "metadata": {},
   "outputs": [],
   "source": [
    "class name :\n",
    "    def __init__(self, name: str):\n",
    "        self.name = name\n",
    "\n",
    "    @property\n",
    "    def info(self):\n",
    "        \"\"\"Return the name of the instance.\"\"\"\n",
    "        return self.name  # Return the name of the instance"
   ]
  },
  {
   "cell_type": "code",
   "execution_count": 14,
   "id": "fb88b8ab",
   "metadata": {},
   "outputs": [
    {
     "name": "stdout",
     "output_type": "stream",
     "text": [
      "Mohamed Gamal\n"
     ]
    }
   ],
   "source": [
    "name = name(\"Mohamed Gamal\")  # Create an instance of the class with a name\n",
    "print(name.info)  # Print the name of the instance using the info property"
   ]
  },
  {
   "cell_type": "code",
   "execution_count": 15,
   "id": "5f7a2464",
   "metadata": {},
   "outputs": [
    {
     "data": {
      "text/plain": [
       "0    111\n",
       "1    222\n",
       "2    333\n",
       "3    444\n",
       "Name: ID, dtype: int64"
      ]
     },
     "execution_count": 15,
     "metadata": {},
     "output_type": "execute_result"
    }
   ],
   "source": [
    "data_1 = [[1,111,'Ahmed'],\n",
    "            [2,222,'Ali'],\n",
    "            [3,333,'Mohamed'],\n",
    "            [4,444,'Gamal']\n",
    "            ]\n",
    "\n",
    "df = pd.DataFrame(data_1, columns=[\"Index\", \"ID\", \"Name\"])  # Create a pandas DataFrame from the list of lists\n",
    "df[\"ID\"]"
   ]
  },
  {
   "cell_type": "code",
   "execution_count": 18,
   "id": "b60deb8f",
   "metadata": {},
   "outputs": [
    {
     "data": {
      "text/plain": [
       "Index       int64\n",
       "ID          int64\n",
       "Name     category\n",
       "dtype: object"
      ]
     },
     "execution_count": 18,
     "metadata": {},
     "output_type": "execute_result"
    }
   ],
   "source": [
    "data_1 = [[1,111,'Ahmed'],\n",
    "            [2,222,'Ali'],\n",
    "            [3,333,'Mohamed'],\n",
    "            [4,444,'Gamal']\n",
    "            ]\n",
    "\n",
    "df = pd.DataFrame(data_1, columns=[\"Index\", \"ID\", \"Name\"])  # Create a pandas DataFrame from the list of lists\n",
    "df['Name'] = df['Name'].astype(\"category\")  # Convert the 'Name' column to cataegory type\n",
    "df.dtypes"
   ]
  },
  {
   "cell_type": "code",
   "execution_count": 19,
   "id": "de0656bb",
   "metadata": {},
   "outputs": [
    {
     "data": {
      "text/html": [
       "<div>\n",
       "<style scoped>\n",
       "    .dataframe tbody tr th:only-of-type {\n",
       "        vertical-align: middle;\n",
       "    }\n",
       "\n",
       "    .dataframe tbody tr th {\n",
       "        vertical-align: top;\n",
       "    }\n",
       "\n",
       "    .dataframe thead th {\n",
       "        text-align: right;\n",
       "    }\n",
       "</style>\n",
       "<table border=\"1\" class=\"dataframe\">\n",
       "  <thead>\n",
       "    <tr style=\"text-align: right;\">\n",
       "      <th></th>\n",
       "      <th>Index</th>\n",
       "      <th>ID</th>\n",
       "      <th>Name</th>\n",
       "    </tr>\n",
       "  </thead>\n",
       "  <tbody>\n",
       "    <tr>\n",
       "      <th>0</th>\n",
       "      <td>1</td>\n",
       "      <td>111</td>\n",
       "      <td>Ahmed</td>\n",
       "    </tr>\n",
       "    <tr>\n",
       "      <th>1</th>\n",
       "      <td>2</td>\n",
       "      <td>222</td>\n",
       "      <td>Ali</td>\n",
       "    </tr>\n",
       "    <tr>\n",
       "      <th>2</th>\n",
       "      <td>3</td>\n",
       "      <td>333</td>\n",
       "      <td>Mohamed</td>\n",
       "    </tr>\n",
       "    <tr>\n",
       "      <th>3</th>\n",
       "      <td>4</td>\n",
       "      <td>444</td>\n",
       "      <td>Gamal</td>\n",
       "    </tr>\n",
       "  </tbody>\n",
       "</table>\n",
       "</div>"
      ],
      "text/plain": [
       "   Index   ID     Name\n",
       "0      1  111    Ahmed\n",
       "1      2  222      Ali\n",
       "2      3  333  Mohamed\n",
       "3      4  444    Gamal"
      ]
     },
     "execution_count": 19,
     "metadata": {},
     "output_type": "execute_result"
    }
   ],
   "source": [
    "# EDA Exploratory data analysis\n",
    "df.head()  # Display the first few rows of the DataFrame"
   ]
  },
  {
   "cell_type": "code",
   "execution_count": 20,
   "id": "2199dbb4",
   "metadata": {},
   "outputs": [
    {
     "data": {
      "text/html": [
       "<div>\n",
       "<style scoped>\n",
       "    .dataframe tbody tr th:only-of-type {\n",
       "        vertical-align: middle;\n",
       "    }\n",
       "\n",
       "    .dataframe tbody tr th {\n",
       "        vertical-align: top;\n",
       "    }\n",
       "\n",
       "    .dataframe thead th {\n",
       "        text-align: right;\n",
       "    }\n",
       "</style>\n",
       "<table border=\"1\" class=\"dataframe\">\n",
       "  <thead>\n",
       "    <tr style=\"text-align: right;\">\n",
       "      <th></th>\n",
       "      <th>Index</th>\n",
       "      <th>ID</th>\n",
       "      <th>Name</th>\n",
       "    </tr>\n",
       "  </thead>\n",
       "  <tbody>\n",
       "    <tr>\n",
       "      <th>3</th>\n",
       "      <td>4</td>\n",
       "      <td>444</td>\n",
       "      <td>Gamal</td>\n",
       "    </tr>\n",
       "  </tbody>\n",
       "</table>\n",
       "</div>"
      ],
      "text/plain": [
       "   Index   ID   Name\n",
       "3      4  444  Gamal"
      ]
     },
     "execution_count": 20,
     "metadata": {},
     "output_type": "execute_result"
    }
   ],
   "source": [
    "df.tail(1)  # Display the last few rows of the DataFrame "
   ]
  },
  {
   "cell_type": "code",
   "execution_count": 22,
   "id": "7a1be8de",
   "metadata": {},
   "outputs": [
    {
     "data": {
      "text/html": [
       "<div>\n",
       "<style scoped>\n",
       "    .dataframe tbody tr th:only-of-type {\n",
       "        vertical-align: middle;\n",
       "    }\n",
       "\n",
       "    .dataframe tbody tr th {\n",
       "        vertical-align: top;\n",
       "    }\n",
       "\n",
       "    .dataframe thead th {\n",
       "        text-align: right;\n",
       "    }\n",
       "</style>\n",
       "<table border=\"1\" class=\"dataframe\">\n",
       "  <thead>\n",
       "    <tr style=\"text-align: right;\">\n",
       "      <th></th>\n",
       "      <th>Index</th>\n",
       "      <th>ID</th>\n",
       "    </tr>\n",
       "  </thead>\n",
       "  <tbody>\n",
       "    <tr>\n",
       "      <th>count</th>\n",
       "      <td>4.000000</td>\n",
       "      <td>4.000000</td>\n",
       "    </tr>\n",
       "    <tr>\n",
       "      <th>mean</th>\n",
       "      <td>2.500000</td>\n",
       "      <td>277.500000</td>\n",
       "    </tr>\n",
       "    <tr>\n",
       "      <th>std</th>\n",
       "      <td>1.290994</td>\n",
       "      <td>143.300384</td>\n",
       "    </tr>\n",
       "    <tr>\n",
       "      <th>min</th>\n",
       "      <td>1.000000</td>\n",
       "      <td>111.000000</td>\n",
       "    </tr>\n",
       "    <tr>\n",
       "      <th>25%</th>\n",
       "      <td>1.750000</td>\n",
       "      <td>194.250000</td>\n",
       "    </tr>\n",
       "    <tr>\n",
       "      <th>50%</th>\n",
       "      <td>2.500000</td>\n",
       "      <td>277.500000</td>\n",
       "    </tr>\n",
       "    <tr>\n",
       "      <th>75%</th>\n",
       "      <td>3.250000</td>\n",
       "      <td>360.750000</td>\n",
       "    </tr>\n",
       "    <tr>\n",
       "      <th>max</th>\n",
       "      <td>4.000000</td>\n",
       "      <td>444.000000</td>\n",
       "    </tr>\n",
       "  </tbody>\n",
       "</table>\n",
       "</div>"
      ],
      "text/plain": [
       "          Index          ID\n",
       "count  4.000000    4.000000\n",
       "mean   2.500000  277.500000\n",
       "std    1.290994  143.300384\n",
       "min    1.000000  111.000000\n",
       "25%    1.750000  194.250000\n",
       "50%    2.500000  277.500000\n",
       "75%    3.250000  360.750000\n",
       "max    4.000000  444.000000"
      ]
     },
     "execution_count": 22,
     "metadata": {},
     "output_type": "execute_result"
    }
   ],
   "source": [
    "df.describe()  # Display summary statistics of the DataFrame"
   ]
  },
  {
   "cell_type": "code",
   "execution_count": null,
   "id": "69205793",
   "metadata": {},
   "outputs": [
    {
     "data": {
      "text/html": [
       "<div>\n",
       "<style scoped>\n",
       "    .dataframe tbody tr th:only-of-type {\n",
       "        vertical-align: middle;\n",
       "    }\n",
       "\n",
       "    .dataframe tbody tr th {\n",
       "        vertical-align: top;\n",
       "    }\n",
       "\n",
       "    .dataframe thead th {\n",
       "        text-align: right;\n",
       "    }\n",
       "</style>\n",
       "<table border=\"1\" class=\"dataframe\">\n",
       "  <thead>\n",
       "    <tr style=\"text-align: right;\">\n",
       "      <th></th>\n",
       "      <th>Name</th>\n",
       "    </tr>\n",
       "  </thead>\n",
       "  <tbody>\n",
       "    <tr>\n",
       "      <th>count</th>\n",
       "      <td>4</td>\n",
       "    </tr>\n",
       "    <tr>\n",
       "      <th>unique</th>\n",
       "      <td>4</td>\n",
       "    </tr>\n",
       "    <tr>\n",
       "      <th>top</th>\n",
       "      <td>Ahmed</td>\n",
       "    </tr>\n",
       "    <tr>\n",
       "      <th>freq</th>\n",
       "      <td>1</td>\n",
       "    </tr>\n",
       "  </tbody>\n",
       "</table>\n",
       "</div>"
      ],
      "text/plain": [
       "         Name\n",
       "count       4\n",
       "unique      4\n",
       "top     Ahmed\n",
       "freq        1"
      ]
     },
     "execution_count": 23,
     "metadata": {},
     "output_type": "execute_result"
    }
   ],
   "source": [
    "df.describe(include='category')  # Display summary statistics of the DataFrame including all data types"
   ]
  },
  {
   "cell_type": "code",
   "execution_count": 24,
   "id": "fd9d425b",
   "metadata": {},
   "outputs": [
    {
     "data": {
      "text/plain": [
       "Index(['Index', 'ID', 'Name'], dtype='object')"
      ]
     },
     "execution_count": 24,
     "metadata": {},
     "output_type": "execute_result"
    }
   ],
   "source": [
    "df.columns  # Display the columns of the DataFrame"
   ]
  },
  {
   "cell_type": "code",
   "execution_count": 25,
   "id": "8d7f7bbd",
   "metadata": {},
   "outputs": [
    {
     "data": {
      "text/plain": [
       "['Ahmed', 'Ali', 'Mohamed', 'Gamal']\n",
       "Categories (4, object): ['Ahmed', 'Ali', 'Gamal', 'Mohamed']"
      ]
     },
     "execution_count": 25,
     "metadata": {},
     "output_type": "execute_result"
    }
   ],
   "source": [
    "df['Name'].unique()  # Display unique values in the 'Name' column"
   ]
  },
  {
   "cell_type": "code",
   "execution_count": 26,
   "id": "a6332ac4",
   "metadata": {},
   "outputs": [
    {
     "data": {
      "text/plain": [
       "np.int64(444)"
      ]
     },
     "execution_count": 26,
     "metadata": {},
     "output_type": "execute_result"
    }
   ],
   "source": [
    "df['ID'].max()  # Display the maximum value in the 'ID' column"
   ]
  },
  {
   "cell_type": "code",
   "execution_count": 27,
   "id": "92321d95",
   "metadata": {},
   "outputs": [
    {
     "data": {
      "text/plain": [
       "np.int64(111)"
      ]
     },
     "execution_count": 27,
     "metadata": {},
     "output_type": "execute_result"
    }
   ],
   "source": [
    "df['ID'].min()  # Display the min value in the 'ID' column"
   ]
  },
  {
   "cell_type": "code",
   "execution_count": 28,
   "id": "cb6ffc0f",
   "metadata": {},
   "outputs": [
    {
     "data": {
      "text/plain": [
       "0"
      ]
     },
     "execution_count": 28,
     "metadata": {},
     "output_type": "execute_result"
    }
   ],
   "source": [
    "df['ID'].idxmin()"
   ]
  },
  {
   "cell_type": "code",
   "execution_count": 29,
   "id": "eb59b611",
   "metadata": {},
   "outputs": [
    {
     "name": "stdout",
     "output_type": "stream",
     "text": [
      "<class 'pandas.core.frame.DataFrame'>\n",
      "RangeIndex: 4 entries, 0 to 3\n",
      "Data columns (total 3 columns):\n",
      " #   Column  Non-Null Count  Dtype   \n",
      "---  ------  --------------  -----   \n",
      " 0   Index   4 non-null      int64   \n",
      " 1   ID      4 non-null      int64   \n",
      " 2   Name    4 non-null      category\n",
      "dtypes: category(1), int64(2)\n",
      "memory usage: 404.0 bytes\n"
     ]
    }
   ],
   "source": [
    "df.info()  # Display information about the DataFrame including data types and non-null counts"
   ]
  },
  {
   "cell_type": "code",
   "execution_count": 31,
   "id": "a98fe8cf",
   "metadata": {},
   "outputs": [
    {
     "data": {
      "text/plain": [
       "ID\n",
       "111    1\n",
       "222    1\n",
       "333    1\n",
       "444    1\n",
       "Name: count, dtype: int64"
      ]
     },
     "execution_count": 31,
     "metadata": {},
     "output_type": "execute_result"
    }
   ],
   "source": [
    "d = df[\"ID\"].value_counts()  # Count the occurrences of each value in the 'ID' column\n",
    "d  # Display the value counts of the 'ID' column"
   ]
  },
  {
   "cell_type": "code",
   "execution_count": 32,
   "id": "d0cff31d",
   "metadata": {},
   "outputs": [
    {
     "data": {
      "text/plain": [
       "np.int64(1110)"
      ]
     },
     "execution_count": 32,
     "metadata": {},
     "output_type": "execute_result"
    }
   ],
   "source": [
    "d = df[\"ID\"].sum()  # sum the values in the 'ID' column\n",
    "d  # Display the value counts of the 'ID' column"
   ]
  },
  {
   "cell_type": "code",
   "execution_count": 33,
   "id": "251adef6",
   "metadata": {},
   "outputs": [
    {
     "data": {
      "text/plain": [
       "array([[1, 111, 'Ahmed'],\n",
       "       [2, 222, 'Ali'],\n",
       "       [3, 333, 'Mohamed'],\n",
       "       [4, 444, 'Gamal']], dtype=object)"
      ]
     },
     "execution_count": 33,
     "metadata": {},
     "output_type": "execute_result"
    }
   ],
   "source": [
    "df.values  # Display the values of the DataFrame"
   ]
  },
  {
   "cell_type": "code",
   "execution_count": 34,
   "id": "9aa4c1e3",
   "metadata": {},
   "outputs": [
    {
     "data": {
      "text/html": [
       "<div>\n",
       "<style scoped>\n",
       "    .dataframe tbody tr th:only-of-type {\n",
       "        vertical-align: middle;\n",
       "    }\n",
       "\n",
       "    .dataframe tbody tr th {\n",
       "        vertical-align: top;\n",
       "    }\n",
       "\n",
       "    .dataframe thead th {\n",
       "        text-align: right;\n",
       "    }\n",
       "</style>\n",
       "<table border=\"1\" class=\"dataframe\">\n",
       "  <thead>\n",
       "    <tr style=\"text-align: right;\">\n",
       "      <th></th>\n",
       "      <th>Index</th>\n",
       "      <th>ID</th>\n",
       "      <th>Name</th>\n",
       "    </tr>\n",
       "  </thead>\n",
       "  <tbody>\n",
       "    <tr>\n",
       "      <th>0</th>\n",
       "      <td>1</td>\n",
       "      <td>Jimmy</td>\n",
       "      <td>Ahmed</td>\n",
       "    </tr>\n",
       "    <tr>\n",
       "      <th>1</th>\n",
       "      <td>2</td>\n",
       "      <td>222</td>\n",
       "      <td>Ali</td>\n",
       "    </tr>\n",
       "    <tr>\n",
       "      <th>2</th>\n",
       "      <td>3</td>\n",
       "      <td>333</td>\n",
       "      <td>Mohamed</td>\n",
       "    </tr>\n",
       "    <tr>\n",
       "      <th>3</th>\n",
       "      <td>4</td>\n",
       "      <td>444</td>\n",
       "      <td>Gamal</td>\n",
       "    </tr>\n",
       "  </tbody>\n",
       "</table>\n",
       "</div>"
      ],
      "text/plain": [
       "   Index     ID     Name\n",
       "0      1  Jimmy    Ahmed\n",
       "1      2    222      Ali\n",
       "2      3    333  Mohamed\n",
       "3      4    444    Gamal"
      ]
     },
     "execution_count": 34,
     "metadata": {},
     "output_type": "execute_result"
    }
   ],
   "source": [
    "df.replace(111, 'Jimmy')  # Replace the value 111 with 'Jimmy' in the DataFrame"
   ]
  },
  {
   "cell_type": "code",
   "execution_count": 35,
   "id": "5fd13601",
   "metadata": {},
   "outputs": [
    {
     "data": {
      "text/html": [
       "<div>\n",
       "<style scoped>\n",
       "    .dataframe tbody tr th:only-of-type {\n",
       "        vertical-align: middle;\n",
       "    }\n",
       "\n",
       "    .dataframe tbody tr th {\n",
       "        vertical-align: top;\n",
       "    }\n",
       "\n",
       "    .dataframe thead th {\n",
       "        text-align: right;\n",
       "    }\n",
       "</style>\n",
       "<table border=\"1\" class=\"dataframe\">\n",
       "  <thead>\n",
       "    <tr style=\"text-align: right;\">\n",
       "      <th></th>\n",
       "      <th>Index</th>\n",
       "      <th>ID</th>\n",
       "      <th>Name</th>\n",
       "    </tr>\n",
       "  </thead>\n",
       "  <tbody>\n",
       "    <tr>\n",
       "      <th>0</th>\n",
       "      <td>1</td>\n",
       "      <td>111</td>\n",
       "      <td>Ahmed</td>\n",
       "    </tr>\n",
       "    <tr>\n",
       "      <th>1</th>\n",
       "      <td>2</td>\n",
       "      <td>222</td>\n",
       "      <td>Ali</td>\n",
       "    </tr>\n",
       "    <tr>\n",
       "      <th>2</th>\n",
       "      <td>3</td>\n",
       "      <td>Youssef</td>\n",
       "      <td>Mohamed</td>\n",
       "    </tr>\n",
       "    <tr>\n",
       "      <th>3</th>\n",
       "      <td>4</td>\n",
       "      <td>Ahmed</td>\n",
       "      <td>Gamal</td>\n",
       "    </tr>\n",
       "  </tbody>\n",
       "</table>\n",
       "</div>"
      ],
      "text/plain": [
       "   Index       ID     Name\n",
       "0      1      111    Ahmed\n",
       "1      2      222      Ali\n",
       "2      3  Youssef  Mohamed\n",
       "3      4    Ahmed    Gamal"
      ]
     },
     "execution_count": 35,
     "metadata": {},
     "output_type": "execute_result"
    }
   ],
   "source": [
    "df.replace({333:\"Youssef\" , 444 : \"Ahmed\"})  # Replace multiple values in the DataFrame"
   ]
  },
  {
   "cell_type": "code",
   "execution_count": 36,
   "id": "c7c65fc5",
   "metadata": {},
   "outputs": [
    {
     "data": {
      "text/html": [
       "<div>\n",
       "<style scoped>\n",
       "    .dataframe tbody tr th:only-of-type {\n",
       "        vertical-align: middle;\n",
       "    }\n",
       "\n",
       "    .dataframe tbody tr th {\n",
       "        vertical-align: top;\n",
       "    }\n",
       "\n",
       "    .dataframe thead th {\n",
       "        text-align: right;\n",
       "    }\n",
       "</style>\n",
       "<table border=\"1\" class=\"dataframe\">\n",
       "  <thead>\n",
       "    <tr style=\"text-align: right;\">\n",
       "      <th></th>\n",
       "      <th>Index</th>\n",
       "      <th>ID</th>\n",
       "      <th>Name</th>\n",
       "    </tr>\n",
       "  </thead>\n",
       "  <tbody>\n",
       "    <tr>\n",
       "      <th>0</th>\n",
       "      <td>1</td>\n",
       "      <td>111</td>\n",
       "      <td>Ahmed</td>\n",
       "    </tr>\n",
       "    <tr>\n",
       "      <th>1</th>\n",
       "      <td>2</td>\n",
       "      <td>222</td>\n",
       "      <td>Ali</td>\n",
       "    </tr>\n",
       "    <tr>\n",
       "      <th>2</th>\n",
       "      <td>3</td>\n",
       "      <td>333</td>\n",
       "      <td>Mohamed</td>\n",
       "    </tr>\n",
       "    <tr>\n",
       "      <th>3</th>\n",
       "      <td>4</td>\n",
       "      <td>444</td>\n",
       "      <td>Gamal</td>\n",
       "    </tr>\n",
       "  </tbody>\n",
       "</table>\n",
       "</div>"
      ],
      "text/plain": [
       "   Index   ID     Name\n",
       "0      1  111    Ahmed\n",
       "1      2  222      Ali\n",
       "2      3  333  Mohamed\n",
       "3      4  444    Gamal"
      ]
     },
     "execution_count": 36,
     "metadata": {},
     "output_type": "execute_result"
    }
   ],
   "source": [
    "df"
   ]
  },
  {
   "cell_type": "code",
   "execution_count": 40,
   "id": "e7fbfeef",
   "metadata": {},
   "outputs": [
    {
     "data": {
      "text/plain": [
       "0    2\n",
       "1    4\n",
       "2    6\n",
       "3    8\n",
       "Name: Index, dtype: int64"
      ]
     },
     "execution_count": 40,
     "metadata": {},
     "output_type": "execute_result"
    }
   ],
   "source": [
    "def duplicate(x):\n",
    "    \"\"\"Function to duplicate a value.\"\"\"\n",
    "    return x * 2  # Return the duplicated value\n",
    "df['Index'].apply(duplicate)  # Apply the duplicate function to the 'ID' column"
   ]
  },
  {
   "cell_type": "code",
   "execution_count": 41,
   "id": "f5ba71c9",
   "metadata": {},
   "outputs": [
    {
     "data": {
      "text/plain": [
       "0    2\n",
       "1    4\n",
       "2    6\n",
       "3    8\n",
       "Name: Index, dtype: int64"
      ]
     },
     "execution_count": 41,
     "metadata": {},
     "output_type": "execute_result"
    }
   ],
   "source": [
    "def duplicate(x):\n",
    "    \"\"\"Function to duplicate a value.\"\"\"\n",
    "    return x * 2  # Return the duplicated value\n",
    "df['Index'].apply(lambda x :x*2)  # Apply a lambda function to duplicate the values in the 'ID' column"
   ]
  },
  {
   "cell_type": "code",
   "execution_count": 43,
   "id": "1740564f",
   "metadata": {},
   "outputs": [
    {
     "data": {
      "text/plain": [
       "np.int64(222)"
      ]
     },
     "execution_count": 43,
     "metadata": {},
     "output_type": "execute_result"
    }
   ],
   "source": [
    "df.ID.iloc[0]  # Access the first element of the 'ID' column using iloc"
   ]
  },
  {
   "cell_type": "code",
   "execution_count": 44,
   "id": "2d0d8dea",
   "metadata": {},
   "outputs": [
    {
     "data": {
      "text/html": [
       "<div>\n",
       "<style scoped>\n",
       "    .dataframe tbody tr th:only-of-type {\n",
       "        vertical-align: middle;\n",
       "    }\n",
       "\n",
       "    .dataframe tbody tr th {\n",
       "        vertical-align: top;\n",
       "    }\n",
       "\n",
       "    .dataframe thead th {\n",
       "        text-align: right;\n",
       "    }\n",
       "</style>\n",
       "<table border=\"1\" class=\"dataframe\">\n",
       "  <thead>\n",
       "    <tr style=\"text-align: right;\">\n",
       "      <th></th>\n",
       "      <th>Index</th>\n",
       "      <th>ID</th>\n",
       "      <th>Name</th>\n",
       "    </tr>\n",
       "  </thead>\n",
       "  <tbody>\n",
       "    <tr>\n",
       "      <th>0</th>\n",
       "      <td>1</td>\n",
       "      <td>222</td>\n",
       "      <td>Ahmed</td>\n",
       "    </tr>\n",
       "    <tr>\n",
       "      <th>1</th>\n",
       "      <td>2</td>\n",
       "      <td>444</td>\n",
       "      <td>Ali</td>\n",
       "    </tr>\n",
       "    <tr>\n",
       "      <th>2</th>\n",
       "      <td>3</td>\n",
       "      <td>666</td>\n",
       "      <td>Mohamed</td>\n",
       "    </tr>\n",
       "    <tr>\n",
       "      <th>3</th>\n",
       "      <td>4</td>\n",
       "      <td>888</td>\n",
       "      <td>Gamal</td>\n",
       "    </tr>\n",
       "  </tbody>\n",
       "</table>\n",
       "</div>"
      ],
      "text/plain": [
       "   Index   ID     Name\n",
       "0      1  222    Ahmed\n",
       "1      2  444      Ali\n",
       "2      3  666  Mohamed\n",
       "3      4  888    Gamal"
      ]
     },
     "execution_count": 44,
     "metadata": {},
     "output_type": "execute_result"
    }
   ],
   "source": [
    "df"
   ]
  },
  {
   "cell_type": "code",
   "execution_count": 50,
   "id": "22bab7a2",
   "metadata": {},
   "outputs": [
    {
     "data": {
      "text/html": [
       "<div>\n",
       "<style scoped>\n",
       "    .dataframe tbody tr th:only-of-type {\n",
       "        vertical-align: middle;\n",
       "    }\n",
       "\n",
       "    .dataframe tbody tr th {\n",
       "        vertical-align: top;\n",
       "    }\n",
       "\n",
       "    .dataframe thead th {\n",
       "        text-align: right;\n",
       "    }\n",
       "</style>\n",
       "<table border=\"1\" class=\"dataframe\">\n",
       "  <thead>\n",
       "    <tr style=\"text-align: right;\">\n",
       "      <th></th>\n",
       "      <th>Index</th>\n",
       "      <th>ID</th>\n",
       "      <th>Name</th>\n",
       "    </tr>\n",
       "  </thead>\n",
       "  <tbody>\n",
       "    <tr>\n",
       "      <th>0</th>\n",
       "      <td>1</td>\n",
       "      <td>222</td>\n",
       "      <td>Ahmed</td>\n",
       "    </tr>\n",
       "    <tr>\n",
       "      <th>1</th>\n",
       "      <td>2</td>\n",
       "      <td>444</td>\n",
       "      <td>Ali</td>\n",
       "    </tr>\n",
       "    <tr>\n",
       "      <th>2</th>\n",
       "      <td>3</td>\n",
       "      <td>666</td>\n",
       "      <td>Mohamed</td>\n",
       "    </tr>\n",
       "    <tr>\n",
       "      <th>3</th>\n",
       "      <td>4</td>\n",
       "      <td>888</td>\n",
       "      <td>Gamal</td>\n",
       "    </tr>\n",
       "  </tbody>\n",
       "</table>\n",
       "</div>"
      ],
      "text/plain": [
       "   Index   ID     Name\n",
       "0      1  222    Ahmed\n",
       "1      2  444      Ali\n",
       "2      3  666  Mohamed\n",
       "3      4  888    Gamal"
      ]
     },
     "execution_count": 50,
     "metadata": {},
     "output_type": "execute_result"
    }
   ],
   "source": [
    "df.iloc[:,0:3]  # Access the first element of the 'ID' column using iloc "
   ]
  },
  {
   "cell_type": "code",
   "execution_count": 55,
   "id": "b4289a19",
   "metadata": {},
   "outputs": [
    {
     "name": "stdout",
     "output_type": "stream",
     "text": [
      "   Index   ID\n",
      "0      1  222\n",
      "1      2  444\n",
      "2      3  666\n",
      "3      4  888\n",
      "      Name\n",
      "0    Ahmed\n",
      "1      Ali\n",
      "2  Mohamed\n",
      "3    Gamal\n"
     ]
    }
   ],
   "source": [
    "T = df.iloc[:,0:2]  # Access the first column of the DataFrame using iloc\n",
    "O = df.iloc[:,2:3]  # Access the second column of the DataFrame using iloc\n",
    "print(T)  # Print the first column of the DataFrame\n",
    "print(O)  # Print the second column of the DataFrame"
   ]
  },
  {
   "cell_type": "code",
   "execution_count": 60,
   "id": "98b3d5a7",
   "metadata": {},
   "outputs": [
    {
     "data": {
      "text/plain": [
       "0    112\n",
       "1    224\n",
       "2    336\n",
       "3    448\n",
       "dtype: int64"
      ]
     },
     "execution_count": 60,
     "metadata": {},
     "output_type": "execute_result"
    }
   ],
   "source": [
    "data_1 = [[1,111,'Ahmed'],\n",
    "            [2,222,'Ali'],\n",
    "            [3,333,'Mohamed'],\n",
    "            [4,444,'Gamal']\n",
    "            ]\n",
    "\n",
    "df = pd.DataFrame(data_1, columns=[\"Index\", \"ID\", \"Name\"])  # Create a pandas DataFrame from the list of lists\n",
    "df['Name'] = df['Name'].astype(\"category\")  # Convert the 'Name' column to cataegory type\n",
    "new_co = df.Index + df.ID\n",
    "new_co  # Display the new column created by assigning 'ID' to 'Index'"
   ]
  },
  {
   "cell_type": "code",
   "execution_count": 62,
   "id": "b95a5671",
   "metadata": {},
   "outputs": [
    {
     "data": {
      "text/html": [
       "<div>\n",
       "<style scoped>\n",
       "    .dataframe tbody tr th:only-of-type {\n",
       "        vertical-align: middle;\n",
       "    }\n",
       "\n",
       "    .dataframe tbody tr th {\n",
       "        vertical-align: top;\n",
       "    }\n",
       "\n",
       "    .dataframe thead th {\n",
       "        text-align: right;\n",
       "    }\n",
       "</style>\n",
       "<table border=\"1\" class=\"dataframe\">\n",
       "  <thead>\n",
       "    <tr style=\"text-align: right;\">\n",
       "      <th></th>\n",
       "      <th>Index</th>\n",
       "      <th>ID</th>\n",
       "      <th>Name</th>\n",
       "    </tr>\n",
       "  </thead>\n",
       "  <tbody>\n",
       "    <tr>\n",
       "      <th>0</th>\n",
       "      <td>1</td>\n",
       "      <td>111</td>\n",
       "      <td>Ahmed</td>\n",
       "    </tr>\n",
       "    <tr>\n",
       "      <th>1</th>\n",
       "      <td>2</td>\n",
       "      <td>222</td>\n",
       "      <td>Ali</td>\n",
       "    </tr>\n",
       "    <tr>\n",
       "      <th>2</th>\n",
       "      <td>3</td>\n",
       "      <td>333</td>\n",
       "      <td>Mohamed</td>\n",
       "    </tr>\n",
       "    <tr>\n",
       "      <th>3</th>\n",
       "      <td>4</td>\n",
       "      <td>444</td>\n",
       "      <td>Gamal</td>\n",
       "    </tr>\n",
       "  </tbody>\n",
       "</table>\n",
       "</div>"
      ],
      "text/plain": [
       "   Index   ID     Name\n",
       "0      1  111    Ahmed\n",
       "1      2  222      Ali\n",
       "2      3  333  Mohamed\n",
       "3      4  444    Gamal"
      ]
     },
     "execution_count": 62,
     "metadata": {},
     "output_type": "execute_result"
    }
   ],
   "source": [
    "data_1 = [[1,111,'Ahmed'],\n",
    "            [2,222,'Ali'],\n",
    "            [3,333,'Mohamed'],\n",
    "            [4,444,'Gamal']\n",
    "            ]\n",
    "\n",
    "df = pd.DataFrame(data_1, columns=[\"Index\", \"ID\", \"Name\"])  # Create a pandas DataFrame from the list of lists\n",
    "df['Name'] = df['Name'].astype(\"category\")  # Convert the 'Name' column to cataegory type\n",
    "df"
   ]
  },
  {
   "cell_type": "code",
   "execution_count": 65,
   "id": "0ed8e876",
   "metadata": {},
   "outputs": [
    {
     "data": {
      "text/plain": [
       "0    112\n",
       "1    224\n",
       "2    336\n",
       "3    448\n",
       "dtype: int64"
      ]
     },
     "execution_count": 65,
     "metadata": {},
     "output_type": "execute_result"
    }
   ],
   "source": [
    "new_co = df.Index + df.ID  # Create a new column by adding 'Index' and 'ID'\n",
    "new_co  # Display the new column created by assigning 'ID' to 'Index'"
   ]
  },
  {
   "cell_type": "code",
   "execution_count": 66,
   "id": "8d65e42d",
   "metadata": {},
   "outputs": [
    {
     "data": {
      "text/html": [
       "<div>\n",
       "<style scoped>\n",
       "    .dataframe tbody tr th:only-of-type {\n",
       "        vertical-align: middle;\n",
       "    }\n",
       "\n",
       "    .dataframe tbody tr th {\n",
       "        vertical-align: top;\n",
       "    }\n",
       "\n",
       "    .dataframe thead th {\n",
       "        text-align: right;\n",
       "    }\n",
       "</style>\n",
       "<table border=\"1\" class=\"dataframe\">\n",
       "  <thead>\n",
       "    <tr style=\"text-align: right;\">\n",
       "      <th></th>\n",
       "      <th>Index</th>\n",
       "      <th>ID</th>\n",
       "      <th>Name</th>\n",
       "      <th>New_Column</th>\n",
       "    </tr>\n",
       "  </thead>\n",
       "  <tbody>\n",
       "    <tr>\n",
       "      <th>0</th>\n",
       "      <td>1</td>\n",
       "      <td>111</td>\n",
       "      <td>Ahmed</td>\n",
       "      <td>112</td>\n",
       "    </tr>\n",
       "    <tr>\n",
       "      <th>1</th>\n",
       "      <td>2</td>\n",
       "      <td>222</td>\n",
       "      <td>Ali</td>\n",
       "      <td>224</td>\n",
       "    </tr>\n",
       "    <tr>\n",
       "      <th>2</th>\n",
       "      <td>3</td>\n",
       "      <td>333</td>\n",
       "      <td>Mohamed</td>\n",
       "      <td>336</td>\n",
       "    </tr>\n",
       "    <tr>\n",
       "      <th>3</th>\n",
       "      <td>4</td>\n",
       "      <td>444</td>\n",
       "      <td>Gamal</td>\n",
       "      <td>448</td>\n",
       "    </tr>\n",
       "  </tbody>\n",
       "</table>\n",
       "</div>"
      ],
      "text/plain": [
       "   Index   ID     Name  New_Column\n",
       "0      1  111    Ahmed         112\n",
       "1      2  222      Ali         224\n",
       "2      3  333  Mohamed         336\n",
       "3      4  444    Gamal         448"
      ]
     },
     "execution_count": 66,
     "metadata": {},
     "output_type": "execute_result"
    }
   ],
   "source": [
    "df.insert(3, \"New_Column\", new_co)  # Insert the new column into the DataFrame at index 3\n",
    "df  # Display the DataFrame with the new column inserted"
   ]
  },
  {
   "cell_type": "code",
   "execution_count": 69,
   "id": "4b04a888",
   "metadata": {},
   "outputs": [
    {
     "data": {
      "text/html": [
       "<div>\n",
       "<style scoped>\n",
       "    .dataframe tbody tr th:only-of-type {\n",
       "        vertical-align: middle;\n",
       "    }\n",
       "\n",
       "    .dataframe tbody tr th {\n",
       "        vertical-align: top;\n",
       "    }\n",
       "\n",
       "    .dataframe thead th {\n",
       "        text-align: right;\n",
       "    }\n",
       "</style>\n",
       "<table border=\"1\" class=\"dataframe\">\n",
       "  <thead>\n",
       "    <tr style=\"text-align: right;\">\n",
       "      <th></th>\n",
       "      <th>Index</th>\n",
       "      <th>ID</th>\n",
       "      <th>Name</th>\n",
       "    </tr>\n",
       "  </thead>\n",
       "  <tbody>\n",
       "    <tr>\n",
       "      <th>0</th>\n",
       "      <td>1</td>\n",
       "      <td>111</td>\n",
       "      <td>Ahmed</td>\n",
       "    </tr>\n",
       "    <tr>\n",
       "      <th>1</th>\n",
       "      <td>2</td>\n",
       "      <td>222</td>\n",
       "      <td>Ali</td>\n",
       "    </tr>\n",
       "    <tr>\n",
       "      <th>2</th>\n",
       "      <td>3</td>\n",
       "      <td>333</td>\n",
       "      <td>Mohamed</td>\n",
       "    </tr>\n",
       "    <tr>\n",
       "      <th>3</th>\n",
       "      <td>4</td>\n",
       "      <td>444</td>\n",
       "      <td>Gamal</td>\n",
       "    </tr>\n",
       "  </tbody>\n",
       "</table>\n",
       "</div>"
      ],
      "text/plain": [
       "   Index   ID     Name\n",
       "0      1  111    Ahmed\n",
       "1      2  222      Ali\n",
       "2      3  333  Mohamed\n",
       "3      4  444    Gamal"
      ]
     },
     "execution_count": 69,
     "metadata": {},
     "output_type": "execute_result"
    }
   ],
   "source": [
    "df.drop(\"New_Column\", axis=1 , inplace= True)  # Drop the 'new_co' column from the DataFrame\n",
    "df  # Display the DataFrame after dropping the 'new_co' column"
   ]
  },
  {
   "cell_type": "code",
   "execution_count": 71,
   "id": "1908a863",
   "metadata": {},
   "outputs": [
    {
     "data": {
      "text/html": [
       "<div>\n",
       "<style scoped>\n",
       "    .dataframe tbody tr th:only-of-type {\n",
       "        vertical-align: middle;\n",
       "    }\n",
       "\n",
       "    .dataframe tbody tr th {\n",
       "        vertical-align: top;\n",
       "    }\n",
       "\n",
       "    .dataframe thead th {\n",
       "        text-align: right;\n",
       "    }\n",
       "</style>\n",
       "<table border=\"1\" class=\"dataframe\">\n",
       "  <thead>\n",
       "    <tr style=\"text-align: right;\">\n",
       "      <th></th>\n",
       "      <th>1|24|M|technician|85711</th>\n",
       "    </tr>\n",
       "  </thead>\n",
       "  <tbody>\n",
       "    <tr>\n",
       "      <th>0</th>\n",
       "      <td>2|53|F|other|94043</td>\n",
       "    </tr>\n",
       "    <tr>\n",
       "      <th>1</th>\n",
       "      <td>3|23|M|writer|32067</td>\n",
       "    </tr>\n",
       "    <tr>\n",
       "      <th>2</th>\n",
       "      <td>4|24|M|technician|43537</td>\n",
       "    </tr>\n",
       "    <tr>\n",
       "      <th>3</th>\n",
       "      <td>5|33|F|other|15213</td>\n",
       "    </tr>\n",
       "    <tr>\n",
       "      <th>4</th>\n",
       "      <td>6|42|M|executive|98101</td>\n",
       "    </tr>\n",
       "  </tbody>\n",
       "</table>\n",
       "</div>"
      ],
      "text/plain": [
       "   1|24|M|technician|85711\n",
       "0       2|53|F|other|94043\n",
       "1      3|23|M|writer|32067\n",
       "2  4|24|M|technician|43537\n",
       "3       5|33|F|other|15213\n",
       "4   6|42|M|executive|98101"
      ]
     },
     "execution_count": 71,
     "metadata": {},
     "output_type": "execute_result"
    }
   ],
   "source": [
    "#to read table from linke or you can put the path of your own tabl\n",
    "data=pd.read_table('http://bit.ly/movieusers')\n",
    "data.head()  # Display the first few rows of the DataFrame read from the link"
   ]
  },
  {
   "cell_type": "code",
   "execution_count": null,
   "id": "4efcce58",
   "metadata": {},
   "outputs": [
    {
     "data": {
      "text/html": [
       "<div>\n",
       "<style scoped>\n",
       "    .dataframe tbody tr th:only-of-type {\n",
       "        vertical-align: middle;\n",
       "    }\n",
       "\n",
       "    .dataframe tbody tr th {\n",
       "        vertical-align: top;\n",
       "    }\n",
       "\n",
       "    .dataframe thead th {\n",
       "        text-align: right;\n",
       "    }\n",
       "</style>\n",
       "<table border=\"1\" class=\"dataframe\">\n",
       "  <thead>\n",
       "    <tr style=\"text-align: right;\">\n",
       "      <th></th>\n",
       "      <th>1</th>\n",
       "      <th>24</th>\n",
       "      <th>M</th>\n",
       "      <th>technician</th>\n",
       "      <th>85711</th>\n",
       "    </tr>\n",
       "  </thead>\n",
       "  <tbody>\n",
       "    <tr>\n",
       "      <th>0</th>\n",
       "      <td>2</td>\n",
       "      <td>53</td>\n",
       "      <td>F</td>\n",
       "      <td>other</td>\n",
       "      <td>94043</td>\n",
       "    </tr>\n",
       "    <tr>\n",
       "      <th>1</th>\n",
       "      <td>3</td>\n",
       "      <td>23</td>\n",
       "      <td>M</td>\n",
       "      <td>writer</td>\n",
       "      <td>32067</td>\n",
       "    </tr>\n",
       "    <tr>\n",
       "      <th>2</th>\n",
       "      <td>4</td>\n",
       "      <td>24</td>\n",
       "      <td>M</td>\n",
       "      <td>technician</td>\n",
       "      <td>43537</td>\n",
       "    </tr>\n",
       "    <tr>\n",
       "      <th>3</th>\n",
       "      <td>5</td>\n",
       "      <td>33</td>\n",
       "      <td>F</td>\n",
       "      <td>other</td>\n",
       "      <td>15213</td>\n",
       "    </tr>\n",
       "    <tr>\n",
       "      <th>4</th>\n",
       "      <td>6</td>\n",
       "      <td>42</td>\n",
       "      <td>M</td>\n",
       "      <td>executive</td>\n",
       "      <td>98101</td>\n",
       "    </tr>\n",
       "    <tr>\n",
       "      <th>...</th>\n",
       "      <td>...</td>\n",
       "      <td>...</td>\n",
       "      <td>...</td>\n",
       "      <td>...</td>\n",
       "      <td>...</td>\n",
       "    </tr>\n",
       "    <tr>\n",
       "      <th>937</th>\n",
       "      <td>939</td>\n",
       "      <td>26</td>\n",
       "      <td>F</td>\n",
       "      <td>student</td>\n",
       "      <td>33319</td>\n",
       "    </tr>\n",
       "    <tr>\n",
       "      <th>938</th>\n",
       "      <td>940</td>\n",
       "      <td>32</td>\n",
       "      <td>M</td>\n",
       "      <td>administrator</td>\n",
       "      <td>02215</td>\n",
       "    </tr>\n",
       "    <tr>\n",
       "      <th>939</th>\n",
       "      <td>941</td>\n",
       "      <td>20</td>\n",
       "      <td>M</td>\n",
       "      <td>student</td>\n",
       "      <td>97229</td>\n",
       "    </tr>\n",
       "    <tr>\n",
       "      <th>940</th>\n",
       "      <td>942</td>\n",
       "      <td>48</td>\n",
       "      <td>F</td>\n",
       "      <td>librarian</td>\n",
       "      <td>78209</td>\n",
       "    </tr>\n",
       "    <tr>\n",
       "      <th>941</th>\n",
       "      <td>943</td>\n",
       "      <td>22</td>\n",
       "      <td>M</td>\n",
       "      <td>student</td>\n",
       "      <td>77841</td>\n",
       "    </tr>\n",
       "  </tbody>\n",
       "</table>\n",
       "<p>942 rows × 5 columns</p>\n",
       "</div>"
      ],
      "text/plain": [
       "       1  24  M     technician  85711\n",
       "0      2  53  F          other  94043\n",
       "1      3  23  M         writer  32067\n",
       "2      4  24  M     technician  43537\n",
       "3      5  33  F          other  15213\n",
       "4      6  42  M      executive  98101\n",
       "..   ...  .. ..            ...    ...\n",
       "937  939  26  F        student  33319\n",
       "938  940  32  M  administrator  02215\n",
       "939  941  20  M        student  97229\n",
       "940  942  48  F      librarian  78209\n",
       "941  943  22  M        student  77841\n",
       "\n",
       "[942 rows x 5 columns]"
      ]
     },
     "execution_count": 72,
     "metadata": {},
     "output_type": "execute_result"
    }
   ],
   "source": [
    "data=pd.read_table('http://bit.ly/movieusers', sep='|')  # Read the table from the link with a comma as the separator\n",
    "data  # Display the first few rows of the DataFrame read from the link"
   ]
  },
  {
   "cell_type": "code",
   "execution_count": 73,
   "id": "783abc1c",
   "metadata": {},
   "outputs": [
    {
     "data": {
      "text/html": [
       "<div>\n",
       "<style scoped>\n",
       "    .dataframe tbody tr th:only-of-type {\n",
       "        vertical-align: middle;\n",
       "    }\n",
       "\n",
       "    .dataframe tbody tr th {\n",
       "        vertical-align: top;\n",
       "    }\n",
       "\n",
       "    .dataframe thead th {\n",
       "        text-align: right;\n",
       "    }\n",
       "</style>\n",
       "<table border=\"1\" class=\"dataframe\">\n",
       "  <thead>\n",
       "    <tr style=\"text-align: right;\">\n",
       "      <th></th>\n",
       "      <th>0</th>\n",
       "      <th>1</th>\n",
       "      <th>2</th>\n",
       "      <th>3</th>\n",
       "      <th>4</th>\n",
       "    </tr>\n",
       "  </thead>\n",
       "  <tbody>\n",
       "    <tr>\n",
       "      <th>0</th>\n",
       "      <td>1</td>\n",
       "      <td>24</td>\n",
       "      <td>M</td>\n",
       "      <td>technician</td>\n",
       "      <td>85711</td>\n",
       "    </tr>\n",
       "    <tr>\n",
       "      <th>1</th>\n",
       "      <td>2</td>\n",
       "      <td>53</td>\n",
       "      <td>F</td>\n",
       "      <td>other</td>\n",
       "      <td>94043</td>\n",
       "    </tr>\n",
       "    <tr>\n",
       "      <th>2</th>\n",
       "      <td>3</td>\n",
       "      <td>23</td>\n",
       "      <td>M</td>\n",
       "      <td>writer</td>\n",
       "      <td>32067</td>\n",
       "    </tr>\n",
       "    <tr>\n",
       "      <th>3</th>\n",
       "      <td>4</td>\n",
       "      <td>24</td>\n",
       "      <td>M</td>\n",
       "      <td>technician</td>\n",
       "      <td>43537</td>\n",
       "    </tr>\n",
       "    <tr>\n",
       "      <th>4</th>\n",
       "      <td>5</td>\n",
       "      <td>33</td>\n",
       "      <td>F</td>\n",
       "      <td>other</td>\n",
       "      <td>15213</td>\n",
       "    </tr>\n",
       "  </tbody>\n",
       "</table>\n",
       "</div>"
      ],
      "text/plain": [
       "   0   1  2           3      4\n",
       "0  1  24  M  technician  85711\n",
       "1  2  53  F       other  94043\n",
       "2  3  23  M      writer  32067\n",
       "3  4  24  M  technician  43537\n",
       "4  5  33  F       other  15213"
      ]
     },
     "execution_count": 73,
     "metadata": {},
     "output_type": "execute_result"
    }
   ],
   "source": [
    "data=pd.read_table('http://bit.ly/movieusers', sep='|', header= None)  # Read the table from the link with a comma as the separator\n",
    "data.head()  # Display the first few rows of the DataFrame read from the link"
   ]
  },
  {
   "cell_type": "code",
   "execution_count": 4,
   "id": "c57c09dc",
   "metadata": {},
   "outputs": [
    {
     "data": {
      "text/html": [
       "<div>\n",
       "<style scoped>\n",
       "    .dataframe tbody tr th:only-of-type {\n",
       "        vertical-align: middle;\n",
       "    }\n",
       "\n",
       "    .dataframe tbody tr th {\n",
       "        vertical-align: top;\n",
       "    }\n",
       "\n",
       "    .dataframe thead th {\n",
       "        text-align: right;\n",
       "    }\n",
       "</style>\n",
       "<table border=\"1\" class=\"dataframe\">\n",
       "  <thead>\n",
       "    <tr style=\"text-align: right;\">\n",
       "      <th></th>\n",
       "      <th>Index</th>\n",
       "      <th>age</th>\n",
       "      <th>gander</th>\n",
       "      <th>dept</th>\n",
       "      <th>Id</th>\n",
       "    </tr>\n",
       "  </thead>\n",
       "  <tbody>\n",
       "    <tr>\n",
       "      <th>0</th>\n",
       "      <td>1</td>\n",
       "      <td>24</td>\n",
       "      <td>M</td>\n",
       "      <td>technician</td>\n",
       "      <td>85711</td>\n",
       "    </tr>\n",
       "    <tr>\n",
       "      <th>1</th>\n",
       "      <td>2</td>\n",
       "      <td>53</td>\n",
       "      <td>F</td>\n",
       "      <td>other</td>\n",
       "      <td>94043</td>\n",
       "    </tr>\n",
       "    <tr>\n",
       "      <th>2</th>\n",
       "      <td>3</td>\n",
       "      <td>23</td>\n",
       "      <td>M</td>\n",
       "      <td>writer</td>\n",
       "      <td>32067</td>\n",
       "    </tr>\n",
       "    <tr>\n",
       "      <th>3</th>\n",
       "      <td>4</td>\n",
       "      <td>24</td>\n",
       "      <td>M</td>\n",
       "      <td>technician</td>\n",
       "      <td>43537</td>\n",
       "    </tr>\n",
       "    <tr>\n",
       "      <th>4</th>\n",
       "      <td>5</td>\n",
       "      <td>33</td>\n",
       "      <td>F</td>\n",
       "      <td>other</td>\n",
       "      <td>15213</td>\n",
       "    </tr>\n",
       "  </tbody>\n",
       "</table>\n",
       "</div>"
      ],
      "text/plain": [
       "   Index  age gander        dept     Id\n",
       "0      1   24      M  technician  85711\n",
       "1      2   53      F       other  94043\n",
       "2      3   23      M      writer  32067\n",
       "3      4   24      M  technician  43537\n",
       "4      5   33      F       other  15213"
      ]
     },
     "execution_count": 4,
     "metadata": {},
     "output_type": "execute_result"
    }
   ],
   "source": [
    "header_colums = ['Index' , 'age', 'gander', 'dept', 'Id']\n",
    "data=pd.read_table('http://bit.ly/movieusers', sep='|', header= None , names=  header_colums)  # Read the table from the link with a comma as the separator\n",
    "data.head()  # Display the first few rows of the DataFrame read from the link"
   ]
  },
  {
   "cell_type": "code",
   "execution_count": 8,
   "id": "11871e70",
   "metadata": {},
   "outputs": [
    {
     "data": {
      "text/html": [
       "<div>\n",
       "<style scoped>\n",
       "    .dataframe tbody tr th:only-of-type {\n",
       "        vertical-align: middle;\n",
       "    }\n",
       "\n",
       "    .dataframe tbody tr th {\n",
       "        vertical-align: top;\n",
       "    }\n",
       "\n",
       "    .dataframe thead th {\n",
       "        text-align: right;\n",
       "    }\n",
       "</style>\n",
       "<table border=\"1\" class=\"dataframe\">\n",
       "  <thead>\n",
       "    <tr style=\"text-align: right;\">\n",
       "      <th></th>\n",
       "      <th>City</th>\n",
       "      <th>Colors Reported</th>\n",
       "      <th>Shape Reported</th>\n",
       "      <th>State</th>\n",
       "      <th>Time</th>\n",
       "    </tr>\n",
       "  </thead>\n",
       "  <tbody>\n",
       "    <tr>\n",
       "      <th>0</th>\n",
       "      <td>Ithaca</td>\n",
       "      <td>NaN</td>\n",
       "      <td>TRIANGLE</td>\n",
       "      <td>NY</td>\n",
       "      <td>6/1/1930 22:00</td>\n",
       "    </tr>\n",
       "    <tr>\n",
       "      <th>1</th>\n",
       "      <td>Willingboro</td>\n",
       "      <td>NaN</td>\n",
       "      <td>OTHER</td>\n",
       "      <td>NJ</td>\n",
       "      <td>6/30/1930 20:00</td>\n",
       "    </tr>\n",
       "    <tr>\n",
       "      <th>2</th>\n",
       "      <td>Holyoke</td>\n",
       "      <td>NaN</td>\n",
       "      <td>OVAL</td>\n",
       "      <td>CO</td>\n",
       "      <td>2/15/1931 14:00</td>\n",
       "    </tr>\n",
       "    <tr>\n",
       "      <th>3</th>\n",
       "      <td>Abilene</td>\n",
       "      <td>NaN</td>\n",
       "      <td>DISK</td>\n",
       "      <td>KS</td>\n",
       "      <td>6/1/1931 13:00</td>\n",
       "    </tr>\n",
       "    <tr>\n",
       "      <th>4</th>\n",
       "      <td>New York Worlds Fair</td>\n",
       "      <td>NaN</td>\n",
       "      <td>LIGHT</td>\n",
       "      <td>NY</td>\n",
       "      <td>4/18/1933 19:00</td>\n",
       "    </tr>\n",
       "    <tr>\n",
       "      <th>5</th>\n",
       "      <td>Valley City</td>\n",
       "      <td>NaN</td>\n",
       "      <td>DISK</td>\n",
       "      <td>ND</td>\n",
       "      <td>9/15/1934 15:30</td>\n",
       "    </tr>\n",
       "    <tr>\n",
       "      <th>6</th>\n",
       "      <td>Crater Lake</td>\n",
       "      <td>NaN</td>\n",
       "      <td>CIRCLE</td>\n",
       "      <td>CA</td>\n",
       "      <td>6/15/1935 0:00</td>\n",
       "    </tr>\n",
       "    <tr>\n",
       "      <th>7</th>\n",
       "      <td>Alma</td>\n",
       "      <td>NaN</td>\n",
       "      <td>DISK</td>\n",
       "      <td>MI</td>\n",
       "      <td>7/15/1936 0:00</td>\n",
       "    </tr>\n",
       "    <tr>\n",
       "      <th>8</th>\n",
       "      <td>Eklutna</td>\n",
       "      <td>NaN</td>\n",
       "      <td>CIGAR</td>\n",
       "      <td>AK</td>\n",
       "      <td>10/15/1936 17:00</td>\n",
       "    </tr>\n",
       "    <tr>\n",
       "      <th>9</th>\n",
       "      <td>Hubbard</td>\n",
       "      <td>NaN</td>\n",
       "      <td>CYLINDER</td>\n",
       "      <td>OR</td>\n",
       "      <td>6/15/1937 0:00</td>\n",
       "    </tr>\n",
       "  </tbody>\n",
       "</table>\n",
       "</div>"
      ],
      "text/plain": [
       "                   City Colors Reported Shape Reported State              Time\n",
       "0                Ithaca             NaN       TRIANGLE    NY    6/1/1930 22:00\n",
       "1           Willingboro             NaN          OTHER    NJ   6/30/1930 20:00\n",
       "2               Holyoke             NaN           OVAL    CO   2/15/1931 14:00\n",
       "3               Abilene             NaN           DISK    KS    6/1/1931 13:00\n",
       "4  New York Worlds Fair             NaN          LIGHT    NY   4/18/1933 19:00\n",
       "5           Valley City             NaN           DISK    ND   9/15/1934 15:30\n",
       "6           Crater Lake             NaN         CIRCLE    CA    6/15/1935 0:00\n",
       "7                  Alma             NaN           DISK    MI    7/15/1936 0:00\n",
       "8               Eklutna             NaN          CIGAR    AK  10/15/1936 17:00\n",
       "9               Hubbard             NaN       CYLINDER    OR    6/15/1937 0:00"
      ]
     },
     "execution_count": 8,
     "metadata": {},
     "output_type": "execute_result"
    }
   ],
   "source": [
    "user_info=pd.read_csv('http://bit.ly/uforeports')\n",
    "user_info.head(10)  # Display the first few rows of the DataFrame read from the link"
   ]
  },
  {
   "cell_type": "code",
   "execution_count": 78,
   "id": "8e1cb24a",
   "metadata": {},
   "outputs": [
    {
     "data": {
      "text/plain": [
       "0                  Ithaca\n",
       "1             Willingboro\n",
       "2                 Holyoke\n",
       "3                 Abilene\n",
       "4    New York Worlds Fair\n",
       "5             Valley City\n",
       "6             Crater Lake\n",
       "7                    Alma\n",
       "8                 Eklutna\n",
       "9                 Hubbard\n",
       "Name: City, dtype: object"
      ]
     },
     "execution_count": 78,
     "metadata": {},
     "output_type": "execute_result"
    }
   ],
   "source": [
    "user_info.City.head(10)  # Display the first few rows of the 'City' column in the DataFrame"
   ]
  },
  {
   "cell_type": "code",
   "execution_count": 81,
   "id": "dae9ec26",
   "metadata": {},
   "outputs": [
    {
     "data": {
      "text/plain": [
       "0    NaN\n",
       "1    NaN\n",
       "2    NaN\n",
       "3    NaN\n",
       "4    NaN\n",
       "Name: Colors Reported, dtype: object"
      ]
     },
     "execution_count": 81,
     "metadata": {},
     "output_type": "execute_result"
    }
   ],
   "source": [
    "user_info['Colors Reported'].head()  # Display the first few rows of the 'Colors Reportedcolors' column in the DataFrame"
   ]
  },
  {
   "cell_type": "code",
   "execution_count": null,
   "id": "279e3a7f",
   "metadata": {},
   "outputs": [
    {
     "data": {
      "text/plain": [
       "(18241, 5)"
      ]
     },
     "execution_count": 83,
     "metadata": {},
     "output_type": "execute_result"
    }
   ],
   "source": [
    "user_info.shape  # Display the shape of the DataFrame"
   ]
  },
  {
   "cell_type": "code",
   "execution_count": 91,
   "id": "2a64c9c5",
   "metadata": {},
   "outputs": [
    {
     "data": {
      "text/plain": [
       "0                      Ithaca NY\n",
       "1                 Willingboro NJ\n",
       "2                     Holyoke CO\n",
       "3                     Abilene KS\n",
       "4        New York Worlds Fair NY\n",
       "                  ...           \n",
       "18236              Grant Park IL\n",
       "18237             Spirit Lake IA\n",
       "18238             Eagle River WI\n",
       "18239             Eagle River WI\n",
       "18240                    Ybor FL\n",
       "Length: 18241, dtype: object"
      ]
     },
     "execution_count": 91,
     "metadata": {},
     "output_type": "execute_result"
    }
   ],
   "source": [
    "user_info.City + ' ' + user_info.State\n"
   ]
  },
  {
   "cell_type": "code",
   "execution_count": 9,
   "id": "07ab1caa",
   "metadata": {},
   "outputs": [
    {
     "data": {
      "text/html": [
       "<div>\n",
       "<style scoped>\n",
       "    .dataframe tbody tr th:only-of-type {\n",
       "        vertical-align: middle;\n",
       "    }\n",
       "\n",
       "    .dataframe tbody tr th {\n",
       "        vertical-align: top;\n",
       "    }\n",
       "\n",
       "    .dataframe thead th {\n",
       "        text-align: right;\n",
       "    }\n",
       "</style>\n",
       "<table border=\"1\" class=\"dataframe\">\n",
       "  <thead>\n",
       "    <tr style=\"text-align: right;\">\n",
       "      <th></th>\n",
       "      <th>City</th>\n",
       "      <th>Colors Reported</th>\n",
       "      <th>Shape Reported</th>\n",
       "      <th>State</th>\n",
       "      <th>Time</th>\n",
       "      <th>location</th>\n",
       "    </tr>\n",
       "  </thead>\n",
       "  <tbody>\n",
       "    <tr>\n",
       "      <th>0</th>\n",
       "      <td>Ithaca</td>\n",
       "      <td>NaN</td>\n",
       "      <td>TRIANGLE</td>\n",
       "      <td>NY</td>\n",
       "      <td>6/1/1930 22:00</td>\n",
       "      <td>Ithaca NY</td>\n",
       "    </tr>\n",
       "    <tr>\n",
       "      <th>1</th>\n",
       "      <td>Willingboro</td>\n",
       "      <td>NaN</td>\n",
       "      <td>OTHER</td>\n",
       "      <td>NJ</td>\n",
       "      <td>6/30/1930 20:00</td>\n",
       "      <td>Willingboro NJ</td>\n",
       "    </tr>\n",
       "    <tr>\n",
       "      <th>2</th>\n",
       "      <td>Holyoke</td>\n",
       "      <td>NaN</td>\n",
       "      <td>OVAL</td>\n",
       "      <td>CO</td>\n",
       "      <td>2/15/1931 14:00</td>\n",
       "      <td>Holyoke CO</td>\n",
       "    </tr>\n",
       "    <tr>\n",
       "      <th>3</th>\n",
       "      <td>Abilene</td>\n",
       "      <td>NaN</td>\n",
       "      <td>DISK</td>\n",
       "      <td>KS</td>\n",
       "      <td>6/1/1931 13:00</td>\n",
       "      <td>Abilene KS</td>\n",
       "    </tr>\n",
       "    <tr>\n",
       "      <th>4</th>\n",
       "      <td>New York Worlds Fair</td>\n",
       "      <td>NaN</td>\n",
       "      <td>LIGHT</td>\n",
       "      <td>NY</td>\n",
       "      <td>4/18/1933 19:00</td>\n",
       "      <td>New York Worlds Fair NY</td>\n",
       "    </tr>\n",
       "  </tbody>\n",
       "</table>\n",
       "</div>"
      ],
      "text/plain": [
       "                   City Colors Reported Shape Reported State             Time  \\\n",
       "0                Ithaca             NaN       TRIANGLE    NY   6/1/1930 22:00   \n",
       "1           Willingboro             NaN          OTHER    NJ  6/30/1930 20:00   \n",
       "2               Holyoke             NaN           OVAL    CO  2/15/1931 14:00   \n",
       "3               Abilene             NaN           DISK    KS   6/1/1931 13:00   \n",
       "4  New York Worlds Fair             NaN          LIGHT    NY  4/18/1933 19:00   \n",
       "\n",
       "                  location  \n",
       "0                Ithaca NY  \n",
       "1           Willingboro NJ  \n",
       "2               Holyoke CO  \n",
       "3               Abilene KS  \n",
       "4  New York Worlds Fair NY  "
      ]
     },
     "execution_count": 9,
     "metadata": {},
     "output_type": "execute_result"
    }
   ],
   "source": [
    "user_info['location'] = user_info.City + ' ' + user_info.State\n",
    "user_info.head()  # Display the first few rows of the DataFrame with the new 'location' column"
   ]
  },
  {
   "cell_type": "code",
   "execution_count": 10,
   "id": "6029e054",
   "metadata": {},
   "outputs": [],
   "source": [
    "user_info.to_csv(\"new_data.csv\") # Save the DataFrame to a CSV file named \"new_data.csv\""
   ]
  },
  {
   "cell_type": "code",
   "execution_count": 4,
   "id": "3680bf67",
   "metadata": {},
   "outputs": [
    {
     "data": {
      "text/html": [
       "<div>\n",
       "<style scoped>\n",
       "    .dataframe tbody tr th:only-of-type {\n",
       "        vertical-align: middle;\n",
       "    }\n",
       "\n",
       "    .dataframe tbody tr th {\n",
       "        vertical-align: top;\n",
       "    }\n",
       "\n",
       "    .dataframe thead th {\n",
       "        text-align: right;\n",
       "    }\n",
       "</style>\n",
       "<table border=\"1\" class=\"dataframe\">\n",
       "  <thead>\n",
       "    <tr style=\"text-align: right;\">\n",
       "      <th></th>\n",
       "      <th>Unnamed: 0</th>\n",
       "      <th>City</th>\n",
       "      <th>Colors Reported</th>\n",
       "      <th>Shape Reported</th>\n",
       "      <th>State</th>\n",
       "      <th>Time</th>\n",
       "      <th>location</th>\n",
       "    </tr>\n",
       "  </thead>\n",
       "  <tbody>\n",
       "    <tr>\n",
       "      <th>0</th>\n",
       "      <td>0</td>\n",
       "      <td>Ithaca</td>\n",
       "      <td>NaN</td>\n",
       "      <td>TRIANGLE</td>\n",
       "      <td>NY</td>\n",
       "      <td>6/1/1930 22:00</td>\n",
       "      <td>Ithaca NY</td>\n",
       "    </tr>\n",
       "    <tr>\n",
       "      <th>1</th>\n",
       "      <td>1</td>\n",
       "      <td>Willingboro</td>\n",
       "      <td>NaN</td>\n",
       "      <td>OTHER</td>\n",
       "      <td>NJ</td>\n",
       "      <td>6/30/1930 20:00</td>\n",
       "      <td>Willingboro NJ</td>\n",
       "    </tr>\n",
       "    <tr>\n",
       "      <th>2</th>\n",
       "      <td>2</td>\n",
       "      <td>Holyoke</td>\n",
       "      <td>NaN</td>\n",
       "      <td>OVAL</td>\n",
       "      <td>CO</td>\n",
       "      <td>2/15/1931 14:00</td>\n",
       "      <td>Holyoke CO</td>\n",
       "    </tr>\n",
       "    <tr>\n",
       "      <th>3</th>\n",
       "      <td>3</td>\n",
       "      <td>Abilene</td>\n",
       "      <td>NaN</td>\n",
       "      <td>DISK</td>\n",
       "      <td>KS</td>\n",
       "      <td>6/1/1931 13:00</td>\n",
       "      <td>Abilene KS</td>\n",
       "    </tr>\n",
       "    <tr>\n",
       "      <th>4</th>\n",
       "      <td>4</td>\n",
       "      <td>New York Worlds Fair</td>\n",
       "      <td>NaN</td>\n",
       "      <td>LIGHT</td>\n",
       "      <td>NY</td>\n",
       "      <td>4/18/1933 19:00</td>\n",
       "      <td>New York Worlds Fair NY</td>\n",
       "    </tr>\n",
       "  </tbody>\n",
       "</table>\n",
       "</div>"
      ],
      "text/plain": [
       "   Unnamed: 0                  City Colors Reported Shape Reported State  \\\n",
       "0           0                Ithaca             NaN       TRIANGLE    NY   \n",
       "1           1           Willingboro             NaN          OTHER    NJ   \n",
       "2           2               Holyoke             NaN           OVAL    CO   \n",
       "3           3               Abilene             NaN           DISK    KS   \n",
       "4           4  New York Worlds Fair             NaN          LIGHT    NY   \n",
       "\n",
       "              Time                 location  \n",
       "0   6/1/1930 22:00                Ithaca NY  \n",
       "1  6/30/1930 20:00           Willingboro NJ  \n",
       "2  2/15/1931 14:00               Holyoke CO  \n",
       "3   6/1/1931 13:00               Abilene KS  \n",
       "4  4/18/1933 19:00  New York Worlds Fair NY  "
      ]
     },
     "execution_count": 4,
     "metadata": {},
     "output_type": "execute_result"
    }
   ],
   "source": [
    "new_file = pd.read_csv(\"new_data.csv\")  # Read the newly created CSV file\n",
    "new_file.head()  # Display the first few rows of the newly created CSV file"
   ]
  },
  {
   "cell_type": "code",
   "execution_count": 6,
   "id": "f913153b",
   "metadata": {},
   "outputs": [
    {
     "data": {
      "text/html": [
       "<div>\n",
       "<style scoped>\n",
       "    .dataframe tbody tr th:only-of-type {\n",
       "        vertical-align: middle;\n",
       "    }\n",
       "\n",
       "    .dataframe tbody tr th {\n",
       "        vertical-align: top;\n",
       "    }\n",
       "\n",
       "    .dataframe thead th {\n",
       "        text-align: right;\n",
       "    }\n",
       "</style>\n",
       "<table border=\"1\" class=\"dataframe\">\n",
       "  <thead>\n",
       "    <tr style=\"text-align: right;\">\n",
       "      <th></th>\n",
       "      <th>Unnamed: 0</th>\n",
       "      <th>City</th>\n",
       "      <th>Colors Reported</th>\n",
       "      <th>Shape Reported</th>\n",
       "      <th>State</th>\n",
       "      <th>Time</th>\n",
       "      <th>location</th>\n",
       "    </tr>\n",
       "  </thead>\n",
       "  <tbody>\n",
       "    <tr>\n",
       "      <th>18221</th>\n",
       "      <td>18221</td>\n",
       "      <td>Franklin</td>\n",
       "      <td>NaN</td>\n",
       "      <td>DISK</td>\n",
       "      <td>NH</td>\n",
       "      <td>12/29/2000 20:50</td>\n",
       "      <td>Franklin NH</td>\n",
       "    </tr>\n",
       "    <tr>\n",
       "      <th>18222</th>\n",
       "      <td>18222</td>\n",
       "      <td>Albrightsville</td>\n",
       "      <td>NaN</td>\n",
       "      <td>OTHER</td>\n",
       "      <td>PA</td>\n",
       "      <td>12/29/2000 21:00</td>\n",
       "      <td>Albrightsville PA</td>\n",
       "    </tr>\n",
       "    <tr>\n",
       "      <th>18223</th>\n",
       "      <td>18223</td>\n",
       "      <td>Greenville</td>\n",
       "      <td>NaN</td>\n",
       "      <td>NaN</td>\n",
       "      <td>SC</td>\n",
       "      <td>12/29/2000 22:00</td>\n",
       "      <td>Greenville SC</td>\n",
       "    </tr>\n",
       "    <tr>\n",
       "      <th>18224</th>\n",
       "      <td>18224</td>\n",
       "      <td>Eufaula</td>\n",
       "      <td>NaN</td>\n",
       "      <td>DISK</td>\n",
       "      <td>OK</td>\n",
       "      <td>12/29/2000 23:30</td>\n",
       "      <td>Eufaula OK</td>\n",
       "    </tr>\n",
       "    <tr>\n",
       "      <th>18225</th>\n",
       "      <td>18225</td>\n",
       "      <td>Simi Valley</td>\n",
       "      <td>NaN</td>\n",
       "      <td>FORMATION</td>\n",
       "      <td>CA</td>\n",
       "      <td>12/30/2000 10:00</td>\n",
       "      <td>Simi Valley CA</td>\n",
       "    </tr>\n",
       "    <tr>\n",
       "      <th>18226</th>\n",
       "      <td>18226</td>\n",
       "      <td>San Francisco</td>\n",
       "      <td>NaN</td>\n",
       "      <td>FORMATION</td>\n",
       "      <td>CA</td>\n",
       "      <td>12/30/2000 22:00</td>\n",
       "      <td>San Francisco CA</td>\n",
       "    </tr>\n",
       "    <tr>\n",
       "      <th>18227</th>\n",
       "      <td>18227</td>\n",
       "      <td>San Francisco</td>\n",
       "      <td>NaN</td>\n",
       "      <td>TRIANGLE</td>\n",
       "      <td>CA</td>\n",
       "      <td>12/30/2000 22:00</td>\n",
       "      <td>San Francisco CA</td>\n",
       "    </tr>\n",
       "    <tr>\n",
       "      <th>18228</th>\n",
       "      <td>18228</td>\n",
       "      <td>Kingsville</td>\n",
       "      <td>NaN</td>\n",
       "      <td>LIGHT</td>\n",
       "      <td>TX</td>\n",
       "      <td>12/31/2000 4:00</td>\n",
       "      <td>Kingsville TX</td>\n",
       "    </tr>\n",
       "    <tr>\n",
       "      <th>18229</th>\n",
       "      <td>18229</td>\n",
       "      <td>Chicago</td>\n",
       "      <td>NaN</td>\n",
       "      <td>DISK</td>\n",
       "      <td>IL</td>\n",
       "      <td>12/31/2000 11:45</td>\n",
       "      <td>Chicago IL</td>\n",
       "    </tr>\n",
       "    <tr>\n",
       "      <th>18230</th>\n",
       "      <td>18230</td>\n",
       "      <td>Pismo Beach</td>\n",
       "      <td>NaN</td>\n",
       "      <td>OVAL</td>\n",
       "      <td>CA</td>\n",
       "      <td>12/31/2000 20:00</td>\n",
       "      <td>Pismo Beach CA</td>\n",
       "    </tr>\n",
       "    <tr>\n",
       "      <th>18231</th>\n",
       "      <td>18231</td>\n",
       "      <td>Pismo Beach</td>\n",
       "      <td>NaN</td>\n",
       "      <td>OVAL</td>\n",
       "      <td>CA</td>\n",
       "      <td>12/31/2000 20:00</td>\n",
       "      <td>Pismo Beach CA</td>\n",
       "    </tr>\n",
       "    <tr>\n",
       "      <th>18232</th>\n",
       "      <td>18232</td>\n",
       "      <td>Lodi</td>\n",
       "      <td>NaN</td>\n",
       "      <td>NaN</td>\n",
       "      <td>WI</td>\n",
       "      <td>12/31/2000 20:30</td>\n",
       "      <td>Lodi WI</td>\n",
       "    </tr>\n",
       "    <tr>\n",
       "      <th>18233</th>\n",
       "      <td>18233</td>\n",
       "      <td>Anchorage</td>\n",
       "      <td>RED</td>\n",
       "      <td>VARIOUS</td>\n",
       "      <td>AK</td>\n",
       "      <td>12/31/2000 21:00</td>\n",
       "      <td>Anchorage AK</td>\n",
       "    </tr>\n",
       "    <tr>\n",
       "      <th>18234</th>\n",
       "      <td>18234</td>\n",
       "      <td>Capitola</td>\n",
       "      <td>NaN</td>\n",
       "      <td>TRIANGLE</td>\n",
       "      <td>CA</td>\n",
       "      <td>12/31/2000 22:00</td>\n",
       "      <td>Capitola CA</td>\n",
       "    </tr>\n",
       "    <tr>\n",
       "      <th>18235</th>\n",
       "      <td>18235</td>\n",
       "      <td>Fountain Hills</td>\n",
       "      <td>NaN</td>\n",
       "      <td>NaN</td>\n",
       "      <td>AZ</td>\n",
       "      <td>12/31/2000 23:00</td>\n",
       "      <td>Fountain Hills AZ</td>\n",
       "    </tr>\n",
       "    <tr>\n",
       "      <th>18236</th>\n",
       "      <td>18236</td>\n",
       "      <td>Grant Park</td>\n",
       "      <td>NaN</td>\n",
       "      <td>TRIANGLE</td>\n",
       "      <td>IL</td>\n",
       "      <td>12/31/2000 23:00</td>\n",
       "      <td>Grant Park IL</td>\n",
       "    </tr>\n",
       "    <tr>\n",
       "      <th>18237</th>\n",
       "      <td>18237</td>\n",
       "      <td>Spirit Lake</td>\n",
       "      <td>NaN</td>\n",
       "      <td>DISK</td>\n",
       "      <td>IA</td>\n",
       "      <td>12/31/2000 23:00</td>\n",
       "      <td>Spirit Lake IA</td>\n",
       "    </tr>\n",
       "    <tr>\n",
       "      <th>18238</th>\n",
       "      <td>18238</td>\n",
       "      <td>Eagle River</td>\n",
       "      <td>NaN</td>\n",
       "      <td>NaN</td>\n",
       "      <td>WI</td>\n",
       "      <td>12/31/2000 23:45</td>\n",
       "      <td>Eagle River WI</td>\n",
       "    </tr>\n",
       "    <tr>\n",
       "      <th>18239</th>\n",
       "      <td>18239</td>\n",
       "      <td>Eagle River</td>\n",
       "      <td>RED</td>\n",
       "      <td>LIGHT</td>\n",
       "      <td>WI</td>\n",
       "      <td>12/31/2000 23:45</td>\n",
       "      <td>Eagle River WI</td>\n",
       "    </tr>\n",
       "    <tr>\n",
       "      <th>18240</th>\n",
       "      <td>18240</td>\n",
       "      <td>Ybor</td>\n",
       "      <td>NaN</td>\n",
       "      <td>OVAL</td>\n",
       "      <td>FL</td>\n",
       "      <td>12/31/2000 23:59</td>\n",
       "      <td>Ybor FL</td>\n",
       "    </tr>\n",
       "  </tbody>\n",
       "</table>\n",
       "</div>"
      ],
      "text/plain": [
       "       Unnamed: 0            City Colors Reported Shape Reported State  \\\n",
       "18221       18221        Franklin             NaN           DISK    NH   \n",
       "18222       18222  Albrightsville             NaN          OTHER    PA   \n",
       "18223       18223      Greenville             NaN            NaN    SC   \n",
       "18224       18224         Eufaula             NaN           DISK    OK   \n",
       "18225       18225     Simi Valley             NaN      FORMATION    CA   \n",
       "18226       18226   San Francisco             NaN      FORMATION    CA   \n",
       "18227       18227   San Francisco             NaN       TRIANGLE    CA   \n",
       "18228       18228      Kingsville             NaN          LIGHT    TX   \n",
       "18229       18229         Chicago             NaN           DISK    IL   \n",
       "18230       18230     Pismo Beach             NaN           OVAL    CA   \n",
       "18231       18231     Pismo Beach             NaN           OVAL    CA   \n",
       "18232       18232            Lodi             NaN            NaN    WI   \n",
       "18233       18233       Anchorage             RED        VARIOUS    AK   \n",
       "18234       18234        Capitola             NaN       TRIANGLE    CA   \n",
       "18235       18235  Fountain Hills             NaN            NaN    AZ   \n",
       "18236       18236      Grant Park             NaN       TRIANGLE    IL   \n",
       "18237       18237     Spirit Lake             NaN           DISK    IA   \n",
       "18238       18238     Eagle River             NaN            NaN    WI   \n",
       "18239       18239     Eagle River             RED          LIGHT    WI   \n",
       "18240       18240            Ybor             NaN           OVAL    FL   \n",
       "\n",
       "                   Time           location  \n",
       "18221  12/29/2000 20:50        Franklin NH  \n",
       "18222  12/29/2000 21:00  Albrightsville PA  \n",
       "18223  12/29/2000 22:00      Greenville SC  \n",
       "18224  12/29/2000 23:30         Eufaula OK  \n",
       "18225  12/30/2000 10:00     Simi Valley CA  \n",
       "18226  12/30/2000 22:00   San Francisco CA  \n",
       "18227  12/30/2000 22:00   San Francisco CA  \n",
       "18228   12/31/2000 4:00      Kingsville TX  \n",
       "18229  12/31/2000 11:45         Chicago IL  \n",
       "18230  12/31/2000 20:00     Pismo Beach CA  \n",
       "18231  12/31/2000 20:00     Pismo Beach CA  \n",
       "18232  12/31/2000 20:30            Lodi WI  \n",
       "18233  12/31/2000 21:00       Anchorage AK  \n",
       "18234  12/31/2000 22:00        Capitola CA  \n",
       "18235  12/31/2000 23:00  Fountain Hills AZ  \n",
       "18236  12/31/2000 23:00      Grant Park IL  \n",
       "18237  12/31/2000 23:00     Spirit Lake IA  \n",
       "18238  12/31/2000 23:45     Eagle River WI  \n",
       "18239  12/31/2000 23:45     Eagle River WI  \n",
       "18240  12/31/2000 23:59            Ybor FL  "
      ]
     },
     "execution_count": 6,
     "metadata": {},
     "output_type": "execute_result"
    }
   ],
   "source": [
    "new_file.head(20)  # Display the first 20 rows of the newly created CSV file\n",
    "new_file.tail(20)  # Display the last 20 rows of the newly created CSV"
   ]
  },
  {
   "cell_type": "code",
   "execution_count": 5,
   "id": "73cece0e",
   "metadata": {},
   "outputs": [
    {
     "data": {
      "text/html": [
       "<div>\n",
       "<style scoped>\n",
       "    .dataframe tbody tr th:only-of-type {\n",
       "        vertical-align: middle;\n",
       "    }\n",
       "\n",
       "    .dataframe tbody tr th {\n",
       "        vertical-align: top;\n",
       "    }\n",
       "\n",
       "    .dataframe thead th {\n",
       "        text-align: right;\n",
       "    }\n",
       "</style>\n",
       "<table border=\"1\" class=\"dataframe\">\n",
       "  <thead>\n",
       "    <tr style=\"text-align: right;\">\n",
       "      <th></th>\n",
       "      <th>Unnamed: 0</th>\n",
       "      <th>City</th>\n",
       "      <th>Colors Reported</th>\n",
       "      <th>Shape Reported</th>\n",
       "      <th>State</th>\n",
       "      <th>Time</th>\n",
       "      <th>location</th>\n",
       "    </tr>\n",
       "  </thead>\n",
       "  <tbody>\n",
       "    <tr>\n",
       "      <th>18236</th>\n",
       "      <td>18236</td>\n",
       "      <td>Grant Park</td>\n",
       "      <td>NaN</td>\n",
       "      <td>TRIANGLE</td>\n",
       "      <td>IL</td>\n",
       "      <td>12/31/2000 23:00</td>\n",
       "      <td>Grant Park IL</td>\n",
       "    </tr>\n",
       "    <tr>\n",
       "      <th>18237</th>\n",
       "      <td>18237</td>\n",
       "      <td>Spirit Lake</td>\n",
       "      <td>NaN</td>\n",
       "      <td>DISK</td>\n",
       "      <td>IA</td>\n",
       "      <td>12/31/2000 23:00</td>\n",
       "      <td>Spirit Lake IA</td>\n",
       "    </tr>\n",
       "    <tr>\n",
       "      <th>18238</th>\n",
       "      <td>18238</td>\n",
       "      <td>Eagle River</td>\n",
       "      <td>NaN</td>\n",
       "      <td>NaN</td>\n",
       "      <td>WI</td>\n",
       "      <td>12/31/2000 23:45</td>\n",
       "      <td>Eagle River WI</td>\n",
       "    </tr>\n",
       "    <tr>\n",
       "      <th>18239</th>\n",
       "      <td>18239</td>\n",
       "      <td>Eagle River</td>\n",
       "      <td>RED</td>\n",
       "      <td>LIGHT</td>\n",
       "      <td>WI</td>\n",
       "      <td>12/31/2000 23:45</td>\n",
       "      <td>Eagle River WI</td>\n",
       "    </tr>\n",
       "    <tr>\n",
       "      <th>18240</th>\n",
       "      <td>18240</td>\n",
       "      <td>Ybor</td>\n",
       "      <td>NaN</td>\n",
       "      <td>OVAL</td>\n",
       "      <td>FL</td>\n",
       "      <td>12/31/2000 23:59</td>\n",
       "      <td>Ybor FL</td>\n",
       "    </tr>\n",
       "  </tbody>\n",
       "</table>\n",
       "</div>"
      ],
      "text/plain": [
       "       Unnamed: 0         City Colors Reported Shape Reported State  \\\n",
       "18236       18236   Grant Park             NaN       TRIANGLE    IL   \n",
       "18237       18237  Spirit Lake             NaN           DISK    IA   \n",
       "18238       18238  Eagle River             NaN            NaN    WI   \n",
       "18239       18239  Eagle River             RED          LIGHT    WI   \n",
       "18240       18240         Ybor             NaN           OVAL    FL   \n",
       "\n",
       "                   Time        location  \n",
       "18236  12/31/2000 23:00   Grant Park IL  \n",
       "18237  12/31/2000 23:00  Spirit Lake IA  \n",
       "18238  12/31/2000 23:45  Eagle River WI  \n",
       "18239  12/31/2000 23:45  Eagle River WI  \n",
       "18240  12/31/2000 23:59         Ybor FL  "
      ]
     },
     "execution_count": 5,
     "metadata": {},
     "output_type": "execute_result"
    }
   ],
   "source": [
    "new_file.tail()  # Display the last row of the newly created CSV file"
   ]
  },
  {
   "cell_type": "code",
   "execution_count": 7,
   "id": "6f7f139b",
   "metadata": {},
   "outputs": [
    {
     "data": {
      "text/html": [
       "<div>\n",
       "<style scoped>\n",
       "    .dataframe tbody tr th:only-of-type {\n",
       "        vertical-align: middle;\n",
       "    }\n",
       "\n",
       "    .dataframe tbody tr th {\n",
       "        vertical-align: top;\n",
       "    }\n",
       "\n",
       "    .dataframe thead th {\n",
       "        text-align: right;\n",
       "    }\n",
       "</style>\n",
       "<table border=\"1\" class=\"dataframe\">\n",
       "  <thead>\n",
       "    <tr style=\"text-align: right;\">\n",
       "      <th></th>\n",
       "      <th>Unnamed: 0</th>\n",
       "    </tr>\n",
       "  </thead>\n",
       "  <tbody>\n",
       "    <tr>\n",
       "      <th>count</th>\n",
       "      <td>18241.000000</td>\n",
       "    </tr>\n",
       "    <tr>\n",
       "      <th>mean</th>\n",
       "      <td>9120.000000</td>\n",
       "    </tr>\n",
       "    <tr>\n",
       "      <th>std</th>\n",
       "      <td>5265.867466</td>\n",
       "    </tr>\n",
       "    <tr>\n",
       "      <th>min</th>\n",
       "      <td>0.000000</td>\n",
       "    </tr>\n",
       "    <tr>\n",
       "      <th>25%</th>\n",
       "      <td>4560.000000</td>\n",
       "    </tr>\n",
       "    <tr>\n",
       "      <th>50%</th>\n",
       "      <td>9120.000000</td>\n",
       "    </tr>\n",
       "    <tr>\n",
       "      <th>75%</th>\n",
       "      <td>13680.000000</td>\n",
       "    </tr>\n",
       "    <tr>\n",
       "      <th>max</th>\n",
       "      <td>18240.000000</td>\n",
       "    </tr>\n",
       "  </tbody>\n",
       "</table>\n",
       "</div>"
      ],
      "text/plain": [
       "         Unnamed: 0\n",
       "count  18241.000000\n",
       "mean    9120.000000\n",
       "std     5265.867466\n",
       "min        0.000000\n",
       "25%     4560.000000\n",
       "50%     9120.000000\n",
       "75%    13680.000000\n",
       "max    18240.000000"
      ]
     },
     "execution_count": 7,
     "metadata": {},
     "output_type": "execute_result"
    }
   ],
   "source": [
    "new_file.describe()"
   ]
  },
  {
   "cell_type": "code",
   "execution_count": 8,
   "id": "c9585fc6",
   "metadata": {},
   "outputs": [
    {
     "data": {
      "text/html": [
       "<div>\n",
       "<style scoped>\n",
       "    .dataframe tbody tr th:only-of-type {\n",
       "        vertical-align: middle;\n",
       "    }\n",
       "\n",
       "    .dataframe tbody tr th {\n",
       "        vertical-align: top;\n",
       "    }\n",
       "\n",
       "    .dataframe thead th {\n",
       "        text-align: right;\n",
       "    }\n",
       "</style>\n",
       "<table border=\"1\" class=\"dataframe\">\n",
       "  <thead>\n",
       "    <tr style=\"text-align: right;\">\n",
       "      <th></th>\n",
       "      <th>City</th>\n",
       "      <th>Colors Reported</th>\n",
       "      <th>Shape Reported</th>\n",
       "      <th>State</th>\n",
       "      <th>Time</th>\n",
       "      <th>location</th>\n",
       "    </tr>\n",
       "  </thead>\n",
       "  <tbody>\n",
       "    <tr>\n",
       "      <th>count</th>\n",
       "      <td>18215</td>\n",
       "      <td>2882</td>\n",
       "      <td>15597</td>\n",
       "      <td>18241</td>\n",
       "      <td>18241</td>\n",
       "      <td>18215</td>\n",
       "    </tr>\n",
       "    <tr>\n",
       "      <th>unique</th>\n",
       "      <td>6475</td>\n",
       "      <td>27</td>\n",
       "      <td>27</td>\n",
       "      <td>52</td>\n",
       "      <td>16145</td>\n",
       "      <td>8028</td>\n",
       "    </tr>\n",
       "    <tr>\n",
       "      <th>top</th>\n",
       "      <td>Seattle</td>\n",
       "      <td>RED</td>\n",
       "      <td>LIGHT</td>\n",
       "      <td>CA</td>\n",
       "      <td>11/16/1999 19:00</td>\n",
       "      <td>Seattle WA</td>\n",
       "    </tr>\n",
       "    <tr>\n",
       "      <th>freq</th>\n",
       "      <td>187</td>\n",
       "      <td>780</td>\n",
       "      <td>2803</td>\n",
       "      <td>2529</td>\n",
       "      <td>27</td>\n",
       "      <td>187</td>\n",
       "    </tr>\n",
       "  </tbody>\n",
       "</table>\n",
       "</div>"
      ],
      "text/plain": [
       "           City Colors Reported Shape Reported  State              Time  \\\n",
       "count     18215            2882          15597  18241             18241   \n",
       "unique     6475              27             27     52             16145   \n",
       "top     Seattle             RED          LIGHT     CA  11/16/1999 19:00   \n",
       "freq        187             780           2803   2529                27   \n",
       "\n",
       "          location  \n",
       "count        18215  \n",
       "unique        8028  \n",
       "top     Seattle WA  \n",
       "freq           187  "
      ]
     },
     "execution_count": 8,
     "metadata": {},
     "output_type": "execute_result"
    }
   ],
   "source": [
    "new_file.describe(include= 'object')"
   ]
  },
  {
   "cell_type": "code",
   "execution_count": 9,
   "id": "920a14f7",
   "metadata": {},
   "outputs": [
    {
     "data": {
      "text/html": [
       "<div>\n",
       "<style scoped>\n",
       "    .dataframe tbody tr th:only-of-type {\n",
       "        vertical-align: middle;\n",
       "    }\n",
       "\n",
       "    .dataframe tbody tr th {\n",
       "        vertical-align: top;\n",
       "    }\n",
       "\n",
       "    .dataframe thead th {\n",
       "        text-align: right;\n",
       "    }\n",
       "</style>\n",
       "<table border=\"1\" class=\"dataframe\">\n",
       "  <thead>\n",
       "    <tr style=\"text-align: right;\">\n",
       "      <th></th>\n",
       "      <th>Unnamed: 0</th>\n",
       "      <th>City</th>\n",
       "      <th>Colors Reported</th>\n",
       "      <th>Shape Reported</th>\n",
       "      <th>State</th>\n",
       "      <th>Time</th>\n",
       "      <th>location</th>\n",
       "    </tr>\n",
       "  </thead>\n",
       "  <tbody>\n",
       "    <tr>\n",
       "      <th>0</th>\n",
       "      <td>0</td>\n",
       "      <td>Ithaca</td>\n",
       "      <td>NaN</td>\n",
       "      <td>TRIANGLE</td>\n",
       "      <td>NY</td>\n",
       "      <td>6/1/1930 22:00</td>\n",
       "      <td>Ithaca NY</td>\n",
       "    </tr>\n",
       "    <tr>\n",
       "      <th>1</th>\n",
       "      <td>1</td>\n",
       "      <td>Willingboro</td>\n",
       "      <td>NaN</td>\n",
       "      <td>OTHER</td>\n",
       "      <td>NJ</td>\n",
       "      <td>6/30/1930 20:00</td>\n",
       "      <td>Willingboro NJ</td>\n",
       "    </tr>\n",
       "    <tr>\n",
       "      <th>2</th>\n",
       "      <td>2</td>\n",
       "      <td>Holyoke</td>\n",
       "      <td>NaN</td>\n",
       "      <td>OVAL</td>\n",
       "      <td>CO</td>\n",
       "      <td>2/15/1931 14:00</td>\n",
       "      <td>Holyoke CO</td>\n",
       "    </tr>\n",
       "    <tr>\n",
       "      <th>3</th>\n",
       "      <td>3</td>\n",
       "      <td>Abilene</td>\n",
       "      <td>NaN</td>\n",
       "      <td>DISK</td>\n",
       "      <td>KS</td>\n",
       "      <td>6/1/1931 13:00</td>\n",
       "      <td>Abilene KS</td>\n",
       "    </tr>\n",
       "    <tr>\n",
       "      <th>4</th>\n",
       "      <td>4</td>\n",
       "      <td>New York Worlds Fair</td>\n",
       "      <td>NaN</td>\n",
       "      <td>LIGHT</td>\n",
       "      <td>NY</td>\n",
       "      <td>4/18/1933 19:00</td>\n",
       "      <td>New York Worlds Fair NY</td>\n",
       "    </tr>\n",
       "    <tr>\n",
       "      <th>5</th>\n",
       "      <td>5</td>\n",
       "      <td>Valley City</td>\n",
       "      <td>NaN</td>\n",
       "      <td>DISK</td>\n",
       "      <td>ND</td>\n",
       "      <td>9/15/1934 15:30</td>\n",
       "      <td>Valley City ND</td>\n",
       "    </tr>\n",
       "    <tr>\n",
       "      <th>6</th>\n",
       "      <td>6</td>\n",
       "      <td>Crater Lake</td>\n",
       "      <td>NaN</td>\n",
       "      <td>CIRCLE</td>\n",
       "      <td>CA</td>\n",
       "      <td>6/15/1935 0:00</td>\n",
       "      <td>Crater Lake CA</td>\n",
       "    </tr>\n",
       "    <tr>\n",
       "      <th>7</th>\n",
       "      <td>7</td>\n",
       "      <td>Alma</td>\n",
       "      <td>NaN</td>\n",
       "      <td>DISK</td>\n",
       "      <td>MI</td>\n",
       "      <td>7/15/1936 0:00</td>\n",
       "      <td>Alma MI</td>\n",
       "    </tr>\n",
       "    <tr>\n",
       "      <th>8</th>\n",
       "      <td>8</td>\n",
       "      <td>Eklutna</td>\n",
       "      <td>NaN</td>\n",
       "      <td>CIGAR</td>\n",
       "      <td>AK</td>\n",
       "      <td>10/15/1936 17:00</td>\n",
       "      <td>Eklutna AK</td>\n",
       "    </tr>\n",
       "    <tr>\n",
       "      <th>9</th>\n",
       "      <td>9</td>\n",
       "      <td>Hubbard</td>\n",
       "      <td>NaN</td>\n",
       "      <td>CYLINDER</td>\n",
       "      <td>OR</td>\n",
       "      <td>6/15/1937 0:00</td>\n",
       "      <td>Hubbard OR</td>\n",
       "    </tr>\n",
       "  </tbody>\n",
       "</table>\n",
       "</div>"
      ],
      "text/plain": [
       "   Unnamed: 0                  City Colors Reported Shape Reported State  \\\n",
       "0           0                Ithaca             NaN       TRIANGLE    NY   \n",
       "1           1           Willingboro             NaN          OTHER    NJ   \n",
       "2           2               Holyoke             NaN           OVAL    CO   \n",
       "3           3               Abilene             NaN           DISK    KS   \n",
       "4           4  New York Worlds Fair             NaN          LIGHT    NY   \n",
       "5           5           Valley City             NaN           DISK    ND   \n",
       "6           6           Crater Lake             NaN         CIRCLE    CA   \n",
       "7           7                  Alma             NaN           DISK    MI   \n",
       "8           8               Eklutna             NaN          CIGAR    AK   \n",
       "9           9               Hubbard             NaN       CYLINDER    OR   \n",
       "\n",
       "               Time                 location  \n",
       "0    6/1/1930 22:00                Ithaca NY  \n",
       "1   6/30/1930 20:00           Willingboro NJ  \n",
       "2   2/15/1931 14:00               Holyoke CO  \n",
       "3    6/1/1931 13:00               Abilene KS  \n",
       "4   4/18/1933 19:00  New York Worlds Fair NY  \n",
       "5   9/15/1934 15:30           Valley City ND  \n",
       "6    6/15/1935 0:00           Crater Lake CA  \n",
       "7    7/15/1936 0:00                  Alma MI  \n",
       "8  10/15/1936 17:00               Eklutna AK  \n",
       "9    6/15/1937 0:00               Hubbard OR  "
      ]
     },
     "execution_count": 9,
     "metadata": {},
     "output_type": "execute_result"
    }
   ],
   "source": [
    "new_file [0:10] # Display the first 10 rows of the newly created CSV file"
   ]
  },
  {
   "cell_type": "code",
   "execution_count": 10,
   "id": "9761a1df",
   "metadata": {},
   "outputs": [
    {
     "data": {
      "text/plain": [
       "Index(['Unnamed: 0', 'City', 'Colors Reported', 'Shape Reported', 'State',\n",
       "       'Time', 'location'],\n",
       "      dtype='object')"
      ]
     },
     "execution_count": 10,
     "metadata": {},
     "output_type": "execute_result"
    }
   ],
   "source": [
    "new_file . columns  # Display the columns of the newly created CSV file"
   ]
  },
  {
   "cell_type": "code",
   "execution_count": 11,
   "id": "bd493aba",
   "metadata": {},
   "outputs": [
    {
     "name": "stdout",
     "output_type": "stream",
     "text": [
      "<class 'pandas.core.frame.DataFrame'>\n",
      "RangeIndex: 18241 entries, 0 to 18240\n",
      "Data columns (total 7 columns):\n",
      " #   Column           Non-Null Count  Dtype \n",
      "---  ------           --------------  ----- \n",
      " 0   Unnamed: 0       18241 non-null  int64 \n",
      " 1   City             18215 non-null  object\n",
      " 2   Colors Reported  2882 non-null   object\n",
      " 3   Shape Reported   15597 non-null  object\n",
      " 4   State            18241 non-null  object\n",
      " 5   Time             18241 non-null  object\n",
      " 6   location         18215 non-null  object\n",
      "dtypes: int64(1), object(6)\n",
      "memory usage: 997.7+ KB\n"
     ]
    }
   ],
   "source": [
    "new_file.info()  # Display information about the newly created CSV file including data types and non-null counts"
   ]
  },
  {
   "cell_type": "code",
   "execution_count": 12,
   "id": "52f3bad5",
   "metadata": {},
   "outputs": [
    {
     "data": {
      "text/html": [
       "<div>\n",
       "<style scoped>\n",
       "    .dataframe tbody tr th:only-of-type {\n",
       "        vertical-align: middle;\n",
       "    }\n",
       "\n",
       "    .dataframe tbody tr th {\n",
       "        vertical-align: top;\n",
       "    }\n",
       "\n",
       "    .dataframe thead th {\n",
       "        text-align: right;\n",
       "    }\n",
       "</style>\n",
       "<table border=\"1\" class=\"dataframe\">\n",
       "  <thead>\n",
       "    <tr style=\"text-align: right;\">\n",
       "      <th></th>\n",
       "      <th>Unnamed: 0</th>\n",
       "      <th>City</th>\n",
       "      <th>Colors Reported</th>\n",
       "      <th>Shape Reported</th>\n",
       "      <th>State</th>\n",
       "      <th>Time</th>\n",
       "      <th>location</th>\n",
       "    </tr>\n",
       "  </thead>\n",
       "  <tbody>\n",
       "    <tr>\n",
       "      <th>0</th>\n",
       "      <td>0</td>\n",
       "      <td>Ithaca</td>\n",
       "      <td>NaN</td>\n",
       "      <td>TRIANGLE</td>\n",
       "      <td>NY</td>\n",
       "      <td>6/1/1930 22:00</td>\n",
       "      <td>Ithaca NY</td>\n",
       "    </tr>\n",
       "    <tr>\n",
       "      <th>1</th>\n",
       "      <td>1</td>\n",
       "      <td>Willingboro</td>\n",
       "      <td>NaN</td>\n",
       "      <td>OTHER</td>\n",
       "      <td>NJ</td>\n",
       "      <td>6/30/1930 20:00</td>\n",
       "      <td>Willingboro NJ</td>\n",
       "    </tr>\n",
       "  </tbody>\n",
       "</table>\n",
       "</div>"
      ],
      "text/plain": [
       "   Unnamed: 0         City Colors Reported Shape Reported State  \\\n",
       "0           0       Ithaca             NaN       TRIANGLE    NY   \n",
       "1           1  Willingboro             NaN          OTHER    NJ   \n",
       "\n",
       "              Time        location  \n",
       "0   6/1/1930 22:00       Ithaca NY  \n",
       "1  6/30/1930 20:00  Willingboro NJ  "
      ]
     },
     "execution_count": 12,
     "metadata": {},
     "output_type": "execute_result"
    }
   ],
   "source": [
    "new_file .head(2)  # Display the first few rows of the newly created CSV file"
   ]
  },
  {
   "cell_type": "code",
   "execution_count": 18,
   "id": "8e089688",
   "metadata": {},
   "outputs": [
    {
     "data": {
      "text/html": [
       "<div>\n",
       "<style scoped>\n",
       "    .dataframe tbody tr th:only-of-type {\n",
       "        vertical-align: middle;\n",
       "    }\n",
       "\n",
       "    .dataframe tbody tr th {\n",
       "        vertical-align: top;\n",
       "    }\n",
       "\n",
       "    .dataframe thead th {\n",
       "        text-align: right;\n",
       "    }\n",
       "</style>\n",
       "<table border=\"1\" class=\"dataframe\">\n",
       "  <thead>\n",
       "    <tr style=\"text-align: right;\">\n",
       "      <th></th>\n",
       "      <th>Unnamed: 0</th>\n",
       "      <th>City</th>\n",
       "      <th>Colors_Reported</th>\n",
       "      <th>Shape_Reported</th>\n",
       "      <th>State</th>\n",
       "      <th>Time</th>\n",
       "      <th>location</th>\n",
       "    </tr>\n",
       "  </thead>\n",
       "  <tbody>\n",
       "    <tr>\n",
       "      <th>0</th>\n",
       "      <td>0</td>\n",
       "      <td>Ithaca</td>\n",
       "      <td>NaN</td>\n",
       "      <td>TRIANGLE</td>\n",
       "      <td>NY</td>\n",
       "      <td>6/1/1930 22:00</td>\n",
       "      <td>Ithaca NY</td>\n",
       "    </tr>\n",
       "    <tr>\n",
       "      <th>1</th>\n",
       "      <td>1</td>\n",
       "      <td>Willingboro</td>\n",
       "      <td>NaN</td>\n",
       "      <td>OTHER</td>\n",
       "      <td>NJ</td>\n",
       "      <td>6/30/1930 20:00</td>\n",
       "      <td>Willingboro NJ</td>\n",
       "    </tr>\n",
       "    <tr>\n",
       "      <th>2</th>\n",
       "      <td>2</td>\n",
       "      <td>Holyoke</td>\n",
       "      <td>NaN</td>\n",
       "      <td>OVAL</td>\n",
       "      <td>CO</td>\n",
       "      <td>2/15/1931 14:00</td>\n",
       "      <td>Holyoke CO</td>\n",
       "    </tr>\n",
       "    <tr>\n",
       "      <th>3</th>\n",
       "      <td>3</td>\n",
       "      <td>Abilene</td>\n",
       "      <td>NaN</td>\n",
       "      <td>DISK</td>\n",
       "      <td>KS</td>\n",
       "      <td>6/1/1931 13:00</td>\n",
       "      <td>Abilene KS</td>\n",
       "    </tr>\n",
       "    <tr>\n",
       "      <th>4</th>\n",
       "      <td>4</td>\n",
       "      <td>New York Worlds Fair</td>\n",
       "      <td>NaN</td>\n",
       "      <td>LIGHT</td>\n",
       "      <td>NY</td>\n",
       "      <td>4/18/1933 19:00</td>\n",
       "      <td>New York Worlds Fair NY</td>\n",
       "    </tr>\n",
       "  </tbody>\n",
       "</table>\n",
       "</div>"
      ],
      "text/plain": [
       "   Unnamed: 0                  City Colors_Reported Shape_Reported State  \\\n",
       "0           0                Ithaca             NaN       TRIANGLE    NY   \n",
       "1           1           Willingboro             NaN          OTHER    NJ   \n",
       "2           2               Holyoke             NaN           OVAL    CO   \n",
       "3           3               Abilene             NaN           DISK    KS   \n",
       "4           4  New York Worlds Fair             NaN          LIGHT    NY   \n",
       "\n",
       "              Time                 location  \n",
       "0   6/1/1930 22:00                Ithaca NY  \n",
       "1  6/30/1930 20:00           Willingboro NJ  \n",
       "2  2/15/1931 14:00               Holyoke CO  \n",
       "3   6/1/1931 13:00               Abilene KS  \n",
       "4  4/18/1933 19:00  New York Worlds Fair NY  "
      ]
     },
     "execution_count": 18,
     "metadata": {},
     "output_type": "execute_result"
    }
   ],
   "source": [
    "new_file.rename(columns ={'Colors Reported':'Colors_Reported', 'Shape Reported':'Shape_Reported'} , inplace = True)  # Rename the 'Colors Reported' column to 'col' in the newly created CSV file\n",
    "new_file.head()  # Display the first few rows of the newly created CSV file"
   ]
  },
  {
   "cell_type": "code",
   "execution_count": 22,
   "id": "6f4f0395",
   "metadata": {},
   "outputs": [
    {
     "data": {
      "text/html": [
       "<div>\n",
       "<style scoped>\n",
       "    .dataframe tbody tr th:only-of-type {\n",
       "        vertical-align: middle;\n",
       "    }\n",
       "\n",
       "    .dataframe tbody tr th {\n",
       "        vertical-align: top;\n",
       "    }\n",
       "\n",
       "    .dataframe thead th {\n",
       "        text-align: right;\n",
       "    }\n",
       "</style>\n",
       "<table border=\"1\" class=\"dataframe\">\n",
       "  <thead>\n",
       "    <tr style=\"text-align: right;\">\n",
       "      <th></th>\n",
       "      <th>Unnamed:_0</th>\n",
       "      <th>City</th>\n",
       "      <th>Colors_Reported</th>\n",
       "      <th>Shape_Reported</th>\n",
       "      <th>State</th>\n",
       "      <th>Time</th>\n",
       "      <th>location</th>\n",
       "    </tr>\n",
       "  </thead>\n",
       "  <tbody>\n",
       "    <tr>\n",
       "      <th>0</th>\n",
       "      <td>0</td>\n",
       "      <td>Ithaca</td>\n",
       "      <td>NaN</td>\n",
       "      <td>TRIANGLE</td>\n",
       "      <td>NY</td>\n",
       "      <td>6/1/1930 22:00</td>\n",
       "      <td>Ithaca NY</td>\n",
       "    </tr>\n",
       "    <tr>\n",
       "      <th>1</th>\n",
       "      <td>1</td>\n",
       "      <td>Willingboro</td>\n",
       "      <td>NaN</td>\n",
       "      <td>OTHER</td>\n",
       "      <td>NJ</td>\n",
       "      <td>6/30/1930 20:00</td>\n",
       "      <td>Willingboro NJ</td>\n",
       "    </tr>\n",
       "  </tbody>\n",
       "</table>\n",
       "</div>"
      ],
      "text/plain": [
       "   Unnamed:_0         City Colors_Reported Shape_Reported State  \\\n",
       "0           0       Ithaca             NaN       TRIANGLE    NY   \n",
       "1           1  Willingboro             NaN          OTHER    NJ   \n",
       "\n",
       "              Time        location  \n",
       "0   6/1/1930 22:00       Ithaca NY  \n",
       "1  6/30/1930 20:00  Willingboro NJ  "
      ]
     },
     "execution_count": 22,
     "metadata": {},
     "output_type": "execute_result"
    }
   ],
   "source": [
    "new_file.columns = new_file.columns.str.replace(' ', '_')  # Replace spaces in column names with underscores\n",
    "new_file.head(2)  # Display the first few rows of the newly created CSV file with updated column names"
   ]
  },
  {
   "cell_type": "code",
   "execution_count": 23,
   "id": "af39740b",
   "metadata": {},
   "outputs": [
    {
     "data": {
      "text/html": [
       "<div>\n",
       "<style scoped>\n",
       "    .dataframe tbody tr th:only-of-type {\n",
       "        vertical-align: middle;\n",
       "    }\n",
       "\n",
       "    .dataframe tbody tr th {\n",
       "        vertical-align: top;\n",
       "    }\n",
       "\n",
       "    .dataframe thead th {\n",
       "        text-align: right;\n",
       "    }\n",
       "</style>\n",
       "<table border=\"1\" class=\"dataframe\">\n",
       "  <thead>\n",
       "    <tr style=\"text-align: right;\">\n",
       "      <th></th>\n",
       "      <th>Unnamed:_0</th>\n",
       "      <th>Shape_Reported</th>\n",
       "      <th>State</th>\n",
       "      <th>Time</th>\n",
       "      <th>location</th>\n",
       "    </tr>\n",
       "  </thead>\n",
       "  <tbody>\n",
       "    <tr>\n",
       "      <th>0</th>\n",
       "      <td>0</td>\n",
       "      <td>TRIANGLE</td>\n",
       "      <td>NY</td>\n",
       "      <td>6/1/1930 22:00</td>\n",
       "      <td>Ithaca NY</td>\n",
       "    </tr>\n",
       "    <tr>\n",
       "      <th>1</th>\n",
       "      <td>1</td>\n",
       "      <td>OTHER</td>\n",
       "      <td>NJ</td>\n",
       "      <td>6/30/1930 20:00</td>\n",
       "      <td>Willingboro NJ</td>\n",
       "    </tr>\n",
       "  </tbody>\n",
       "</table>\n",
       "</div>"
      ],
      "text/plain": [
       "   Unnamed:_0 Shape_Reported State             Time        location\n",
       "0           0       TRIANGLE    NY   6/1/1930 22:00       Ithaca NY\n",
       "1           1          OTHER    NJ  6/30/1930 20:00  Willingboro NJ"
      ]
     },
     "execution_count": 23,
     "metadata": {},
     "output_type": "execute_result"
    }
   ],
   "source": [
    "new_file.drop(['Colors_Reported' , 'City'] , axis=1 , inplace=True)  # Drop the 'Colors Reported' and 'City' columns from the newly created CSV file\n",
    "new_file.head(2)  # Display the first few rows of the newly created CSV file with updated column names"
   ]
  },
  {
   "cell_type": "code",
   "execution_count": 24,
   "id": "250e5886",
   "metadata": {},
   "outputs": [
    {
     "data": {
      "text/html": [
       "<div>\n",
       "<style scoped>\n",
       "    .dataframe tbody tr th:only-of-type {\n",
       "        vertical-align: middle;\n",
       "    }\n",
       "\n",
       "    .dataframe tbody tr th {\n",
       "        vertical-align: top;\n",
       "    }\n",
       "\n",
       "    .dataframe thead th {\n",
       "        text-align: right;\n",
       "    }\n",
       "</style>\n",
       "<table border=\"1\" class=\"dataframe\">\n",
       "  <thead>\n",
       "    <tr style=\"text-align: right;\">\n",
       "      <th></th>\n",
       "      <th>Unnamed:_0</th>\n",
       "      <th>Shape_Reported</th>\n",
       "      <th>State</th>\n",
       "      <th>Time</th>\n",
       "      <th>location</th>\n",
       "    </tr>\n",
       "  </thead>\n",
       "  <tbody>\n",
       "    <tr>\n",
       "      <th>3</th>\n",
       "      <td>3</td>\n",
       "      <td>DISK</td>\n",
       "      <td>KS</td>\n",
       "      <td>6/1/1931 13:00</td>\n",
       "      <td>Abilene KS</td>\n",
       "    </tr>\n",
       "    <tr>\n",
       "      <th>4</th>\n",
       "      <td>4</td>\n",
       "      <td>LIGHT</td>\n",
       "      <td>NY</td>\n",
       "      <td>4/18/1933 19:00</td>\n",
       "      <td>New York Worlds Fair NY</td>\n",
       "    </tr>\n",
       "  </tbody>\n",
       "</table>\n",
       "</div>"
      ],
      "text/plain": [
       "   Unnamed:_0 Shape_Reported State             Time                 location\n",
       "3           3           DISK    KS   6/1/1931 13:00               Abilene KS\n",
       "4           4          LIGHT    NY  4/18/1933 19:00  New York Worlds Fair NY"
      ]
     },
     "execution_count": 24,
     "metadata": {},
     "output_type": "execute_result"
    }
   ],
   "source": [
    "new_file.drop([0,1,2], axis=0, inplace=True)  # Drop the first three rows from the newly created CSV file\n",
    "new_file.head(2)  # Display the first few rows of the newly created CSV file"
   ]
  },
  {
   "cell_type": "code",
   "execution_count": 25,
   "id": "29be4943",
   "metadata": {},
   "outputs": [],
   "source": [
    "movies=pd.read_csv('http://bit.ly/imdbratings')  # Read the IMDb ratings CSV file into a pandas DataFrame"
   ]
  },
  {
   "cell_type": "code",
   "execution_count": 26,
   "id": "819daa5e",
   "metadata": {},
   "outputs": [
    {
     "data": {
      "text/html": [
       "<div>\n",
       "<style scoped>\n",
       "    .dataframe tbody tr th:only-of-type {\n",
       "        vertical-align: middle;\n",
       "    }\n",
       "\n",
       "    .dataframe tbody tr th {\n",
       "        vertical-align: top;\n",
       "    }\n",
       "\n",
       "    .dataframe thead th {\n",
       "        text-align: right;\n",
       "    }\n",
       "</style>\n",
       "<table border=\"1\" class=\"dataframe\">\n",
       "  <thead>\n",
       "    <tr style=\"text-align: right;\">\n",
       "      <th></th>\n",
       "      <th>star_rating</th>\n",
       "      <th>title</th>\n",
       "      <th>content_rating</th>\n",
       "      <th>genre</th>\n",
       "      <th>duration</th>\n",
       "      <th>actors_list</th>\n",
       "    </tr>\n",
       "  </thead>\n",
       "  <tbody>\n",
       "    <tr>\n",
       "      <th>0</th>\n",
       "      <td>9.3</td>\n",
       "      <td>The Shawshank Redemption</td>\n",
       "      <td>R</td>\n",
       "      <td>Crime</td>\n",
       "      <td>142</td>\n",
       "      <td>[u'Tim Robbins', u'Morgan Freeman', u'Bob Gunt...</td>\n",
       "    </tr>\n",
       "    <tr>\n",
       "      <th>1</th>\n",
       "      <td>9.2</td>\n",
       "      <td>The Godfather</td>\n",
       "      <td>R</td>\n",
       "      <td>Crime</td>\n",
       "      <td>175</td>\n",
       "      <td>[u'Marlon Brando', u'Al Pacino', u'James Caan']</td>\n",
       "    </tr>\n",
       "    <tr>\n",
       "      <th>2</th>\n",
       "      <td>9.1</td>\n",
       "      <td>The Godfather: Part II</td>\n",
       "      <td>R</td>\n",
       "      <td>Crime</td>\n",
       "      <td>200</td>\n",
       "      <td>[u'Al Pacino', u'Robert De Niro', u'Robert Duv...</td>\n",
       "    </tr>\n",
       "    <tr>\n",
       "      <th>3</th>\n",
       "      <td>9.0</td>\n",
       "      <td>The Dark Knight</td>\n",
       "      <td>PG-13</td>\n",
       "      <td>Action</td>\n",
       "      <td>152</td>\n",
       "      <td>[u'Christian Bale', u'Heath Ledger', u'Aaron E...</td>\n",
       "    </tr>\n",
       "    <tr>\n",
       "      <th>4</th>\n",
       "      <td>8.9</td>\n",
       "      <td>Pulp Fiction</td>\n",
       "      <td>R</td>\n",
       "      <td>Crime</td>\n",
       "      <td>154</td>\n",
       "      <td>[u'John Travolta', u'Uma Thurman', u'Samuel L....</td>\n",
       "    </tr>\n",
       "  </tbody>\n",
       "</table>\n",
       "</div>"
      ],
      "text/plain": [
       "   star_rating                     title content_rating   genre  duration  \\\n",
       "0          9.3  The Shawshank Redemption              R   Crime       142   \n",
       "1          9.2             The Godfather              R   Crime       175   \n",
       "2          9.1    The Godfather: Part II              R   Crime       200   \n",
       "3          9.0           The Dark Knight          PG-13  Action       152   \n",
       "4          8.9              Pulp Fiction              R   Crime       154   \n",
       "\n",
       "                                         actors_list  \n",
       "0  [u'Tim Robbins', u'Morgan Freeman', u'Bob Gunt...  \n",
       "1    [u'Marlon Brando', u'Al Pacino', u'James Caan']  \n",
       "2  [u'Al Pacino', u'Robert De Niro', u'Robert Duv...  \n",
       "3  [u'Christian Bale', u'Heath Ledger', u'Aaron E...  \n",
       "4  [u'John Travolta', u'Uma Thurman', u'Samuel L....  "
      ]
     },
     "execution_count": 26,
     "metadata": {},
     "output_type": "execute_result"
    }
   ],
   "source": [
    "movies.head()  # Display the first few rows of the IMDb ratings DataFrame"
   ]
  },
  {
   "cell_type": "code",
   "execution_count": 28,
   "id": "dec1607d",
   "metadata": {},
   "outputs": [
    {
     "data": {
      "text/plain": [
       "864                    [Rec]\n",
       "526                     Zulu\n",
       "615               Zombieland\n",
       "677                   Zodiac\n",
       "955         Zero Dark Thirty\n",
       "               ...          \n",
       "110    2001: A Space Odyssey\n",
       "698                127 Hours\n",
       "201         12 Years a Slave\n",
       "5               12 Angry Men\n",
       "542     (500) Days of Summer\n",
       "Name: title, Length: 979, dtype: object"
      ]
     },
     "execution_count": 28,
     "metadata": {},
     "output_type": "execute_result"
    }
   ],
   "source": [
    "movies.title.sort_values(ascending=False)  # Sort the 'title' column in the IMDb ratings DataFrame by alphabet "
   ]
  },
  {
   "cell_type": "code",
   "execution_count": 29,
   "id": "9769ea04",
   "metadata": {},
   "outputs": [
    {
     "data": {
      "text/html": [
       "<div>\n",
       "<style scoped>\n",
       "    .dataframe tbody tr th:only-of-type {\n",
       "        vertical-align: middle;\n",
       "    }\n",
       "\n",
       "    .dataframe tbody tr th {\n",
       "        vertical-align: top;\n",
       "    }\n",
       "\n",
       "    .dataframe thead th {\n",
       "        text-align: right;\n",
       "    }\n",
       "</style>\n",
       "<table border=\"1\" class=\"dataframe\">\n",
       "  <thead>\n",
       "    <tr style=\"text-align: right;\">\n",
       "      <th></th>\n",
       "      <th>star_rating</th>\n",
       "      <th>title</th>\n",
       "      <th>content_rating</th>\n",
       "      <th>genre</th>\n",
       "      <th>duration</th>\n",
       "      <th>actors_list</th>\n",
       "    </tr>\n",
       "  </thead>\n",
       "  <tbody>\n",
       "    <tr>\n",
       "      <th>542</th>\n",
       "      <td>7.8</td>\n",
       "      <td>(500) Days of Summer</td>\n",
       "      <td>PG-13</td>\n",
       "      <td>Comedy</td>\n",
       "      <td>95</td>\n",
       "      <td>[u'Zooey Deschanel', u'Joseph Gordon-Levitt', ...</td>\n",
       "    </tr>\n",
       "    <tr>\n",
       "      <th>5</th>\n",
       "      <td>8.9</td>\n",
       "      <td>12 Angry Men</td>\n",
       "      <td>NOT RATED</td>\n",
       "      <td>Drama</td>\n",
       "      <td>96</td>\n",
       "      <td>[u'Henry Fonda', u'Lee J. Cobb', u'Martin Bals...</td>\n",
       "    </tr>\n",
       "    <tr>\n",
       "      <th>201</th>\n",
       "      <td>8.1</td>\n",
       "      <td>12 Years a Slave</td>\n",
       "      <td>R</td>\n",
       "      <td>Biography</td>\n",
       "      <td>134</td>\n",
       "      <td>[u'Chiwetel Ejiofor', u'Michael Kenneth Willia...</td>\n",
       "    </tr>\n",
       "    <tr>\n",
       "      <th>698</th>\n",
       "      <td>7.6</td>\n",
       "      <td>127 Hours</td>\n",
       "      <td>R</td>\n",
       "      <td>Adventure</td>\n",
       "      <td>94</td>\n",
       "      <td>[u'James Franco', u'Amber Tamblyn', u'Kate Mara']</td>\n",
       "    </tr>\n",
       "    <tr>\n",
       "      <th>110</th>\n",
       "      <td>8.3</td>\n",
       "      <td>2001: A Space Odyssey</td>\n",
       "      <td>G</td>\n",
       "      <td>Mystery</td>\n",
       "      <td>160</td>\n",
       "      <td>[u'Keir Dullea', u'Gary Lockwood', u'William S...</td>\n",
       "    </tr>\n",
       "    <tr>\n",
       "      <th>...</th>\n",
       "      <td>...</td>\n",
       "      <td>...</td>\n",
       "      <td>...</td>\n",
       "      <td>...</td>\n",
       "      <td>...</td>\n",
       "      <td>...</td>\n",
       "    </tr>\n",
       "    <tr>\n",
       "      <th>955</th>\n",
       "      <td>7.4</td>\n",
       "      <td>Zero Dark Thirty</td>\n",
       "      <td>R</td>\n",
       "      <td>Drama</td>\n",
       "      <td>157</td>\n",
       "      <td>[u'Jessica Chastain', u'Joel Edgerton', u'Chri...</td>\n",
       "    </tr>\n",
       "    <tr>\n",
       "      <th>677</th>\n",
       "      <td>7.7</td>\n",
       "      <td>Zodiac</td>\n",
       "      <td>R</td>\n",
       "      <td>Crime</td>\n",
       "      <td>157</td>\n",
       "      <td>[u'Jake Gyllenhaal', u'Robert Downey Jr.', u'M...</td>\n",
       "    </tr>\n",
       "    <tr>\n",
       "      <th>615</th>\n",
       "      <td>7.7</td>\n",
       "      <td>Zombieland</td>\n",
       "      <td>R</td>\n",
       "      <td>Comedy</td>\n",
       "      <td>88</td>\n",
       "      <td>[u'Jesse Eisenberg', u'Emma Stone', u'Woody Ha...</td>\n",
       "    </tr>\n",
       "    <tr>\n",
       "      <th>526</th>\n",
       "      <td>7.8</td>\n",
       "      <td>Zulu</td>\n",
       "      <td>UNRATED</td>\n",
       "      <td>Drama</td>\n",
       "      <td>138</td>\n",
       "      <td>[u'Stanley Baker', u'Jack Hawkins', u'Ulla Jac...</td>\n",
       "    </tr>\n",
       "    <tr>\n",
       "      <th>864</th>\n",
       "      <td>7.5</td>\n",
       "      <td>[Rec]</td>\n",
       "      <td>R</td>\n",
       "      <td>Horror</td>\n",
       "      <td>78</td>\n",
       "      <td>[u'Manuela Velasco', u'Ferran Terraza', u'Jorg...</td>\n",
       "    </tr>\n",
       "  </tbody>\n",
       "</table>\n",
       "<p>979 rows × 6 columns</p>\n",
       "</div>"
      ],
      "text/plain": [
       "     star_rating                  title content_rating      genre  duration  \\\n",
       "542          7.8   (500) Days of Summer          PG-13     Comedy        95   \n",
       "5            8.9           12 Angry Men      NOT RATED      Drama        96   \n",
       "201          8.1       12 Years a Slave              R  Biography       134   \n",
       "698          7.6              127 Hours              R  Adventure        94   \n",
       "110          8.3  2001: A Space Odyssey              G    Mystery       160   \n",
       "..           ...                    ...            ...        ...       ...   \n",
       "955          7.4       Zero Dark Thirty              R      Drama       157   \n",
       "677          7.7                 Zodiac              R      Crime       157   \n",
       "615          7.7             Zombieland              R     Comedy        88   \n",
       "526          7.8                   Zulu        UNRATED      Drama       138   \n",
       "864          7.5                  [Rec]              R     Horror        78   \n",
       "\n",
       "                                           actors_list  \n",
       "542  [u'Zooey Deschanel', u'Joseph Gordon-Levitt', ...  \n",
       "5    [u'Henry Fonda', u'Lee J. Cobb', u'Martin Bals...  \n",
       "201  [u'Chiwetel Ejiofor', u'Michael Kenneth Willia...  \n",
       "698  [u'James Franco', u'Amber Tamblyn', u'Kate Mara']  \n",
       "110  [u'Keir Dullea', u'Gary Lockwood', u'William S...  \n",
       "..                                                 ...  \n",
       "955  [u'Jessica Chastain', u'Joel Edgerton', u'Chri...  \n",
       "677  [u'Jake Gyllenhaal', u'Robert Downey Jr.', u'M...  \n",
       "615  [u'Jesse Eisenberg', u'Emma Stone', u'Woody Ha...  \n",
       "526  [u'Stanley Baker', u'Jack Hawkins', u'Ulla Jac...  \n",
       "864  [u'Manuela Velasco', u'Ferran Terraza', u'Jorg...  \n",
       "\n",
       "[979 rows x 6 columns]"
      ]
     },
     "execution_count": 29,
     "metadata": {},
     "output_type": "execute_result"
    }
   ],
   "source": [
    "movies.sort_values('title')\n"
   ]
  },
  {
   "cell_type": "code",
   "execution_count": 31,
   "id": "d22df3da",
   "metadata": {},
   "outputs": [
    {
     "data": {
      "text/html": [
       "<div>\n",
       "<style scoped>\n",
       "    .dataframe tbody tr th:only-of-type {\n",
       "        vertical-align: middle;\n",
       "    }\n",
       "\n",
       "    .dataframe tbody tr th {\n",
       "        vertical-align: top;\n",
       "    }\n",
       "\n",
       "    .dataframe thead th {\n",
       "        text-align: right;\n",
       "    }\n",
       "</style>\n",
       "<table border=\"1\" class=\"dataframe\">\n",
       "  <thead>\n",
       "    <tr style=\"text-align: right;\">\n",
       "      <th></th>\n",
       "      <th>star_rating</th>\n",
       "      <th>title</th>\n",
       "      <th>content_rating</th>\n",
       "      <th>genre</th>\n",
       "      <th>duration</th>\n",
       "      <th>actors_list</th>\n",
       "    </tr>\n",
       "  </thead>\n",
       "  <tbody>\n",
       "    <tr>\n",
       "      <th>713</th>\n",
       "      <td>7.6</td>\n",
       "      <td>The Jungle Book</td>\n",
       "      <td>APPROVED</td>\n",
       "      <td>Animation</td>\n",
       "      <td>78</td>\n",
       "      <td>[u'Phil Harris', u'Sebastian Cabot', u'Louis P...</td>\n",
       "    </tr>\n",
       "    <tr>\n",
       "      <th>513</th>\n",
       "      <td>7.8</td>\n",
       "      <td>Invasion of the Body Snatchers</td>\n",
       "      <td>APPROVED</td>\n",
       "      <td>Horror</td>\n",
       "      <td>80</td>\n",
       "      <td>[u'Kevin McCarthy', u'Dana Wynter', u'Larry Ga...</td>\n",
       "    </tr>\n",
       "    <tr>\n",
       "      <th>272</th>\n",
       "      <td>8.1</td>\n",
       "      <td>The Killing</td>\n",
       "      <td>APPROVED</td>\n",
       "      <td>Crime</td>\n",
       "      <td>85</td>\n",
       "      <td>[u'Sterling Hayden', u'Coleen Gray', u'Vince E...</td>\n",
       "    </tr>\n",
       "    <tr>\n",
       "      <th>703</th>\n",
       "      <td>7.6</td>\n",
       "      <td>Dracula</td>\n",
       "      <td>APPROVED</td>\n",
       "      <td>Horror</td>\n",
       "      <td>85</td>\n",
       "      <td>[u'Bela Lugosi', u'Helen Chandler', u'David Ma...</td>\n",
       "    </tr>\n",
       "    <tr>\n",
       "      <th>612</th>\n",
       "      <td>7.7</td>\n",
       "      <td>A Hard Day's Night</td>\n",
       "      <td>APPROVED</td>\n",
       "      <td>Comedy</td>\n",
       "      <td>87</td>\n",
       "      <td>[u'John Lennon', u'Paul McCartney', u'George H...</td>\n",
       "    </tr>\n",
       "    <tr>\n",
       "      <th>...</th>\n",
       "      <td>...</td>\n",
       "      <td>...</td>\n",
       "      <td>...</td>\n",
       "      <td>...</td>\n",
       "      <td>...</td>\n",
       "      <td>...</td>\n",
       "    </tr>\n",
       "    <tr>\n",
       "      <th>387</th>\n",
       "      <td>8.0</td>\n",
       "      <td>Midnight Cowboy</td>\n",
       "      <td>X</td>\n",
       "      <td>Drama</td>\n",
       "      <td>113</td>\n",
       "      <td>[u'Dustin Hoffman', u'Jon Voight', u'Sylvia Mi...</td>\n",
       "    </tr>\n",
       "    <tr>\n",
       "      <th>86</th>\n",
       "      <td>8.4</td>\n",
       "      <td>A Clockwork Orange</td>\n",
       "      <td>X</td>\n",
       "      <td>Crime</td>\n",
       "      <td>136</td>\n",
       "      <td>[u'Malcolm McDowell', u'Patrick Magee', u'Mich...</td>\n",
       "    </tr>\n",
       "    <tr>\n",
       "      <th>187</th>\n",
       "      <td>8.2</td>\n",
       "      <td>Butch Cassidy and the Sundance Kid</td>\n",
       "      <td>NaN</td>\n",
       "      <td>Biography</td>\n",
       "      <td>110</td>\n",
       "      <td>[u'Paul Newman', u'Robert Redford', u'Katharin...</td>\n",
       "    </tr>\n",
       "    <tr>\n",
       "      <th>936</th>\n",
       "      <td>7.4</td>\n",
       "      <td>True Grit</td>\n",
       "      <td>NaN</td>\n",
       "      <td>Adventure</td>\n",
       "      <td>128</td>\n",
       "      <td>[u'John Wayne', u'Kim Darby', u'Glen Campbell']</td>\n",
       "    </tr>\n",
       "    <tr>\n",
       "      <th>649</th>\n",
       "      <td>7.7</td>\n",
       "      <td>Where Eagles Dare</td>\n",
       "      <td>NaN</td>\n",
       "      <td>Action</td>\n",
       "      <td>158</td>\n",
       "      <td>[u'Richard Burton', u'Clint Eastwood', u'Mary ...</td>\n",
       "    </tr>\n",
       "  </tbody>\n",
       "</table>\n",
       "<p>979 rows × 6 columns</p>\n",
       "</div>"
      ],
      "text/plain": [
       "     star_rating                               title content_rating  \\\n",
       "713          7.6                     The Jungle Book       APPROVED   \n",
       "513          7.8      Invasion of the Body Snatchers       APPROVED   \n",
       "272          8.1                         The Killing       APPROVED   \n",
       "703          7.6                             Dracula       APPROVED   \n",
       "612          7.7                  A Hard Day's Night       APPROVED   \n",
       "..           ...                                 ...            ...   \n",
       "387          8.0                     Midnight Cowboy              X   \n",
       "86           8.4                  A Clockwork Orange              X   \n",
       "187          8.2  Butch Cassidy and the Sundance Kid            NaN   \n",
       "936          7.4                           True Grit            NaN   \n",
       "649          7.7                   Where Eagles Dare            NaN   \n",
       "\n",
       "         genre  duration                                        actors_list  \n",
       "713  Animation        78  [u'Phil Harris', u'Sebastian Cabot', u'Louis P...  \n",
       "513     Horror        80  [u'Kevin McCarthy', u'Dana Wynter', u'Larry Ga...  \n",
       "272      Crime        85  [u'Sterling Hayden', u'Coleen Gray', u'Vince E...  \n",
       "703     Horror        85  [u'Bela Lugosi', u'Helen Chandler', u'David Ma...  \n",
       "612     Comedy        87  [u'John Lennon', u'Paul McCartney', u'George H...  \n",
       "..         ...       ...                                                ...  \n",
       "387      Drama       113  [u'Dustin Hoffman', u'Jon Voight', u'Sylvia Mi...  \n",
       "86       Crime       136  [u'Malcolm McDowell', u'Patrick Magee', u'Mich...  \n",
       "187  Biography       110  [u'Paul Newman', u'Robert Redford', u'Katharin...  \n",
       "936  Adventure       128    [u'John Wayne', u'Kim Darby', u'Glen Campbell']  \n",
       "649     Action       158  [u'Richard Burton', u'Clint Eastwood', u'Mary ...  \n",
       "\n",
       "[979 rows x 6 columns]"
      ]
     },
     "execution_count": 31,
     "metadata": {},
     "output_type": "execute_result"
    }
   ],
   "source": [
    "movies.sort_values(['content_rating','duration' ])\n"
   ]
  },
  {
   "cell_type": "code",
   "execution_count": 33,
   "id": "a94f8a91",
   "metadata": {},
   "outputs": [
    {
     "data": {
      "text/plain": [
       "[False, False, False, False, False, False, False, True, False, False]"
      ]
     },
     "execution_count": 33,
     "metadata": {},
     "output_type": "execute_result"
    }
   ],
   "source": [
    "bol = []\n",
    "for length in movies.duration:\n",
    "    if length > 200:\n",
    "        bol.append(True)\n",
    "    else:\n",
    "        bol.append(False)\n",
    "\n",
    "bol [0:10]  # Display the first 10 boolean values indicating whether the movie duration is greater than 200 minutes"
   ]
  },
  {
   "cell_type": "code",
   "execution_count": 34,
   "id": "d1394990",
   "metadata": {},
   "outputs": [
    {
     "data": {
      "text/plain": [
       "7      Adventure\n",
       "17         Drama\n",
       "78         Crime\n",
       "85     Adventure\n",
       "142    Adventure\n",
       "157        Drama\n",
       "204    Adventure\n",
       "445    Adventure\n",
       "476        Drama\n",
       "630    Biography\n",
       "767       Action\n",
       "Name: genre, dtype: object"
      ]
     },
     "execution_count": 34,
     "metadata": {},
     "output_type": "execute_result"
    }
   ],
   "source": [
    "movies.loc[movies.duration > 200, 'genre']  # Display the titles of movies with a duration greater than 200 minutes"
   ]
  },
  {
   "cell_type": "code",
   "execution_count": 35,
   "id": "63eb17d1",
   "metadata": {},
   "outputs": [
    {
     "data": {
      "text/html": [
       "<div>\n",
       "<style scoped>\n",
       "    .dataframe tbody tr th:only-of-type {\n",
       "        vertical-align: middle;\n",
       "    }\n",
       "\n",
       "    .dataframe tbody tr th {\n",
       "        vertical-align: top;\n",
       "    }\n",
       "\n",
       "    .dataframe thead th {\n",
       "        text-align: right;\n",
       "    }\n",
       "</style>\n",
       "<table border=\"1\" class=\"dataframe\">\n",
       "  <thead>\n",
       "    <tr style=\"text-align: right;\">\n",
       "      <th></th>\n",
       "      <th>star_rating</th>\n",
       "      <th>title</th>\n",
       "      <th>content_rating</th>\n",
       "      <th>genre</th>\n",
       "      <th>duration</th>\n",
       "      <th>actors_list</th>\n",
       "    </tr>\n",
       "  </thead>\n",
       "  <tbody>\n",
       "    <tr>\n",
       "      <th>17</th>\n",
       "      <td>8.7</td>\n",
       "      <td>Seven Samurai</td>\n",
       "      <td>UNRATED</td>\n",
       "      <td>Drama</td>\n",
       "      <td>207</td>\n",
       "      <td>[u'Toshir\\xf4 Mifune', u'Takashi Shimura', u'K...</td>\n",
       "    </tr>\n",
       "    <tr>\n",
       "      <th>157</th>\n",
       "      <td>8.2</td>\n",
       "      <td>Gone with the Wind</td>\n",
       "      <td>G</td>\n",
       "      <td>Drama</td>\n",
       "      <td>238</td>\n",
       "      <td>[u'Clark Gable', u'Vivien Leigh', u'Thomas Mit...</td>\n",
       "    </tr>\n",
       "    <tr>\n",
       "      <th>476</th>\n",
       "      <td>7.8</td>\n",
       "      <td>Hamlet</td>\n",
       "      <td>PG-13</td>\n",
       "      <td>Drama</td>\n",
       "      <td>242</td>\n",
       "      <td>[u'Kenneth Branagh', u'Julie Christie', u'Dere...</td>\n",
       "    </tr>\n",
       "  </tbody>\n",
       "</table>\n",
       "</div>"
      ],
      "text/plain": [
       "     star_rating               title content_rating  genre  duration  \\\n",
       "17           8.7       Seven Samurai        UNRATED  Drama       207   \n",
       "157          8.2  Gone with the Wind              G  Drama       238   \n",
       "476          7.8              Hamlet          PG-13  Drama       242   \n",
       "\n",
       "                                           actors_list  \n",
       "17   [u'Toshir\\xf4 Mifune', u'Takashi Shimura', u'K...  \n",
       "157  [u'Clark Gable', u'Vivien Leigh', u'Thomas Mit...  \n",
       "476  [u'Kenneth Branagh', u'Julie Christie', u'Dere...  "
      ]
     },
     "execution_count": 35,
     "metadata": {},
     "output_type": "execute_result"
    }
   ],
   "source": [
    "movies.loc[(movies.duration > 200) & (movies.genre == \"Drama\")]  # Display the titles of movies with a duration greater than 200 minutes"
   ]
  },
  {
   "cell_type": "code",
   "execution_count": 37,
   "id": "32cf7bb3",
   "metadata": {},
   "outputs": [],
   "source": [
    "import numpy as np  # Import the NumPy library for numerical operations.\n",
    "import pandas as pd  #  Import the pandas library for data manipulation and analysis.\n",
    "import seaborn as sns  # Import the seaborn library for data visualization.\n",
    "import matplotlib.pyplot as plt # Import the matplotlib library for creating static, interactive, and animated visualizations.\n",
    "import warnings  # Import the warnings library to handle warning messages.\n",
    "warnings.filterwarnings(\"ignore\")  # Ignore warning messages to keep the output clean.\n"
   ]
  },
  {
   "cell_type": "code",
   "execution_count": 39,
   "id": "fa7de0ac",
   "metadata": {},
   "outputs": [
    {
     "data": {
      "text/html": [
       "<div>\n",
       "<style scoped>\n",
       "    .dataframe tbody tr th:only-of-type {\n",
       "        vertical-align: middle;\n",
       "    }\n",
       "\n",
       "    .dataframe tbody tr th {\n",
       "        vertical-align: top;\n",
       "    }\n",
       "\n",
       "    .dataframe thead th {\n",
       "        text-align: right;\n",
       "    }\n",
       "</style>\n",
       "<table border=\"1\" class=\"dataframe\">\n",
       "  <thead>\n",
       "    <tr style=\"text-align: right;\">\n",
       "      <th></th>\n",
       "      <th>PassengerId</th>\n",
       "      <th>Survived</th>\n",
       "      <th>Pclass</th>\n",
       "      <th>Name</th>\n",
       "      <th>Sex</th>\n",
       "      <th>Age</th>\n",
       "      <th>SibSp</th>\n",
       "      <th>Parch</th>\n",
       "      <th>Ticket</th>\n",
       "      <th>Fare</th>\n",
       "      <th>Cabin</th>\n",
       "      <th>Embarked</th>\n",
       "    </tr>\n",
       "  </thead>\n",
       "  <tbody>\n",
       "    <tr>\n",
       "      <th>0</th>\n",
       "      <td>1</td>\n",
       "      <td>0</td>\n",
       "      <td>3</td>\n",
       "      <td>Braund, Mr. Owen Harris</td>\n",
       "      <td>male</td>\n",
       "      <td>22.0</td>\n",
       "      <td>1</td>\n",
       "      <td>0</td>\n",
       "      <td>A/5 21171</td>\n",
       "      <td>7.2500</td>\n",
       "      <td>NaN</td>\n",
       "      <td>S</td>\n",
       "    </tr>\n",
       "    <tr>\n",
       "      <th>1</th>\n",
       "      <td>2</td>\n",
       "      <td>1</td>\n",
       "      <td>1</td>\n",
       "      <td>Cumings, Mrs. John Bradley (Florence Briggs Th...</td>\n",
       "      <td>female</td>\n",
       "      <td>38.0</td>\n",
       "      <td>1</td>\n",
       "      <td>0</td>\n",
       "      <td>PC 17599</td>\n",
       "      <td>71.2833</td>\n",
       "      <td>C85</td>\n",
       "      <td>C</td>\n",
       "    </tr>\n",
       "    <tr>\n",
       "      <th>2</th>\n",
       "      <td>3</td>\n",
       "      <td>1</td>\n",
       "      <td>3</td>\n",
       "      <td>Heikkinen, Miss. Laina</td>\n",
       "      <td>female</td>\n",
       "      <td>26.0</td>\n",
       "      <td>0</td>\n",
       "      <td>0</td>\n",
       "      <td>STON/O2. 3101282</td>\n",
       "      <td>7.9250</td>\n",
       "      <td>NaN</td>\n",
       "      <td>S</td>\n",
       "    </tr>\n",
       "    <tr>\n",
       "      <th>3</th>\n",
       "      <td>4</td>\n",
       "      <td>1</td>\n",
       "      <td>1</td>\n",
       "      <td>Futrelle, Mrs. Jacques Heath (Lily May Peel)</td>\n",
       "      <td>female</td>\n",
       "      <td>35.0</td>\n",
       "      <td>1</td>\n",
       "      <td>0</td>\n",
       "      <td>113803</td>\n",
       "      <td>53.1000</td>\n",
       "      <td>C123</td>\n",
       "      <td>S</td>\n",
       "    </tr>\n",
       "    <tr>\n",
       "      <th>4</th>\n",
       "      <td>5</td>\n",
       "      <td>0</td>\n",
       "      <td>3</td>\n",
       "      <td>Allen, Mr. William Henry</td>\n",
       "      <td>male</td>\n",
       "      <td>35.0</td>\n",
       "      <td>0</td>\n",
       "      <td>0</td>\n",
       "      <td>373450</td>\n",
       "      <td>8.0500</td>\n",
       "      <td>NaN</td>\n",
       "      <td>S</td>\n",
       "    </tr>\n",
       "  </tbody>\n",
       "</table>\n",
       "</div>"
      ],
      "text/plain": [
       "   PassengerId  Survived  Pclass  \\\n",
       "0            1         0       3   \n",
       "1            2         1       1   \n",
       "2            3         1       3   \n",
       "3            4         1       1   \n",
       "4            5         0       3   \n",
       "\n",
       "                                                Name     Sex   Age  SibSp  \\\n",
       "0                            Braund, Mr. Owen Harris    male  22.0      1   \n",
       "1  Cumings, Mrs. John Bradley (Florence Briggs Th...  female  38.0      1   \n",
       "2                             Heikkinen, Miss. Laina  female  26.0      0   \n",
       "3       Futrelle, Mrs. Jacques Heath (Lily May Peel)  female  35.0      1   \n",
       "4                           Allen, Mr. William Henry    male  35.0      0   \n",
       "\n",
       "   Parch            Ticket     Fare Cabin Embarked  \n",
       "0      0         A/5 21171   7.2500   NaN        S  \n",
       "1      0          PC 17599  71.2833   C85        C  \n",
       "2      0  STON/O2. 3101282   7.9250   NaN        S  \n",
       "3      0            113803  53.1000  C123        S  \n",
       "4      0            373450   8.0500   NaN        S  "
      ]
     },
     "execution_count": 39,
     "metadata": {},
     "output_type": "execute_result"
    }
   ],
   "source": [
    "df = pd.read_csv('train.csv')\n",
    "df.head()"
   ]
  },
  {
   "cell_type": "code",
   "execution_count": 41,
   "id": "2747f7f2",
   "metadata": {},
   "outputs": [
    {
     "data": {
      "text/html": [
       "<div>\n",
       "<style scoped>\n",
       "    .dataframe tbody tr th:only-of-type {\n",
       "        vertical-align: middle;\n",
       "    }\n",
       "\n",
       "    .dataframe tbody tr th {\n",
       "        vertical-align: top;\n",
       "    }\n",
       "\n",
       "    .dataframe thead th {\n",
       "        text-align: right;\n",
       "    }\n",
       "</style>\n",
       "<table border=\"1\" class=\"dataframe\">\n",
       "  <thead>\n",
       "    <tr style=\"text-align: right;\">\n",
       "      <th></th>\n",
       "      <th>Survived</th>\n",
       "      <th>Pclass</th>\n",
       "      <th>Sex</th>\n",
       "      <th>Age</th>\n",
       "      <th>SibSp</th>\n",
       "      <th>Parch</th>\n",
       "      <th>Fare</th>\n",
       "      <th>Cabin</th>\n",
       "      <th>Embarked</th>\n",
       "    </tr>\n",
       "  </thead>\n",
       "  <tbody>\n",
       "    <tr>\n",
       "      <th>0</th>\n",
       "      <td>0</td>\n",
       "      <td>3</td>\n",
       "      <td>male</td>\n",
       "      <td>22.0</td>\n",
       "      <td>1</td>\n",
       "      <td>0</td>\n",
       "      <td>7.2500</td>\n",
       "      <td>NaN</td>\n",
       "      <td>S</td>\n",
       "    </tr>\n",
       "    <tr>\n",
       "      <th>1</th>\n",
       "      <td>1</td>\n",
       "      <td>1</td>\n",
       "      <td>female</td>\n",
       "      <td>38.0</td>\n",
       "      <td>1</td>\n",
       "      <td>0</td>\n",
       "      <td>71.2833</td>\n",
       "      <td>C85</td>\n",
       "      <td>C</td>\n",
       "    </tr>\n",
       "    <tr>\n",
       "      <th>2</th>\n",
       "      <td>1</td>\n",
       "      <td>3</td>\n",
       "      <td>female</td>\n",
       "      <td>26.0</td>\n",
       "      <td>0</td>\n",
       "      <td>0</td>\n",
       "      <td>7.9250</td>\n",
       "      <td>NaN</td>\n",
       "      <td>S</td>\n",
       "    </tr>\n",
       "    <tr>\n",
       "      <th>3</th>\n",
       "      <td>1</td>\n",
       "      <td>1</td>\n",
       "      <td>female</td>\n",
       "      <td>35.0</td>\n",
       "      <td>1</td>\n",
       "      <td>0</td>\n",
       "      <td>53.1000</td>\n",
       "      <td>C123</td>\n",
       "      <td>S</td>\n",
       "    </tr>\n",
       "    <tr>\n",
       "      <th>4</th>\n",
       "      <td>0</td>\n",
       "      <td>3</td>\n",
       "      <td>male</td>\n",
       "      <td>35.0</td>\n",
       "      <td>0</td>\n",
       "      <td>0</td>\n",
       "      <td>8.0500</td>\n",
       "      <td>NaN</td>\n",
       "      <td>S</td>\n",
       "    </tr>\n",
       "  </tbody>\n",
       "</table>\n",
       "</div>"
      ],
      "text/plain": [
       "   Survived  Pclass     Sex   Age  SibSp  Parch     Fare Cabin Embarked\n",
       "0         0       3    male  22.0      1      0   7.2500   NaN        S\n",
       "1         1       1  female  38.0      1      0  71.2833   C85        C\n",
       "2         1       3  female  26.0      0      0   7.9250   NaN        S\n",
       "3         1       1  female  35.0      1      0  53.1000  C123        S\n",
       "4         0       3    male  35.0      0      0   8.0500   NaN        S"
      ]
     },
     "execution_count": 41,
     "metadata": {},
     "output_type": "execute_result"
    }
   ],
   "source": [
    "df.drop(['PassengerId','Name','Ticket'] , axis=1, inplace=True)  # Drop the specified columns from the DataFrame\n",
    "df.head()  # Display the first few rows of the DataFrame after dropping the specified columns"
   ]
  },
  {
   "cell_type": "code",
   "execution_count": 42,
   "id": "fbf4decd",
   "metadata": {},
   "outputs": [
    {
     "data": {
      "text/plain": [
       "Survived      int64\n",
       "Pclass        int64\n",
       "Sex          object\n",
       "Age         float64\n",
       "SibSp         int64\n",
       "Parch         int64\n",
       "Fare        float64\n",
       "Cabin        object\n",
       "Embarked     object\n",
       "dtype: object"
      ]
     },
     "execution_count": 42,
     "metadata": {},
     "output_type": "execute_result"
    }
   ],
   "source": [
    "df.dtypes  # Display the data types of each column in the DataFrame"
   ]
  },
  {
   "cell_type": "code",
   "execution_count": 43,
   "id": "62b3bc19",
   "metadata": {},
   "outputs": [
    {
     "data": {
      "text/plain": [
       "Survived      2\n",
       "Pclass        3\n",
       "Sex           2\n",
       "Age          88\n",
       "SibSp         7\n",
       "Parch         7\n",
       "Fare        248\n",
       "Cabin       147\n",
       "Embarked      3\n",
       "dtype: int64"
      ]
     },
     "execution_count": 43,
     "metadata": {},
     "output_type": "execute_result"
    }
   ],
   "source": [
    "dtypes = df.dtypes  # Store the data types of each column in a variable\n",
    "n_uniq = df.nunique()  # Count the number of unique values in each column\n",
    "n_uniq  # Display the number of unique values in each column\n"
   ]
  },
  {
   "cell_type": "code",
   "execution_count": 45,
   "id": "e8da9f1f",
   "metadata": {},
   "outputs": [
    {
     "data": {
      "text/html": [
       "<div>\n",
       "<style scoped>\n",
       "    .dataframe tbody tr th:only-of-type {\n",
       "        vertical-align: middle;\n",
       "    }\n",
       "\n",
       "    .dataframe tbody tr th {\n",
       "        vertical-align: top;\n",
       "    }\n",
       "\n",
       "    .dataframe thead th {\n",
       "        text-align: right;\n",
       "    }\n",
       "</style>\n",
       "<table border=\"1\" class=\"dataframe\">\n",
       "  <thead>\n",
       "    <tr style=\"text-align: right;\">\n",
       "      <th></th>\n",
       "      <th>Survived</th>\n",
       "      <th>Pclass</th>\n",
       "      <th>Sex</th>\n",
       "      <th>Age</th>\n",
       "      <th>SibSp</th>\n",
       "      <th>Parch</th>\n",
       "      <th>Fare</th>\n",
       "      <th>Cabin</th>\n",
       "      <th>Embarked</th>\n",
       "    </tr>\n",
       "  </thead>\n",
       "  <tbody>\n",
       "    <tr>\n",
       "      <th>dtypes</th>\n",
       "      <td>int64</td>\n",
       "      <td>int64</td>\n",
       "      <td>object</td>\n",
       "      <td>float64</td>\n",
       "      <td>int64</td>\n",
       "      <td>int64</td>\n",
       "      <td>float64</td>\n",
       "      <td>object</td>\n",
       "      <td>object</td>\n",
       "    </tr>\n",
       "    <tr>\n",
       "      <th>n_uniq</th>\n",
       "      <td>2</td>\n",
       "      <td>3</td>\n",
       "      <td>2</td>\n",
       "      <td>88</td>\n",
       "      <td>7</td>\n",
       "      <td>7</td>\n",
       "      <td>248</td>\n",
       "      <td>147</td>\n",
       "      <td>3</td>\n",
       "    </tr>\n",
       "  </tbody>\n",
       "</table>\n",
       "</div>"
      ],
      "text/plain": [
       "       Survived Pclass     Sex      Age  SibSp  Parch     Fare   Cabin  \\\n",
       "dtypes    int64  int64  object  float64  int64  int64  float64  object   \n",
       "n_uniq        2      3       2       88      7      7      248     147   \n",
       "\n",
       "       Embarked  \n",
       "dtypes   object  \n",
       "n_uniq        3  "
      ]
     },
     "execution_count": 45,
     "metadata": {},
     "output_type": "execute_result"
    }
   ],
   "source": [
    "dtypes = df.dtypes  # Store the data types of each column in a variable\n",
    "n_uniq = df.nunique()  # Count the number of unique values in each column\n",
    "pd.DataFrame({'dtypes': dtypes, 'n_uniq': n_uniq}) .T  # Create a new DataFrame with the data types and number of unique values of each column"
   ]
  },
  {
   "cell_type": "code",
   "execution_count": 46,
   "id": "7951b3e1",
   "metadata": {},
   "outputs": [],
   "source": [
    "def dtypes_and_unique(df):\n",
    "    dtypes = df.dtypes  # Store the data types of each column in a variable\n",
    "    n_uniq = df.nunique()  # Count the number of unique values in each column\n",
    "    \n",
    "    return pd.DataFrame({'dtypes': dtypes, 'n_uniq': n_uniq}) .T  # Create a new DataFrame with the data types and number of unique values of each column"
   ]
  },
  {
   "cell_type": "code",
   "execution_count": 47,
   "id": "655e0126",
   "metadata": {},
   "outputs": [
    {
     "data": {
      "text/html": [
       "<div>\n",
       "<style scoped>\n",
       "    .dataframe tbody tr th:only-of-type {\n",
       "        vertical-align: middle;\n",
       "    }\n",
       "\n",
       "    .dataframe tbody tr th {\n",
       "        vertical-align: top;\n",
       "    }\n",
       "\n",
       "    .dataframe thead th {\n",
       "        text-align: right;\n",
       "    }\n",
       "</style>\n",
       "<table border=\"1\" class=\"dataframe\">\n",
       "  <thead>\n",
       "    <tr style=\"text-align: right;\">\n",
       "      <th></th>\n",
       "      <th>Survived</th>\n",
       "      <th>Pclass</th>\n",
       "      <th>Sex</th>\n",
       "      <th>Age</th>\n",
       "      <th>SibSp</th>\n",
       "      <th>Parch</th>\n",
       "      <th>Fare</th>\n",
       "      <th>Cabin</th>\n",
       "      <th>Embarked</th>\n",
       "    </tr>\n",
       "  </thead>\n",
       "  <tbody>\n",
       "    <tr>\n",
       "      <th>dtypes</th>\n",
       "      <td>int64</td>\n",
       "      <td>int64</td>\n",
       "      <td>object</td>\n",
       "      <td>float64</td>\n",
       "      <td>int64</td>\n",
       "      <td>int64</td>\n",
       "      <td>float64</td>\n",
       "      <td>object</td>\n",
       "      <td>object</td>\n",
       "    </tr>\n",
       "    <tr>\n",
       "      <th>n_uniq</th>\n",
       "      <td>2</td>\n",
       "      <td>3</td>\n",
       "      <td>2</td>\n",
       "      <td>88</td>\n",
       "      <td>7</td>\n",
       "      <td>7</td>\n",
       "      <td>248</td>\n",
       "      <td>147</td>\n",
       "      <td>3</td>\n",
       "    </tr>\n",
       "  </tbody>\n",
       "</table>\n",
       "</div>"
      ],
      "text/plain": [
       "       Survived Pclass     Sex      Age  SibSp  Parch     Fare   Cabin  \\\n",
       "dtypes    int64  int64  object  float64  int64  int64  float64  object   \n",
       "n_uniq        2      3       2       88      7      7      248     147   \n",
       "\n",
       "       Embarked  \n",
       "dtypes   object  \n",
       "n_uniq        3  "
      ]
     },
     "execution_count": 47,
     "metadata": {},
     "output_type": "execute_result"
    }
   ],
   "source": [
    "dtypes_and_unique(df)  # Call the function to get the data types and number of unique values of each column in the DataFrame"
   ]
  },
  {
   "cell_type": "code",
   "execution_count": 49,
   "id": "194384ec",
   "metadata": {},
   "outputs": [
    {
     "data": {
      "text/html": [
       "<div>\n",
       "<style scoped>\n",
       "    .dataframe tbody tr th:only-of-type {\n",
       "        vertical-align: middle;\n",
       "    }\n",
       "\n",
       "    .dataframe tbody tr th {\n",
       "        vertical-align: top;\n",
       "    }\n",
       "\n",
       "    .dataframe thead th {\n",
       "        text-align: right;\n",
       "    }\n",
       "</style>\n",
       "<table border=\"1\" class=\"dataframe\">\n",
       "  <thead>\n",
       "    <tr style=\"text-align: right;\">\n",
       "      <th></th>\n",
       "      <th>Survived</th>\n",
       "      <th>Pclass</th>\n",
       "      <th>Sex</th>\n",
       "      <th>Age</th>\n",
       "      <th>SibSp</th>\n",
       "      <th>Parch</th>\n",
       "      <th>Fare</th>\n",
       "      <th>Cabin</th>\n",
       "      <th>Embarked</th>\n",
       "    </tr>\n",
       "  </thead>\n",
       "  <tbody>\n",
       "    <tr>\n",
       "      <th>dtypes</th>\n",
       "      <td>int64</td>\n",
       "      <td>int64</td>\n",
       "      <td>object</td>\n",
       "      <td>float64</td>\n",
       "      <td>int64</td>\n",
       "      <td>int64</td>\n",
       "      <td>float64</td>\n",
       "      <td>object</td>\n",
       "      <td>object</td>\n",
       "    </tr>\n",
       "    <tr>\n",
       "      <th>n_uniq</th>\n",
       "      <td>2</td>\n",
       "      <td>3</td>\n",
       "      <td>2</td>\n",
       "      <td>88</td>\n",
       "      <td>7</td>\n",
       "      <td>7</td>\n",
       "      <td>248</td>\n",
       "      <td>147</td>\n",
       "      <td>3</td>\n",
       "    </tr>\n",
       "  </tbody>\n",
       "</table>\n",
       "</div>"
      ],
      "text/plain": [
       "       Survived Pclass     Sex      Age  SibSp  Parch     Fare   Cabin  \\\n",
       "dtypes    int64  int64  object  float64  int64  int64  float64  object   \n",
       "n_uniq        2      3       2       88      7      7      248     147   \n",
       "\n",
       "       Embarked  \n",
       "dtypes   object  \n",
       "n_uniq        3  "
      ]
     },
     "execution_count": 49,
     "metadata": {},
     "output_type": "execute_result"
    }
   ],
   "source": [
    "from preprocess import dtypes_and_unique  # Import the dtypes_and_unique function from the preprocessing module\n",
    "\n",
    "dtypes_and_unique(df)  # Call the function to get the data types and number of unique values of each column in the DataFrame"
   ]
  },
  {
   "cell_type": "code",
   "execution_count": 51,
   "id": "e53aab2e",
   "metadata": {},
   "outputs": [
    {
     "data": {
      "text/html": [
       "<div>\n",
       "<style scoped>\n",
       "    .dataframe tbody tr th:only-of-type {\n",
       "        vertical-align: middle;\n",
       "    }\n",
       "\n",
       "    .dataframe tbody tr th {\n",
       "        vertical-align: top;\n",
       "    }\n",
       "\n",
       "    .dataframe thead th {\n",
       "        text-align: right;\n",
       "    }\n",
       "</style>\n",
       "<table border=\"1\" class=\"dataframe\">\n",
       "  <thead>\n",
       "    <tr style=\"text-align: right;\">\n",
       "      <th></th>\n",
       "      <th>Survived</th>\n",
       "      <th>Pclass</th>\n",
       "      <th>Sex</th>\n",
       "      <th>Age</th>\n",
       "      <th>SibSp</th>\n",
       "      <th>Parch</th>\n",
       "      <th>Fare</th>\n",
       "      <th>Cabin</th>\n",
       "      <th>Embarked</th>\n",
       "    </tr>\n",
       "  </thead>\n",
       "  <tbody>\n",
       "    <tr>\n",
       "      <th>0</th>\n",
       "      <td>category</td>\n",
       "      <td>category</td>\n",
       "      <td>category</td>\n",
       "      <td>float64</td>\n",
       "      <td>category</td>\n",
       "      <td>category</td>\n",
       "      <td>float64</td>\n",
       "      <td>object</td>\n",
       "      <td>category</td>\n",
       "    </tr>\n",
       "  </tbody>\n",
       "</table>\n",
       "</div>"
      ],
      "text/plain": [
       "   Survived    Pclass       Sex      Age     SibSp     Parch     Fare   Cabin  \\\n",
       "0  category  category  category  float64  category  category  float64  object   \n",
       "\n",
       "   Embarked  \n",
       "0  category  "
      ]
     },
     "execution_count": 51,
     "metadata": {},
     "output_type": "execute_result"
    }
   ],
   "source": [
    "cols = ['Survived', 'Pclass', 'Sex', 'SibSp','Parch','Embarked' ]   # List of columns to be converted to categorical data type\n",
    "df[cols] = df[cols].astype('category')  # Convert the specified columns to categorical data type\n",
    "pd.DataFrame(df.dtypes) .T # Display the data types of all columns in the DataFrame"
   ]
  },
  {
   "cell_type": "code",
   "execution_count": 52,
   "id": "863e1e61",
   "metadata": {},
   "outputs": [
    {
     "data": {
      "text/html": [
       "<div>\n",
       "<style scoped>\n",
       "    .dataframe tbody tr th:only-of-type {\n",
       "        vertical-align: middle;\n",
       "    }\n",
       "\n",
       "    .dataframe tbody tr th {\n",
       "        vertical-align: top;\n",
       "    }\n",
       "\n",
       "    .dataframe thead th {\n",
       "        text-align: right;\n",
       "    }\n",
       "</style>\n",
       "<table border=\"1\" class=\"dataframe\">\n",
       "  <thead>\n",
       "    <tr style=\"text-align: right;\">\n",
       "      <th></th>\n",
       "      <th>Survived</th>\n",
       "      <th>Pclass</th>\n",
       "      <th>Sex</th>\n",
       "      <th>Age</th>\n",
       "      <th>SibSp</th>\n",
       "      <th>Parch</th>\n",
       "      <th>Fare</th>\n",
       "      <th>Cabin</th>\n",
       "      <th>Embarked</th>\n",
       "    </tr>\n",
       "  </thead>\n",
       "  <tbody>\n",
       "    <tr>\n",
       "      <th>0</th>\n",
       "      <td>False</td>\n",
       "      <td>False</td>\n",
       "      <td>False</td>\n",
       "      <td>False</td>\n",
       "      <td>False</td>\n",
       "      <td>False</td>\n",
       "      <td>False</td>\n",
       "      <td>True</td>\n",
       "      <td>False</td>\n",
       "    </tr>\n",
       "    <tr>\n",
       "      <th>1</th>\n",
       "      <td>False</td>\n",
       "      <td>False</td>\n",
       "      <td>False</td>\n",
       "      <td>False</td>\n",
       "      <td>False</td>\n",
       "      <td>False</td>\n",
       "      <td>False</td>\n",
       "      <td>False</td>\n",
       "      <td>False</td>\n",
       "    </tr>\n",
       "    <tr>\n",
       "      <th>2</th>\n",
       "      <td>False</td>\n",
       "      <td>False</td>\n",
       "      <td>False</td>\n",
       "      <td>False</td>\n",
       "      <td>False</td>\n",
       "      <td>False</td>\n",
       "      <td>False</td>\n",
       "      <td>True</td>\n",
       "      <td>False</td>\n",
       "    </tr>\n",
       "    <tr>\n",
       "      <th>3</th>\n",
       "      <td>False</td>\n",
       "      <td>False</td>\n",
       "      <td>False</td>\n",
       "      <td>False</td>\n",
       "      <td>False</td>\n",
       "      <td>False</td>\n",
       "      <td>False</td>\n",
       "      <td>False</td>\n",
       "      <td>False</td>\n",
       "    </tr>\n",
       "    <tr>\n",
       "      <th>4</th>\n",
       "      <td>False</td>\n",
       "      <td>False</td>\n",
       "      <td>False</td>\n",
       "      <td>False</td>\n",
       "      <td>False</td>\n",
       "      <td>False</td>\n",
       "      <td>False</td>\n",
       "      <td>True</td>\n",
       "      <td>False</td>\n",
       "    </tr>\n",
       "    <tr>\n",
       "      <th>...</th>\n",
       "      <td>...</td>\n",
       "      <td>...</td>\n",
       "      <td>...</td>\n",
       "      <td>...</td>\n",
       "      <td>...</td>\n",
       "      <td>...</td>\n",
       "      <td>...</td>\n",
       "      <td>...</td>\n",
       "      <td>...</td>\n",
       "    </tr>\n",
       "    <tr>\n",
       "      <th>886</th>\n",
       "      <td>False</td>\n",
       "      <td>False</td>\n",
       "      <td>False</td>\n",
       "      <td>False</td>\n",
       "      <td>False</td>\n",
       "      <td>False</td>\n",
       "      <td>False</td>\n",
       "      <td>True</td>\n",
       "      <td>False</td>\n",
       "    </tr>\n",
       "    <tr>\n",
       "      <th>887</th>\n",
       "      <td>False</td>\n",
       "      <td>False</td>\n",
       "      <td>False</td>\n",
       "      <td>False</td>\n",
       "      <td>False</td>\n",
       "      <td>False</td>\n",
       "      <td>False</td>\n",
       "      <td>False</td>\n",
       "      <td>False</td>\n",
       "    </tr>\n",
       "    <tr>\n",
       "      <th>888</th>\n",
       "      <td>False</td>\n",
       "      <td>False</td>\n",
       "      <td>False</td>\n",
       "      <td>True</td>\n",
       "      <td>False</td>\n",
       "      <td>False</td>\n",
       "      <td>False</td>\n",
       "      <td>True</td>\n",
       "      <td>False</td>\n",
       "    </tr>\n",
       "    <tr>\n",
       "      <th>889</th>\n",
       "      <td>False</td>\n",
       "      <td>False</td>\n",
       "      <td>False</td>\n",
       "      <td>False</td>\n",
       "      <td>False</td>\n",
       "      <td>False</td>\n",
       "      <td>False</td>\n",
       "      <td>False</td>\n",
       "      <td>False</td>\n",
       "    </tr>\n",
       "    <tr>\n",
       "      <th>890</th>\n",
       "      <td>False</td>\n",
       "      <td>False</td>\n",
       "      <td>False</td>\n",
       "      <td>False</td>\n",
       "      <td>False</td>\n",
       "      <td>False</td>\n",
       "      <td>False</td>\n",
       "      <td>True</td>\n",
       "      <td>False</td>\n",
       "    </tr>\n",
       "  </tbody>\n",
       "</table>\n",
       "<p>891 rows × 9 columns</p>\n",
       "</div>"
      ],
      "text/plain": [
       "     Survived  Pclass    Sex    Age  SibSp  Parch   Fare  Cabin  Embarked\n",
       "0       False   False  False  False  False  False  False   True     False\n",
       "1       False   False  False  False  False  False  False  False     False\n",
       "2       False   False  False  False  False  False  False   True     False\n",
       "3       False   False  False  False  False  False  False  False     False\n",
       "4       False   False  False  False  False  False  False   True     False\n",
       "..        ...     ...    ...    ...    ...    ...    ...    ...       ...\n",
       "886     False   False  False  False  False  False  False   True     False\n",
       "887     False   False  False  False  False  False  False  False     False\n",
       "888     False   False  False   True  False  False  False   True     False\n",
       "889     False   False  False  False  False  False  False  False     False\n",
       "890     False   False  False  False  False  False  False   True     False\n",
       "\n",
       "[891 rows x 9 columns]"
      ]
     },
     "execution_count": 52,
     "metadata": {},
     "output_type": "execute_result"
    }
   ],
   "source": [
    "null = df. isnull()\n",
    "null"
   ]
  },
  {
   "cell_type": "code",
   "execution_count": 56,
   "id": "686b05ba",
   "metadata": {},
   "outputs": [
    {
     "data": {
      "text/plain": [
       "Survived      0\n",
       "Pclass        0\n",
       "Sex           0\n",
       "Age         177\n",
       "SibSp         0\n",
       "Parch         0\n",
       "Fare          0\n",
       "Cabin       687\n",
       "Embarked      2\n",
       "dtype: int64"
      ]
     },
     "execution_count": 56,
     "metadata": {},
     "output_type": "execute_result"
    }
   ],
   "source": [
    "null = df. isnull() \n",
    "null.sum()   # Count the number of null values in each column of the DataFrame"
   ]
  },
  {
   "cell_type": "code",
   "execution_count": 58,
   "id": "97c57979",
   "metadata": {},
   "outputs": [
    {
     "data": {
      "text/html": [
       "<div>\n",
       "<style scoped>\n",
       "    .dataframe tbody tr th:only-of-type {\n",
       "        vertical-align: middle;\n",
       "    }\n",
       "\n",
       "    .dataframe tbody tr th {\n",
       "        vertical-align: top;\n",
       "    }\n",
       "\n",
       "    .dataframe thead th {\n",
       "        text-align: right;\n",
       "    }\n",
       "</style>\n",
       "<table border=\"1\" class=\"dataframe\">\n",
       "  <thead>\n",
       "    <tr style=\"text-align: right;\">\n",
       "      <th></th>\n",
       "      <th>Survived</th>\n",
       "      <th>Pclass</th>\n",
       "      <th>Sex</th>\n",
       "      <th>Age</th>\n",
       "      <th>SibSp</th>\n",
       "      <th>Parch</th>\n",
       "      <th>Fare</th>\n",
       "      <th>Cabin</th>\n",
       "      <th>Embarked</th>\n",
       "    </tr>\n",
       "  </thead>\n",
       "  <tbody>\n",
       "    <tr>\n",
       "      <th>null</th>\n",
       "      <td>0.0</td>\n",
       "      <td>0.0</td>\n",
       "      <td>0.0</td>\n",
       "      <td>177.00000</td>\n",
       "      <td>0.0</td>\n",
       "      <td>0.0</td>\n",
       "      <td>0.0</td>\n",
       "      <td>687.000000</td>\n",
       "      <td>2.000000</td>\n",
       "    </tr>\n",
       "    <tr>\n",
       "      <th>ratio</th>\n",
       "      <td>0.0</td>\n",
       "      <td>0.0</td>\n",
       "      <td>0.0</td>\n",
       "      <td>19.86532</td>\n",
       "      <td>0.0</td>\n",
       "      <td>0.0</td>\n",
       "      <td>0.0</td>\n",
       "      <td>77.104377</td>\n",
       "      <td>0.224467</td>\n",
       "    </tr>\n",
       "  </tbody>\n",
       "</table>\n",
       "</div>"
      ],
      "text/plain": [
       "       Survived  Pclass  Sex        Age  SibSp  Parch  Fare       Cabin  \\\n",
       "null        0.0     0.0  0.0  177.00000    0.0    0.0   0.0  687.000000   \n",
       "ratio       0.0     0.0  0.0   19.86532    0.0    0.0   0.0   77.104377   \n",
       "\n",
       "       Embarked  \n",
       "null   2.000000  \n",
       "ratio  0.224467  "
      ]
     },
     "execution_count": 58,
     "metadata": {},
     "output_type": "execute_result"
    }
   ],
   "source": [
    "null = df. isnull() .sum()  # Count the number of null values in each column of the DataFrame\n",
    "ratio = (null/ df.shape[0]) *100\n",
    "pd.DataFrame({'null': null, 'ratio': ratio}) .T # Create a new DataFrame with the count and ratio of null values in each column"
   ]
  },
  {
   "cell_type": "code",
   "execution_count": null,
   "id": "456647c3",
   "metadata": {},
   "outputs": [],
   "source": []
  }
 ],
 "metadata": {
  "kernelspec": {
   "display_name": ".venv",
   "language": "python",
   "name": "python3"
  },
  "language_info": {
   "codemirror_mode": {
    "name": "ipython",
    "version": 3
   },
   "file_extension": ".py",
   "mimetype": "text/x-python",
   "name": "python",
   "nbconvert_exporter": "python",
   "pygments_lexer": "ipython3",
   "version": "3.13.3"
  }
 },
 "nbformat": 4,
 "nbformat_minor": 5
}
