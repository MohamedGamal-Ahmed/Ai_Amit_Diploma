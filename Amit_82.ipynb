{
 "cells": [
  {
   "cell_type": "code",
   "execution_count": 2,
   "id": "bd15f222",
   "metadata": {},
   "outputs": [
    {
     "name": "stdout",
     "output_type": "stream",
     "text": [
      "My name is : Mohamed gamal\n",
      "My age is: 35\n",
      "My grade : 3.99\n",
      "My gender : male\n"
     ]
    }
   ],
   "source": [
    "class STUDENT:\n",
    "    def __init__(self):\n",
    "        self.student_name = \"Mohamed gamal\"\n",
    "        self.Student_age = 35\n",
    "        self.student_grade = 3.99\n",
    "        self.student_gender = \"male\"\n",
    "\n",
    "    def student_info(self):\n",
    "        print(f\"My name is : {self.student_name}\")\n",
    "        print(f\"My age is: {self.Student_age}\") \n",
    "        print(f\"My grade : {self.student_grade}\")\n",
    "        print(f\"My gender : {self.student_gender}\")\n",
    "\n",
    "s1 = STUDENT()\n",
    "s1.student_info()"
   ]
  },
  {
   "cell_type": "code",
   "execution_count": 1,
   "id": "25005184",
   "metadata": {},
   "outputs": [
    {
     "name": "stdout",
     "output_type": "stream",
     "text": [
      "Addition of 10 and 5 is: 15\n",
      "Subtraction of 10 and 5 is: 5\n"
     ]
    }
   ],
   "source": [
    "class Calculator:\n",
    "    def __init__(self, num1, num2):\n",
    "        self.num1 = num1\n",
    "        self.num2 = num2\n",
    "    def add(self):\n",
    "        return self.num1 + self.num2\n",
    "    def subtract(self):\n",
    "        return self.num1 - self.num2\n",
    "\n",
    "\n",
    "num1 = int(input(\"Enter first number: \"))\n",
    "num2 = int(input(\"Enter second number: \"))\n",
    "\n",
    "c1 = Calculator(num1, num2)\n",
    "c1.add()\n",
    "c2 = Calculator(num1, num2)\n",
    "c2.subtract()\n",
    "print (f\"Addition of {num1} and {num2} is: {c1.add()}\")\n",
    "print (f\"Subtraction of {num1} and {num2} is: {c2.subtract()}\")"
   ]
  },
  {
   "cell_type": "code",
   "execution_count": null,
   "id": "f4d9533c",
   "metadata": {},
   "outputs": [],
   "source": []
  }
 ],
 "metadata": {
  "kernelspec": {
   "display_name": ".venv",
   "language": "python",
   "name": "python3"
  },
  "language_info": {
   "codemirror_mode": {
    "name": "ipython",
    "version": 3
   },
   "file_extension": ".py",
   "mimetype": "text/x-python",
   "name": "python",
   "nbconvert_exporter": "python",
   "pygments_lexer": "ipython3",
   "version": "3.13.3"
  }
 },
 "nbformat": 4,
 "nbformat_minor": 5
}
