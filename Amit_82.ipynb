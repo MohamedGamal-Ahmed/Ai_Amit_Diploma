{
 "cells": [
  {
   "cell_type": "code",
   "execution_count": 2,
   "id": "bd15f222",
   "metadata": {},
   "outputs": [
    {
     "name": "stdout",
     "output_type": "stream",
     "text": [
      "My name is : Mohamed gamal\n",
      "My age is: 35\n",
      "My grade : 3.99\n",
      "My gender : male\n"
     ]
    }
   ],
   "source": [
    "class STUDENT:\n",
    "    def __init__(self):\n",
    "        self.student_name = \"Mohamed gamal\"\n",
    "        self.Student_age = 35\n",
    "        self.student_grade = 3.99\n",
    "        self.student_gender = \"male\"\n",
    "\n",
    "    def student_info(self):\n",
    "        print(f\"My name is : {self.student_name}\")\n",
    "        print(f\"My age is: {self.Student_age}\") \n",
    "        print(f\"My grade : {self.student_grade}\")\n",
    "        print(f\"My gender : {self.student_gender}\")\n",
    "\n",
    "s1 = STUDENT()\n",
    "s1.student_info()"
   ]
  },
  {
   "cell_type": "code",
   "execution_count": null,
   "id": "25005184",
   "metadata": {},
   "outputs": [
    {
     "name": "stdout",
     "output_type": "stream",
     "text": [
      "Addition of 10 and 5 is: 15\n",
      "Subtraction of 10 and 5 is: 5\n"
     ]
    }
   ],
   "source": [
    "\n",
    "#class Calculator take two numbers and perform addition and subtraction\n",
    "# and print the results\n",
    "class Calculator:\n",
    "    def __init__(self, num1, num2):\n",
    "        self.num1 = num1\n",
    "        self.num2 = num2\n",
    "    def add(self):\n",
    "        return self.num1 + self.num2\n",
    "    def subtract(self):\n",
    "        return self.num1 - self.num2\n",
    "\n",
    "\n",
    "\n",
    "num1 = int(input(\"Enter first number: \"))   # Input first numbers from the user \n",
    "num2 = int(input(\"Enter second number: \"))  # Input second numbers from the user \n",
    "\n",
    "c1 = Calculator(num1, num2)    # inherits the class Calculator\n",
    "c1.add()                        # performs addition\n",
    "c2 = Calculator(num1, num2)\n",
    "c2.subtract()\n",
    "print (f\"Addition of {num1} and {num2} is: {c1.add()}\")\n",
    "print (f\"Subtraction of {num1} and {num2} is: {c2.subtract()}\")"
   ]
  },
  {
   "cell_type": "code",
   "execution_count": 1,
   "id": "f4d9533c",
   "metadata": {},
   "outputs": [
    {
     "name": "stdout",
     "output_type": "stream",
     "text": [
      "I can fly\n"
     ]
    }
   ],
   "source": [
    "from abc import ABC, abstractmethod\n",
    "\n",
    "class Animal (ABC):\n",
    "    @abstractmethod\n",
    "    def move(self):\n",
    "        pass\n",
    "\n",
    "class Bird(Animal):\n",
    "    def move(self):\n",
    "        print(\"I can fly\")\n",
    "\n",
    "class Cat(Animal):\n",
    "    def move(self):\n",
    "        print(\"I can run\")\n",
    "\n",
    "a = Bird()\n",
    "a.move()"
   ]
  },
  {
   "cell_type": "code",
   "execution_count": 2,
   "id": "4c27d694",
   "metadata": {},
   "outputs": [
    {
     "name": "stdout",
     "output_type": "stream",
     "text": [
      "A is doing this\n"
     ]
    }
   ],
   "source": [
    "class A():\n",
    "    def do_this(self):\n",
    "        print(\"A is doing this\")\n",
    "\n",
    "class B(A):\n",
    "    pass\n",
    "\n",
    "class C():\n",
    "    def do_this(self):\n",
    "        print(\"C is doing this\")\n",
    "\n",
    "class D(B, C):\n",
    "    pass\n",
    "\n",
    "d = D()\n",
    "x = d.do_this()"
   ]
  },
  {
   "cell_type": "code",
   "execution_count": 6,
   "id": "398c9abe",
   "metadata": {},
   "outputs": [
    {
     "name": "stdout",
     "output_type": "stream",
     "text": [
      "Generated password: vq(DP4WXdp\n"
     ]
    }
   ],
   "source": [
    "import random\n",
    "class password_generator:\n",
    "    def __init__(self, length):\n",
    "        self.length = length\n",
    "\n",
    "    def generate(self):\n",
    "        characters = \"abcdefghijklmnopqrstuvwxyzABCDEFGHIJKLMNOPQRSTUVWXYZ0123456789!@#$%^&*()\"\n",
    "        password = \"\"\n",
    "\n",
    "        for _ in range(self.length):\n",
    "            password += random.choice(characters)\n",
    "        return password\n",
    "    \n",
    "if __name__ == \"__main__\":\n",
    "    p1 = password_generator(10)  # Create an instance with desired length\n",
    "    p1.generate()  # Generate the password\n",
    "    print(f\"Generated password: {p1.generate()}\")  # Print the generated password\n",
    "\n",
    "\n",
    "\n"
   ]
  },
  {
   "cell_type": "code",
   "execution_count": 7,
   "id": "86a06c6d",
   "metadata": {},
   "outputs": [
    {
     "name": "stdout",
     "output_type": "stream",
     "text": [
      "Welcome: 1\n",
      "Ali: 4\n",
      "Hi: 2\n",
      "No: 3\n"
     ]
    }
   ],
   "source": [
    "class WordFrequencyCounter:\n",
    "\n",
    "    def __init__(self, words):\n",
    "    \n",
    "        self.words = words\n",
    "\n",
    "    def count_frequencies(self):\n",
    "    \n",
    "        freq_dict = {}\n",
    "        for word in self.words:\n",
    "            if word in freq_dict:\n",
    "                freq_dict[word] += 1\n",
    "            else:\n",
    "                freq_dict[word] = 1\n",
    "        return freq_dict\n",
    "if __name__ == \"__main__\":\n",
    "    \n",
    "    words = [\"Welcome\", \"Ali\", \"Hi\", \"Ali\", \"No\", \"Hi\", \"No\", \"Ali\", \"No\", \"Ali\"]\n",
    "    \n",
    "    counter = WordFrequencyCounter(words)\n",
    "    result = counter.count_frequencies()\n",
    "\n",
    "    for word, count in result.items():\n",
    "        print(f\"{word}: {count}\")"
   ]
  },
  {
   "cell_type": "code",
   "execution_count": null,
   "id": "17006fb9",
   "metadata": {},
   "outputs": [],
   "source": [
    "def count_word_frequencies(words):\n",
    "    freq_dict = {}\n",
    "    for word in words:\n",
    "        if word in freq_dict:\n",
    "            freq_dict[word] += 1\n",
    "        else:\n",
    "            freq_dict[word] = 1\n",
    "    return freq_dict\n",
    "\n",
    "words = [\"Welcome\", \"Ali\", \"Hi\", \"Ali\", \"No\", \"Hi\", \"No\", \"Ali\", \"No\", \"Ali\"]\n",
    "unique_words = set(words)\n",
    "counts = {word: words.count(word) for word in unique_words}\n",
    "for word in unique_words:\n",
    "    print(f\"{word}: {counts[word]}\")\n",
    "\n",
    "\n"
   ]
  },
  {
   "cell_type": "code",
   "execution_count": null,
   "id": "0fa69cdf",
   "metadata": {},
   "outputs": [],
   "source": [
    "\n",
    "def count_word_frequencies(words):\n",
    "\n",
    "    freq_dict = {}\n",
    "    for word in words:\n",
    "        freq_dict[word] = freq_dict.get(word, 0) + 1\n",
    "    return freq_dict\n",
    "\n",
    "words = [\"Welcome\", \"Ali\", \"Hi\", \"Ali\", \"No\", \"Hi\", \"No\", \"Ali\", \"No\", \"Ali\"]\n",
    "\n",
    "counts = count_word_frequencies(words)\n",
    "\n",
    "for word in sorted(counts):\n",
    "    print(f\"{word}: {counts[word]}\")"
   ]
  },
  {
   "cell_type": "code",
   "execution_count": null,
   "id": "acd70680",
   "metadata": {},
   "outputs": [],
   "source": [
    "class WordFrequencies:\n",
    "    def __init__(self, words):\n",
    "        self.words = words\n",
    "\n",
    "    def count_word_frequencies(self):\n",
    "        freq_dict = {}\n",
    "        for word in self.words:\n",
    "            freq_dict[word] = freq_dict.get(word, 0) + 1\n",
    "        return freq_dict\n",
    "\n",
    "    def display_frequencies(self):\n",
    "        counts = self.count_word_frequencies()\n",
    "        for word in sorted(counts):\n",
    "            print(f\"{word}: {counts[word]}\")\n",
    "\n",
    "if __name__ == \"__main__\":\n",
    "    words = [\"Welcome\", \"Ali\", \"Hi\", \"Ali\", \"No\", \"Hi\", \"No\", \"Ali\", \"No\", \"Ali\"]\n",
    "    wf = WordFrequencies(words)\n",
    "    wf.display_frequencies()\n"
   ]
  },
  {
   "cell_type": "code",
   "execution_count": null,
   "id": "535f8398",
   "metadata": {},
   "outputs": [],
   "source": [
    "import random\n",
    "\n",
    "# Predefined responses\n",
    "responses = {\n",
    "    \"hello\": [\"Hello!\", \"Hi there!\", \"Greetings!\"],\n",
    "    \"how are you\": [\"I'm doing well, thank you!\", \"I'm fine, how about you?\"],\n",
    "    \"goodbye\": [\"Goodbye!\", \"See you later!\", \"Farewell!\"],\n",
    "    \"default\": [\"I'm sorry, I didn't understand.\", \"Could you please rephrase that?\"]\n",
    "}\n",
    "\n",
    "# Function to get a response based on user input\n",
    "def get_response(user_input):\n",
    "    for key in responses:\n",
    "        if key in user_input:\n",
    "            return random.choice(responses[key])\n",
    "    \n",
    "    return random.choice(responses[\"default\"])\n",
    "\n",
    "# Chatbot function\n",
    "def chatbot():\n",
    "    print(\"Chatbot: Hi! How can I assist you today?\")\n",
    "    \n",
    "    while True:\n",
    "        user_input = input(\"User: \").lower()\n",
    "        response = get_response(user_input)\n",
    "        print(\"Chatbot:\", response)\n",
    "        \n",
    "        if user_input == \"goodbye\":\n",
    "            break\n",
    "\n",
    "# Run the chatbot\n",
    "chatbot()"
   ]
  },
  {
   "cell_type": "code",
   "execution_count": 12,
   "id": "a9894ba4",
   "metadata": {},
   "outputs": [
    {
     "name": "stdout",
     "output_type": "stream",
     "text": [
      "Chatbot: Hello! Type 'goodbye' to exit.\n",
      "Chatbot: Hi there!\n",
      "Chatbot: Could you repeat it?\n",
      "Chatbot: I'm good, thanks!\n",
      "Chatbot: Could you repeat it?\n",
      "Chatbot: Goodbye!\n"
     ]
    }
   ],
   "source": [
    "import random\n",
    "\n",
    "class ChatBot:\n",
    "    def __init__(self):\n",
    "        self.responses = {\n",
    "            \"hello\": [\"Hello!\", \"Hi there!\", \"Greetings!\"],\n",
    "            \"how are you\": [\"I'm good, thanks!\", \"Doing well, and you?\"],\n",
    "            \"goodbye\": [\"Goodbye!\", \"See you!\", \"Take care!\"],\n",
    "            \"default\": [\"I didn't get that.\", \"Could you repeat it?\"]\n",
    "        }\n",
    "\n",
    "    def get_response(self, user_input):\n",
    "        user_input = user_input.lower()\n",
    "        for key in self.responses:\n",
    "            if key in user_input:\n",
    "                return random.choice(self.responses[key])\n",
    "        return random.choice(self.responses[\"default\"])\n",
    "\n",
    "    def start(self):\n",
    "        print(\"Chatbot: Hello! Type 'goodbye' to exit.\")\n",
    "        while True:\n",
    "            user_input = input(\"You: \")\n",
    "            response = self.get_response(user_input)\n",
    "            print(\"Chatbot:\", response)\n",
    "            if \"goodbye\" in user_input.lower():\n",
    "                break\n",
    "\n",
    "\n",
    "bot = ChatBot()\n",
    "bot.start()\n"
   ]
  },
  {
   "cell_type": "code",
   "execution_count": 3,
   "id": "a140bd01",
   "metadata": {},
   "outputs": [
    {
     "name": "stdout",
     "output_type": "stream",
     "text": [
      "[1 2 3]\n",
      "[4 5 6]\n"
     ]
    }
   ],
   "source": [
    "import numpy as np\n",
    "\n",
    "# Example usage of numpy\n",
    "v1 = np.array([1, 2, 3])\n",
    "v2 = np.array([4, 5, 6])\n",
    "print(v1)\n",
    "print(v2)\n"
   ]
  },
  {
   "cell_type": "code",
   "execution_count": null,
   "id": "2182adc2",
   "metadata": {},
   "outputs": [
    {
     "name": "stdout",
     "output_type": "stream",
     "text": [
      "<class 'list'>\n",
      "<class 'numpy.ndarray'>\n"
     ]
    }
   ],
   "source": [
    "list_1 = [1, 2, 3] \n",
    "print(type(list_1)) # check type of list_1\n",
    "# Convert list_1 to a numpy array\n",
    "x = np.array(list_1) \n",
    "print(type(x))"
   ]
  },
  {
   "cell_type": "code",
   "execution_count": 6,
   "id": "cc6c2137",
   "metadata": {},
   "outputs": [
    {
     "name": "stdout",
     "output_type": "stream",
     "text": [
      "[ 4 10 18]\n"
     ]
    }
   ],
   "source": [
    "v1 = np.array([1, 2, 3])\n",
    "v2 = np.array([4, 5, 6])\n",
    "w= v1 * v2  # Add two numpy arrays\n",
    "print(w)  # Print the result of the addition\n"
   ]
  },
  {
   "cell_type": "code",
   "execution_count": 1,
   "id": "f6bc6a9f",
   "metadata": {},
   "outputs": [],
   "source": [
    "import numpy as np"
   ]
  },
  {
   "cell_type": "code",
   "execution_count": 7,
   "id": "4688e7c4",
   "metadata": {},
   "outputs": [
    {
     "name": "stdout",
     "output_type": "stream",
     "text": [
      "<class 'numpy.ndarray'>\n",
      "D 0\n",
      "5\n"
     ]
    }
   ],
   "source": [
    "s= np.array(5)  # Create a numpy array with a single element\n",
    "print (type(s))  # Check the type of the numpy array\n",
    "print(\"D\", s.ndim)  # Print the number of dimensions\n",
    "print(s)  # Print the numpy array"
   ]
  },
  {
   "cell_type": "code",
   "execution_count": 9,
   "id": "2c6b8c25",
   "metadata": {},
   "outputs": [
    {
     "name": "stdout",
     "output_type": "stream",
     "text": [
      "<class 'numpy.ndarray'>\n",
      "(3,)\n"
     ]
    },
    {
     "data": {
      "text/plain": [
       "array([1, 2, 3])"
      ]
     },
     "execution_count": 9,
     "metadata": {},
     "output_type": "execute_result"
    }
   ],
   "source": [
    "v= np.array([1, 2, 3])\n",
    "print(type(v))  # Check the type of the numpy array\n",
    "print(v.shape)  # Print the shape of the numpy array\n",
    "v"
   ]
  },
  {
   "cell_type": "code",
   "execution_count": 11,
   "id": "a9b93473",
   "metadata": {},
   "outputs": [
    {
     "name": "stdout",
     "output_type": "stream",
     "text": [
      "<class 'numpy.ndarray'>\n",
      "2 D\n",
      "(2, 3)\n",
      "[[1 2 3]\n",
      " [4 5 6]]\n"
     ]
    }
   ],
   "source": [
    "m= np.array([[1, 2, 3],\n",
    "            [4, 5, 6]\n",
    "            ])\n",
    "print(type(m))  # Check the type of the numpy array\n",
    "print(m.ndim , \"D\")  # Print the number of dimensions\n",
    "print(m.shape)  # Print the shape of the numpy array\n",
    "print(m)  # Print the numpy array"
   ]
  },
  {
   "cell_type": "code",
   "execution_count": 12,
   "id": "d1a16747",
   "metadata": {},
   "outputs": [
    {
     "name": "stdout",
     "output_type": "stream",
     "text": [
      "[[1 2]\n",
      " [3 4]\n",
      " [5 6]]\n",
      "<class 'numpy.ndarray'>\n"
     ]
    }
   ],
   "source": [
    "vec_1 = np.array([1, 2, 3, 4 ,5 , 6])  \n",
    "matrix_1 = vec_1.reshape(3,2)  # Reshape the vector into a 2x3 matrix\n",
    "print(matrix_1)  # Print the reshaped matrix\n",
    "print(type(matrix_1))  # Check the type of the reshaped matrix"
   ]
  },
  {
   "cell_type": "code",
   "execution_count": 17,
   "id": "9bdfd517",
   "metadata": {},
   "outputs": [
    {
     "name": "stdout",
     "output_type": "stream",
     "text": [
      "[[1]\n",
      " [2]\n",
      " [3]\n",
      " [4]\n",
      " [5]]\n"
     ]
    }
   ],
   "source": [
    "vec_2 = np.array([1, 2, 3, 4 ,5 ])\n",
    "matrix_3 = vec_2.reshape(vec_2.shape[0],1)  \n",
    "print(matrix_3)  "
   ]
  },
  {
   "cell_type": "code",
   "execution_count": 18,
   "id": "45ef9ab8",
   "metadata": {},
   "outputs": [
    {
     "name": "stdout",
     "output_type": "stream",
     "text": [
      "[[1]\n",
      " [2]\n",
      " [3]\n",
      " [4]\n",
      " [5]]\n"
     ]
    }
   ],
   "source": [
    "vec_2 = np.array([1, 2, 3, 4 ,5 ])\n",
    "#matrix_3 = vec_2.reshape(vec_2.shape[0],1)  \n",
    "matrix_4 = vec_2[:, None]  # Reshape the vector into a column vector\n",
    "print(matrix_4) "
   ]
  },
  {
   "cell_type": "code",
   "execution_count": 19,
   "id": "ef21b73c",
   "metadata": {},
   "outputs": [
    {
     "name": "stdout",
     "output_type": "stream",
     "text": [
      "int64\n"
     ]
    }
   ],
   "source": [
    "m_1 = np.array([[1, 2, 3],\n",
    "                [4, 5, 6],\n",
    "                [7,8,9]\n",
    "                ])\n",
    "\n",
    "print(m_1.dtype)  # Check the type of the numpy array"
   ]
  },
  {
   "cell_type": "code",
   "execution_count": 20,
   "id": "0d04033f",
   "metadata": {},
   "outputs": [
    {
     "name": "stdout",
     "output_type": "stream",
     "text": [
      "int64\n"
     ]
    }
   ],
   "source": [
    "m_1 = np.array([[1, True, 3],\n",
    "                [4, 5, 6],\n",
    "                [7,8,9]\n",
    "                ])\n",
    "\n",
    "print(m_1.dtype)  # Check the type of the numpy array"
   ]
  },
  {
   "cell_type": "code",
   "execution_count": 27,
   "id": "6ea04938",
   "metadata": {},
   "outputs": [
    {
     "name": "stdout",
     "output_type": "stream",
     "text": [
      "<U21\n",
      "[['1' 'True' 'Mohamed Gamal']\n",
      " ['4' '5' '6']\n",
      " ['7' '8' '9']]\n"
     ]
    }
   ],
   "source": [
    "class student:\n",
    "    def __init__(self, name):\n",
    "        self.name = name\n",
    "\n",
    "s = student(\"Mohamed Gamal\")\n",
    "m_1 = np.array([[1, True, s.name],\n",
    "                [4, 5, 6],\n",
    "                [7,8,9]\n",
    "                ])\n",
    "\n",
    "print(m_1.dtype) \n",
    "print(m_1)  # Print the numpy array with mixed data types\n"
   ]
  },
  {
   "cell_type": "code",
   "execution_count": null,
   "id": "857b06d8",
   "metadata": {},
   "outputs": [
    {
     "data": {
      "text/plain": [
       "np.int64(6)"
      ]
     },
     "execution_count": 30,
     "metadata": {},
     "output_type": "execute_result"
    }
   ],
   "source": [
    "m = np.array([[1, 2, 3],\n",
    "        [4, 5, 6],\n",
    "        [7, 8, 9],\n",
    "        [0,0,0]\n",
    "        ])  # indexing example [1 ,2 , 3] = index 0 \n",
    "\n",
    "m[1,2]"
   ]
  },
  {
   "cell_type": "code",
   "execution_count": 31,
   "id": "9222607e",
   "metadata": {},
   "outputs": [
    {
     "data": {
      "text/plain": [
       "np.int64(5)"
      ]
     },
     "execution_count": 31,
     "metadata": {},
     "output_type": "execute_result"
    }
   ],
   "source": [
    "m = np.array([[1, 2, 3],\n",
    "        [4, 5, 6],\n",
    "        [7, 8, 9],\n",
    "        [0,0,0]\n",
    "        ])  # indexing example [1 ,2 , 3] = index 0 \n",
    "\n",
    "m[1,-2]"
   ]
  },
  {
   "cell_type": "code",
   "execution_count": 33,
   "id": "27800987",
   "metadata": {},
   "outputs": [
    {
     "data": {
      "text/plain": [
       "array([5, 1, 2, 3])"
      ]
     },
     "execution_count": 33,
     "metadata": {},
     "output_type": "execute_result"
    }
   ],
   "source": [
    "v_3 = np.array([3,2,5,1,2,3,0])\n",
    "v_3[2:6]  # Slicing the array to get elements from index 2 to 4"
   ]
  },
  {
   "cell_type": "code",
   "execution_count": 34,
   "id": "27d6bbef",
   "metadata": {},
   "outputs": [
    {
     "data": {
      "text/plain": [
       "array([[4, 5],\n",
       "       [7, 8]])"
      ]
     },
     "execution_count": 34,
     "metadata": {},
     "output_type": "execute_result"
    }
   ],
   "source": [
    "m = np.array([[1, 2, 3],\n",
    "        [4, 5, 6],\n",
    "        [7, 8, 9],\n",
    "        [0,0,0]\n",
    "        ])\n",
    "\n",
    "m[1:3 , 0:2]  # Slicing the array to get rows 1 to 2 and columns 0 to 1"
   ]
  },
  {
   "cell_type": "code",
   "execution_count": 35,
   "id": "6f9c643e",
   "metadata": {},
   "outputs": [
    {
     "data": {
      "text/plain": [
       "array([[4, 5],\n",
       "       [7, 8]])"
      ]
     },
     "execution_count": 35,
     "metadata": {},
     "output_type": "execute_result"
    }
   ],
   "source": [
    "m = np.array([[1, 2, 3],\n",
    "        [4, 5, 6],\n",
    "        [7, 8, 9],\n",
    "        [0,0,0]\n",
    "        ])\n",
    "\n",
    "m[-3:-1 , -3:-1]  # Slicing the array to get rows 1 to 2 and columns 0 to 1"
   ]
  },
  {
   "cell_type": "code",
   "execution_count": 36,
   "id": "68370b9d",
   "metadata": {},
   "outputs": [
    {
     "name": "stdout",
     "output_type": "stream",
     "text": [
      "[[1 4 7 0]\n",
      " [2 5 8 0]\n",
      " [3 6 9 0]]\n"
     ]
    }
   ],
   "source": [
    "m = np.array([[1, 2, 3],\n",
    "        [4, 5, 6],\n",
    "        [7, 8, 9],\n",
    "        [0,0,0]\n",
    "        ])\n",
    "\n",
    "mat_t = m.T  # Transpose the matrix\n",
    "print(mat_t)  # Print the transposed matrix"
   ]
  },
  {
   "cell_type": "code",
   "execution_count": 38,
   "id": "ef5640d3",
   "metadata": {},
   "outputs": [
    {
     "data": {
      "text/plain": [
       "array([[0., 0., 0., 0.],\n",
       "       [0., 0., 0., 0.],\n",
       "       [0., 0., 0., 0.]])"
      ]
     },
     "execution_count": 38,
     "metadata": {},
     "output_type": "execute_result"
    }
   ],
   "source": [
    "mat = np.zeros((3, 4))  # Create a 2x3 matrix filled with zeros\n",
    "mat"
   ]
  },
  {
   "cell_type": "code",
   "execution_count": 39,
   "id": "c61c0c2e",
   "metadata": {},
   "outputs": [
    {
     "data": {
      "text/plain": [
       "array([[1., 1., 1., 1.],\n",
       "       [1., 1., 1., 1.],\n",
       "       [1., 1., 1., 1.]])"
      ]
     },
     "execution_count": 39,
     "metadata": {},
     "output_type": "execute_result"
    }
   ],
   "source": [
    "mat = np.ones((3, 4))  # Create a 2x3 matrix filled with zeros\n",
    "mat"
   ]
  },
  {
   "cell_type": "code",
   "execution_count": 41,
   "id": "7900c577",
   "metadata": {},
   "outputs": [
    {
     "name": "stdout",
     "output_type": "stream",
     "text": [
      "[[5 5 5 5]\n",
      " [5 5 5 5]\n",
      " [5 5 5 5]]\n"
     ]
    }
   ],
   "source": [
    "mat = np.full((3, 4), 5)  # Create a 3*4 matrix filled with fives\n",
    "print(mat)  # Print the matrix filled with fives"
   ]
  },
  {
   "cell_type": "code",
   "execution_count": 44,
   "id": "129603bd",
   "metadata": {},
   "outputs": [
    {
     "name": "stdout",
     "output_type": "stream",
     "text": [
      "[[2.5e-323 2.5e-323 2.5e-323 2.5e-323]\n",
      " [2.5e-323 2.5e-323 2.5e-323 2.5e-323]\n",
      " [2.5e-323 2.5e-323 2.5e-323 2.5e-323]]\n"
     ]
    }
   ],
   "source": [
    "mat = np.empty((3, 4))  # Create an empty matrix with shape 3x4\n",
    "print(mat)  # Print the empty matrix"
   ]
  },
  {
   "cell_type": "code",
   "execution_count": 47,
   "id": "3b3c5be9",
   "metadata": {},
   "outputs": [
    {
     "name": "stdout",
     "output_type": "stream",
     "text": [
      "[  0  30  60  90 120 150 180 210 240 270 300 330 360]\n"
     ]
    }
   ],
   "source": [
    "angles = np.arange(0,361,30)  # Create a numpy array with angles\n",
    "print(angles)  # Print the numpy array with angles"
   ]
  },
  {
   "cell_type": "code",
   "execution_count": 51,
   "id": "e2b8be63",
   "metadata": {},
   "outputs": [
    {
     "name": "stdout",
     "output_type": "stream",
     "text": [
      "[ 0.          1.11111111  2.22222222  3.33333333  4.44444444  5.55555556\n",
      "  6.66666667  7.77777778  8.88888889 10.        ]\n"
     ]
    }
   ],
   "source": [
    "vec = np.linspace(0, 10, num = 10)  # Create a numpy array with evenly spaced values\n",
    "print(vec)  # Print the numpy array with evenly spaced values"
   ]
  },
  {
   "cell_type": "code",
   "execution_count": 53,
   "id": "b651ad77",
   "metadata": {},
   "outputs": [
    {
     "name": "stdout",
     "output_type": "stream",
     "text": [
      "[[1. 0. 0.]\n",
      " [0. 1. 0.]\n",
      " [0. 0. 1.]]\n"
     ]
    }
   ],
   "source": [
    "iden = np. identity(3,)      # Create a 3x3 identity matrix\n",
    "print(iden)  # Print the identity matrix"
   ]
  },
  {
   "cell_type": "code",
   "execution_count": 57,
   "id": "306b10c0",
   "metadata": {},
   "outputs": [
    {
     "name": "stdout",
     "output_type": "stream",
     "text": [
      "[[ 0.          0.41666667  0.83333333  1.25        1.66666667]\n",
      " [ 2.08333333  2.5         2.91666667  3.33333333  3.75      ]\n",
      " [ 4.16666667  4.58333333  5.          5.41666667  5.83333333]\n",
      " [ 6.25        6.66666667  7.08333333  7.5         7.91666667]\n",
      " [ 8.33333333  8.75        9.16666667  9.58333333 10.        ]]\n"
     ]
    }
   ],
   "source": [
    "vec = np.linspace(0, 10, num = 25)  # Create a numpy array with evenly spaced values\n",
    "mat = vec.reshape(5, 5)  # Reshape the vector into a 5x5 matrix\n",
    "print(mat)  # Print the numpy array with evenly spaced values"
   ]
  },
  {
   "cell_type": "code",
   "execution_count": 60,
   "id": "96986e93",
   "metadata": {},
   "outputs": [
    {
     "name": "stdout",
     "output_type": "stream",
     "text": [
      "[[0.79186594 0.65402678 0.44168126 0.31160391]\n",
      " [0.04822086 0.21036576 0.6148988  0.78342293]\n",
      " [0.57749712 0.34201432 0.61421345 0.98859533]]\n"
     ]
    }
   ],
   "source": [
    "np. random.random((3, 4))  # Create a 3x4 matrix with random values\n",
    "print(np.random.random((3, 4)))  # Print the random matrix"
   ]
  },
  {
   "cell_type": "code",
   "execution_count": 1,
   "id": "5dd2abcd",
   "metadata": {},
   "outputs": [],
   "source": [
    "import numpy as np"
   ]
  },
  {
   "cell_type": "code",
   "execution_count": null,
   "id": "9fc44010",
   "metadata": {},
   "outputs": [
    {
     "name": "stdout",
     "output_type": "stream",
     "text": [
      "[[1. 1. 1. 1.]\n",
      " [1. 1. 1. 1.]\n",
      " [1. 1. 1. 1.]]\n",
      "[[0. 0. 0. 0.]\n",
      " [0. 0. 0. 0.]\n",
      " [0. 0. 0. 0.]\n",
      " [0. 0. 0. 0.]]\n"
     ]
    }
   ],
   "source": [
    "mat_1 = np.ones((3, 4))  # Create a 3x4 matrix filled with ones\n",
    "print(mat_1)  # Print the matrix filled with ones   \n",
    "mat_2 = np.zeros((4, 4))  # Create another 3x4 matrix filled with ones\n",
    "print(mat_2)  # Print the second matrix filled with ones\n",
    "\n",
    "np.savez(\"C:/Users/Mgama/Ai_Amit_Diploma/images.npz\" , ones_mat = mat_1 , zeros_mat = mat_2)  # Save the matrices to a .npz file"
   ]
  },
  {
   "cell_type": "code",
   "execution_count": 8,
   "id": "50cc4bf5",
   "metadata": {},
   "outputs": [
    {
     "name": "stdout",
     "output_type": "stream",
     "text": [
      "[[1. 1. 1. 1.]\n",
      " [1. 1. 1. 1.]\n",
      " [1. 1. 1. 1.]]\n",
      "[[0. 0. 0. 0.]\n",
      " [0. 0. 0. 0.]\n",
      " [0. 0. 0. 0.]\n",
      " [0. 0. 0. 0.]]\n"
     ]
    }
   ],
   "source": [
    "with np.load(\"C:/Users/Mgama/Ai_Amit_Diploma/images.npz\") as file:  # Load the saved matrices from the .npz file\n",
    "    mat_1 = file['ones_mat']  # Access the matrix filled with ones\n",
    "    mat_2 = file['zeros_mat']  # Access the matrix filled with zeros\n",
    "    print(mat_1)  # Print the loaded matrix filled with ones\n",
    "    print(mat_2)  # Print the loaded matrix filled with zeros"
   ]
  },
  {
   "cell_type": "code",
   "execution_count": 9,
   "id": "720e6ca9",
   "metadata": {},
   "outputs": [
    {
     "name": "stdout",
     "output_type": "stream",
     "text": [
      "[[1 2 3]\n",
      " [0 0 0]\n",
      " [4 5 6]\n",
      " [1 1 1]]\n"
     ]
    }
   ],
   "source": [
    "m_1 = np.array([[1, 2, 3],\n",
    "                [0, 0, 0]])\n",
    "m_2 = np.array([[4, 5, 6],\n",
    "                [1, 1, 1]])\n",
    "\n",
    "v_mat = np.vstack((m_1, m_2))  # Stack the two matrices vertically\n",
    "print(v_mat)  # Print the vertically stacked matrix"
   ]
  },
  {
   "cell_type": "code",
   "execution_count": 10,
   "id": "8ffff986",
   "metadata": {},
   "outputs": [
    {
     "name": "stdout",
     "output_type": "stream",
     "text": [
      "[[1 2 3 4 5 6]\n",
      " [0 0 0 1 1 1]]\n"
     ]
    }
   ],
   "source": [
    "m_1 = np.array([[1, 2, 3],\n",
    "                [0, 0, 0]])\n",
    "m_2 = np.array([[4, 5, 6],\n",
    "                [1, 1, 1]])\n",
    "\n",
    "v_mat = np.hstack((m_1, m_2))  # Stack the two matrices vertically\n",
    "print(v_mat)  # Print the vertically stacked matrix"
   ]
  },
  {
   "cell_type": "code",
   "execution_count": 11,
   "id": "828d830f",
   "metadata": {},
   "outputs": [
    {
     "data": {
      "text/plain": [
       "array([False, False, False,  True, False])"
      ]
     },
     "execution_count": 11,
     "metadata": {},
     "output_type": "execute_result"
    }
   ],
   "source": [
    "s = 4\n",
    "v= np.array([1, 2, 3, 4, 5])  # Create a numpy array with values from 1 to 5\n",
    "v == s  # Check if the elements of the array are equal to 4"
   ]
  },
  {
   "cell_type": "code",
   "execution_count": 13,
   "id": "7d914260",
   "metadata": {},
   "outputs": [
    {
     "data": {
      "text/plain": [
       "array([False,  True, False])"
      ]
     },
     "execution_count": 13,
     "metadata": {},
     "output_type": "execute_result"
    }
   ],
   "source": [
    "v1 = np.array([1, 3, 3])\n",
    "v2 = np.array([4, 3, 4])\n",
    "v1 == v2  # Check if the two arrays are equal element-wise"
   ]
  },
  {
   "cell_type": "code",
   "execution_count": 14,
   "id": "ce01e779",
   "metadata": {},
   "outputs": [
    {
     "data": {
      "text/plain": [
       "array([[False,  True, False],\n",
       "       [False,  True, False]])"
      ]
     },
     "execution_count": 14,
     "metadata": {},
     "output_type": "execute_result"
    }
   ],
   "source": [
    "m_1 = np.array([[1, 2, 3],\n",
    "                [0, 0, 0]])\n",
    "m_2 = np.array([[4, 2, 6],\n",
    "                [1, 0, 1]])\n",
    "m_1 == m_2  # Check if the two matrices are equal element-wise"
   ]
  },
  {
   "cell_type": "code",
   "execution_count": 15,
   "id": "2aef4353",
   "metadata": {},
   "outputs": [
    {
     "data": {
      "text/plain": [
       "np.False_"
      ]
     },
     "execution_count": 15,
     "metadata": {},
     "output_type": "execute_result"
    }
   ],
   "source": [
    "v = np.array([1, 2, 3, 4, 5])\n",
    "np.all(v>1)  # Check if all elements of the array are greater than 1\n"
   ]
  },
  {
   "cell_type": "code",
   "execution_count": 16,
   "id": "a0434a28",
   "metadata": {},
   "outputs": [
    {
     "data": {
      "text/plain": [
       "np.True_"
      ]
     },
     "execution_count": 16,
     "metadata": {},
     "output_type": "execute_result"
    }
   ],
   "source": [
    "v = np.array([1, 2, 3, 4, 5])\n",
    "np.any(v>1)  # Check if any elements of the array are greater than 1"
   ]
  },
  {
   "cell_type": "code",
   "execution_count": 18,
   "id": "df8169f9",
   "metadata": {},
   "outputs": [
    {
     "data": {
      "text/plain": [
       "array([ True, False,  True, False, False])"
      ]
     },
     "execution_count": 18,
     "metadata": {},
     "output_type": "execute_result"
    }
   ],
   "source": [
    "v1 = np.array([1, 2, 1 ,4, 5])\n",
    "v2 = np.array([2, 4, 0 ,6, 3])\n",
    "np.isclose(v1, v2 , atol= 1)  # Check if the two arrays are close to each other element-wise"
   ]
  },
  {
   "cell_type": "code",
   "execution_count": 25,
   "id": "cd6ff9cf",
   "metadata": {},
   "outputs": [
    {
     "data": {
      "text/plain": [
       "True"
      ]
     },
     "execution_count": 25,
     "metadata": {},
     "output_type": "execute_result"
    }
   ],
   "source": [
    "v1 = np.array([1, 2, 1 ,1, 1])\n",
    "v2 = np.array([1, 1, 1 ,1, 1])\n",
    "np.allclose(v1, v2 , atol= 1)  # Check if the two arrays are close to each other element-wise"
   ]
  },
  {
   "cell_type": "code",
   "execution_count": 26,
   "id": "b5691d24",
   "metadata": {},
   "outputs": [
    {
     "name": "stdout",
     "output_type": "stream",
     "text": [
      "[False False False  True  True]\n"
     ]
    }
   ],
   "source": [
    "v = np.array([1, 2, 3, 4, 5])\n",
    "condition = v >= 4\n",
    "print(condition)  # Print the boolean array where elements are greater than or equal to 4"
   ]
  },
  {
   "cell_type": "code",
   "execution_count": 28,
   "id": "45168a3e",
   "metadata": {},
   "outputs": [
    {
     "name": "stdout",
     "output_type": "stream",
     "text": [
      "[False False False  True  True]\n",
      "[4 5]\n"
     ]
    }
   ],
   "source": [
    "v = np.array([1, 2, 3, 4, 5])\n",
    "condition = v >= 4\n",
    "print (condition)  # Print the boolean array where elements are greater than or equal to 4\n",
    "condition_access = v[condition]  # Access the elements of the array that satisfy the condition\n",
    "print(condition_access)  # Print the elements of the array that satisfy the condition"
   ]
  },
  {
   "cell_type": "code",
   "execution_count": 29,
   "id": "520cb4f0",
   "metadata": {},
   "outputs": [
    {
     "name": "stdout",
     "output_type": "stream",
     "text": [
      "[False False False  True  True]\n",
      "[ 1  2  3 -1 -1]\n"
     ]
    }
   ],
   "source": [
    "v = np.array([1, 2, 3, 4, 5])\n",
    "condition = v >= 4\n",
    "print (condition)  # Print the boolean array where elements are greater than or equal to 4\n",
    "v[condition]  = -1 # \n",
    "print (v)  # Print the modified array where elements greater than or equal to 4 are set to -1"
   ]
  },
  {
   "cell_type": "code",
   "execution_count": 30,
   "id": "a98e1043",
   "metadata": {},
   "outputs": [
    {
     "name": "stdout",
     "output_type": "stream",
     "text": [
      "[ 1  2  3 -1 -1]\n"
     ]
    }
   ],
   "source": [
    "v = np.array([1, 2, 3, 4, 5])\n",
    "condition = v >= 4\n",
    "n_condition = np.where(condition, -1, v)  # Set elements greater than or equal to 4 to -1\n",
    "print(n_condition)  # Print the modified array where elements greater than or equal to 4"
   ]
  },
  {
   "cell_type": "code",
   "execution_count": 1,
   "id": "4bf9d687",
   "metadata": {},
   "outputs": [
    {
     "name": "stdout",
     "output_type": "stream",
     "text": [
      "Note: you may need to restart the kernel to use updated packages.\n"
     ]
    },
    {
     "name": "stderr",
     "output_type": "stream",
     "text": [
      "ERROR: Invalid requirement: '#': Expected package name at the start of dependency specifier\n",
      "    #\n",
      "    ^\n"
     ]
    }
   ],
   "source": [
    "pip install pandas # Install pandas library"
   ]
  },
  {
   "cell_type": "code",
   "execution_count": 2,
   "id": "813773ac",
   "metadata": {},
   "outputs": [],
   "source": [
    "import pandas as pd  # Import pandas library\n"
   ]
  },
  {
   "cell_type": "code",
   "execution_count": 6,
   "id": "37bb90a9",
   "metadata": {},
   "outputs": [
    {
     "name": "stdout",
     "output_type": "stream",
     "text": [
      "0    1\n",
      "1    2\n",
      "2    3\n",
      "3    4\n",
      "dtype: int64\n"
     ]
    }
   ],
   "source": [
    "s = pd.Series([1, 2, 3, 4])  # Create a pandas Series with values from 1 to 5\n",
    "\n",
    "print(s)  # Print the pandas Series"
   ]
  },
  {
   "cell_type": "code",
   "execution_count": 7,
   "id": "e9bd1032",
   "metadata": {},
   "outputs": [
    {
     "name": "stdout",
     "output_type": "stream",
     "text": [
      "A    1\n",
      "b    2\n",
      "c    3\n",
      "D    4\n",
      "dtype: int64\n"
     ]
    }
   ],
   "source": [
    "s = pd.Series([1, 2, 3, 4], index=[\"A\",\"b\", \"c\",\"D\"]) # create a pandas Series with custom index\n",
    "print(s)  # Print the pandas Series with custom index"
   ]
  },
  {
   "cell_type": "code",
   "execution_count": 10,
   "id": "bca618e4",
   "metadata": {},
   "outputs": [
    {
     "name": "stdout",
     "output_type": "stream",
     "text": [
      "   Index   ID     Name\n",
      "0      1  111    Ahmed\n",
      "1      2  222      Ali\n",
      "2      3  333  Mohamed\n",
      "3      4  444    Gamal\n"
     ]
    }
   ],
   "source": [
    "data_1 = [[1,111,'Ahmed'],\n",
    "            [2,222,'Ali'],\n",
    "            [3,333,'Mohamed'],\n",
    "            [4,444,'Gamal']\n",
    "            ]\n",
    "\n",
    "type(data_1)  # Check the type of data_1, which should be a list of lists\n",
    "df = pd.DataFrame(data_1, columns=[\"Index\", \"ID\", \"Name\"])  # Create a pandas DataFrame from the list of lists\n",
    "print(df)  # Print the pandas DataFrame"
   ]
  },
  {
   "cell_type": "code",
   "execution_count": 11,
   "id": "bb8c10ee",
   "metadata": {},
   "outputs": [
    {
     "name": "stdout",
     "output_type": "stream",
     "text": [
      "   s1  s2       s3\n",
      "0  10  10     math\n",
      "1  11  12  science\n",
      "2  17  15  english\n",
      "3   9  10   arabic\n"
     ]
    }
   ],
   "source": [
    "data_2 ={\"s1\" : [10 ,11, 17, 9],\n",
    "            \"s2\" : [10 ,12, 15, 10],\n",
    "            \"s3\" : ['math', 'science', 'english', \"arabic\"]}\n",
    "df2 = pd.DataFrame(data_2)  # Create a pandas DataFrame from the dictionary\n",
    "print(df2)  # Print the pandas DataFrame created from the dictionary"
   ]
  },
  {
   "cell_type": "code",
   "execution_count": 12,
   "id": "d724f259",
   "metadata": {},
   "outputs": [
    {
     "data": {
      "text/html": [
       "<div>\n",
       "<style scoped>\n",
       "    .dataframe tbody tr th:only-of-type {\n",
       "        vertical-align: middle;\n",
       "    }\n",
       "\n",
       "    .dataframe tbody tr th {\n",
       "        vertical-align: top;\n",
       "    }\n",
       "\n",
       "    .dataframe thead th {\n",
       "        text-align: right;\n",
       "    }\n",
       "</style>\n",
       "<table border=\"1\" class=\"dataframe\">\n",
       "  <thead>\n",
       "    <tr style=\"text-align: right;\">\n",
       "      <th></th>\n",
       "      <th>s1</th>\n",
       "      <th>s2</th>\n",
       "      <th>s3</th>\n",
       "    </tr>\n",
       "  </thead>\n",
       "  <tbody>\n",
       "    <tr>\n",
       "      <th>0</th>\n",
       "      <td>10</td>\n",
       "      <td>10</td>\n",
       "      <td>math</td>\n",
       "    </tr>\n",
       "    <tr>\n",
       "      <th>1</th>\n",
       "      <td>11</td>\n",
       "      <td>12</td>\n",
       "      <td>science</td>\n",
       "    </tr>\n",
       "    <tr>\n",
       "      <th>2</th>\n",
       "      <td>17</td>\n",
       "      <td>15</td>\n",
       "      <td>english</td>\n",
       "    </tr>\n",
       "    <tr>\n",
       "      <th>3</th>\n",
       "      <td>9</td>\n",
       "      <td>10</td>\n",
       "      <td>arabic</td>\n",
       "    </tr>\n",
       "  </tbody>\n",
       "</table>\n",
       "</div>"
      ],
      "text/plain": [
       "   s1  s2       s3\n",
       "0  10  10     math\n",
       "1  11  12  science\n",
       "2  17  15  english\n",
       "3   9  10   arabic"
      ]
     },
     "metadata": {},
     "output_type": "display_data"
    }
   ],
   "source": [
    "display(df2)  # Display the DataFrame in a Jupyter Notebook or similar environment"
   ]
  },
  {
   "cell_type": "code",
   "execution_count": null,
   "id": "ceee5b0c",
   "metadata": {},
   "outputs": [],
   "source": [
    "class name :\n",
    "    def __init__(self, name: str):\n",
    "        self.name = name\n",
    "\n",
    "    @property\n",
    "    def info(self):\n",
    "        \"\"\"Return the name of the instance.\"\"\"\n",
    "        return self.name  # Return the name of the instance"
   ]
  },
  {
   "cell_type": "code",
   "execution_count": 14,
   "id": "fb88b8ab",
   "metadata": {},
   "outputs": [
    {
     "name": "stdout",
     "output_type": "stream",
     "text": [
      "Mohamed Gamal\n"
     ]
    }
   ],
   "source": [
    "name = name(\"Mohamed Gamal\")  # Create an instance of the class with a name\n",
    "print(name.info)  # Print the name of the instance using the info property"
   ]
  },
  {
   "cell_type": "code",
   "execution_count": 15,
   "id": "5f7a2464",
   "metadata": {},
   "outputs": [
    {
     "data": {
      "text/plain": [
       "0    111\n",
       "1    222\n",
       "2    333\n",
       "3    444\n",
       "Name: ID, dtype: int64"
      ]
     },
     "execution_count": 15,
     "metadata": {},
     "output_type": "execute_result"
    }
   ],
   "source": [
    "data_1 = [[1,111,'Ahmed'],\n",
    "            [2,222,'Ali'],\n",
    "            [3,333,'Mohamed'],\n",
    "            [4,444,'Gamal']\n",
    "            ]\n",
    "\n",
    "df = pd.DataFrame(data_1, columns=[\"Index\", \"ID\", \"Name\"])  # Create a pandas DataFrame from the list of lists\n",
    "df[\"ID\"]"
   ]
  },
  {
   "cell_type": "code",
   "execution_count": 18,
   "id": "b60deb8f",
   "metadata": {},
   "outputs": [
    {
     "data": {
      "text/plain": [
       "Index       int64\n",
       "ID          int64\n",
       "Name     category\n",
       "dtype: object"
      ]
     },
     "execution_count": 18,
     "metadata": {},
     "output_type": "execute_result"
    }
   ],
   "source": [
    "data_1 = [[1,111,'Ahmed'],\n",
    "            [2,222,'Ali'],\n",
    "            [3,333,'Mohamed'],\n",
    "            [4,444,'Gamal']\n",
    "            ]\n",
    "\n",
    "df = pd.DataFrame(data_1, columns=[\"Index\", \"ID\", \"Name\"])  # Create a pandas DataFrame from the list of lists\n",
    "df['Name'] = df['Name'].astype(\"category\")  # Convert the 'Name' column to cataegory type\n",
    "df.dtypes"
   ]
  },
  {
   "cell_type": "code",
   "execution_count": 19,
   "id": "de0656bb",
   "metadata": {},
   "outputs": [
    {
     "data": {
      "text/html": [
       "<div>\n",
       "<style scoped>\n",
       "    .dataframe tbody tr th:only-of-type {\n",
       "        vertical-align: middle;\n",
       "    }\n",
       "\n",
       "    .dataframe tbody tr th {\n",
       "        vertical-align: top;\n",
       "    }\n",
       "\n",
       "    .dataframe thead th {\n",
       "        text-align: right;\n",
       "    }\n",
       "</style>\n",
       "<table border=\"1\" class=\"dataframe\">\n",
       "  <thead>\n",
       "    <tr style=\"text-align: right;\">\n",
       "      <th></th>\n",
       "      <th>Index</th>\n",
       "      <th>ID</th>\n",
       "      <th>Name</th>\n",
       "    </tr>\n",
       "  </thead>\n",
       "  <tbody>\n",
       "    <tr>\n",
       "      <th>0</th>\n",
       "      <td>1</td>\n",
       "      <td>111</td>\n",
       "      <td>Ahmed</td>\n",
       "    </tr>\n",
       "    <tr>\n",
       "      <th>1</th>\n",
       "      <td>2</td>\n",
       "      <td>222</td>\n",
       "      <td>Ali</td>\n",
       "    </tr>\n",
       "    <tr>\n",
       "      <th>2</th>\n",
       "      <td>3</td>\n",
       "      <td>333</td>\n",
       "      <td>Mohamed</td>\n",
       "    </tr>\n",
       "    <tr>\n",
       "      <th>3</th>\n",
       "      <td>4</td>\n",
       "      <td>444</td>\n",
       "      <td>Gamal</td>\n",
       "    </tr>\n",
       "  </tbody>\n",
       "</table>\n",
       "</div>"
      ],
      "text/plain": [
       "   Index   ID     Name\n",
       "0      1  111    Ahmed\n",
       "1      2  222      Ali\n",
       "2      3  333  Mohamed\n",
       "3      4  444    Gamal"
      ]
     },
     "execution_count": 19,
     "metadata": {},
     "output_type": "execute_result"
    }
   ],
   "source": [
    "# EDA Exploratory data analysis\n",
    "df.head()  # Display the first few rows of the DataFrame"
   ]
  },
  {
   "cell_type": "code",
   "execution_count": 20,
   "id": "2199dbb4",
   "metadata": {},
   "outputs": [
    {
     "data": {
      "text/html": [
       "<div>\n",
       "<style scoped>\n",
       "    .dataframe tbody tr th:only-of-type {\n",
       "        vertical-align: middle;\n",
       "    }\n",
       "\n",
       "    .dataframe tbody tr th {\n",
       "        vertical-align: top;\n",
       "    }\n",
       "\n",
       "    .dataframe thead th {\n",
       "        text-align: right;\n",
       "    }\n",
       "</style>\n",
       "<table border=\"1\" class=\"dataframe\">\n",
       "  <thead>\n",
       "    <tr style=\"text-align: right;\">\n",
       "      <th></th>\n",
       "      <th>Index</th>\n",
       "      <th>ID</th>\n",
       "      <th>Name</th>\n",
       "    </tr>\n",
       "  </thead>\n",
       "  <tbody>\n",
       "    <tr>\n",
       "      <th>3</th>\n",
       "      <td>4</td>\n",
       "      <td>444</td>\n",
       "      <td>Gamal</td>\n",
       "    </tr>\n",
       "  </tbody>\n",
       "</table>\n",
       "</div>"
      ],
      "text/plain": [
       "   Index   ID   Name\n",
       "3      4  444  Gamal"
      ]
     },
     "execution_count": 20,
     "metadata": {},
     "output_type": "execute_result"
    }
   ],
   "source": [
    "df.tail(1)  # Display the last few rows of the DataFrame "
   ]
  },
  {
   "cell_type": "code",
   "execution_count": 22,
   "id": "7a1be8de",
   "metadata": {},
   "outputs": [
    {
     "data": {
      "text/html": [
       "<div>\n",
       "<style scoped>\n",
       "    .dataframe tbody tr th:only-of-type {\n",
       "        vertical-align: middle;\n",
       "    }\n",
       "\n",
       "    .dataframe tbody tr th {\n",
       "        vertical-align: top;\n",
       "    }\n",
       "\n",
       "    .dataframe thead th {\n",
       "        text-align: right;\n",
       "    }\n",
       "</style>\n",
       "<table border=\"1\" class=\"dataframe\">\n",
       "  <thead>\n",
       "    <tr style=\"text-align: right;\">\n",
       "      <th></th>\n",
       "      <th>Index</th>\n",
       "      <th>ID</th>\n",
       "    </tr>\n",
       "  </thead>\n",
       "  <tbody>\n",
       "    <tr>\n",
       "      <th>count</th>\n",
       "      <td>4.000000</td>\n",
       "      <td>4.000000</td>\n",
       "    </tr>\n",
       "    <tr>\n",
       "      <th>mean</th>\n",
       "      <td>2.500000</td>\n",
       "      <td>277.500000</td>\n",
       "    </tr>\n",
       "    <tr>\n",
       "      <th>std</th>\n",
       "      <td>1.290994</td>\n",
       "      <td>143.300384</td>\n",
       "    </tr>\n",
       "    <tr>\n",
       "      <th>min</th>\n",
       "      <td>1.000000</td>\n",
       "      <td>111.000000</td>\n",
       "    </tr>\n",
       "    <tr>\n",
       "      <th>25%</th>\n",
       "      <td>1.750000</td>\n",
       "      <td>194.250000</td>\n",
       "    </tr>\n",
       "    <tr>\n",
       "      <th>50%</th>\n",
       "      <td>2.500000</td>\n",
       "      <td>277.500000</td>\n",
       "    </tr>\n",
       "    <tr>\n",
       "      <th>75%</th>\n",
       "      <td>3.250000</td>\n",
       "      <td>360.750000</td>\n",
       "    </tr>\n",
       "    <tr>\n",
       "      <th>max</th>\n",
       "      <td>4.000000</td>\n",
       "      <td>444.000000</td>\n",
       "    </tr>\n",
       "  </tbody>\n",
       "</table>\n",
       "</div>"
      ],
      "text/plain": [
       "          Index          ID\n",
       "count  4.000000    4.000000\n",
       "mean   2.500000  277.500000\n",
       "std    1.290994  143.300384\n",
       "min    1.000000  111.000000\n",
       "25%    1.750000  194.250000\n",
       "50%    2.500000  277.500000\n",
       "75%    3.250000  360.750000\n",
       "max    4.000000  444.000000"
      ]
     },
     "execution_count": 22,
     "metadata": {},
     "output_type": "execute_result"
    }
   ],
   "source": [
    "df.describe()  # Display summary statistics of the DataFrame"
   ]
  },
  {
   "cell_type": "code",
   "execution_count": null,
   "id": "69205793",
   "metadata": {},
   "outputs": [
    {
     "data": {
      "text/html": [
       "<div>\n",
       "<style scoped>\n",
       "    .dataframe tbody tr th:only-of-type {\n",
       "        vertical-align: middle;\n",
       "    }\n",
       "\n",
       "    .dataframe tbody tr th {\n",
       "        vertical-align: top;\n",
       "    }\n",
       "\n",
       "    .dataframe thead th {\n",
       "        text-align: right;\n",
       "    }\n",
       "</style>\n",
       "<table border=\"1\" class=\"dataframe\">\n",
       "  <thead>\n",
       "    <tr style=\"text-align: right;\">\n",
       "      <th></th>\n",
       "      <th>Name</th>\n",
       "    </tr>\n",
       "  </thead>\n",
       "  <tbody>\n",
       "    <tr>\n",
       "      <th>count</th>\n",
       "      <td>4</td>\n",
       "    </tr>\n",
       "    <tr>\n",
       "      <th>unique</th>\n",
       "      <td>4</td>\n",
       "    </tr>\n",
       "    <tr>\n",
       "      <th>top</th>\n",
       "      <td>Ahmed</td>\n",
       "    </tr>\n",
       "    <tr>\n",
       "      <th>freq</th>\n",
       "      <td>1</td>\n",
       "    </tr>\n",
       "  </tbody>\n",
       "</table>\n",
       "</div>"
      ],
      "text/plain": [
       "         Name\n",
       "count       4\n",
       "unique      4\n",
       "top     Ahmed\n",
       "freq        1"
      ]
     },
     "execution_count": 23,
     "metadata": {},
     "output_type": "execute_result"
    }
   ],
   "source": [
    "df.describe(include='category')  # Display summary statistics of the DataFrame including all data types"
   ]
  },
  {
   "cell_type": "code",
   "execution_count": 24,
   "id": "fd9d425b",
   "metadata": {},
   "outputs": [
    {
     "data": {
      "text/plain": [
       "Index(['Index', 'ID', 'Name'], dtype='object')"
      ]
     },
     "execution_count": 24,
     "metadata": {},
     "output_type": "execute_result"
    }
   ],
   "source": [
    "df.columns  # Display the columns of the DataFrame"
   ]
  },
  {
   "cell_type": "code",
   "execution_count": 25,
   "id": "8d7f7bbd",
   "metadata": {},
   "outputs": [
    {
     "data": {
      "text/plain": [
       "['Ahmed', 'Ali', 'Mohamed', 'Gamal']\n",
       "Categories (4, object): ['Ahmed', 'Ali', 'Gamal', 'Mohamed']"
      ]
     },
     "execution_count": 25,
     "metadata": {},
     "output_type": "execute_result"
    }
   ],
   "source": [
    "df['Name'].unique()  # Display unique values in the 'Name' column"
   ]
  },
  {
   "cell_type": "code",
   "execution_count": 26,
   "id": "a6332ac4",
   "metadata": {},
   "outputs": [
    {
     "data": {
      "text/plain": [
       "np.int64(444)"
      ]
     },
     "execution_count": 26,
     "metadata": {},
     "output_type": "execute_result"
    }
   ],
   "source": [
    "df['ID'].max()  # Display the maximum value in the 'ID' column"
   ]
  },
  {
   "cell_type": "code",
   "execution_count": 27,
   "id": "92321d95",
   "metadata": {},
   "outputs": [
    {
     "data": {
      "text/plain": [
       "np.int64(111)"
      ]
     },
     "execution_count": 27,
     "metadata": {},
     "output_type": "execute_result"
    }
   ],
   "source": [
    "df['ID'].min()  # Display the min value in the 'ID' column"
   ]
  },
  {
   "cell_type": "code",
   "execution_count": 28,
   "id": "cb6ffc0f",
   "metadata": {},
   "outputs": [
    {
     "data": {
      "text/plain": [
       "0"
      ]
     },
     "execution_count": 28,
     "metadata": {},
     "output_type": "execute_result"
    }
   ],
   "source": [
    "df['ID'].idxmin()"
   ]
  },
  {
   "cell_type": "code",
   "execution_count": 29,
   "id": "eb59b611",
   "metadata": {},
   "outputs": [
    {
     "name": "stdout",
     "output_type": "stream",
     "text": [
      "<class 'pandas.core.frame.DataFrame'>\n",
      "RangeIndex: 4 entries, 0 to 3\n",
      "Data columns (total 3 columns):\n",
      " #   Column  Non-Null Count  Dtype   \n",
      "---  ------  --------------  -----   \n",
      " 0   Index   4 non-null      int64   \n",
      " 1   ID      4 non-null      int64   \n",
      " 2   Name    4 non-null      category\n",
      "dtypes: category(1), int64(2)\n",
      "memory usage: 404.0 bytes\n"
     ]
    }
   ],
   "source": [
    "df.info()  # Display information about the DataFrame including data types and non-null counts"
   ]
  },
  {
   "cell_type": "code",
   "execution_count": 31,
   "id": "a98fe8cf",
   "metadata": {},
   "outputs": [
    {
     "data": {
      "text/plain": [
       "ID\n",
       "111    1\n",
       "222    1\n",
       "333    1\n",
       "444    1\n",
       "Name: count, dtype: int64"
      ]
     },
     "execution_count": 31,
     "metadata": {},
     "output_type": "execute_result"
    }
   ],
   "source": [
    "d = df[\"ID\"].value_counts()  # Count the occurrences of each value in the 'ID' column\n",
    "d  # Display the value counts of the 'ID' column"
   ]
  },
  {
   "cell_type": "code",
   "execution_count": 32,
   "id": "d0cff31d",
   "metadata": {},
   "outputs": [
    {
     "data": {
      "text/plain": [
       "np.int64(1110)"
      ]
     },
     "execution_count": 32,
     "metadata": {},
     "output_type": "execute_result"
    }
   ],
   "source": [
    "d = df[\"ID\"].sum()  # sum the values in the 'ID' column\n",
    "d  # Display the value counts of the 'ID' column"
   ]
  },
  {
   "cell_type": "code",
   "execution_count": 33,
   "id": "251adef6",
   "metadata": {},
   "outputs": [
    {
     "data": {
      "text/plain": [
       "array([[1, 111, 'Ahmed'],\n",
       "       [2, 222, 'Ali'],\n",
       "       [3, 333, 'Mohamed'],\n",
       "       [4, 444, 'Gamal']], dtype=object)"
      ]
     },
     "execution_count": 33,
     "metadata": {},
     "output_type": "execute_result"
    }
   ],
   "source": [
    "df.values  # Display the values of the DataFrame"
   ]
  },
  {
   "cell_type": "code",
   "execution_count": 34,
   "id": "9aa4c1e3",
   "metadata": {},
   "outputs": [
    {
     "data": {
      "text/html": [
       "<div>\n",
       "<style scoped>\n",
       "    .dataframe tbody tr th:only-of-type {\n",
       "        vertical-align: middle;\n",
       "    }\n",
       "\n",
       "    .dataframe tbody tr th {\n",
       "        vertical-align: top;\n",
       "    }\n",
       "\n",
       "    .dataframe thead th {\n",
       "        text-align: right;\n",
       "    }\n",
       "</style>\n",
       "<table border=\"1\" class=\"dataframe\">\n",
       "  <thead>\n",
       "    <tr style=\"text-align: right;\">\n",
       "      <th></th>\n",
       "      <th>Index</th>\n",
       "      <th>ID</th>\n",
       "      <th>Name</th>\n",
       "    </tr>\n",
       "  </thead>\n",
       "  <tbody>\n",
       "    <tr>\n",
       "      <th>0</th>\n",
       "      <td>1</td>\n",
       "      <td>Jimmy</td>\n",
       "      <td>Ahmed</td>\n",
       "    </tr>\n",
       "    <tr>\n",
       "      <th>1</th>\n",
       "      <td>2</td>\n",
       "      <td>222</td>\n",
       "      <td>Ali</td>\n",
       "    </tr>\n",
       "    <tr>\n",
       "      <th>2</th>\n",
       "      <td>3</td>\n",
       "      <td>333</td>\n",
       "      <td>Mohamed</td>\n",
       "    </tr>\n",
       "    <tr>\n",
       "      <th>3</th>\n",
       "      <td>4</td>\n",
       "      <td>444</td>\n",
       "      <td>Gamal</td>\n",
       "    </tr>\n",
       "  </tbody>\n",
       "</table>\n",
       "</div>"
      ],
      "text/plain": [
       "   Index     ID     Name\n",
       "0      1  Jimmy    Ahmed\n",
       "1      2    222      Ali\n",
       "2      3    333  Mohamed\n",
       "3      4    444    Gamal"
      ]
     },
     "execution_count": 34,
     "metadata": {},
     "output_type": "execute_result"
    }
   ],
   "source": [
    "df.replace(111, 'Jimmy')  # Replace the value 111 with 'Jimmy' in the DataFrame"
   ]
  },
  {
   "cell_type": "code",
   "execution_count": 35,
   "id": "5fd13601",
   "metadata": {},
   "outputs": [
    {
     "data": {
      "text/html": [
       "<div>\n",
       "<style scoped>\n",
       "    .dataframe tbody tr th:only-of-type {\n",
       "        vertical-align: middle;\n",
       "    }\n",
       "\n",
       "    .dataframe tbody tr th {\n",
       "        vertical-align: top;\n",
       "    }\n",
       "\n",
       "    .dataframe thead th {\n",
       "        text-align: right;\n",
       "    }\n",
       "</style>\n",
       "<table border=\"1\" class=\"dataframe\">\n",
       "  <thead>\n",
       "    <tr style=\"text-align: right;\">\n",
       "      <th></th>\n",
       "      <th>Index</th>\n",
       "      <th>ID</th>\n",
       "      <th>Name</th>\n",
       "    </tr>\n",
       "  </thead>\n",
       "  <tbody>\n",
       "    <tr>\n",
       "      <th>0</th>\n",
       "      <td>1</td>\n",
       "      <td>111</td>\n",
       "      <td>Ahmed</td>\n",
       "    </tr>\n",
       "    <tr>\n",
       "      <th>1</th>\n",
       "      <td>2</td>\n",
       "      <td>222</td>\n",
       "      <td>Ali</td>\n",
       "    </tr>\n",
       "    <tr>\n",
       "      <th>2</th>\n",
       "      <td>3</td>\n",
       "      <td>Youssef</td>\n",
       "      <td>Mohamed</td>\n",
       "    </tr>\n",
       "    <tr>\n",
       "      <th>3</th>\n",
       "      <td>4</td>\n",
       "      <td>Ahmed</td>\n",
       "      <td>Gamal</td>\n",
       "    </tr>\n",
       "  </tbody>\n",
       "</table>\n",
       "</div>"
      ],
      "text/plain": [
       "   Index       ID     Name\n",
       "0      1      111    Ahmed\n",
       "1      2      222      Ali\n",
       "2      3  Youssef  Mohamed\n",
       "3      4    Ahmed    Gamal"
      ]
     },
     "execution_count": 35,
     "metadata": {},
     "output_type": "execute_result"
    }
   ],
   "source": [
    "df.replace({333:\"Youssef\" , 444 : \"Ahmed\"})  # Replace multiple values in the DataFrame"
   ]
  },
  {
   "cell_type": "code",
   "execution_count": 36,
   "id": "c7c65fc5",
   "metadata": {},
   "outputs": [
    {
     "data": {
      "text/html": [
       "<div>\n",
       "<style scoped>\n",
       "    .dataframe tbody tr th:only-of-type {\n",
       "        vertical-align: middle;\n",
       "    }\n",
       "\n",
       "    .dataframe tbody tr th {\n",
       "        vertical-align: top;\n",
       "    }\n",
       "\n",
       "    .dataframe thead th {\n",
       "        text-align: right;\n",
       "    }\n",
       "</style>\n",
       "<table border=\"1\" class=\"dataframe\">\n",
       "  <thead>\n",
       "    <tr style=\"text-align: right;\">\n",
       "      <th></th>\n",
       "      <th>Index</th>\n",
       "      <th>ID</th>\n",
       "      <th>Name</th>\n",
       "    </tr>\n",
       "  </thead>\n",
       "  <tbody>\n",
       "    <tr>\n",
       "      <th>0</th>\n",
       "      <td>1</td>\n",
       "      <td>111</td>\n",
       "      <td>Ahmed</td>\n",
       "    </tr>\n",
       "    <tr>\n",
       "      <th>1</th>\n",
       "      <td>2</td>\n",
       "      <td>222</td>\n",
       "      <td>Ali</td>\n",
       "    </tr>\n",
       "    <tr>\n",
       "      <th>2</th>\n",
       "      <td>3</td>\n",
       "      <td>333</td>\n",
       "      <td>Mohamed</td>\n",
       "    </tr>\n",
       "    <tr>\n",
       "      <th>3</th>\n",
       "      <td>4</td>\n",
       "      <td>444</td>\n",
       "      <td>Gamal</td>\n",
       "    </tr>\n",
       "  </tbody>\n",
       "</table>\n",
       "</div>"
      ],
      "text/plain": [
       "   Index   ID     Name\n",
       "0      1  111    Ahmed\n",
       "1      2  222      Ali\n",
       "2      3  333  Mohamed\n",
       "3      4  444    Gamal"
      ]
     },
     "execution_count": 36,
     "metadata": {},
     "output_type": "execute_result"
    }
   ],
   "source": [
    "df"
   ]
  },
  {
   "cell_type": "code",
   "execution_count": 40,
   "id": "e7fbfeef",
   "metadata": {},
   "outputs": [
    {
     "data": {
      "text/plain": [
       "0    2\n",
       "1    4\n",
       "2    6\n",
       "3    8\n",
       "Name: Index, dtype: int64"
      ]
     },
     "execution_count": 40,
     "metadata": {},
     "output_type": "execute_result"
    }
   ],
   "source": [
    "def duplicate(x):\n",
    "    \"\"\"Function to duplicate a value.\"\"\"\n",
    "    return x * 2  # Return the duplicated value\n",
    "df['Index'].apply(duplicate)  # Apply the duplicate function to the 'ID' column"
   ]
  },
  {
   "cell_type": "code",
   "execution_count": 41,
   "id": "f5ba71c9",
   "metadata": {},
   "outputs": [
    {
     "data": {
      "text/plain": [
       "0    2\n",
       "1    4\n",
       "2    6\n",
       "3    8\n",
       "Name: Index, dtype: int64"
      ]
     },
     "execution_count": 41,
     "metadata": {},
     "output_type": "execute_result"
    }
   ],
   "source": [
    "def duplicate(x):\n",
    "    \"\"\"Function to duplicate a value.\"\"\"\n",
    "    return x * 2  # Return the duplicated value\n",
    "df['Index'].apply(lambda x :x*2)  # Apply a lambda function to duplicate the values in the 'ID' column"
   ]
  },
  {
   "cell_type": "code",
   "execution_count": 43,
   "id": "1740564f",
   "metadata": {},
   "outputs": [
    {
     "data": {
      "text/plain": [
       "np.int64(222)"
      ]
     },
     "execution_count": 43,
     "metadata": {},
     "output_type": "execute_result"
    }
   ],
   "source": [
    "df.ID.iloc[0]  # Access the first element of the 'ID' column using iloc"
   ]
  },
  {
   "cell_type": "code",
   "execution_count": 44,
   "id": "2d0d8dea",
   "metadata": {},
   "outputs": [
    {
     "data": {
      "text/html": [
       "<div>\n",
       "<style scoped>\n",
       "    .dataframe tbody tr th:only-of-type {\n",
       "        vertical-align: middle;\n",
       "    }\n",
       "\n",
       "    .dataframe tbody tr th {\n",
       "        vertical-align: top;\n",
       "    }\n",
       "\n",
       "    .dataframe thead th {\n",
       "        text-align: right;\n",
       "    }\n",
       "</style>\n",
       "<table border=\"1\" class=\"dataframe\">\n",
       "  <thead>\n",
       "    <tr style=\"text-align: right;\">\n",
       "      <th></th>\n",
       "      <th>Index</th>\n",
       "      <th>ID</th>\n",
       "      <th>Name</th>\n",
       "    </tr>\n",
       "  </thead>\n",
       "  <tbody>\n",
       "    <tr>\n",
       "      <th>0</th>\n",
       "      <td>1</td>\n",
       "      <td>222</td>\n",
       "      <td>Ahmed</td>\n",
       "    </tr>\n",
       "    <tr>\n",
       "      <th>1</th>\n",
       "      <td>2</td>\n",
       "      <td>444</td>\n",
       "      <td>Ali</td>\n",
       "    </tr>\n",
       "    <tr>\n",
       "      <th>2</th>\n",
       "      <td>3</td>\n",
       "      <td>666</td>\n",
       "      <td>Mohamed</td>\n",
       "    </tr>\n",
       "    <tr>\n",
       "      <th>3</th>\n",
       "      <td>4</td>\n",
       "      <td>888</td>\n",
       "      <td>Gamal</td>\n",
       "    </tr>\n",
       "  </tbody>\n",
       "</table>\n",
       "</div>"
      ],
      "text/plain": [
       "   Index   ID     Name\n",
       "0      1  222    Ahmed\n",
       "1      2  444      Ali\n",
       "2      3  666  Mohamed\n",
       "3      4  888    Gamal"
      ]
     },
     "execution_count": 44,
     "metadata": {},
     "output_type": "execute_result"
    }
   ],
   "source": [
    "df"
   ]
  },
  {
   "cell_type": "code",
   "execution_count": 50,
   "id": "22bab7a2",
   "metadata": {},
   "outputs": [
    {
     "data": {
      "text/html": [
       "<div>\n",
       "<style scoped>\n",
       "    .dataframe tbody tr th:only-of-type {\n",
       "        vertical-align: middle;\n",
       "    }\n",
       "\n",
       "    .dataframe tbody tr th {\n",
       "        vertical-align: top;\n",
       "    }\n",
       "\n",
       "    .dataframe thead th {\n",
       "        text-align: right;\n",
       "    }\n",
       "</style>\n",
       "<table border=\"1\" class=\"dataframe\">\n",
       "  <thead>\n",
       "    <tr style=\"text-align: right;\">\n",
       "      <th></th>\n",
       "      <th>Index</th>\n",
       "      <th>ID</th>\n",
       "      <th>Name</th>\n",
       "    </tr>\n",
       "  </thead>\n",
       "  <tbody>\n",
       "    <tr>\n",
       "      <th>0</th>\n",
       "      <td>1</td>\n",
       "      <td>222</td>\n",
       "      <td>Ahmed</td>\n",
       "    </tr>\n",
       "    <tr>\n",
       "      <th>1</th>\n",
       "      <td>2</td>\n",
       "      <td>444</td>\n",
       "      <td>Ali</td>\n",
       "    </tr>\n",
       "    <tr>\n",
       "      <th>2</th>\n",
       "      <td>3</td>\n",
       "      <td>666</td>\n",
       "      <td>Mohamed</td>\n",
       "    </tr>\n",
       "    <tr>\n",
       "      <th>3</th>\n",
       "      <td>4</td>\n",
       "      <td>888</td>\n",
       "      <td>Gamal</td>\n",
       "    </tr>\n",
       "  </tbody>\n",
       "</table>\n",
       "</div>"
      ],
      "text/plain": [
       "   Index   ID     Name\n",
       "0      1  222    Ahmed\n",
       "1      2  444      Ali\n",
       "2      3  666  Mohamed\n",
       "3      4  888    Gamal"
      ]
     },
     "execution_count": 50,
     "metadata": {},
     "output_type": "execute_result"
    }
   ],
   "source": [
    "df.iloc[:,0:3]  # Access the first element of the 'ID' column using iloc "
   ]
  },
  {
   "cell_type": "code",
   "execution_count": 55,
   "id": "b4289a19",
   "metadata": {},
   "outputs": [
    {
     "name": "stdout",
     "output_type": "stream",
     "text": [
      "   Index   ID\n",
      "0      1  222\n",
      "1      2  444\n",
      "2      3  666\n",
      "3      4  888\n",
      "      Name\n",
      "0    Ahmed\n",
      "1      Ali\n",
      "2  Mohamed\n",
      "3    Gamal\n"
     ]
    }
   ],
   "source": [
    "T = df.iloc[:,0:2]  # Access the first column of the DataFrame using iloc\n",
    "O = df.iloc[:,2:3]  # Access the second column of the DataFrame using iloc\n",
    "print(T)  # Print the first column of the DataFrame\n",
    "print(O)  # Print the second column of the DataFrame"
   ]
  },
  {
   "cell_type": "code",
   "execution_count": 60,
   "id": "98b3d5a7",
   "metadata": {},
   "outputs": [
    {
     "data": {
      "text/plain": [
       "0    112\n",
       "1    224\n",
       "2    336\n",
       "3    448\n",
       "dtype: int64"
      ]
     },
     "execution_count": 60,
     "metadata": {},
     "output_type": "execute_result"
    }
   ],
   "source": [
    "data_1 = [[1,111,'Ahmed'],\n",
    "            [2,222,'Ali'],\n",
    "            [3,333,'Mohamed'],\n",
    "            [4,444,'Gamal']\n",
    "            ]\n",
    "\n",
    "df = pd.DataFrame(data_1, columns=[\"Index\", \"ID\", \"Name\"])  # Create a pandas DataFrame from the list of lists\n",
    "df['Name'] = df['Name'].astype(\"category\")  # Convert the 'Name' column to cataegory type\n",
    "new_co = df.Index + df.ID\n",
    "new_co  # Display the new column created by assigning 'ID' to 'Index'"
   ]
  },
  {
   "cell_type": "code",
   "execution_count": 62,
   "id": "b95a5671",
   "metadata": {},
   "outputs": [
    {
     "data": {
      "text/html": [
       "<div>\n",
       "<style scoped>\n",
       "    .dataframe tbody tr th:only-of-type {\n",
       "        vertical-align: middle;\n",
       "    }\n",
       "\n",
       "    .dataframe tbody tr th {\n",
       "        vertical-align: top;\n",
       "    }\n",
       "\n",
       "    .dataframe thead th {\n",
       "        text-align: right;\n",
       "    }\n",
       "</style>\n",
       "<table border=\"1\" class=\"dataframe\">\n",
       "  <thead>\n",
       "    <tr style=\"text-align: right;\">\n",
       "      <th></th>\n",
       "      <th>Index</th>\n",
       "      <th>ID</th>\n",
       "      <th>Name</th>\n",
       "    </tr>\n",
       "  </thead>\n",
       "  <tbody>\n",
       "    <tr>\n",
       "      <th>0</th>\n",
       "      <td>1</td>\n",
       "      <td>111</td>\n",
       "      <td>Ahmed</td>\n",
       "    </tr>\n",
       "    <tr>\n",
       "      <th>1</th>\n",
       "      <td>2</td>\n",
       "      <td>222</td>\n",
       "      <td>Ali</td>\n",
       "    </tr>\n",
       "    <tr>\n",
       "      <th>2</th>\n",
       "      <td>3</td>\n",
       "      <td>333</td>\n",
       "      <td>Mohamed</td>\n",
       "    </tr>\n",
       "    <tr>\n",
       "      <th>3</th>\n",
       "      <td>4</td>\n",
       "      <td>444</td>\n",
       "      <td>Gamal</td>\n",
       "    </tr>\n",
       "  </tbody>\n",
       "</table>\n",
       "</div>"
      ],
      "text/plain": [
       "   Index   ID     Name\n",
       "0      1  111    Ahmed\n",
       "1      2  222      Ali\n",
       "2      3  333  Mohamed\n",
       "3      4  444    Gamal"
      ]
     },
     "execution_count": 62,
     "metadata": {},
     "output_type": "execute_result"
    }
   ],
   "source": [
    "data_1 = [[1,111,'Ahmed'],\n",
    "            [2,222,'Ali'],\n",
    "            [3,333,'Mohamed'],\n",
    "            [4,444,'Gamal']\n",
    "            ]\n",
    "\n",
    "df = pd.DataFrame(data_1, columns=[\"Index\", \"ID\", \"Name\"])  # Create a pandas DataFrame from the list of lists\n",
    "df['Name'] = df['Name'].astype(\"category\")  # Convert the 'Name' column to cataegory type\n",
    "df"
   ]
  },
  {
   "cell_type": "code",
   "execution_count": 65,
   "id": "0ed8e876",
   "metadata": {},
   "outputs": [
    {
     "data": {
      "text/plain": [
       "0    112\n",
       "1    224\n",
       "2    336\n",
       "3    448\n",
       "dtype: int64"
      ]
     },
     "execution_count": 65,
     "metadata": {},
     "output_type": "execute_result"
    }
   ],
   "source": [
    "new_co = df.Index + df.ID  # Create a new column by adding 'Index' and 'ID'\n",
    "new_co  # Display the new column created by assigning 'ID' to 'Index'"
   ]
  },
  {
   "cell_type": "code",
   "execution_count": 66,
   "id": "8d65e42d",
   "metadata": {},
   "outputs": [
    {
     "data": {
      "text/html": [
       "<div>\n",
       "<style scoped>\n",
       "    .dataframe tbody tr th:only-of-type {\n",
       "        vertical-align: middle;\n",
       "    }\n",
       "\n",
       "    .dataframe tbody tr th {\n",
       "        vertical-align: top;\n",
       "    }\n",
       "\n",
       "    .dataframe thead th {\n",
       "        text-align: right;\n",
       "    }\n",
       "</style>\n",
       "<table border=\"1\" class=\"dataframe\">\n",
       "  <thead>\n",
       "    <tr style=\"text-align: right;\">\n",
       "      <th></th>\n",
       "      <th>Index</th>\n",
       "      <th>ID</th>\n",
       "      <th>Name</th>\n",
       "      <th>New_Column</th>\n",
       "    </tr>\n",
       "  </thead>\n",
       "  <tbody>\n",
       "    <tr>\n",
       "      <th>0</th>\n",
       "      <td>1</td>\n",
       "      <td>111</td>\n",
       "      <td>Ahmed</td>\n",
       "      <td>112</td>\n",
       "    </tr>\n",
       "    <tr>\n",
       "      <th>1</th>\n",
       "      <td>2</td>\n",
       "      <td>222</td>\n",
       "      <td>Ali</td>\n",
       "      <td>224</td>\n",
       "    </tr>\n",
       "    <tr>\n",
       "      <th>2</th>\n",
       "      <td>3</td>\n",
       "      <td>333</td>\n",
       "      <td>Mohamed</td>\n",
       "      <td>336</td>\n",
       "    </tr>\n",
       "    <tr>\n",
       "      <th>3</th>\n",
       "      <td>4</td>\n",
       "      <td>444</td>\n",
       "      <td>Gamal</td>\n",
       "      <td>448</td>\n",
       "    </tr>\n",
       "  </tbody>\n",
       "</table>\n",
       "</div>"
      ],
      "text/plain": [
       "   Index   ID     Name  New_Column\n",
       "0      1  111    Ahmed         112\n",
       "1      2  222      Ali         224\n",
       "2      3  333  Mohamed         336\n",
       "3      4  444    Gamal         448"
      ]
     },
     "execution_count": 66,
     "metadata": {},
     "output_type": "execute_result"
    }
   ],
   "source": [
    "df.insert(3, \"New_Column\", new_co)  # Insert the new column into the DataFrame at index 3\n",
    "df  # Display the DataFrame with the new column inserted"
   ]
  },
  {
   "cell_type": "code",
   "execution_count": 69,
   "id": "4b04a888",
   "metadata": {},
   "outputs": [
    {
     "data": {
      "text/html": [
       "<div>\n",
       "<style scoped>\n",
       "    .dataframe tbody tr th:only-of-type {\n",
       "        vertical-align: middle;\n",
       "    }\n",
       "\n",
       "    .dataframe tbody tr th {\n",
       "        vertical-align: top;\n",
       "    }\n",
       "\n",
       "    .dataframe thead th {\n",
       "        text-align: right;\n",
       "    }\n",
       "</style>\n",
       "<table border=\"1\" class=\"dataframe\">\n",
       "  <thead>\n",
       "    <tr style=\"text-align: right;\">\n",
       "      <th></th>\n",
       "      <th>Index</th>\n",
       "      <th>ID</th>\n",
       "      <th>Name</th>\n",
       "    </tr>\n",
       "  </thead>\n",
       "  <tbody>\n",
       "    <tr>\n",
       "      <th>0</th>\n",
       "      <td>1</td>\n",
       "      <td>111</td>\n",
       "      <td>Ahmed</td>\n",
       "    </tr>\n",
       "    <tr>\n",
       "      <th>1</th>\n",
       "      <td>2</td>\n",
       "      <td>222</td>\n",
       "      <td>Ali</td>\n",
       "    </tr>\n",
       "    <tr>\n",
       "      <th>2</th>\n",
       "      <td>3</td>\n",
       "      <td>333</td>\n",
       "      <td>Mohamed</td>\n",
       "    </tr>\n",
       "    <tr>\n",
       "      <th>3</th>\n",
       "      <td>4</td>\n",
       "      <td>444</td>\n",
       "      <td>Gamal</td>\n",
       "    </tr>\n",
       "  </tbody>\n",
       "</table>\n",
       "</div>"
      ],
      "text/plain": [
       "   Index   ID     Name\n",
       "0      1  111    Ahmed\n",
       "1      2  222      Ali\n",
       "2      3  333  Mohamed\n",
       "3      4  444    Gamal"
      ]
     },
     "execution_count": 69,
     "metadata": {},
     "output_type": "execute_result"
    }
   ],
   "source": [
    "df.drop(\"New_Column\", axis=1 , inplace= True)  # Drop the 'new_co' column from the DataFrame\n",
    "df  # Display the DataFrame after dropping the 'new_co' column"
   ]
  },
  {
   "cell_type": "code",
   "execution_count": 71,
   "id": "1908a863",
   "metadata": {},
   "outputs": [
    {
     "data": {
      "text/html": [
       "<div>\n",
       "<style scoped>\n",
       "    .dataframe tbody tr th:only-of-type {\n",
       "        vertical-align: middle;\n",
       "    }\n",
       "\n",
       "    .dataframe tbody tr th {\n",
       "        vertical-align: top;\n",
       "    }\n",
       "\n",
       "    .dataframe thead th {\n",
       "        text-align: right;\n",
       "    }\n",
       "</style>\n",
       "<table border=\"1\" class=\"dataframe\">\n",
       "  <thead>\n",
       "    <tr style=\"text-align: right;\">\n",
       "      <th></th>\n",
       "      <th>1|24|M|technician|85711</th>\n",
       "    </tr>\n",
       "  </thead>\n",
       "  <tbody>\n",
       "    <tr>\n",
       "      <th>0</th>\n",
       "      <td>2|53|F|other|94043</td>\n",
       "    </tr>\n",
       "    <tr>\n",
       "      <th>1</th>\n",
       "      <td>3|23|M|writer|32067</td>\n",
       "    </tr>\n",
       "    <tr>\n",
       "      <th>2</th>\n",
       "      <td>4|24|M|technician|43537</td>\n",
       "    </tr>\n",
       "    <tr>\n",
       "      <th>3</th>\n",
       "      <td>5|33|F|other|15213</td>\n",
       "    </tr>\n",
       "    <tr>\n",
       "      <th>4</th>\n",
       "      <td>6|42|M|executive|98101</td>\n",
       "    </tr>\n",
       "  </tbody>\n",
       "</table>\n",
       "</div>"
      ],
      "text/plain": [
       "   1|24|M|technician|85711\n",
       "0       2|53|F|other|94043\n",
       "1      3|23|M|writer|32067\n",
       "2  4|24|M|technician|43537\n",
       "3       5|33|F|other|15213\n",
       "4   6|42|M|executive|98101"
      ]
     },
     "execution_count": 71,
     "metadata": {},
     "output_type": "execute_result"
    }
   ],
   "source": [
    "#to read table from linke or you can put the path of your own tabl\n",
    "data=pd.read_table('http://bit.ly/movieusers')\n",
    "data.head()  # Display the first few rows of the DataFrame read from the link"
   ]
  },
  {
   "cell_type": "code",
   "execution_count": null,
   "id": "4efcce58",
   "metadata": {},
   "outputs": [
    {
     "data": {
      "text/html": [
       "<div>\n",
       "<style scoped>\n",
       "    .dataframe tbody tr th:only-of-type {\n",
       "        vertical-align: middle;\n",
       "    }\n",
       "\n",
       "    .dataframe tbody tr th {\n",
       "        vertical-align: top;\n",
       "    }\n",
       "\n",
       "    .dataframe thead th {\n",
       "        text-align: right;\n",
       "    }\n",
       "</style>\n",
       "<table border=\"1\" class=\"dataframe\">\n",
       "  <thead>\n",
       "    <tr style=\"text-align: right;\">\n",
       "      <th></th>\n",
       "      <th>1</th>\n",
       "      <th>24</th>\n",
       "      <th>M</th>\n",
       "      <th>technician</th>\n",
       "      <th>85711</th>\n",
       "    </tr>\n",
       "  </thead>\n",
       "  <tbody>\n",
       "    <tr>\n",
       "      <th>0</th>\n",
       "      <td>2</td>\n",
       "      <td>53</td>\n",
       "      <td>F</td>\n",
       "      <td>other</td>\n",
       "      <td>94043</td>\n",
       "    </tr>\n",
       "    <tr>\n",
       "      <th>1</th>\n",
       "      <td>3</td>\n",
       "      <td>23</td>\n",
       "      <td>M</td>\n",
       "      <td>writer</td>\n",
       "      <td>32067</td>\n",
       "    </tr>\n",
       "    <tr>\n",
       "      <th>2</th>\n",
       "      <td>4</td>\n",
       "      <td>24</td>\n",
       "      <td>M</td>\n",
       "      <td>technician</td>\n",
       "      <td>43537</td>\n",
       "    </tr>\n",
       "    <tr>\n",
       "      <th>3</th>\n",
       "      <td>5</td>\n",
       "      <td>33</td>\n",
       "      <td>F</td>\n",
       "      <td>other</td>\n",
       "      <td>15213</td>\n",
       "    </tr>\n",
       "    <tr>\n",
       "      <th>4</th>\n",
       "      <td>6</td>\n",
       "      <td>42</td>\n",
       "      <td>M</td>\n",
       "      <td>executive</td>\n",
       "      <td>98101</td>\n",
       "    </tr>\n",
       "    <tr>\n",
       "      <th>...</th>\n",
       "      <td>...</td>\n",
       "      <td>...</td>\n",
       "      <td>...</td>\n",
       "      <td>...</td>\n",
       "      <td>...</td>\n",
       "    </tr>\n",
       "    <tr>\n",
       "      <th>937</th>\n",
       "      <td>939</td>\n",
       "      <td>26</td>\n",
       "      <td>F</td>\n",
       "      <td>student</td>\n",
       "      <td>33319</td>\n",
       "    </tr>\n",
       "    <tr>\n",
       "      <th>938</th>\n",
       "      <td>940</td>\n",
       "      <td>32</td>\n",
       "      <td>M</td>\n",
       "      <td>administrator</td>\n",
       "      <td>02215</td>\n",
       "    </tr>\n",
       "    <tr>\n",
       "      <th>939</th>\n",
       "      <td>941</td>\n",
       "      <td>20</td>\n",
       "      <td>M</td>\n",
       "      <td>student</td>\n",
       "      <td>97229</td>\n",
       "    </tr>\n",
       "    <tr>\n",
       "      <th>940</th>\n",
       "      <td>942</td>\n",
       "      <td>48</td>\n",
       "      <td>F</td>\n",
       "      <td>librarian</td>\n",
       "      <td>78209</td>\n",
       "    </tr>\n",
       "    <tr>\n",
       "      <th>941</th>\n",
       "      <td>943</td>\n",
       "      <td>22</td>\n",
       "      <td>M</td>\n",
       "      <td>student</td>\n",
       "      <td>77841</td>\n",
       "    </tr>\n",
       "  </tbody>\n",
       "</table>\n",
       "<p>942 rows × 5 columns</p>\n",
       "</div>"
      ],
      "text/plain": [
       "       1  24  M     technician  85711\n",
       "0      2  53  F          other  94043\n",
       "1      3  23  M         writer  32067\n",
       "2      4  24  M     technician  43537\n",
       "3      5  33  F          other  15213\n",
       "4      6  42  M      executive  98101\n",
       "..   ...  .. ..            ...    ...\n",
       "937  939  26  F        student  33319\n",
       "938  940  32  M  administrator  02215\n",
       "939  941  20  M        student  97229\n",
       "940  942  48  F      librarian  78209\n",
       "941  943  22  M        student  77841\n",
       "\n",
       "[942 rows x 5 columns]"
      ]
     },
     "execution_count": 72,
     "metadata": {},
     "output_type": "execute_result"
    }
   ],
   "source": [
    "data=pd.read_table('http://bit.ly/movieusers', sep='|')  # Read the table from the link with a comma as the separator\n",
    "data  # Display the first few rows of the DataFrame read from the link"
   ]
  },
  {
   "cell_type": "code",
   "execution_count": 73,
   "id": "783abc1c",
   "metadata": {},
   "outputs": [
    {
     "data": {
      "text/html": [
       "<div>\n",
       "<style scoped>\n",
       "    .dataframe tbody tr th:only-of-type {\n",
       "        vertical-align: middle;\n",
       "    }\n",
       "\n",
       "    .dataframe tbody tr th {\n",
       "        vertical-align: top;\n",
       "    }\n",
       "\n",
       "    .dataframe thead th {\n",
       "        text-align: right;\n",
       "    }\n",
       "</style>\n",
       "<table border=\"1\" class=\"dataframe\">\n",
       "  <thead>\n",
       "    <tr style=\"text-align: right;\">\n",
       "      <th></th>\n",
       "      <th>0</th>\n",
       "      <th>1</th>\n",
       "      <th>2</th>\n",
       "      <th>3</th>\n",
       "      <th>4</th>\n",
       "    </tr>\n",
       "  </thead>\n",
       "  <tbody>\n",
       "    <tr>\n",
       "      <th>0</th>\n",
       "      <td>1</td>\n",
       "      <td>24</td>\n",
       "      <td>M</td>\n",
       "      <td>technician</td>\n",
       "      <td>85711</td>\n",
       "    </tr>\n",
       "    <tr>\n",
       "      <th>1</th>\n",
       "      <td>2</td>\n",
       "      <td>53</td>\n",
       "      <td>F</td>\n",
       "      <td>other</td>\n",
       "      <td>94043</td>\n",
       "    </tr>\n",
       "    <tr>\n",
       "      <th>2</th>\n",
       "      <td>3</td>\n",
       "      <td>23</td>\n",
       "      <td>M</td>\n",
       "      <td>writer</td>\n",
       "      <td>32067</td>\n",
       "    </tr>\n",
       "    <tr>\n",
       "      <th>3</th>\n",
       "      <td>4</td>\n",
       "      <td>24</td>\n",
       "      <td>M</td>\n",
       "      <td>technician</td>\n",
       "      <td>43537</td>\n",
       "    </tr>\n",
       "    <tr>\n",
       "      <th>4</th>\n",
       "      <td>5</td>\n",
       "      <td>33</td>\n",
       "      <td>F</td>\n",
       "      <td>other</td>\n",
       "      <td>15213</td>\n",
       "    </tr>\n",
       "  </tbody>\n",
       "</table>\n",
       "</div>"
      ],
      "text/plain": [
       "   0   1  2           3      4\n",
       "0  1  24  M  technician  85711\n",
       "1  2  53  F       other  94043\n",
       "2  3  23  M      writer  32067\n",
       "3  4  24  M  technician  43537\n",
       "4  5  33  F       other  15213"
      ]
     },
     "execution_count": 73,
     "metadata": {},
     "output_type": "execute_result"
    }
   ],
   "source": [
    "data=pd.read_table('http://bit.ly/movieusers', sep='|', header= None)  # Read the table from the link with a comma as the separator\n",
    "data.head()  # Display the first few rows of the DataFrame read from the link"
   ]
  },
  {
   "cell_type": "code",
   "execution_count": 75,
   "id": "c57c09dc",
   "metadata": {},
   "outputs": [
    {
     "data": {
      "text/html": [
       "<div>\n",
       "<style scoped>\n",
       "    .dataframe tbody tr th:only-of-type {\n",
       "        vertical-align: middle;\n",
       "    }\n",
       "\n",
       "    .dataframe tbody tr th {\n",
       "        vertical-align: top;\n",
       "    }\n",
       "\n",
       "    .dataframe thead th {\n",
       "        text-align: right;\n",
       "    }\n",
       "</style>\n",
       "<table border=\"1\" class=\"dataframe\">\n",
       "  <thead>\n",
       "    <tr style=\"text-align: right;\">\n",
       "      <th></th>\n",
       "      <th>Index</th>\n",
       "      <th>age</th>\n",
       "      <th>gander</th>\n",
       "      <th>dept</th>\n",
       "      <th>Id</th>\n",
       "    </tr>\n",
       "  </thead>\n",
       "  <tbody>\n",
       "    <tr>\n",
       "      <th>0</th>\n",
       "      <td>1</td>\n",
       "      <td>24</td>\n",
       "      <td>M</td>\n",
       "      <td>technician</td>\n",
       "      <td>85711</td>\n",
       "    </tr>\n",
       "    <tr>\n",
       "      <th>1</th>\n",
       "      <td>2</td>\n",
       "      <td>53</td>\n",
       "      <td>F</td>\n",
       "      <td>other</td>\n",
       "      <td>94043</td>\n",
       "    </tr>\n",
       "    <tr>\n",
       "      <th>2</th>\n",
       "      <td>3</td>\n",
       "      <td>23</td>\n",
       "      <td>M</td>\n",
       "      <td>writer</td>\n",
       "      <td>32067</td>\n",
       "    </tr>\n",
       "    <tr>\n",
       "      <th>3</th>\n",
       "      <td>4</td>\n",
       "      <td>24</td>\n",
       "      <td>M</td>\n",
       "      <td>technician</td>\n",
       "      <td>43537</td>\n",
       "    </tr>\n",
       "    <tr>\n",
       "      <th>4</th>\n",
       "      <td>5</td>\n",
       "      <td>33</td>\n",
       "      <td>F</td>\n",
       "      <td>other</td>\n",
       "      <td>15213</td>\n",
       "    </tr>\n",
       "  </tbody>\n",
       "</table>\n",
       "</div>"
      ],
      "text/plain": [
       "   Index  age gander        dept     Id\n",
       "0      1   24      M  technician  85711\n",
       "1      2   53      F       other  94043\n",
       "2      3   23      M      writer  32067\n",
       "3      4   24      M  technician  43537\n",
       "4      5   33      F       other  15213"
      ]
     },
     "execution_count": 75,
     "metadata": {},
     "output_type": "execute_result"
    }
   ],
   "source": [
    "header_colums = ['Index' , 'age', 'gander', 'dept', 'Id']\n",
    "data=pd.read_table('http://bit.ly/movieusers', sep='|', header= None , names=  header_colums)  # Read the table from the link with a comma as the separator\n",
    "data.head()  # Display the first few rows of the DataFrame read from the link"
   ]
  },
  {
   "cell_type": "code",
   "execution_count": 86,
   "id": "11871e70",
   "metadata": {},
   "outputs": [
    {
     "data": {
      "text/html": [
       "<div>\n",
       "<style scoped>\n",
       "    .dataframe tbody tr th:only-of-type {\n",
       "        vertical-align: middle;\n",
       "    }\n",
       "\n",
       "    .dataframe tbody tr th {\n",
       "        vertical-align: top;\n",
       "    }\n",
       "\n",
       "    .dataframe thead th {\n",
       "        text-align: right;\n",
       "    }\n",
       "</style>\n",
       "<table border=\"1\" class=\"dataframe\">\n",
       "  <thead>\n",
       "    <tr style=\"text-align: right;\">\n",
       "      <th></th>\n",
       "      <th>City</th>\n",
       "      <th>Colors Reported</th>\n",
       "      <th>Shape Reported</th>\n",
       "      <th>State</th>\n",
       "      <th>Time</th>\n",
       "    </tr>\n",
       "  </thead>\n",
       "  <tbody>\n",
       "    <tr>\n",
       "      <th>0</th>\n",
       "      <td>Ithaca</td>\n",
       "      <td>NaN</td>\n",
       "      <td>TRIANGLE</td>\n",
       "      <td>NY</td>\n",
       "      <td>6/1/1930 22:00</td>\n",
       "    </tr>\n",
       "    <tr>\n",
       "      <th>1</th>\n",
       "      <td>Willingboro</td>\n",
       "      <td>NaN</td>\n",
       "      <td>OTHER</td>\n",
       "      <td>NJ</td>\n",
       "      <td>6/30/1930 20:00</td>\n",
       "    </tr>\n",
       "    <tr>\n",
       "      <th>2</th>\n",
       "      <td>Holyoke</td>\n",
       "      <td>NaN</td>\n",
       "      <td>OVAL</td>\n",
       "      <td>CO</td>\n",
       "      <td>2/15/1931 14:00</td>\n",
       "    </tr>\n",
       "    <tr>\n",
       "      <th>3</th>\n",
       "      <td>Abilene</td>\n",
       "      <td>NaN</td>\n",
       "      <td>DISK</td>\n",
       "      <td>KS</td>\n",
       "      <td>6/1/1931 13:00</td>\n",
       "    </tr>\n",
       "    <tr>\n",
       "      <th>4</th>\n",
       "      <td>New York Worlds Fair</td>\n",
       "      <td>NaN</td>\n",
       "      <td>LIGHT</td>\n",
       "      <td>NY</td>\n",
       "      <td>4/18/1933 19:00</td>\n",
       "    </tr>\n",
       "    <tr>\n",
       "      <th>5</th>\n",
       "      <td>Valley City</td>\n",
       "      <td>NaN</td>\n",
       "      <td>DISK</td>\n",
       "      <td>ND</td>\n",
       "      <td>9/15/1934 15:30</td>\n",
       "    </tr>\n",
       "    <tr>\n",
       "      <th>6</th>\n",
       "      <td>Crater Lake</td>\n",
       "      <td>NaN</td>\n",
       "      <td>CIRCLE</td>\n",
       "      <td>CA</td>\n",
       "      <td>6/15/1935 0:00</td>\n",
       "    </tr>\n",
       "    <tr>\n",
       "      <th>7</th>\n",
       "      <td>Alma</td>\n",
       "      <td>NaN</td>\n",
       "      <td>DISK</td>\n",
       "      <td>MI</td>\n",
       "      <td>7/15/1936 0:00</td>\n",
       "    </tr>\n",
       "    <tr>\n",
       "      <th>8</th>\n",
       "      <td>Eklutna</td>\n",
       "      <td>NaN</td>\n",
       "      <td>CIGAR</td>\n",
       "      <td>AK</td>\n",
       "      <td>10/15/1936 17:00</td>\n",
       "    </tr>\n",
       "    <tr>\n",
       "      <th>9</th>\n",
       "      <td>Hubbard</td>\n",
       "      <td>NaN</td>\n",
       "      <td>CYLINDER</td>\n",
       "      <td>OR</td>\n",
       "      <td>6/15/1937 0:00</td>\n",
       "    </tr>\n",
       "  </tbody>\n",
       "</table>\n",
       "</div>"
      ],
      "text/plain": [
       "                   City Colors Reported Shape Reported State              Time\n",
       "0                Ithaca             NaN       TRIANGLE    NY    6/1/1930 22:00\n",
       "1           Willingboro             NaN          OTHER    NJ   6/30/1930 20:00\n",
       "2               Holyoke             NaN           OVAL    CO   2/15/1931 14:00\n",
       "3               Abilene             NaN           DISK    KS    6/1/1931 13:00\n",
       "4  New York Worlds Fair             NaN          LIGHT    NY   4/18/1933 19:00\n",
       "5           Valley City             NaN           DISK    ND   9/15/1934 15:30\n",
       "6           Crater Lake             NaN         CIRCLE    CA    6/15/1935 0:00\n",
       "7                  Alma             NaN           DISK    MI    7/15/1936 0:00\n",
       "8               Eklutna             NaN          CIGAR    AK  10/15/1936 17:00\n",
       "9               Hubbard             NaN       CYLINDER    OR    6/15/1937 0:00"
      ]
     },
     "execution_count": 86,
     "metadata": {},
     "output_type": "execute_result"
    }
   ],
   "source": [
    "user_info=pd.read_csv('http://bit.ly/uforeports')\n",
    "user_info.head(10)  # Display the first few rows of the DataFrame read from the link"
   ]
  },
  {
   "cell_type": "code",
   "execution_count": 78,
   "id": "8e1cb24a",
   "metadata": {},
   "outputs": [
    {
     "data": {
      "text/plain": [
       "0                  Ithaca\n",
       "1             Willingboro\n",
       "2                 Holyoke\n",
       "3                 Abilene\n",
       "4    New York Worlds Fair\n",
       "5             Valley City\n",
       "6             Crater Lake\n",
       "7                    Alma\n",
       "8                 Eklutna\n",
       "9                 Hubbard\n",
       "Name: City, dtype: object"
      ]
     },
     "execution_count": 78,
     "metadata": {},
     "output_type": "execute_result"
    }
   ],
   "source": [
    "user_info.City.head(10)  # Display the first few rows of the 'City' column in the DataFrame"
   ]
  },
  {
   "cell_type": "code",
   "execution_count": 81,
   "id": "dae9ec26",
   "metadata": {},
   "outputs": [
    {
     "data": {
      "text/plain": [
       "0    NaN\n",
       "1    NaN\n",
       "2    NaN\n",
       "3    NaN\n",
       "4    NaN\n",
       "Name: Colors Reported, dtype: object"
      ]
     },
     "execution_count": 81,
     "metadata": {},
     "output_type": "execute_result"
    }
   ],
   "source": [
    "user_info['Colors Reported'].head()  # Display the first few rows of the 'Colors Reportedcolors' column in the DataFrame"
   ]
  },
  {
   "cell_type": "code",
   "execution_count": null,
   "id": "279e3a7f",
   "metadata": {},
   "outputs": [
    {
     "data": {
      "text/plain": [
       "(18241, 5)"
      ]
     },
     "execution_count": 83,
     "metadata": {},
     "output_type": "execute_result"
    }
   ],
   "source": [
    "user_info.shape  # Display the shape of the DataFrame"
   ]
  },
  {
   "cell_type": "code",
   "execution_count": 91,
   "id": "2a64c9c5",
   "metadata": {},
   "outputs": [
    {
     "data": {
      "text/plain": [
       "0                      Ithaca NY\n",
       "1                 Willingboro NJ\n",
       "2                     Holyoke CO\n",
       "3                     Abilene KS\n",
       "4        New York Worlds Fair NY\n",
       "                  ...           \n",
       "18236              Grant Park IL\n",
       "18237             Spirit Lake IA\n",
       "18238             Eagle River WI\n",
       "18239             Eagle River WI\n",
       "18240                    Ybor FL\n",
       "Length: 18241, dtype: object"
      ]
     },
     "execution_count": 91,
     "metadata": {},
     "output_type": "execute_result"
    }
   ],
   "source": [
    "user_info.City + ' ' + user_info.State\n"
   ]
  },
  {
   "cell_type": "code",
   "execution_count": 92,
   "id": "07ab1caa",
   "metadata": {},
   "outputs": [
    {
     "data": {
      "text/html": [
       "<div>\n",
       "<style scoped>\n",
       "    .dataframe tbody tr th:only-of-type {\n",
       "        vertical-align: middle;\n",
       "    }\n",
       "\n",
       "    .dataframe tbody tr th {\n",
       "        vertical-align: top;\n",
       "    }\n",
       "\n",
       "    .dataframe thead th {\n",
       "        text-align: right;\n",
       "    }\n",
       "</style>\n",
       "<table border=\"1\" class=\"dataframe\">\n",
       "  <thead>\n",
       "    <tr style=\"text-align: right;\">\n",
       "      <th></th>\n",
       "      <th>City</th>\n",
       "      <th>Colors Reported</th>\n",
       "      <th>Shape Reported</th>\n",
       "      <th>State</th>\n",
       "      <th>Time</th>\n",
       "      <th>location</th>\n",
       "    </tr>\n",
       "  </thead>\n",
       "  <tbody>\n",
       "    <tr>\n",
       "      <th>0</th>\n",
       "      <td>Ithaca</td>\n",
       "      <td>NaN</td>\n",
       "      <td>TRIANGLE</td>\n",
       "      <td>NY</td>\n",
       "      <td>6/1/1930 22:00</td>\n",
       "      <td>Ithaca NY</td>\n",
       "    </tr>\n",
       "    <tr>\n",
       "      <th>1</th>\n",
       "      <td>Willingboro</td>\n",
       "      <td>NaN</td>\n",
       "      <td>OTHER</td>\n",
       "      <td>NJ</td>\n",
       "      <td>6/30/1930 20:00</td>\n",
       "      <td>Willingboro NJ</td>\n",
       "    </tr>\n",
       "    <tr>\n",
       "      <th>2</th>\n",
       "      <td>Holyoke</td>\n",
       "      <td>NaN</td>\n",
       "      <td>OVAL</td>\n",
       "      <td>CO</td>\n",
       "      <td>2/15/1931 14:00</td>\n",
       "      <td>Holyoke CO</td>\n",
       "    </tr>\n",
       "    <tr>\n",
       "      <th>3</th>\n",
       "      <td>Abilene</td>\n",
       "      <td>NaN</td>\n",
       "      <td>DISK</td>\n",
       "      <td>KS</td>\n",
       "      <td>6/1/1931 13:00</td>\n",
       "      <td>Abilene KS</td>\n",
       "    </tr>\n",
       "    <tr>\n",
       "      <th>4</th>\n",
       "      <td>New York Worlds Fair</td>\n",
       "      <td>NaN</td>\n",
       "      <td>LIGHT</td>\n",
       "      <td>NY</td>\n",
       "      <td>4/18/1933 19:00</td>\n",
       "      <td>New York Worlds Fair NY</td>\n",
       "    </tr>\n",
       "  </tbody>\n",
       "</table>\n",
       "</div>"
      ],
      "text/plain": [
       "                   City Colors Reported Shape Reported State             Time  \\\n",
       "0                Ithaca             NaN       TRIANGLE    NY   6/1/1930 22:00   \n",
       "1           Willingboro             NaN          OTHER    NJ  6/30/1930 20:00   \n",
       "2               Holyoke             NaN           OVAL    CO  2/15/1931 14:00   \n",
       "3               Abilene             NaN           DISK    KS   6/1/1931 13:00   \n",
       "4  New York Worlds Fair             NaN          LIGHT    NY  4/18/1933 19:00   \n",
       "\n",
       "                  location  \n",
       "0                Ithaca NY  \n",
       "1           Willingboro NJ  \n",
       "2               Holyoke CO  \n",
       "3               Abilene KS  \n",
       "4  New York Worlds Fair NY  "
      ]
     },
     "execution_count": 92,
     "metadata": {},
     "output_type": "execute_result"
    }
   ],
   "source": [
    "user_info['location'] = user_info.City + ' ' + user_info.State\n",
    "user_info.head()  # Display the first few rows of the DataFrame with the new 'location' column"
   ]
  },
  {
   "cell_type": "code",
   "execution_count": 93,
   "id": "6029e054",
   "metadata": {},
   "outputs": [],
   "source": [
    "user_info.to_csv(\"new_data.csv\") # Save the DataFrame to a CSV file named \"new_data.csv\""
   ]
  },
  {
   "cell_type": "code",
   "execution_count": 94,
   "id": "3680bf67",
   "metadata": {},
   "outputs": [
    {
     "data": {
      "text/html": [
       "<div>\n",
       "<style scoped>\n",
       "    .dataframe tbody tr th:only-of-type {\n",
       "        vertical-align: middle;\n",
       "    }\n",
       "\n",
       "    .dataframe tbody tr th {\n",
       "        vertical-align: top;\n",
       "    }\n",
       "\n",
       "    .dataframe thead th {\n",
       "        text-align: right;\n",
       "    }\n",
       "</style>\n",
       "<table border=\"1\" class=\"dataframe\">\n",
       "  <thead>\n",
       "    <tr style=\"text-align: right;\">\n",
       "      <th></th>\n",
       "      <th>Unnamed: 0</th>\n",
       "      <th>City</th>\n",
       "      <th>Colors Reported</th>\n",
       "      <th>Shape Reported</th>\n",
       "      <th>State</th>\n",
       "      <th>Time</th>\n",
       "      <th>location</th>\n",
       "    </tr>\n",
       "  </thead>\n",
       "  <tbody>\n",
       "    <tr>\n",
       "      <th>0</th>\n",
       "      <td>0</td>\n",
       "      <td>Ithaca</td>\n",
       "      <td>NaN</td>\n",
       "      <td>TRIANGLE</td>\n",
       "      <td>NY</td>\n",
       "      <td>6/1/1930 22:00</td>\n",
       "      <td>Ithaca NY</td>\n",
       "    </tr>\n",
       "    <tr>\n",
       "      <th>1</th>\n",
       "      <td>1</td>\n",
       "      <td>Willingboro</td>\n",
       "      <td>NaN</td>\n",
       "      <td>OTHER</td>\n",
       "      <td>NJ</td>\n",
       "      <td>6/30/1930 20:00</td>\n",
       "      <td>Willingboro NJ</td>\n",
       "    </tr>\n",
       "    <tr>\n",
       "      <th>2</th>\n",
       "      <td>2</td>\n",
       "      <td>Holyoke</td>\n",
       "      <td>NaN</td>\n",
       "      <td>OVAL</td>\n",
       "      <td>CO</td>\n",
       "      <td>2/15/1931 14:00</td>\n",
       "      <td>Holyoke CO</td>\n",
       "    </tr>\n",
       "    <tr>\n",
       "      <th>3</th>\n",
       "      <td>3</td>\n",
       "      <td>Abilene</td>\n",
       "      <td>NaN</td>\n",
       "      <td>DISK</td>\n",
       "      <td>KS</td>\n",
       "      <td>6/1/1931 13:00</td>\n",
       "      <td>Abilene KS</td>\n",
       "    </tr>\n",
       "    <tr>\n",
       "      <th>4</th>\n",
       "      <td>4</td>\n",
       "      <td>New York Worlds Fair</td>\n",
       "      <td>NaN</td>\n",
       "      <td>LIGHT</td>\n",
       "      <td>NY</td>\n",
       "      <td>4/18/1933 19:00</td>\n",
       "      <td>New York Worlds Fair NY</td>\n",
       "    </tr>\n",
       "  </tbody>\n",
       "</table>\n",
       "</div>"
      ],
      "text/plain": [
       "   Unnamed: 0                  City Colors Reported Shape Reported State  \\\n",
       "0           0                Ithaca             NaN       TRIANGLE    NY   \n",
       "1           1           Willingboro             NaN          OTHER    NJ   \n",
       "2           2               Holyoke             NaN           OVAL    CO   \n",
       "3           3               Abilene             NaN           DISK    KS   \n",
       "4           4  New York Worlds Fair             NaN          LIGHT    NY   \n",
       "\n",
       "              Time                 location  \n",
       "0   6/1/1930 22:00                Ithaca NY  \n",
       "1  6/30/1930 20:00           Willingboro NJ  \n",
       "2  2/15/1931 14:00               Holyoke CO  \n",
       "3   6/1/1931 13:00               Abilene KS  \n",
       "4  4/18/1933 19:00  New York Worlds Fair NY  "
      ]
     },
     "execution_count": 94,
     "metadata": {},
     "output_type": "execute_result"
    }
   ],
   "source": [
    "new_file = pd.read_csv(\"new_data.csv\")  # Read the newly created CSV file\n",
    "new_file.head()  # Display the first few rows of the newly created CSV file"
   ]
  },
  {
   "cell_type": "code",
   "execution_count": null,
   "id": "f913153b",
   "metadata": {},
   "outputs": [],
   "source": []
  }
 ],
 "metadata": {
  "kernelspec": {
   "display_name": ".venv",
   "language": "python",
   "name": "python3"
  },
  "language_info": {
   "codemirror_mode": {
    "name": "ipython",
    "version": 3
   },
   "file_extension": ".py",
   "mimetype": "text/x-python",
   "name": "python",
   "nbconvert_exporter": "python",
   "pygments_lexer": "ipython3",
   "version": "3.13.3"
  }
 },
 "nbformat": 4,
 "nbformat_minor": 5
}
