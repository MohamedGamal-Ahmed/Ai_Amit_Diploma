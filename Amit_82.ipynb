{
 "cells": [
  {
   "cell_type": "code",
   "execution_count": 1,
   "id": "bd15f222",
   "metadata": {},
   "outputs": [
    {
     "name": "stdout",
     "output_type": "stream",
     "text": [
      "My name is : Mohamed gamal\n",
      "My age is: 35\n",
      "My grade : 3.99\n",
      "My gender : male\n"
     ]
    }
   ],
   "source": [
    "class STUDENT:\n",
    "    def __init__(self):\n",
    "        self.student_name = \"Mohamed gamal\"\n",
    "        self.Student_age = 35\n",
    "        self.student_grade = 3.99\n",
    "        self.student_gender = \"male\"\n",
    "\n",
    "    def student_info(self):\n",
    "        print(f\"My name is : {self.student_name}\")\n",
    "        print(f\"My age is: {self.Student_age}\") \n",
    "        print(f\"My grade : {self.student_grade}\")\n",
    "        print(f\"My gender : {self.student_gender}\")\n",
    "\n",
    "s1 = STUDENT()\n",
    "s1.student_info()"
   ]
  },
  {
   "cell_type": "code",
   "execution_count": 2,
   "id": "25005184",
   "metadata": {},
   "outputs": [
    {
     "name": "stdout",
     "output_type": "stream",
     "text": [
      "Addition of 1 and 1 is: 2\n",
      "Subtraction of 1 and 1 is: 0\n"
     ]
    }
   ],
   "source": [
    "\n",
    "#class Calculator take two numbers and perform addition and subtraction\n",
    "# and print the results\n",
    "class Calculator:\n",
    "    def __init__(self, num1, num2):\n",
    "        self.num1 = num1\n",
    "        self.num2 = num2\n",
    "    def add(self):\n",
    "        return self.num1 + self.num2\n",
    "    def subtract(self):\n",
    "        return self.num1 - self.num2\n",
    "\n",
    "\n",
    "\n",
    "num1 = int(input(\"Enter first number: \"))   # Input first numbers from the user \n",
    "num2 = int(input(\"Enter second number: \"))  # Input second numbers from the user \n",
    "\n",
    "c1 = Calculator(num1, num2)    # inherits the class Calculator\n",
    "c1.add()                        # performs addition\n",
    "c2 = Calculator(num1, num2)\n",
    "c2.subtract()\n",
    "print (f\"Addition of {num1} and {num2} is: {c1.add()}\")\n",
    "print (f\"Subtraction of {num1} and {num2} is: {c2.subtract()}\")"
   ]
  },
  {
   "cell_type": "code",
   "execution_count": 3,
   "id": "f4d9533c",
   "metadata": {},
   "outputs": [
    {
     "name": "stdout",
     "output_type": "stream",
     "text": [
      "I can fly\n"
     ]
    }
   ],
   "source": [
    "from abc import ABC, abstractmethod\n",
    "\n",
    "class Animal (ABC):\n",
    "    @abstractmethod\n",
    "    def move(self):\n",
    "        pass\n",
    "\n",
    "class Bird(Animal):\n",
    "    def move(self):\n",
    "        print(\"I can fly\")\n",
    "\n",
    "class Cat(Animal):\n",
    "    def move(self):\n",
    "        print(\"I can run\")\n",
    "\n",
    "a = Bird()\n",
    "a.move()"
   ]
  },
  {
   "cell_type": "code",
   "execution_count": 4,
   "id": "4c27d694",
   "metadata": {},
   "outputs": [
    {
     "name": "stdout",
     "output_type": "stream",
     "text": [
      "A is doing this\n"
     ]
    }
   ],
   "source": [
    "class A():\n",
    "    def do_this(self):\n",
    "        print(\"A is doing this\")\n",
    "\n",
    "class B(A):\n",
    "    pass\n",
    "\n",
    "class C():\n",
    "    def do_this(self):\n",
    "        print(\"C is doing this\")\n",
    "\n",
    "class D(B, C):\n",
    "    pass\n",
    "\n",
    "d = D()\n",
    "x = d.do_this()"
   ]
  },
  {
   "cell_type": "code",
   "execution_count": 5,
   "id": "398c9abe",
   "metadata": {},
   "outputs": [
    {
     "name": "stdout",
     "output_type": "stream",
     "text": [
      "Generated password: CaiA$2JkpW\n"
     ]
    }
   ],
   "source": [
    "import random\n",
    "class password_generator:\n",
    "    def __init__(self, length):\n",
    "        self.length = length\n",
    "\n",
    "    def generate(self):\n",
    "        characters = \"abcdefghijklmnopqrstuvwxyzABCDEFGHIJKLMNOPQRSTUVWXYZ0123456789!@#$%^&*()\"\n",
    "        password = \"\"\n",
    "\n",
    "        for _ in range(self.length):\n",
    "            password += random.choice(characters)\n",
    "        return password\n",
    "    \n",
    "if __name__ == \"__main__\":\n",
    "    p1 = password_generator(10)  # Create an instance with desired length\n",
    "    p1.generate()  # Generate the password\n",
    "    print(f\"Generated password: {p1.generate()}\")  # Print the generated password\n",
    "\n",
    "\n",
    "\n"
   ]
  },
  {
   "cell_type": "code",
   "execution_count": 6,
   "id": "86a06c6d",
   "metadata": {},
   "outputs": [
    {
     "name": "stdout",
     "output_type": "stream",
     "text": [
      "Welcome: 1\n",
      "Ali: 4\n",
      "Hi: 2\n",
      "No: 3\n"
     ]
    }
   ],
   "source": [
    "class WordFrequencyCounter:\n",
    "\n",
    "    def __init__(self, words):\n",
    "    \n",
    "        self.words = words\n",
    "\n",
    "    def count_frequencies(self):\n",
    "    \n",
    "        freq_dict = {}\n",
    "        for word in self.words:\n",
    "            if word in freq_dict:\n",
    "                freq_dict[word] += 1\n",
    "            else:\n",
    "                freq_dict[word] = 1\n",
    "        return freq_dict\n",
    "if __name__ == \"__main__\":\n",
    "    \n",
    "    words = [\"Welcome\", \"Ali\", \"Hi\", \"Ali\", \"No\", \"Hi\", \"No\", \"Ali\", \"No\", \"Ali\"]\n",
    "    \n",
    "    counter = WordFrequencyCounter(words)\n",
    "    result = counter.count_frequencies()\n",
    "\n",
    "    for word, count in result.items():\n",
    "        print(f\"{word}: {count}\")"
   ]
  },
  {
   "cell_type": "code",
   "execution_count": 7,
   "id": "17006fb9",
   "metadata": {},
   "outputs": [
    {
     "name": "stdout",
     "output_type": "stream",
     "text": [
      "No: 3\n",
      "Ali: 4\n",
      "Hi: 2\n",
      "Welcome: 1\n"
     ]
    }
   ],
   "source": [
    "def count_word_frequencies(words):\n",
    "    freq_dict = {}\n",
    "    for word in words:\n",
    "        if word in freq_dict:\n",
    "            freq_dict[word] += 1\n",
    "        else:\n",
    "            freq_dict[word] = 1\n",
    "    return freq_dict\n",
    "\n",
    "words = [\"Welcome\", \"Ali\", \"Hi\", \"Ali\", \"No\", \"Hi\", \"No\", \"Ali\", \"No\", \"Ali\"]\n",
    "unique_words = set(words)\n",
    "counts = {word: words.count(word) for word in unique_words}\n",
    "for word in unique_words:\n",
    "    print(f\"{word}: {counts[word]}\")\n",
    "\n",
    "\n"
   ]
  },
  {
   "cell_type": "code",
   "execution_count": 8,
   "id": "0fa69cdf",
   "metadata": {},
   "outputs": [
    {
     "name": "stdout",
     "output_type": "stream",
     "text": [
      "Ali: 4\n",
      "Hi: 2\n",
      "No: 3\n",
      "Welcome: 1\n"
     ]
    }
   ],
   "source": [
    "\n",
    "def count_word_frequencies(words):\n",
    "\n",
    "    freq_dict = {}\n",
    "    for word in words:\n",
    "        freq_dict[word] = freq_dict.get(word, 0) + 1\n",
    "    return freq_dict\n",
    "\n",
    "words = [\"Welcome\", \"Ali\", \"Hi\", \"Ali\", \"No\", \"Hi\", \"No\", \"Ali\", \"No\", \"Ali\"]\n",
    "\n",
    "counts = count_word_frequencies(words)\n",
    "\n",
    "for word in sorted(counts):\n",
    "    print(f\"{word}: {counts[word]}\")"
   ]
  },
  {
   "cell_type": "code",
   "execution_count": 9,
   "id": "acd70680",
   "metadata": {},
   "outputs": [
    {
     "name": "stdout",
     "output_type": "stream",
     "text": [
      "Ali: 4\n",
      "Hi: 2\n",
      "No: 3\n",
      "Welcome: 1\n"
     ]
    }
   ],
   "source": [
    "class WordFrequencies:\n",
    "    def __init__(self, words):\n",
    "        self.words = words\n",
    "\n",
    "    def count_word_frequencies(self):\n",
    "        freq_dict = {}\n",
    "        for word in self.words:\n",
    "            freq_dict[word] = freq_dict.get(word, 0) + 1\n",
    "        return freq_dict\n",
    "\n",
    "    def display_frequencies(self):\n",
    "        counts = self.count_word_frequencies()\n",
    "        for word in sorted(counts):\n",
    "            print(f\"{word}: {counts[word]}\")\n",
    "\n",
    "if __name__ == \"__main__\":\n",
    "    words = [\"Welcome\", \"Ali\", \"Hi\", \"Ali\", \"No\", \"Hi\", \"No\", \"Ali\", \"No\", \"Ali\"]\n",
    "    wf = WordFrequencies(words)\n",
    "    wf.display_frequencies()\n"
   ]
  },
  {
   "cell_type": "code",
   "execution_count": null,
   "id": "535f8398",
   "metadata": {},
   "outputs": [
    {
     "name": "stdout",
     "output_type": "stream",
     "text": [
      "Chatbot: Hi! How can I assist you today?\n"
     ]
    }
   ],
   "source": [
    "import random\n",
    "\n",
    "# Predefined responses\n",
    "responses = {\n",
    "    \"hello\": [\"Hello!\", \"Hi there!\", \"Greetings!\"],\n",
    "    \"how are you\": [\"I'm doing well, thank you!\", \"I'm fine, how about you?\"],\n",
    "    \"goodbye\": [\"Goodbye!\", \"See you later!\", \"Farewell!\"],\n",
    "    \"default\": [\"I'm sorry, I didn't understand.\", \"Could you please rephrase that?\"]\n",
    "}\n",
    "\n",
    "# Function to get a response based on user input\n",
    "def get_response(user_input):\n",
    "    for key in responses:\n",
    "        if key in user_input:\n",
    "            return random.choice(responses[key])\n",
    "    \n",
    "    return random.choice(responses[\"default\"])\n",
    "\n",
    "# Chatbot function\n",
    "def chatbot():\n",
    "    print(\"Chatbot: Hi! How can I assist you today?\")\n",
    "    \n",
    "    while True:\n",
    "        user_input = input(\"User: \").lower()\n",
    "        response = get_response(user_input)\n",
    "        print(\"Chatbot:\", response)\n",
    "        \n",
    "        if user_input == \"goodbye\":\n",
    "            break\n",
    "\n",
    "# Run the chatbot\n",
    "chatbot()"
   ]
  },
  {
   "cell_type": "code",
   "execution_count": null,
   "id": "a9894ba4",
   "metadata": {},
   "outputs": [],
   "source": [
    "import random\n",
    "\n",
    "class ChatBot:\n",
    "    def __init__(self):\n",
    "        self.responses = {\n",
    "            \"hello\": [\"Hello!\", \"Hi there!\", \"Greetings!\"],\n",
    "            \"how are you\": [\"I'm good, thanks!\", \"Doing well, and you?\"],\n",
    "            \"goodbye\": [\"Goodbye!\", \"See you!\", \"Take care!\"],\n",
    "            \"default\": [\"I didn't get that.\", \"Could you repeat it?\"]\n",
    "        }\n",
    "\n",
    "    def get_response(self, user_input):\n",
    "        user_input = user_input.lower()\n",
    "        for key in self.responses:\n",
    "            if key in user_input:\n",
    "                return random.choice(self.responses[key])\n",
    "        return random.choice(self.responses[\"default\"])\n",
    "\n",
    "    def start(self):\n",
    "        print(\"Chatbot: Hello! Type 'goodbye' to exit.\")\n",
    "        while True:\n",
    "            user_input = input(\"You: \")\n",
    "            response = self.get_response(user_input)\n",
    "            print(\"Chatbot:\", response)\n",
    "            if \"goodbye\" in user_input.lower():\n",
    "                break\n",
    "\n",
    "\n",
    "bot = ChatBot()\n",
    "bot.start()\n"
   ]
  },
  {
   "cell_type": "code",
   "execution_count": null,
   "id": "a140bd01",
   "metadata": {},
   "outputs": [],
   "source": [
    "import numpy as np\n",
    "\n",
    "# Example usage of numpy\n",
    "v1 = np.array([1, 2, 3])\n",
    "v2 = np.array([4, 5, 6])\n",
    "print(v1)\n",
    "print(v2)\n"
   ]
  },
  {
   "cell_type": "code",
   "execution_count": null,
   "id": "2182adc2",
   "metadata": {},
   "outputs": [],
   "source": [
    "list_1 = [1, 2, 3] \n",
    "print(type(list_1)) # check type of list_1\n",
    "# Convert list_1 to a numpy array\n",
    "x = np.array(list_1) \n",
    "print(type(x))"
   ]
  },
  {
   "cell_type": "code",
   "execution_count": null,
   "id": "cc6c2137",
   "metadata": {},
   "outputs": [],
   "source": [
    "v1 = np.array([1, 2, 3])\n",
    "v2 = np.array([4, 5, 6])\n",
    "w= v1 * v2  # Add two numpy arrays\n",
    "print(w)  # Print the result of the addition\n"
   ]
  },
  {
   "cell_type": "code",
   "execution_count": null,
   "id": "f6bc6a9f",
   "metadata": {},
   "outputs": [],
   "source": [
    "import numpy as np"
   ]
  },
  {
   "cell_type": "code",
   "execution_count": null,
   "id": "4688e7c4",
   "metadata": {},
   "outputs": [],
   "source": [
    "s= np.array(5)  # Create a numpy array with a single element\n",
    "print (type(s))  # Check the type of the numpy array\n",
    "print(\"D\", s.ndim)  # Print the number of dimensions\n",
    "print(s)  # Print the numpy array"
   ]
  },
  {
   "cell_type": "code",
   "execution_count": null,
   "id": "2c6b8c25",
   "metadata": {},
   "outputs": [],
   "source": [
    "v= np.array([1, 2, 3])\n",
    "print(type(v))  # Check the type of the numpy array\n",
    "print(v.shape)  # Print the shape of the numpy array\n",
    "v"
   ]
  },
  {
   "cell_type": "code",
   "execution_count": null,
   "id": "a9b93473",
   "metadata": {},
   "outputs": [],
   "source": [
    "m= np.array([[1, 2, 3],\n",
    "            [4, 5, 6]\n",
    "            ])\n",
    "print(type(m))  # Check the type of the numpy array\n",
    "print(m.ndim , \"D\")  # Print the number of dimensions\n",
    "print(m.shape)  # Print the shape of the numpy array\n",
    "print(m)  # Print the numpy array"
   ]
  },
  {
   "cell_type": "code",
   "execution_count": null,
   "id": "d1a16747",
   "metadata": {},
   "outputs": [],
   "source": [
    "vec_1 = np.array([1, 2, 3, 4 ,5 , 6])  \n",
    "matrix_1 = vec_1.reshape(3,2)  # Reshape the vector into a 2x3 matrix\n",
    "print(matrix_1)  # Print the reshaped matrix\n",
    "print(type(matrix_1))  # Check the type of the reshaped matrix"
   ]
  },
  {
   "cell_type": "code",
   "execution_count": null,
   "id": "9bdfd517",
   "metadata": {},
   "outputs": [],
   "source": [
    "vec_2 = np.array([1, 2, 3, 4 ,5 ])\n",
    "matrix_3 = vec_2.reshape(vec_2.shape[0],1)  \n",
    "print(matrix_3)  "
   ]
  },
  {
   "cell_type": "code",
   "execution_count": null,
   "id": "45ef9ab8",
   "metadata": {},
   "outputs": [],
   "source": [
    "vec_2 = np.array([1, 2, 3, 4 ,5 ])\n",
    "#matrix_3 = vec_2.reshape(vec_2.shape[0],1)  \n",
    "matrix_4 = vec_2[:, None]  # Reshape the vector into a column vector\n",
    "print(matrix_4) "
   ]
  },
  {
   "cell_type": "code",
   "execution_count": null,
   "id": "ef21b73c",
   "metadata": {},
   "outputs": [],
   "source": [
    "m_1 = np.array([[1, 2, 3],\n",
    "                [4, 5, 6],\n",
    "                [7,8,9]\n",
    "                ])\n",
    "\n",
    "print(m_1.dtype)  # Check the type of the numpy array"
   ]
  },
  {
   "cell_type": "code",
   "execution_count": null,
   "id": "0d04033f",
   "metadata": {},
   "outputs": [],
   "source": [
    "m_1 = np.array([[1, True, 3],\n",
    "                [4, 5, 6],\n",
    "                [7,8,9]\n",
    "                ])\n",
    "\n",
    "print(m_1.dtype)  # Check the type of the numpy array"
   ]
  },
  {
   "cell_type": "code",
   "execution_count": null,
   "id": "6ea04938",
   "metadata": {},
   "outputs": [],
   "source": [
    "class student:\n",
    "    def __init__(self, name):\n",
    "        self.name = name\n",
    "\n",
    "s = student(\"Mohamed Gamal\")\n",
    "m_1 = np.array([[1, True, s.name],\n",
    "                [4, 5, 6],\n",
    "                [7,8,9]\n",
    "                ])\n",
    "\n",
    "print(m_1.dtype) \n",
    "print(m_1)  # Print the numpy array with mixed data types\n"
   ]
  },
  {
   "cell_type": "code",
   "execution_count": null,
   "id": "857b06d8",
   "metadata": {},
   "outputs": [],
   "source": [
    "m = np.array([[1, 2, 3],\n",
    "        [4, 5, 6],\n",
    "        [7, 8, 9],\n",
    "        [0,0,0]\n",
    "        ])  # indexing example [1 ,2 , 3] = index 0 \n",
    "\n",
    "m[1,2]"
   ]
  },
  {
   "cell_type": "code",
   "execution_count": null,
   "id": "9222607e",
   "metadata": {},
   "outputs": [],
   "source": [
    "m = np.array([[1, 2, 3],\n",
    "        [4, 5, 6],\n",
    "        [7, 8, 9],\n",
    "        [0,0,0]\n",
    "        ])  # indexing example [1 ,2 , 3] = index 0 \n",
    "\n",
    "m[1,-2]"
   ]
  },
  {
   "cell_type": "code",
   "execution_count": null,
   "id": "27800987",
   "metadata": {},
   "outputs": [],
   "source": [
    "v_3 = np.array([3,2,5,1,2,3,0])\n",
    "v_3[2:6]  # Slicing the array to get elements from index 2 to 4"
   ]
  },
  {
   "cell_type": "code",
   "execution_count": null,
   "id": "27d6bbef",
   "metadata": {},
   "outputs": [],
   "source": [
    "m = np.array([[1, 2, 3],\n",
    "        [4, 5, 6],\n",
    "        [7, 8, 9],\n",
    "        [0,0,0]\n",
    "        ])\n",
    "\n",
    "m[1:3 , 0:2]  # Slicing the array to get rows 1 to 2 and columns 0 to 1"
   ]
  },
  {
   "cell_type": "code",
   "execution_count": null,
   "id": "6f9c643e",
   "metadata": {},
   "outputs": [],
   "source": [
    "m = np.array([[1, 2, 3],\n",
    "        [4, 5, 6],\n",
    "        [7, 8, 9],\n",
    "        [0,0,0]\n",
    "        ])\n",
    "\n",
    "m[-3:-1 , -3:-1]  # Slicing the array to get rows 1 to 2 and columns 0 to 1"
   ]
  },
  {
   "cell_type": "code",
   "execution_count": null,
   "id": "68370b9d",
   "metadata": {},
   "outputs": [],
   "source": [
    "m = np.array([[1, 2, 3],\n",
    "        [4, 5, 6],\n",
    "        [7, 8, 9],\n",
    "        [0,0,0]\n",
    "        ])\n",
    "\n",
    "mat_t = m.T  # Transpose the matrix\n",
    "print(mat_t)  # Print the transposed matrix"
   ]
  },
  {
   "cell_type": "code",
   "execution_count": null,
   "id": "ef5640d3",
   "metadata": {},
   "outputs": [],
   "source": [
    "mat = np.zeros((3, 4))  # Create a 2x3 matrix filled with zeros\n",
    "mat"
   ]
  },
  {
   "cell_type": "code",
   "execution_count": null,
   "id": "c61c0c2e",
   "metadata": {},
   "outputs": [],
   "source": [
    "mat = np.ones((3, 4))  # Create a 2x3 matrix filled with zeros\n",
    "mat"
   ]
  },
  {
   "cell_type": "code",
   "execution_count": null,
   "id": "7900c577",
   "metadata": {},
   "outputs": [],
   "source": [
    "mat = np.full((3, 4), 5)  # Create a 3*4 matrix filled with fives\n",
    "print(mat)  # Print the matrix filled with fives"
   ]
  },
  {
   "cell_type": "code",
   "execution_count": null,
   "id": "129603bd",
   "metadata": {},
   "outputs": [],
   "source": [
    "mat = np.empty((3, 4))  # Create an empty matrix with shape 3x4\n",
    "print(mat)  # Print the empty matrix"
   ]
  },
  {
   "cell_type": "code",
   "execution_count": null,
   "id": "3b3c5be9",
   "metadata": {},
   "outputs": [],
   "source": [
    "angles = np.arange(0,361,30)  # Create a numpy array with angles\n",
    "print(angles)  # Print the numpy array with angles"
   ]
  },
  {
   "cell_type": "code",
   "execution_count": null,
   "id": "e2b8be63",
   "metadata": {},
   "outputs": [],
   "source": [
    "vec = np.linspace(0, 10, num = 10)  # Create a numpy array with evenly spaced values\n",
    "print(vec)  # Print the numpy array with evenly spaced values"
   ]
  },
  {
   "cell_type": "code",
   "execution_count": null,
   "id": "b651ad77",
   "metadata": {},
   "outputs": [],
   "source": [
    "iden = np. identity(3,)      # Create a 3x3 identity matrix\n",
    "print(iden)  # Print the identity matrix"
   ]
  },
  {
   "cell_type": "code",
   "execution_count": null,
   "id": "306b10c0",
   "metadata": {},
   "outputs": [],
   "source": [
    "vec = np.linspace(0, 10, num = 25)  # Create a numpy array with evenly spaced values\n",
    "mat = vec.reshape(5, 5)  # Reshape the vector into a 5x5 matrix\n",
    "print(mat)  # Print the numpy array with evenly spaced values"
   ]
  },
  {
   "cell_type": "code",
   "execution_count": null,
   "id": "96986e93",
   "metadata": {},
   "outputs": [],
   "source": [
    "np. random.random((3, 4))  # Create a 3x4 matrix with random values\n",
    "print(np.random.random((3, 4)))  # Print the random matrix"
   ]
  },
  {
   "cell_type": "code",
   "execution_count": null,
   "id": "5dd2abcd",
   "metadata": {},
   "outputs": [],
   "source": [
    "import numpy as np"
   ]
  },
  {
   "cell_type": "code",
   "execution_count": null,
   "id": "9fc44010",
   "metadata": {},
   "outputs": [],
   "source": [
    "mat_1 = np.ones((3, 4))  # Create a 3x4 matrix filled with ones\n",
    "print(mat_1)  # Print the matrix filled with ones   \n",
    "mat_2 = np.zeros((4, 4))  # Create another 3x4 matrix filled with ones\n",
    "print(mat_2)  # Print the second matrix filled with ones\n",
    "\n",
    "np.savez(\"C:/Users/Mgama/Ai_Amit_Diploma/images.npz\" , ones_mat = mat_1 , zeros_mat = mat_2)  # Save the matrices to a .npz file"
   ]
  },
  {
   "cell_type": "code",
   "execution_count": null,
   "id": "50cc4bf5",
   "metadata": {},
   "outputs": [],
   "source": [
    "with np.load(\"C:/Users/Mgama/Ai_Amit_Diploma/images.npz\") as file:  # Load the saved matrices from the .npz file\n",
    "    mat_1 = file['ones_mat']  # Access the matrix filled with ones\n",
    "    mat_2 = file['zeros_mat']  # Access the matrix filled with zeros\n",
    "    print(mat_1)  # Print the loaded matrix filled with ones\n",
    "    print(mat_2)  # Print the loaded matrix filled with zeros"
   ]
  },
  {
   "cell_type": "code",
   "execution_count": null,
   "id": "720e6ca9",
   "metadata": {},
   "outputs": [],
   "source": [
    "m_1 = np.array([[1, 2, 3],\n",
    "                [0, 0, 0]])\n",
    "m_2 = np.array([[4, 5, 6],\n",
    "                [1, 1, 1]])\n",
    "\n",
    "v_mat = np.vstack((m_1, m_2))  # Stack the two matrices vertically\n",
    "print(v_mat)  # Print the vertically stacked matrix"
   ]
  },
  {
   "cell_type": "code",
   "execution_count": null,
   "id": "8ffff986",
   "metadata": {},
   "outputs": [],
   "source": [
    "m_1 = np.array([[1, 2, 3],\n",
    "                [0, 0, 0]])\n",
    "m_2 = np.array([[4, 5, 6],\n",
    "                [1, 1, 1]])\n",
    "\n",
    "v_mat = np.hstack((m_1, m_2))  # Stack the two matrices vertically\n",
    "print(v_mat)  # Print the vertically stacked matrix"
   ]
  },
  {
   "cell_type": "code",
   "execution_count": null,
   "id": "828d830f",
   "metadata": {},
   "outputs": [],
   "source": [
    "s = 4\n",
    "v= np.array([1, 2, 3, 4, 5])  # Create a numpy array with values from 1 to 5\n",
    "v == s  # Check if the elements of the array are equal to 4"
   ]
  },
  {
   "cell_type": "code",
   "execution_count": null,
   "id": "7d914260",
   "metadata": {},
   "outputs": [],
   "source": [
    "v1 = np.array([1, 3, 3])\n",
    "v2 = np.array([4, 3, 4])\n",
    "v1 == v2  # Check if the two arrays are equal element-wise"
   ]
  },
  {
   "cell_type": "code",
   "execution_count": null,
   "id": "ce01e779",
   "metadata": {},
   "outputs": [],
   "source": [
    "m_1 = np.array([[1, 2, 3],\n",
    "                [0, 0, 0]])\n",
    "m_2 = np.array([[4, 2, 6],\n",
    "                [1, 0, 1]])\n",
    "m_1 == m_2  # Check if the two matrices are equal element-wise"
   ]
  },
  {
   "cell_type": "code",
   "execution_count": null,
   "id": "2aef4353",
   "metadata": {},
   "outputs": [],
   "source": [
    "v = np.array([1, 2, 3, 4, 5])\n",
    "np.all(v>1)  # Check if all elements of the array are greater than 1\n"
   ]
  },
  {
   "cell_type": "code",
   "execution_count": null,
   "id": "a0434a28",
   "metadata": {},
   "outputs": [],
   "source": [
    "v = np.array([1, 2, 3, 4, 5])\n",
    "np.any(v>1)  # Check if any elements of the array are greater than 1"
   ]
  },
  {
   "cell_type": "code",
   "execution_count": null,
   "id": "df8169f9",
   "metadata": {},
   "outputs": [],
   "source": [
    "v1 = np.array([1, 2, 1 ,4, 5])\n",
    "v2 = np.array([2, 4, 0 ,6, 3])\n",
    "np.isclose(v1, v2 , atol= 1)  # Check if the two arrays are close to each other element-wise"
   ]
  },
  {
   "cell_type": "code",
   "execution_count": null,
   "id": "cd6ff9cf",
   "metadata": {},
   "outputs": [],
   "source": [
    "v1 = np.array([1, 2, 1 ,1, 1])\n",
    "v2 = np.array([1, 1, 1 ,1, 1])\n",
    "np.allclose(v1, v2 , atol= 1)  # Check if the two arrays are close to each other element-wise"
   ]
  },
  {
   "cell_type": "code",
   "execution_count": null,
   "id": "b5691d24",
   "metadata": {},
   "outputs": [],
   "source": [
    "v = np.array([1, 2, 3, 4, 5])\n",
    "condition = v >= 4\n",
    "print(condition)  # Print the boolean array where elements are greater than or equal to 4"
   ]
  },
  {
   "cell_type": "code",
   "execution_count": null,
   "id": "45168a3e",
   "metadata": {},
   "outputs": [],
   "source": [
    "v = np.array([1, 2, 3, 4, 5])\n",
    "condition = v >= 4\n",
    "print (condition)  # Print the boolean array where elements are greater than or equal to 4\n",
    "condition_access = v[condition]  # Access the elements of the array that satisfy the condition\n",
    "print(condition_access)  # Print the elements of the array that satisfy the condition"
   ]
  },
  {
   "cell_type": "code",
   "execution_count": null,
   "id": "520cb4f0",
   "metadata": {},
   "outputs": [],
   "source": [
    "v = np.array([1, 2, 3, 4, 5])\n",
    "condition = v >= 4\n",
    "print (condition)  # Print the boolean array where elements are greater than or equal to 4\n",
    "v[condition]  = -1 # \n",
    "print (v)  # Print the modified array where elements greater than or equal to 4 are set to -1"
   ]
  },
  {
   "cell_type": "code",
   "execution_count": null,
   "id": "a98e1043",
   "metadata": {},
   "outputs": [],
   "source": [
    "v = np.array([1, 2, 3, 4, 5])\n",
    "condition = v >= 4\n",
    "n_condition = np.where(condition, -1, v)  # Set elements greater than or equal to 4 to -1\n",
    "print(n_condition)  # Print the modified array where elements greater than or equal to 4"
   ]
  },
  {
   "cell_type": "code",
   "execution_count": null,
   "id": "4bf9d687",
   "metadata": {},
   "outputs": [],
   "source": [
    "pip install pandas # Install pandas library"
   ]
  },
  {
   "cell_type": "code",
   "execution_count": null,
   "id": "813773ac",
   "metadata": {},
   "outputs": [],
   "source": [
    "import pandas as pd  # Import pandas library\n"
   ]
  },
  {
   "cell_type": "code",
   "execution_count": null,
   "id": "37bb90a9",
   "metadata": {},
   "outputs": [],
   "source": [
    "s = pd.Series([1, 2, 3, 4])  # Create a pandas Series with values from 1 to 5\n",
    "\n",
    "print(s)  # Print the pandas Series"
   ]
  },
  {
   "cell_type": "code",
   "execution_count": null,
   "id": "e9bd1032",
   "metadata": {},
   "outputs": [],
   "source": [
    "s = pd.Series([1, 2, 3, 4], index=[\"A\",\"b\", \"c\",\"D\"]) # create a pandas Series with custom index\n",
    "print(s)  # Print the pandas Series with custom index"
   ]
  },
  {
   "cell_type": "code",
   "execution_count": null,
   "id": "bca618e4",
   "metadata": {},
   "outputs": [],
   "source": [
    "data_1 = [[1,111,'Ahmed'],\n",
    "            [2,222,'Ali'],\n",
    "            [3,333,'Mohamed'],\n",
    "            [4,444,'Gamal']\n",
    "            ]\n",
    "\n",
    "type(data_1)  # Check the type of data_1, which should be a list of lists\n",
    "df = pd.DataFrame(data_1, columns=[\"Index\", \"ID\", \"Name\"])  # Create a pandas DataFrame from the list of lists\n",
    "print(df)  # Print the pandas DataFrame"
   ]
  },
  {
   "cell_type": "code",
   "execution_count": null,
   "id": "bb8c10ee",
   "metadata": {},
   "outputs": [],
   "source": [
    "data_2 ={\"s1\" : [10 ,11, 17, 9],\n",
    "            \"s2\" : [10 ,12, 15, 10],\n",
    "            \"s3\" : ['math', 'science', 'english', \"arabic\"]}\n",
    "df2 = pd.DataFrame(data_2)  # Create a pandas DataFrame from the dictionary\n",
    "print(df2)  # Print the pandas DataFrame created from the dictionary"
   ]
  },
  {
   "cell_type": "code",
   "execution_count": null,
   "id": "d724f259",
   "metadata": {},
   "outputs": [],
   "source": [
    "display(df2)  # Display the DataFrame in a Jupyter Notebook or similar environment"
   ]
  },
  {
   "cell_type": "code",
   "execution_count": null,
   "id": "ceee5b0c",
   "metadata": {},
   "outputs": [],
   "source": [
    "class name :\n",
    "    def __init__(self, name: str):\n",
    "        self.name = name\n",
    "\n",
    "    @property\n",
    "    def info(self):\n",
    "        \"\"\"Return the name of the instance.\"\"\"\n",
    "        return self.name  # Return the name of the instance"
   ]
  },
  {
   "cell_type": "code",
   "execution_count": null,
   "id": "fb88b8ab",
   "metadata": {},
   "outputs": [],
   "source": [
    "name = name(\"Mohamed Gamal\")  # Create an instance of the class with a name\n",
    "print(name.info)  # Print the name of the instance using the info property"
   ]
  },
  {
   "cell_type": "code",
   "execution_count": null,
   "id": "5f7a2464",
   "metadata": {},
   "outputs": [],
   "source": [
    "data_1 = [[1,111,'Ahmed'],\n",
    "            [2,222,'Ali'],\n",
    "            [3,333,'Mohamed'],\n",
    "            [4,444,'Gamal']\n",
    "            ]\n",
    "\n",
    "df = pd.DataFrame(data_1, columns=[\"Index\", \"ID\", \"Name\"])  # Create a pandas DataFrame from the list of lists\n",
    "df[\"ID\"]"
   ]
  },
  {
   "cell_type": "code",
   "execution_count": null,
   "id": "b60deb8f",
   "metadata": {},
   "outputs": [],
   "source": [
    "data_1 = [[1,111,'Ahmed'],\n",
    "            [2,222,'Ali'],\n",
    "            [3,333,'Mohamed'],\n",
    "            [4,444,'Gamal']\n",
    "            ]\n",
    "\n",
    "df = pd.DataFrame(data_1, columns=[\"Index\", \"ID\", \"Name\"])  # Create a pandas DataFrame from the list of lists\n",
    "df['Name'] = df['Name'].astype(\"category\")  # Convert the 'Name' column to cataegory type\n",
    "df.dtypes"
   ]
  },
  {
   "cell_type": "code",
   "execution_count": null,
   "id": "de0656bb",
   "metadata": {},
   "outputs": [],
   "source": [
    "# EDA Exploratory data analysis\n",
    "df.head()  # Display the first few rows of the DataFrame"
   ]
  },
  {
   "cell_type": "code",
   "execution_count": null,
   "id": "2199dbb4",
   "metadata": {},
   "outputs": [],
   "source": [
    "df.tail(1)  # Display the last few rows of the DataFrame "
   ]
  },
  {
   "cell_type": "code",
   "execution_count": null,
   "id": "7a1be8de",
   "metadata": {},
   "outputs": [],
   "source": [
    "df.describe()  # Display summary statistics of the DataFrame"
   ]
  },
  {
   "cell_type": "code",
   "execution_count": null,
   "id": "69205793",
   "metadata": {},
   "outputs": [],
   "source": [
    "df.describe(include='category')  # Display summary statistics of the DataFrame including all data types"
   ]
  },
  {
   "cell_type": "code",
   "execution_count": null,
   "id": "fd9d425b",
   "metadata": {},
   "outputs": [],
   "source": [
    "df.columns  # Display the columns of the DataFrame"
   ]
  },
  {
   "cell_type": "code",
   "execution_count": null,
   "id": "8d7f7bbd",
   "metadata": {},
   "outputs": [],
   "source": [
    "df['Name'].unique()  # Display unique values in the 'Name' column"
   ]
  },
  {
   "cell_type": "code",
   "execution_count": null,
   "id": "a6332ac4",
   "metadata": {},
   "outputs": [],
   "source": [
    "df['ID'].max()  # Display the maximum value in the 'ID' column"
   ]
  },
  {
   "cell_type": "code",
   "execution_count": null,
   "id": "92321d95",
   "metadata": {},
   "outputs": [],
   "source": [
    "df['ID'].min()  # Display the min value in the 'ID' column"
   ]
  },
  {
   "cell_type": "code",
   "execution_count": null,
   "id": "cb6ffc0f",
   "metadata": {},
   "outputs": [],
   "source": [
    "df['ID'].idxmin()"
   ]
  },
  {
   "cell_type": "code",
   "execution_count": null,
   "id": "eb59b611",
   "metadata": {},
   "outputs": [],
   "source": [
    "df.info()  # Display information about the DataFrame including data types and non-null counts"
   ]
  },
  {
   "cell_type": "code",
   "execution_count": null,
   "id": "a98fe8cf",
   "metadata": {},
   "outputs": [],
   "source": [
    "d = df[\"ID\"].value_counts()  # Count the occurrences of each value in the 'ID' column\n",
    "d  # Display the value counts of the 'ID' column"
   ]
  },
  {
   "cell_type": "code",
   "execution_count": null,
   "id": "d0cff31d",
   "metadata": {},
   "outputs": [],
   "source": [
    "d = df[\"ID\"].sum()  # sum the values in the 'ID' column\n",
    "d  # Display the value counts of the 'ID' column"
   ]
  },
  {
   "cell_type": "code",
   "execution_count": null,
   "id": "251adef6",
   "metadata": {},
   "outputs": [],
   "source": [
    "df.values  # Display the values of the DataFrame"
   ]
  },
  {
   "cell_type": "code",
   "execution_count": null,
   "id": "9aa4c1e3",
   "metadata": {},
   "outputs": [],
   "source": [
    "df.replace(111, 'Jimmy')  # Replace the value 111 with 'Jimmy' in the DataFrame"
   ]
  },
  {
   "cell_type": "code",
   "execution_count": null,
   "id": "5fd13601",
   "metadata": {},
   "outputs": [],
   "source": [
    "df.replace({333:\"Youssef\" , 444 : \"Ahmed\"})  # Replace multiple values in the DataFrame"
   ]
  },
  {
   "cell_type": "code",
   "execution_count": null,
   "id": "c7c65fc5",
   "metadata": {},
   "outputs": [],
   "source": [
    "df"
   ]
  },
  {
   "cell_type": "code",
   "execution_count": null,
   "id": "e7fbfeef",
   "metadata": {},
   "outputs": [],
   "source": [
    "def duplicate(x):\n",
    "    \"\"\"Function to duplicate a value.\"\"\"\n",
    "    return x * 2  # Return the duplicated value\n",
    "df['Index'].apply(duplicate)  # Apply the duplicate function to the 'ID' column"
   ]
  },
  {
   "cell_type": "code",
   "execution_count": null,
   "id": "f5ba71c9",
   "metadata": {},
   "outputs": [],
   "source": [
    "def duplicate(x):\n",
    "    \"\"\"Function to duplicate a value.\"\"\"\n",
    "    return x * 2  # Return the duplicated value\n",
    "df['Index'].apply(lambda x :x*2)  # Apply a lambda function to duplicate the values in the 'ID' column"
   ]
  },
  {
   "cell_type": "code",
   "execution_count": null,
   "id": "1740564f",
   "metadata": {},
   "outputs": [],
   "source": [
    "df.ID.iloc[0]  # Access the first element of the 'ID' column using iloc"
   ]
  },
  {
   "cell_type": "code",
   "execution_count": null,
   "id": "2d0d8dea",
   "metadata": {},
   "outputs": [],
   "source": [
    "df"
   ]
  },
  {
   "cell_type": "code",
   "execution_count": null,
   "id": "22bab7a2",
   "metadata": {},
   "outputs": [],
   "source": [
    "df.iloc[:,0:3]  # Access the first element of the 'ID' column using iloc "
   ]
  },
  {
   "cell_type": "code",
   "execution_count": null,
   "id": "b4289a19",
   "metadata": {},
   "outputs": [],
   "source": [
    "T = df.iloc[:,0:2]  # Access the first column of the DataFrame using iloc\n",
    "O = df.iloc[:,2:3]  # Access the second column of the DataFrame using iloc\n",
    "print(T)  # Print the first column of the DataFrame\n",
    "print(O)  # Print the second column of the DataFrame"
   ]
  },
  {
   "cell_type": "code",
   "execution_count": null,
   "id": "98b3d5a7",
   "metadata": {},
   "outputs": [],
   "source": [
    "data_1 = [[1,111,'Ahmed'],\n",
    "            [2,222,'Ali'],\n",
    "            [3,333,'Mohamed'],\n",
    "            [4,444,'Gamal']\n",
    "            ]\n",
    "\n",
    "df = pd.DataFrame(data_1, columns=[\"Index\", \"ID\", \"Name\"])  # Create a pandas DataFrame from the list of lists\n",
    "df['Name'] = df['Name'].astype(\"category\")  # Convert the 'Name' column to cataegory type\n",
    "new_co = df.Index + df.ID\n",
    "new_co  # Display the new column created by assigning 'ID' to 'Index'"
   ]
  },
  {
   "cell_type": "code",
   "execution_count": null,
   "id": "b95a5671",
   "metadata": {},
   "outputs": [],
   "source": [
    "data_1 = [[1,111,'Ahmed'],\n",
    "            [2,222,'Ali'],\n",
    "            [3,333,'Mohamed'],\n",
    "            [4,444,'Gamal']\n",
    "            ]\n",
    "\n",
    "df = pd.DataFrame(data_1, columns=[\"Index\", \"ID\", \"Name\"])  # Create a pandas DataFrame from the list of lists\n",
    "df['Name'] = df['Name'].astype(\"category\")  # Convert the 'Name' column to cataegory type\n",
    "df"
   ]
  },
  {
   "cell_type": "code",
   "execution_count": null,
   "id": "0ed8e876",
   "metadata": {},
   "outputs": [],
   "source": [
    "new_co = df.Index + df.ID  # Create a new column by adding 'Index' and 'ID'\n",
    "new_co  # Display the new column created by assigning 'ID' to 'Index'"
   ]
  },
  {
   "cell_type": "code",
   "execution_count": null,
   "id": "8d65e42d",
   "metadata": {},
   "outputs": [],
   "source": [
    "df.insert(3, \"New_Column\", new_co)  # Insert the new column into the DataFrame at index 3\n",
    "df  # Display the DataFrame with the new column inserted"
   ]
  },
  {
   "cell_type": "code",
   "execution_count": null,
   "id": "4b04a888",
   "metadata": {},
   "outputs": [],
   "source": [
    "df.drop(\"New_Column\", axis=1 , inplace= True)  # Drop the 'new_co' column from the DataFrame\n",
    "df  # Display the DataFrame after dropping the 'new_co' column"
   ]
  },
  {
   "cell_type": "code",
   "execution_count": null,
   "id": "1908a863",
   "metadata": {},
   "outputs": [],
   "source": [
    "#to read table from linke or you can put the path of your own tabl\n",
    "data=pd.read_table('http://bit.ly/movieusers')\n",
    "data.head()  # Display the first few rows of the DataFrame read from the link"
   ]
  },
  {
   "cell_type": "code",
   "execution_count": null,
   "id": "4efcce58",
   "metadata": {},
   "outputs": [],
   "source": [
    "data=pd.read_table('http://bit.ly/movieusers', sep='|')  # Read the table from the link with a comma as the separator\n",
    "data  # Display the first few rows of the DataFrame read from the link"
   ]
  },
  {
   "cell_type": "code",
   "execution_count": null,
   "id": "783abc1c",
   "metadata": {},
   "outputs": [],
   "source": [
    "data=pd.read_table('http://bit.ly/movieusers', sep='|', header= None)  # Read the table from the link with a comma as the separator\n",
    "data.head()  # Display the first few rows of the DataFrame read from the link"
   ]
  },
  {
   "cell_type": "code",
   "execution_count": null,
   "id": "c57c09dc",
   "metadata": {},
   "outputs": [],
   "source": [
    "header_colums = ['Index' , 'age', 'gander', 'dept', 'Id']\n",
    "data=pd.read_table('http://bit.ly/movieusers', sep='|', header= None , names=  header_colums)  # Read the table from the link with a comma as the separator\n",
    "data.head()  # Display the first few rows of the DataFrame read from the link"
   ]
  },
  {
   "cell_type": "code",
   "execution_count": null,
   "id": "11871e70",
   "metadata": {},
   "outputs": [],
   "source": [
    "user_info=pd.read_csv('http://bit.ly/uforeports')\n",
    "user_info.head(10)  # Display the first few rows of the DataFrame read from the link"
   ]
  },
  {
   "cell_type": "code",
   "execution_count": null,
   "id": "8e1cb24a",
   "metadata": {},
   "outputs": [],
   "source": [
    "user_info.City.head(10)  # Display the first few rows of the 'City' column in the DataFrame"
   ]
  },
  {
   "cell_type": "code",
   "execution_count": null,
   "id": "dae9ec26",
   "metadata": {},
   "outputs": [],
   "source": [
    "user_info['Colors Reported'].head()  # Display the first few rows of the 'Colors Reportedcolors' column in the DataFrame"
   ]
  },
  {
   "cell_type": "code",
   "execution_count": null,
   "id": "279e3a7f",
   "metadata": {},
   "outputs": [],
   "source": [
    "user_info.shape  # Display the shape of the DataFrame"
   ]
  },
  {
   "cell_type": "code",
   "execution_count": null,
   "id": "2a64c9c5",
   "metadata": {},
   "outputs": [],
   "source": [
    "user_info.City + ' ' + user_info.State\n"
   ]
  },
  {
   "cell_type": "code",
   "execution_count": null,
   "id": "07ab1caa",
   "metadata": {},
   "outputs": [],
   "source": [
    "user_info['location'] = user_info.City + ' ' + user_info.State\n",
    "user_info.head()  # Display the first few rows of the DataFrame with the new 'location' column"
   ]
  },
  {
   "cell_type": "code",
   "execution_count": null,
   "id": "6029e054",
   "metadata": {},
   "outputs": [],
   "source": [
    "user_info.to_csv(\"new_data.csv\") # Save the DataFrame to a CSV file named \"new_data.csv\""
   ]
  },
  {
   "cell_type": "code",
   "execution_count": null,
   "id": "3680bf67",
   "metadata": {},
   "outputs": [],
   "source": [
    "new_file = pd.read_csv(\"new_data.csv\")  # Read the newly created CSV file\n",
    "new_file.head()  # Display the first few rows of the newly created CSV file"
   ]
  },
  {
   "cell_type": "code",
   "execution_count": null,
   "id": "f913153b",
   "metadata": {},
   "outputs": [],
   "source": [
    "new_file.head(20)  # Display the first 20 rows of the newly created CSV file\n",
    "new_file.tail(20)  # Display the last 20 rows of the newly created CSV"
   ]
  },
  {
   "cell_type": "code",
   "execution_count": null,
   "id": "73cece0e",
   "metadata": {},
   "outputs": [],
   "source": [
    "new_file.tail()  # Display the last row of the newly created CSV file"
   ]
  },
  {
   "cell_type": "code",
   "execution_count": null,
   "id": "6f7f139b",
   "metadata": {},
   "outputs": [],
   "source": [
    "new_file.describe()"
   ]
  },
  {
   "cell_type": "code",
   "execution_count": null,
   "id": "c9585fc6",
   "metadata": {},
   "outputs": [],
   "source": [
    "new_file.describe(include= 'object')"
   ]
  },
  {
   "cell_type": "code",
   "execution_count": null,
   "id": "920a14f7",
   "metadata": {},
   "outputs": [],
   "source": [
    "new_file [0:10] # Display the first 10 rows of the newly created CSV file"
   ]
  },
  {
   "cell_type": "code",
   "execution_count": null,
   "id": "9761a1df",
   "metadata": {},
   "outputs": [],
   "source": [
    "new_file . columns  # Display the columns of the newly created CSV file"
   ]
  },
  {
   "cell_type": "code",
   "execution_count": null,
   "id": "bd493aba",
   "metadata": {},
   "outputs": [],
   "source": [
    "new_file.info()  # Display information about the newly created CSV file including data types and non-null counts"
   ]
  },
  {
   "cell_type": "code",
   "execution_count": null,
   "id": "52f3bad5",
   "metadata": {},
   "outputs": [],
   "source": [
    "new_file .head(2)  # Display the first few rows of the newly created CSV file"
   ]
  },
  {
   "cell_type": "code",
   "execution_count": null,
   "id": "8e089688",
   "metadata": {},
   "outputs": [],
   "source": [
    "new_file.rename(columns ={'Colors Reported':'Colors_Reported', 'Shape Reported':'Shape_Reported'} , inplace = True)  # Rename the 'Colors Reported' column to 'col' in the newly created CSV file\n",
    "new_file.head()  # Display the first few rows of the newly created CSV file"
   ]
  },
  {
   "cell_type": "code",
   "execution_count": null,
   "id": "6f4f0395",
   "metadata": {},
   "outputs": [],
   "source": [
    "new_file.columns = new_file.columns.str.replace(' ', '_')  # Replace spaces in column names with underscores\n",
    "new_file.head(2)  # Display the first few rows of the newly created CSV file with updated column names"
   ]
  },
  {
   "cell_type": "code",
   "execution_count": null,
   "id": "af39740b",
   "metadata": {},
   "outputs": [],
   "source": [
    "new_file.drop(['Colors_Reported' , 'City'] , axis=1 , inplace=True)  # Drop the 'Colors Reported' and 'City' columns from the newly created CSV file\n",
    "new_file.head(2)  # Display the first few rows of the newly created CSV file with updated column names"
   ]
  },
  {
   "cell_type": "code",
   "execution_count": null,
   "id": "250e5886",
   "metadata": {},
   "outputs": [],
   "source": [
    "new_file.drop([0,1,2], axis=0, inplace=True)  # Drop the first three rows from the newly created CSV file\n",
    "new_file.head(2)  # Display the first few rows of the newly created CSV file"
   ]
  },
  {
   "cell_type": "code",
   "execution_count": null,
   "id": "29be4943",
   "metadata": {},
   "outputs": [],
   "source": [
    "movies=pd.read_csv('http://bit.ly/imdbratings')  # Read the IMDb ratings CSV file into a pandas DataFrame"
   ]
  },
  {
   "cell_type": "code",
   "execution_count": null,
   "id": "819daa5e",
   "metadata": {},
   "outputs": [],
   "source": [
    "movies.head()  # Display the first few rows of the IMDb ratings DataFrame"
   ]
  },
  {
   "cell_type": "code",
   "execution_count": null,
   "id": "dec1607d",
   "metadata": {},
   "outputs": [],
   "source": [
    "movies.title.sort_values(ascending=False)  # Sort the 'title' column in the IMDb ratings DataFrame by alphabet "
   ]
  },
  {
   "cell_type": "code",
   "execution_count": null,
   "id": "9769ea04",
   "metadata": {},
   "outputs": [],
   "source": [
    "movies.sort_values('title')\n"
   ]
  },
  {
   "cell_type": "code",
   "execution_count": null,
   "id": "d22df3da",
   "metadata": {},
   "outputs": [],
   "source": [
    "movies.sort_values(['content_rating','duration' ])\n"
   ]
  },
  {
   "cell_type": "code",
   "execution_count": null,
   "id": "a94f8a91",
   "metadata": {},
   "outputs": [],
   "source": [
    "bol = []\n",
    "for length in movies.duration:\n",
    "    if length > 200:\n",
    "        bol.append(True)\n",
    "    else:\n",
    "        bol.append(False)\n",
    "\n",
    "bol [0:10]  # Display the first 10 boolean values indicating whether the movie duration is greater than 200 minutes"
   ]
  },
  {
   "cell_type": "code",
   "execution_count": null,
   "id": "d1394990",
   "metadata": {},
   "outputs": [],
   "source": [
    "movies.loc[movies.duration > 200, 'genre']  # Display the titles of movies with a duration greater than 200 minutes"
   ]
  },
  {
   "cell_type": "code",
   "execution_count": null,
   "id": "63eb17d1",
   "metadata": {},
   "outputs": [],
   "source": [
    "movies.loc[(movies.duration > 200) & (movies.genre == \"Drama\")]  # Display the titles of movies with a duration greater than 200 minutes"
   ]
  },
  {
   "cell_type": "code",
   "execution_count": 1,
   "id": "32cf7bb3",
   "metadata": {},
   "outputs": [],
   "source": [
    "import numpy as np  # Import the NumPy library for numerical operations.\n",
    "import pandas as pd  #  Import the pandas library for data manipulation and analysis.\n",
    "import seaborn as sns  # Import the seaborn library for data visualization.\n",
    "import matplotlib.pyplot as plt # Import the matplotlib library for creating static, interactive, and animated visualizations.\n",
    "import warnings  # Import the warnings library to handle warning messages.\n",
    "warnings.filterwarnings(\"ignore\")  # Ignore warning messages to keep the output clean.\n"
   ]
  },
  {
   "cell_type": "code",
   "execution_count": 5,
   "id": "fa7de0ac",
   "metadata": {},
   "outputs": [
    {
     "data": {
      "text/html": [
       "<div>\n",
       "<style scoped>\n",
       "    .dataframe tbody tr th:only-of-type {\n",
       "        vertical-align: middle;\n",
       "    }\n",
       "\n",
       "    .dataframe tbody tr th {\n",
       "        vertical-align: top;\n",
       "    }\n",
       "\n",
       "    .dataframe thead th {\n",
       "        text-align: right;\n",
       "    }\n",
       "</style>\n",
       "<table border=\"1\" class=\"dataframe\">\n",
       "  <thead>\n",
       "    <tr style=\"text-align: right;\">\n",
       "      <th></th>\n",
       "      <th>PassengerId</th>\n",
       "      <th>Survived</th>\n",
       "      <th>Pclass</th>\n",
       "      <th>Name</th>\n",
       "      <th>Sex</th>\n",
       "      <th>Age</th>\n",
       "      <th>SibSp</th>\n",
       "      <th>Parch</th>\n",
       "      <th>Ticket</th>\n",
       "      <th>Fare</th>\n",
       "      <th>Cabin</th>\n",
       "      <th>Embarked</th>\n",
       "    </tr>\n",
       "  </thead>\n",
       "  <tbody>\n",
       "    <tr>\n",
       "      <th>0</th>\n",
       "      <td>1</td>\n",
       "      <td>0</td>\n",
       "      <td>3</td>\n",
       "      <td>Braund, Mr. Owen Harris</td>\n",
       "      <td>male</td>\n",
       "      <td>22.0</td>\n",
       "      <td>1</td>\n",
       "      <td>0</td>\n",
       "      <td>A/5 21171</td>\n",
       "      <td>7.2500</td>\n",
       "      <td>NaN</td>\n",
       "      <td>S</td>\n",
       "    </tr>\n",
       "    <tr>\n",
       "      <th>1</th>\n",
       "      <td>2</td>\n",
       "      <td>1</td>\n",
       "      <td>1</td>\n",
       "      <td>Cumings, Mrs. John Bradley (Florence Briggs Th...</td>\n",
       "      <td>female</td>\n",
       "      <td>38.0</td>\n",
       "      <td>1</td>\n",
       "      <td>0</td>\n",
       "      <td>PC 17599</td>\n",
       "      <td>71.2833</td>\n",
       "      <td>C85</td>\n",
       "      <td>C</td>\n",
       "    </tr>\n",
       "    <tr>\n",
       "      <th>2</th>\n",
       "      <td>3</td>\n",
       "      <td>1</td>\n",
       "      <td>3</td>\n",
       "      <td>Heikkinen, Miss. Laina</td>\n",
       "      <td>female</td>\n",
       "      <td>26.0</td>\n",
       "      <td>0</td>\n",
       "      <td>0</td>\n",
       "      <td>STON/O2. 3101282</td>\n",
       "      <td>7.9250</td>\n",
       "      <td>NaN</td>\n",
       "      <td>S</td>\n",
       "    </tr>\n",
       "    <tr>\n",
       "      <th>3</th>\n",
       "      <td>4</td>\n",
       "      <td>1</td>\n",
       "      <td>1</td>\n",
       "      <td>Futrelle, Mrs. Jacques Heath (Lily May Peel)</td>\n",
       "      <td>female</td>\n",
       "      <td>35.0</td>\n",
       "      <td>1</td>\n",
       "      <td>0</td>\n",
       "      <td>113803</td>\n",
       "      <td>53.1000</td>\n",
       "      <td>C123</td>\n",
       "      <td>S</td>\n",
       "    </tr>\n",
       "    <tr>\n",
       "      <th>4</th>\n",
       "      <td>5</td>\n",
       "      <td>0</td>\n",
       "      <td>3</td>\n",
       "      <td>Allen, Mr. William Henry</td>\n",
       "      <td>male</td>\n",
       "      <td>35.0</td>\n",
       "      <td>0</td>\n",
       "      <td>0</td>\n",
       "      <td>373450</td>\n",
       "      <td>8.0500</td>\n",
       "      <td>NaN</td>\n",
       "      <td>S</td>\n",
       "    </tr>\n",
       "  </tbody>\n",
       "</table>\n",
       "</div>"
      ],
      "text/plain": [
       "   PassengerId  Survived  Pclass  \\\n",
       "0            1         0       3   \n",
       "1            2         1       1   \n",
       "2            3         1       3   \n",
       "3            4         1       1   \n",
       "4            5         0       3   \n",
       "\n",
       "                                                Name     Sex   Age  SibSp  \\\n",
       "0                            Braund, Mr. Owen Harris    male  22.0      1   \n",
       "1  Cumings, Mrs. John Bradley (Florence Briggs Th...  female  38.0      1   \n",
       "2                             Heikkinen, Miss. Laina  female  26.0      0   \n",
       "3       Futrelle, Mrs. Jacques Heath (Lily May Peel)  female  35.0      1   \n",
       "4                           Allen, Mr. William Henry    male  35.0      0   \n",
       "\n",
       "   Parch            Ticket     Fare Cabin Embarked  \n",
       "0      0         A/5 21171   7.2500   NaN        S  \n",
       "1      0          PC 17599  71.2833   C85        C  \n",
       "2      0  STON/O2. 3101282   7.9250   NaN        S  \n",
       "3      0            113803  53.1000  C123        S  \n",
       "4      0            373450   8.0500   NaN        S  "
      ]
     },
     "execution_count": 5,
     "metadata": {},
     "output_type": "execute_result"
    }
   ],
   "source": [
    "df = pd.read_csv('train.csv')\n",
    "df.head()"
   ]
  },
  {
   "cell_type": "code",
   "execution_count": 6,
   "id": "2747f7f2",
   "metadata": {},
   "outputs": [
    {
     "data": {
      "text/html": [
       "<div>\n",
       "<style scoped>\n",
       "    .dataframe tbody tr th:only-of-type {\n",
       "        vertical-align: middle;\n",
       "    }\n",
       "\n",
       "    .dataframe tbody tr th {\n",
       "        vertical-align: top;\n",
       "    }\n",
       "\n",
       "    .dataframe thead th {\n",
       "        text-align: right;\n",
       "    }\n",
       "</style>\n",
       "<table border=\"1\" class=\"dataframe\">\n",
       "  <thead>\n",
       "    <tr style=\"text-align: right;\">\n",
       "      <th></th>\n",
       "      <th>Survived</th>\n",
       "      <th>Pclass</th>\n",
       "      <th>Sex</th>\n",
       "      <th>Age</th>\n",
       "      <th>SibSp</th>\n",
       "      <th>Parch</th>\n",
       "      <th>Fare</th>\n",
       "      <th>Cabin</th>\n",
       "      <th>Embarked</th>\n",
       "    </tr>\n",
       "  </thead>\n",
       "  <tbody>\n",
       "    <tr>\n",
       "      <th>0</th>\n",
       "      <td>0</td>\n",
       "      <td>3</td>\n",
       "      <td>male</td>\n",
       "      <td>22.0</td>\n",
       "      <td>1</td>\n",
       "      <td>0</td>\n",
       "      <td>7.2500</td>\n",
       "      <td>NaN</td>\n",
       "      <td>S</td>\n",
       "    </tr>\n",
       "    <tr>\n",
       "      <th>1</th>\n",
       "      <td>1</td>\n",
       "      <td>1</td>\n",
       "      <td>female</td>\n",
       "      <td>38.0</td>\n",
       "      <td>1</td>\n",
       "      <td>0</td>\n",
       "      <td>71.2833</td>\n",
       "      <td>C85</td>\n",
       "      <td>C</td>\n",
       "    </tr>\n",
       "    <tr>\n",
       "      <th>2</th>\n",
       "      <td>1</td>\n",
       "      <td>3</td>\n",
       "      <td>female</td>\n",
       "      <td>26.0</td>\n",
       "      <td>0</td>\n",
       "      <td>0</td>\n",
       "      <td>7.9250</td>\n",
       "      <td>NaN</td>\n",
       "      <td>S</td>\n",
       "    </tr>\n",
       "    <tr>\n",
       "      <th>3</th>\n",
       "      <td>1</td>\n",
       "      <td>1</td>\n",
       "      <td>female</td>\n",
       "      <td>35.0</td>\n",
       "      <td>1</td>\n",
       "      <td>0</td>\n",
       "      <td>53.1000</td>\n",
       "      <td>C123</td>\n",
       "      <td>S</td>\n",
       "    </tr>\n",
       "    <tr>\n",
       "      <th>4</th>\n",
       "      <td>0</td>\n",
       "      <td>3</td>\n",
       "      <td>male</td>\n",
       "      <td>35.0</td>\n",
       "      <td>0</td>\n",
       "      <td>0</td>\n",
       "      <td>8.0500</td>\n",
       "      <td>NaN</td>\n",
       "      <td>S</td>\n",
       "    </tr>\n",
       "  </tbody>\n",
       "</table>\n",
       "</div>"
      ],
      "text/plain": [
       "   Survived  Pclass     Sex   Age  SibSp  Parch     Fare Cabin Embarked\n",
       "0         0       3    male  22.0      1      0   7.2500   NaN        S\n",
       "1         1       1  female  38.0      1      0  71.2833   C85        C\n",
       "2         1       3  female  26.0      0      0   7.9250   NaN        S\n",
       "3         1       1  female  35.0      1      0  53.1000  C123        S\n",
       "4         0       3    male  35.0      0      0   8.0500   NaN        S"
      ]
     },
     "execution_count": 6,
     "metadata": {},
     "output_type": "execute_result"
    }
   ],
   "source": [
    "df.drop(['PassengerId','Name','Ticket'] , axis=1, inplace=True)  # Drop the specified columns from the DataFrame\n",
    "df.head()  # Display the first few rows of the DataFrame after dropping the specified columns"
   ]
  },
  {
   "cell_type": "code",
   "execution_count": 7,
   "id": "fbf4decd",
   "metadata": {},
   "outputs": [
    {
     "data": {
      "text/plain": [
       "Survived      int64\n",
       "Pclass        int64\n",
       "Sex          object\n",
       "Age         float64\n",
       "SibSp         int64\n",
       "Parch         int64\n",
       "Fare        float64\n",
       "Cabin        object\n",
       "Embarked     object\n",
       "dtype: object"
      ]
     },
     "execution_count": 7,
     "metadata": {},
     "output_type": "execute_result"
    }
   ],
   "source": [
    "df.dtypes  # Display the data types of each column in the DataFrame"
   ]
  },
  {
   "cell_type": "code",
   "execution_count": 8,
   "id": "62b3bc19",
   "metadata": {},
   "outputs": [
    {
     "data": {
      "text/plain": [
       "Survived      2\n",
       "Pclass        3\n",
       "Sex           2\n",
       "Age          88\n",
       "SibSp         7\n",
       "Parch         7\n",
       "Fare        248\n",
       "Cabin       147\n",
       "Embarked      3\n",
       "dtype: int64"
      ]
     },
     "execution_count": 8,
     "metadata": {},
     "output_type": "execute_result"
    }
   ],
   "source": [
    "dtypes = df.dtypes  # Store the data types of each column in a variable\n",
    "n_uniq = df.nunique()  # Count the number of unique values in each column\n",
    "n_uniq  # Display the number of unique values in each column\n"
   ]
  },
  {
   "cell_type": "code",
   "execution_count": 9,
   "id": "e8da9f1f",
   "metadata": {},
   "outputs": [
    {
     "data": {
      "text/html": [
       "<div>\n",
       "<style scoped>\n",
       "    .dataframe tbody tr th:only-of-type {\n",
       "        vertical-align: middle;\n",
       "    }\n",
       "\n",
       "    .dataframe tbody tr th {\n",
       "        vertical-align: top;\n",
       "    }\n",
       "\n",
       "    .dataframe thead th {\n",
       "        text-align: right;\n",
       "    }\n",
       "</style>\n",
       "<table border=\"1\" class=\"dataframe\">\n",
       "  <thead>\n",
       "    <tr style=\"text-align: right;\">\n",
       "      <th></th>\n",
       "      <th>Survived</th>\n",
       "      <th>Pclass</th>\n",
       "      <th>Sex</th>\n",
       "      <th>Age</th>\n",
       "      <th>SibSp</th>\n",
       "      <th>Parch</th>\n",
       "      <th>Fare</th>\n",
       "      <th>Cabin</th>\n",
       "      <th>Embarked</th>\n",
       "    </tr>\n",
       "  </thead>\n",
       "  <tbody>\n",
       "    <tr>\n",
       "      <th>dtypes</th>\n",
       "      <td>int64</td>\n",
       "      <td>int64</td>\n",
       "      <td>object</td>\n",
       "      <td>float64</td>\n",
       "      <td>int64</td>\n",
       "      <td>int64</td>\n",
       "      <td>float64</td>\n",
       "      <td>object</td>\n",
       "      <td>object</td>\n",
       "    </tr>\n",
       "    <tr>\n",
       "      <th>n_uniq</th>\n",
       "      <td>2</td>\n",
       "      <td>3</td>\n",
       "      <td>2</td>\n",
       "      <td>88</td>\n",
       "      <td>7</td>\n",
       "      <td>7</td>\n",
       "      <td>248</td>\n",
       "      <td>147</td>\n",
       "      <td>3</td>\n",
       "    </tr>\n",
       "  </tbody>\n",
       "</table>\n",
       "</div>"
      ],
      "text/plain": [
       "       Survived Pclass     Sex      Age  SibSp  Parch     Fare   Cabin  \\\n",
       "dtypes    int64  int64  object  float64  int64  int64  float64  object   \n",
       "n_uniq        2      3       2       88      7      7      248     147   \n",
       "\n",
       "       Embarked  \n",
       "dtypes   object  \n",
       "n_uniq        3  "
      ]
     },
     "execution_count": 9,
     "metadata": {},
     "output_type": "execute_result"
    }
   ],
   "source": [
    "dtypes = df.dtypes  # Store the data types of each column in a variable\n",
    "n_uniq = df.nunique()  # Count the number of unique values in each column\n",
    "pd.DataFrame({'dtypes': dtypes, 'n_uniq': n_uniq}) .T  # Create a new DataFrame with the data types and number of unique values of each column"
   ]
  },
  {
   "cell_type": "code",
   "execution_count": 10,
   "id": "7951b3e1",
   "metadata": {},
   "outputs": [],
   "source": [
    "def dtypes_and_unique(df):\n",
    "    dtypes = df.dtypes  # Store the data types of each column in a variable\n",
    "    n_uniq = df.nunique()  # Count the number of unique values in each column\n",
    "    \n",
    "    return pd.DataFrame({'dtypes': dtypes, 'n_uniq': n_uniq}) .T  # Create a new DataFrame with the data types and number of unique values of each column"
   ]
  },
  {
   "cell_type": "code",
   "execution_count": 11,
   "id": "655e0126",
   "metadata": {},
   "outputs": [
    {
     "data": {
      "text/html": [
       "<div>\n",
       "<style scoped>\n",
       "    .dataframe tbody tr th:only-of-type {\n",
       "        vertical-align: middle;\n",
       "    }\n",
       "\n",
       "    .dataframe tbody tr th {\n",
       "        vertical-align: top;\n",
       "    }\n",
       "\n",
       "    .dataframe thead th {\n",
       "        text-align: right;\n",
       "    }\n",
       "</style>\n",
       "<table border=\"1\" class=\"dataframe\">\n",
       "  <thead>\n",
       "    <tr style=\"text-align: right;\">\n",
       "      <th></th>\n",
       "      <th>Survived</th>\n",
       "      <th>Pclass</th>\n",
       "      <th>Sex</th>\n",
       "      <th>Age</th>\n",
       "      <th>SibSp</th>\n",
       "      <th>Parch</th>\n",
       "      <th>Fare</th>\n",
       "      <th>Cabin</th>\n",
       "      <th>Embarked</th>\n",
       "    </tr>\n",
       "  </thead>\n",
       "  <tbody>\n",
       "    <tr>\n",
       "      <th>dtypes</th>\n",
       "      <td>int64</td>\n",
       "      <td>int64</td>\n",
       "      <td>object</td>\n",
       "      <td>float64</td>\n",
       "      <td>int64</td>\n",
       "      <td>int64</td>\n",
       "      <td>float64</td>\n",
       "      <td>object</td>\n",
       "      <td>object</td>\n",
       "    </tr>\n",
       "    <tr>\n",
       "      <th>n_uniq</th>\n",
       "      <td>2</td>\n",
       "      <td>3</td>\n",
       "      <td>2</td>\n",
       "      <td>88</td>\n",
       "      <td>7</td>\n",
       "      <td>7</td>\n",
       "      <td>248</td>\n",
       "      <td>147</td>\n",
       "      <td>3</td>\n",
       "    </tr>\n",
       "  </tbody>\n",
       "</table>\n",
       "</div>"
      ],
      "text/plain": [
       "       Survived Pclass     Sex      Age  SibSp  Parch     Fare   Cabin  \\\n",
       "dtypes    int64  int64  object  float64  int64  int64  float64  object   \n",
       "n_uniq        2      3       2       88      7      7      248     147   \n",
       "\n",
       "       Embarked  \n",
       "dtypes   object  \n",
       "n_uniq        3  "
      ]
     },
     "execution_count": 11,
     "metadata": {},
     "output_type": "execute_result"
    }
   ],
   "source": [
    "dtypes_and_unique(df)  # Call the function to get the data types and number of unique values of each column in the DataFrame"
   ]
  },
  {
   "cell_type": "code",
   "execution_count": 12,
   "id": "194384ec",
   "metadata": {},
   "outputs": [
    {
     "data": {
      "text/html": [
       "<div>\n",
       "<style scoped>\n",
       "    .dataframe tbody tr th:only-of-type {\n",
       "        vertical-align: middle;\n",
       "    }\n",
       "\n",
       "    .dataframe tbody tr th {\n",
       "        vertical-align: top;\n",
       "    }\n",
       "\n",
       "    .dataframe thead th {\n",
       "        text-align: right;\n",
       "    }\n",
       "</style>\n",
       "<table border=\"1\" class=\"dataframe\">\n",
       "  <thead>\n",
       "    <tr style=\"text-align: right;\">\n",
       "      <th></th>\n",
       "      <th>Survived</th>\n",
       "      <th>Pclass</th>\n",
       "      <th>Sex</th>\n",
       "      <th>Age</th>\n",
       "      <th>SibSp</th>\n",
       "      <th>Parch</th>\n",
       "      <th>Fare</th>\n",
       "      <th>Cabin</th>\n",
       "      <th>Embarked</th>\n",
       "    </tr>\n",
       "  </thead>\n",
       "  <tbody>\n",
       "    <tr>\n",
       "      <th>dtypes</th>\n",
       "      <td>int64</td>\n",
       "      <td>int64</td>\n",
       "      <td>object</td>\n",
       "      <td>float64</td>\n",
       "      <td>int64</td>\n",
       "      <td>int64</td>\n",
       "      <td>float64</td>\n",
       "      <td>object</td>\n",
       "      <td>object</td>\n",
       "    </tr>\n",
       "    <tr>\n",
       "      <th>n_uniq</th>\n",
       "      <td>2</td>\n",
       "      <td>3</td>\n",
       "      <td>2</td>\n",
       "      <td>88</td>\n",
       "      <td>7</td>\n",
       "      <td>7</td>\n",
       "      <td>248</td>\n",
       "      <td>147</td>\n",
       "      <td>3</td>\n",
       "    </tr>\n",
       "  </tbody>\n",
       "</table>\n",
       "</div>"
      ],
      "text/plain": [
       "       Survived Pclass     Sex      Age  SibSp  Parch     Fare   Cabin  \\\n",
       "dtypes    int64  int64  object  float64  int64  int64  float64  object   \n",
       "n_uniq        2      3       2       88      7      7      248     147   \n",
       "\n",
       "       Embarked  \n",
       "dtypes   object  \n",
       "n_uniq        3  "
      ]
     },
     "execution_count": 12,
     "metadata": {},
     "output_type": "execute_result"
    }
   ],
   "source": [
    "from preprocess import dtypes_and_unique  # Import the dtypes_and_unique function from the preprocessing module\n",
    "\n",
    "dtypes_and_unique(df)  # Call the function to get the data types and number of unique values of each column in the DataFrame"
   ]
  },
  {
   "cell_type": "code",
   "execution_count": 13,
   "id": "e53aab2e",
   "metadata": {},
   "outputs": [
    {
     "data": {
      "text/html": [
       "<div>\n",
       "<style scoped>\n",
       "    .dataframe tbody tr th:only-of-type {\n",
       "        vertical-align: middle;\n",
       "    }\n",
       "\n",
       "    .dataframe tbody tr th {\n",
       "        vertical-align: top;\n",
       "    }\n",
       "\n",
       "    .dataframe thead th {\n",
       "        text-align: right;\n",
       "    }\n",
       "</style>\n",
       "<table border=\"1\" class=\"dataframe\">\n",
       "  <thead>\n",
       "    <tr style=\"text-align: right;\">\n",
       "      <th></th>\n",
       "      <th>Survived</th>\n",
       "      <th>Pclass</th>\n",
       "      <th>Sex</th>\n",
       "      <th>Age</th>\n",
       "      <th>SibSp</th>\n",
       "      <th>Parch</th>\n",
       "      <th>Fare</th>\n",
       "      <th>Cabin</th>\n",
       "      <th>Embarked</th>\n",
       "    </tr>\n",
       "  </thead>\n",
       "  <tbody>\n",
       "    <tr>\n",
       "      <th>0</th>\n",
       "      <td>category</td>\n",
       "      <td>category</td>\n",
       "      <td>category</td>\n",
       "      <td>float64</td>\n",
       "      <td>category</td>\n",
       "      <td>category</td>\n",
       "      <td>float64</td>\n",
       "      <td>object</td>\n",
       "      <td>category</td>\n",
       "    </tr>\n",
       "  </tbody>\n",
       "</table>\n",
       "</div>"
      ],
      "text/plain": [
       "   Survived    Pclass       Sex      Age     SibSp     Parch     Fare   Cabin  \\\n",
       "0  category  category  category  float64  category  category  float64  object   \n",
       "\n",
       "   Embarked  \n",
       "0  category  "
      ]
     },
     "execution_count": 13,
     "metadata": {},
     "output_type": "execute_result"
    }
   ],
   "source": [
    "cols = ['Survived', 'Pclass', 'Sex', 'SibSp','Parch','Embarked' ]   # List of columns to be converted to categorical data type\n",
    "df[cols] = df[cols].astype('category')  # Convert the specified columns to categorical data type\n",
    "pd.DataFrame(df.dtypes) .T # Display the data types of all columns in the DataFrame"
   ]
  },
  {
   "cell_type": "code",
   "execution_count": 14,
   "id": "863e1e61",
   "metadata": {},
   "outputs": [
    {
     "data": {
      "text/html": [
       "<div>\n",
       "<style scoped>\n",
       "    .dataframe tbody tr th:only-of-type {\n",
       "        vertical-align: middle;\n",
       "    }\n",
       "\n",
       "    .dataframe tbody tr th {\n",
       "        vertical-align: top;\n",
       "    }\n",
       "\n",
       "    .dataframe thead th {\n",
       "        text-align: right;\n",
       "    }\n",
       "</style>\n",
       "<table border=\"1\" class=\"dataframe\">\n",
       "  <thead>\n",
       "    <tr style=\"text-align: right;\">\n",
       "      <th></th>\n",
       "      <th>Survived</th>\n",
       "      <th>Pclass</th>\n",
       "      <th>Sex</th>\n",
       "      <th>Age</th>\n",
       "      <th>SibSp</th>\n",
       "      <th>Parch</th>\n",
       "      <th>Fare</th>\n",
       "      <th>Cabin</th>\n",
       "      <th>Embarked</th>\n",
       "    </tr>\n",
       "  </thead>\n",
       "  <tbody>\n",
       "    <tr>\n",
       "      <th>0</th>\n",
       "      <td>False</td>\n",
       "      <td>False</td>\n",
       "      <td>False</td>\n",
       "      <td>False</td>\n",
       "      <td>False</td>\n",
       "      <td>False</td>\n",
       "      <td>False</td>\n",
       "      <td>True</td>\n",
       "      <td>False</td>\n",
       "    </tr>\n",
       "    <tr>\n",
       "      <th>1</th>\n",
       "      <td>False</td>\n",
       "      <td>False</td>\n",
       "      <td>False</td>\n",
       "      <td>False</td>\n",
       "      <td>False</td>\n",
       "      <td>False</td>\n",
       "      <td>False</td>\n",
       "      <td>False</td>\n",
       "      <td>False</td>\n",
       "    </tr>\n",
       "    <tr>\n",
       "      <th>2</th>\n",
       "      <td>False</td>\n",
       "      <td>False</td>\n",
       "      <td>False</td>\n",
       "      <td>False</td>\n",
       "      <td>False</td>\n",
       "      <td>False</td>\n",
       "      <td>False</td>\n",
       "      <td>True</td>\n",
       "      <td>False</td>\n",
       "    </tr>\n",
       "    <tr>\n",
       "      <th>3</th>\n",
       "      <td>False</td>\n",
       "      <td>False</td>\n",
       "      <td>False</td>\n",
       "      <td>False</td>\n",
       "      <td>False</td>\n",
       "      <td>False</td>\n",
       "      <td>False</td>\n",
       "      <td>False</td>\n",
       "      <td>False</td>\n",
       "    </tr>\n",
       "    <tr>\n",
       "      <th>4</th>\n",
       "      <td>False</td>\n",
       "      <td>False</td>\n",
       "      <td>False</td>\n",
       "      <td>False</td>\n",
       "      <td>False</td>\n",
       "      <td>False</td>\n",
       "      <td>False</td>\n",
       "      <td>True</td>\n",
       "      <td>False</td>\n",
       "    </tr>\n",
       "    <tr>\n",
       "      <th>...</th>\n",
       "      <td>...</td>\n",
       "      <td>...</td>\n",
       "      <td>...</td>\n",
       "      <td>...</td>\n",
       "      <td>...</td>\n",
       "      <td>...</td>\n",
       "      <td>...</td>\n",
       "      <td>...</td>\n",
       "      <td>...</td>\n",
       "    </tr>\n",
       "    <tr>\n",
       "      <th>886</th>\n",
       "      <td>False</td>\n",
       "      <td>False</td>\n",
       "      <td>False</td>\n",
       "      <td>False</td>\n",
       "      <td>False</td>\n",
       "      <td>False</td>\n",
       "      <td>False</td>\n",
       "      <td>True</td>\n",
       "      <td>False</td>\n",
       "    </tr>\n",
       "    <tr>\n",
       "      <th>887</th>\n",
       "      <td>False</td>\n",
       "      <td>False</td>\n",
       "      <td>False</td>\n",
       "      <td>False</td>\n",
       "      <td>False</td>\n",
       "      <td>False</td>\n",
       "      <td>False</td>\n",
       "      <td>False</td>\n",
       "      <td>False</td>\n",
       "    </tr>\n",
       "    <tr>\n",
       "      <th>888</th>\n",
       "      <td>False</td>\n",
       "      <td>False</td>\n",
       "      <td>False</td>\n",
       "      <td>True</td>\n",
       "      <td>False</td>\n",
       "      <td>False</td>\n",
       "      <td>False</td>\n",
       "      <td>True</td>\n",
       "      <td>False</td>\n",
       "    </tr>\n",
       "    <tr>\n",
       "      <th>889</th>\n",
       "      <td>False</td>\n",
       "      <td>False</td>\n",
       "      <td>False</td>\n",
       "      <td>False</td>\n",
       "      <td>False</td>\n",
       "      <td>False</td>\n",
       "      <td>False</td>\n",
       "      <td>False</td>\n",
       "      <td>False</td>\n",
       "    </tr>\n",
       "    <tr>\n",
       "      <th>890</th>\n",
       "      <td>False</td>\n",
       "      <td>False</td>\n",
       "      <td>False</td>\n",
       "      <td>False</td>\n",
       "      <td>False</td>\n",
       "      <td>False</td>\n",
       "      <td>False</td>\n",
       "      <td>True</td>\n",
       "      <td>False</td>\n",
       "    </tr>\n",
       "  </tbody>\n",
       "</table>\n",
       "<p>891 rows × 9 columns</p>\n",
       "</div>"
      ],
      "text/plain": [
       "     Survived  Pclass    Sex    Age  SibSp  Parch   Fare  Cabin  Embarked\n",
       "0       False   False  False  False  False  False  False   True     False\n",
       "1       False   False  False  False  False  False  False  False     False\n",
       "2       False   False  False  False  False  False  False   True     False\n",
       "3       False   False  False  False  False  False  False  False     False\n",
       "4       False   False  False  False  False  False  False   True     False\n",
       "..        ...     ...    ...    ...    ...    ...    ...    ...       ...\n",
       "886     False   False  False  False  False  False  False   True     False\n",
       "887     False   False  False  False  False  False  False  False     False\n",
       "888     False   False  False   True  False  False  False   True     False\n",
       "889     False   False  False  False  False  False  False  False     False\n",
       "890     False   False  False  False  False  False  False   True     False\n",
       "\n",
       "[891 rows x 9 columns]"
      ]
     },
     "execution_count": 14,
     "metadata": {},
     "output_type": "execute_result"
    }
   ],
   "source": [
    "null = df. isnull()\n",
    "null"
   ]
  },
  {
   "cell_type": "code",
   "execution_count": 15,
   "id": "686b05ba",
   "metadata": {},
   "outputs": [
    {
     "data": {
      "text/plain": [
       "Survived      0\n",
       "Pclass        0\n",
       "Sex           0\n",
       "Age         177\n",
       "SibSp         0\n",
       "Parch         0\n",
       "Fare          0\n",
       "Cabin       687\n",
       "Embarked      2\n",
       "dtype: int64"
      ]
     },
     "execution_count": 15,
     "metadata": {},
     "output_type": "execute_result"
    }
   ],
   "source": [
    "null = df. isnull() \n",
    "null.sum()   # Count the number of null values in each column of the DataFrame"
   ]
  },
  {
   "cell_type": "code",
   "execution_count": 16,
   "id": "97c57979",
   "metadata": {},
   "outputs": [
    {
     "data": {
      "text/html": [
       "<div>\n",
       "<style scoped>\n",
       "    .dataframe tbody tr th:only-of-type {\n",
       "        vertical-align: middle;\n",
       "    }\n",
       "\n",
       "    .dataframe tbody tr th {\n",
       "        vertical-align: top;\n",
       "    }\n",
       "\n",
       "    .dataframe thead th {\n",
       "        text-align: right;\n",
       "    }\n",
       "</style>\n",
       "<table border=\"1\" class=\"dataframe\">\n",
       "  <thead>\n",
       "    <tr style=\"text-align: right;\">\n",
       "      <th></th>\n",
       "      <th>Survived</th>\n",
       "      <th>Pclass</th>\n",
       "      <th>Sex</th>\n",
       "      <th>Age</th>\n",
       "      <th>SibSp</th>\n",
       "      <th>Parch</th>\n",
       "      <th>Fare</th>\n",
       "      <th>Cabin</th>\n",
       "      <th>Embarked</th>\n",
       "    </tr>\n",
       "  </thead>\n",
       "  <tbody>\n",
       "    <tr>\n",
       "      <th>null</th>\n",
       "      <td>0.0</td>\n",
       "      <td>0.0</td>\n",
       "      <td>0.0</td>\n",
       "      <td>177.00000</td>\n",
       "      <td>0.0</td>\n",
       "      <td>0.0</td>\n",
       "      <td>0.0</td>\n",
       "      <td>687.000000</td>\n",
       "      <td>2.000000</td>\n",
       "    </tr>\n",
       "    <tr>\n",
       "      <th>ratio</th>\n",
       "      <td>0.0</td>\n",
       "      <td>0.0</td>\n",
       "      <td>0.0</td>\n",
       "      <td>19.86532</td>\n",
       "      <td>0.0</td>\n",
       "      <td>0.0</td>\n",
       "      <td>0.0</td>\n",
       "      <td>77.104377</td>\n",
       "      <td>0.224467</td>\n",
       "    </tr>\n",
       "  </tbody>\n",
       "</table>\n",
       "</div>"
      ],
      "text/plain": [
       "       Survived  Pclass  Sex        Age  SibSp  Parch  Fare       Cabin  \\\n",
       "null        0.0     0.0  0.0  177.00000    0.0    0.0   0.0  687.000000   \n",
       "ratio       0.0     0.0  0.0   19.86532    0.0    0.0   0.0   77.104377   \n",
       "\n",
       "       Embarked  \n",
       "null   2.000000  \n",
       "ratio  0.224467  "
      ]
     },
     "execution_count": 16,
     "metadata": {},
     "output_type": "execute_result"
    }
   ],
   "source": [
    "null = df. isnull() .sum()  # Count the number of null values in each column of the DataFrame\n",
    "ratio = (null/ df.shape[0]) *100\n",
    "\n",
    "pd.DataFrame({'null': null, 'ratio': ratio}) .T # Create a new DataFrame with the count and ratio of null values in each column"
   ]
  },
  {
   "cell_type": "code",
   "execution_count": 17,
   "id": "456647c3",
   "metadata": {},
   "outputs": [
    {
     "data": {
      "text/html": [
       "<div>\n",
       "<style scoped>\n",
       "    .dataframe tbody tr th:only-of-type {\n",
       "        vertical-align: middle;\n",
       "    }\n",
       "\n",
       "    .dataframe tbody tr th {\n",
       "        vertical-align: top;\n",
       "    }\n",
       "\n",
       "    .dataframe thead th {\n",
       "        text-align: right;\n",
       "    }\n",
       "</style>\n",
       "<table border=\"1\" class=\"dataframe\">\n",
       "  <thead>\n",
       "    <tr style=\"text-align: right;\">\n",
       "      <th></th>\n",
       "      <th>Survived</th>\n",
       "      <th>Pclass</th>\n",
       "      <th>Sex</th>\n",
       "      <th>Age</th>\n",
       "      <th>SibSp</th>\n",
       "      <th>Parch</th>\n",
       "      <th>Fare</th>\n",
       "      <th>Cabin</th>\n",
       "      <th>Embarked</th>\n",
       "    </tr>\n",
       "  </thead>\n",
       "  <tbody>\n",
       "    <tr>\n",
       "      <th>null</th>\n",
       "      <td>0.0</td>\n",
       "      <td>0.0</td>\n",
       "      <td>0.0</td>\n",
       "      <td>177.00000</td>\n",
       "      <td>0.0</td>\n",
       "      <td>0.0</td>\n",
       "      <td>0.0</td>\n",
       "      <td>687.000000</td>\n",
       "      <td>2.000000</td>\n",
       "    </tr>\n",
       "    <tr>\n",
       "      <th>ratio</th>\n",
       "      <td>0.0</td>\n",
       "      <td>0.0</td>\n",
       "      <td>0.0</td>\n",
       "      <td>19.86532</td>\n",
       "      <td>0.0</td>\n",
       "      <td>0.0</td>\n",
       "      <td>0.0</td>\n",
       "      <td>77.104377</td>\n",
       "      <td>0.224467</td>\n",
       "    </tr>\n",
       "  </tbody>\n",
       "</table>\n",
       "</div>"
      ],
      "text/plain": [
       "       Survived  Pclass  Sex        Age  SibSp  Parch  Fare       Cabin  \\\n",
       "null        0.0     0.0  0.0  177.00000    0.0    0.0   0.0  687.000000   \n",
       "ratio       0.0     0.0  0.0   19.86532    0.0    0.0   0.0   77.104377   \n",
       "\n",
       "       Embarked  \n",
       "null   2.000000  \n",
       "ratio  0.224467  "
      ]
     },
     "execution_count": 17,
     "metadata": {},
     "output_type": "execute_result"
    }
   ],
   "source": [
    "from preprocess import is_null  # Import the is_null function from the preprocessing module\n",
    "\n",
    "is_null(df)  # Call the is_null function to get the count and ratio of null values in each column of the DataFrame"
   ]
  },
  {
   "cell_type": "code",
   "execution_count": 18,
   "id": "b2a30546",
   "metadata": {},
   "outputs": [
    {
     "data": {
      "text/html": [
       "<div>\n",
       "<style scoped>\n",
       "    .dataframe tbody tr th:only-of-type {\n",
       "        vertical-align: middle;\n",
       "    }\n",
       "\n",
       "    .dataframe tbody tr th {\n",
       "        vertical-align: top;\n",
       "    }\n",
       "\n",
       "    .dataframe thead th {\n",
       "        text-align: right;\n",
       "    }\n",
       "</style>\n",
       "<table border=\"1\" class=\"dataframe\">\n",
       "  <thead>\n",
       "    <tr style=\"text-align: right;\">\n",
       "      <th></th>\n",
       "      <th>Survived</th>\n",
       "      <th>Pclass</th>\n",
       "      <th>Sex</th>\n",
       "      <th>Age</th>\n",
       "      <th>SibSp</th>\n",
       "      <th>Parch</th>\n",
       "      <th>Fare</th>\n",
       "      <th>Cabin</th>\n",
       "      <th>Embarked</th>\n",
       "    </tr>\n",
       "  </thead>\n",
       "  <tbody>\n",
       "    <tr>\n",
       "      <th>0</th>\n",
       "      <td>0</td>\n",
       "      <td>3</td>\n",
       "      <td>male</td>\n",
       "      <td>22.0</td>\n",
       "      <td>1</td>\n",
       "      <td>0</td>\n",
       "      <td>7.2500</td>\n",
       "      <td>NaN</td>\n",
       "      <td>S</td>\n",
       "    </tr>\n",
       "    <tr>\n",
       "      <th>1</th>\n",
       "      <td>1</td>\n",
       "      <td>1</td>\n",
       "      <td>female</td>\n",
       "      <td>38.0</td>\n",
       "      <td>1</td>\n",
       "      <td>0</td>\n",
       "      <td>71.2833</td>\n",
       "      <td>C85</td>\n",
       "      <td>C</td>\n",
       "    </tr>\n",
       "    <tr>\n",
       "      <th>2</th>\n",
       "      <td>1</td>\n",
       "      <td>3</td>\n",
       "      <td>female</td>\n",
       "      <td>26.0</td>\n",
       "      <td>0</td>\n",
       "      <td>0</td>\n",
       "      <td>7.9250</td>\n",
       "      <td>NaN</td>\n",
       "      <td>S</td>\n",
       "    </tr>\n",
       "    <tr>\n",
       "      <th>3</th>\n",
       "      <td>1</td>\n",
       "      <td>1</td>\n",
       "      <td>female</td>\n",
       "      <td>35.0</td>\n",
       "      <td>1</td>\n",
       "      <td>0</td>\n",
       "      <td>53.1000</td>\n",
       "      <td>C123</td>\n",
       "      <td>S</td>\n",
       "    </tr>\n",
       "    <tr>\n",
       "      <th>4</th>\n",
       "      <td>0</td>\n",
       "      <td>3</td>\n",
       "      <td>male</td>\n",
       "      <td>35.0</td>\n",
       "      <td>0</td>\n",
       "      <td>0</td>\n",
       "      <td>8.0500</td>\n",
       "      <td>NaN</td>\n",
       "      <td>S</td>\n",
       "    </tr>\n",
       "  </tbody>\n",
       "</table>\n",
       "</div>"
      ],
      "text/plain": [
       "  Survived Pclass     Sex   Age SibSp Parch     Fare Cabin Embarked\n",
       "0        0      3    male  22.0     1     0   7.2500   NaN        S\n",
       "1        1      1  female  38.0     1     0  71.2833   C85        C\n",
       "2        1      3  female  26.0     0     0   7.9250   NaN        S\n",
       "3        1      1  female  35.0     1     0  53.1000  C123        S\n",
       "4        0      3    male  35.0     0     0   8.0500   NaN        S"
      ]
     },
     "execution_count": 18,
     "metadata": {},
     "output_type": "execute_result"
    }
   ],
   "source": [
    "df.head()  # Display the first few rows of the DataFrame"
   ]
  },
  {
   "cell_type": "code",
   "execution_count": 19,
   "id": "ba9272db",
   "metadata": {},
   "outputs": [
    {
     "data": {
      "text/html": [
       "<div>\n",
       "<style scoped>\n",
       "    .dataframe tbody tr th:only-of-type {\n",
       "        vertical-align: middle;\n",
       "    }\n",
       "\n",
       "    .dataframe tbody tr th {\n",
       "        vertical-align: top;\n",
       "    }\n",
       "\n",
       "    .dataframe thead th {\n",
       "        text-align: right;\n",
       "    }\n",
       "</style>\n",
       "<table border=\"1\" class=\"dataframe\">\n",
       "  <thead>\n",
       "    <tr style=\"text-align: right;\">\n",
       "      <th></th>\n",
       "      <th>Survived</th>\n",
       "      <th>Pclass</th>\n",
       "      <th>Sex</th>\n",
       "      <th>Age</th>\n",
       "      <th>SibSp</th>\n",
       "      <th>Parch</th>\n",
       "      <th>Fare</th>\n",
       "      <th>Cabin</th>\n",
       "      <th>Embarked</th>\n",
       "    </tr>\n",
       "  </thead>\n",
       "  <tbody>\n",
       "    <tr>\n",
       "      <th>0</th>\n",
       "      <td>0</td>\n",
       "      <td>3</td>\n",
       "      <td>male</td>\n",
       "      <td>22.0</td>\n",
       "      <td>1</td>\n",
       "      <td>0</td>\n",
       "      <td>7.2500</td>\n",
       "      <td>NaN</td>\n",
       "      <td>S</td>\n",
       "    </tr>\n",
       "    <tr>\n",
       "      <th>1</th>\n",
       "      <td>1</td>\n",
       "      <td>1</td>\n",
       "      <td>female</td>\n",
       "      <td>38.0</td>\n",
       "      <td>1</td>\n",
       "      <td>0</td>\n",
       "      <td>71.2833</td>\n",
       "      <td>C85</td>\n",
       "      <td>C</td>\n",
       "    </tr>\n",
       "    <tr>\n",
       "      <th>2</th>\n",
       "      <td>1</td>\n",
       "      <td>3</td>\n",
       "      <td>female</td>\n",
       "      <td>26.0</td>\n",
       "      <td>0</td>\n",
       "      <td>0</td>\n",
       "      <td>7.9250</td>\n",
       "      <td>NaN</td>\n",
       "      <td>S</td>\n",
       "    </tr>\n",
       "    <tr>\n",
       "      <th>3</th>\n",
       "      <td>1</td>\n",
       "      <td>1</td>\n",
       "      <td>female</td>\n",
       "      <td>35.0</td>\n",
       "      <td>1</td>\n",
       "      <td>0</td>\n",
       "      <td>53.1000</td>\n",
       "      <td>C123</td>\n",
       "      <td>S</td>\n",
       "    </tr>\n",
       "    <tr>\n",
       "      <th>4</th>\n",
       "      <td>0</td>\n",
       "      <td>3</td>\n",
       "      <td>male</td>\n",
       "      <td>35.0</td>\n",
       "      <td>0</td>\n",
       "      <td>0</td>\n",
       "      <td>8.0500</td>\n",
       "      <td>NaN</td>\n",
       "      <td>S</td>\n",
       "    </tr>\n",
       "  </tbody>\n",
       "</table>\n",
       "</div>"
      ],
      "text/plain": [
       "  Survived Pclass     Sex   Age SibSp Parch     Fare Cabin Embarked\n",
       "0        0      3    male  22.0     1     0   7.2500   NaN        S\n",
       "1        1      1  female  38.0     1     0  71.2833   C85        C\n",
       "2        1      3  female  26.0     0     0   7.9250   NaN        S\n",
       "3        1      1  female  35.0     1     0  53.1000  C123        S\n",
       "4        0      3    male  35.0     0     0   8.0500   NaN        S"
      ]
     },
     "execution_count": 19,
     "metadata": {},
     "output_type": "execute_result"
    }
   ],
   "source": [
    "df1 = df.dropna(subset=[\"Embarked\"], inplace= True)\n",
    "df.head()\n",
    "#df2 = df.drop(\"Cabin\", axis=1, inplace=True)\n",
    "#df2.head()\n"
   ]
  },
  {
   "cell_type": "code",
   "execution_count": 20,
   "id": "45cad2cc",
   "metadata": {},
   "outputs": [
    {
     "data": {
      "text/plain": [
       "0      22.0\n",
       "1      38.0\n",
       "2      26.0\n",
       "3      35.0\n",
       "4      35.0\n",
       "       ... \n",
       "886    27.0\n",
       "887    19.0\n",
       "888    28.0\n",
       "889    26.0\n",
       "890    32.0\n",
       "Name: Age, Length: 889, dtype: float64"
      ]
     },
     "execution_count": 20,
     "metadata": {},
     "output_type": "execute_result"
    }
   ],
   "source": [
    "median = df['Age'].median()  # Calculate the median of the 'Age' column\n",
    "df['Age'].fillna(median, inplace=True)  # Fill null values in the 'Age' column with the calculated median value\n",
    "df .Age  # Display the first few rows of the 'Age' column after filling null values with the median"
   ]
  },
  {
   "cell_type": "code",
   "execution_count": 21,
   "id": "866cc200",
   "metadata": {},
   "outputs": [
    {
     "data": {
      "text/plain": [
       "Index(['Age', 'Fare'], dtype='object')"
      ]
     },
     "execution_count": 21,
     "metadata": {},
     "output_type": "execute_result"
    }
   ],
   "source": [
    "num_cols =df.select_dtypes('number').columns  # Select all numeric columns in the DataFrame\n",
    "num_cols  # Display the names of all numeric columns in the DataFrame"
   ]
  },
  {
   "cell_type": "code",
   "execution_count": 22,
   "id": "265c9d23",
   "metadata": {},
   "outputs": [
    {
     "data": {
      "image/png": "[encoded data removed]",
      "text/plain": [
       "<Figure size 640x480 with 2 Axes>"
      ]
     },
     "metadata": {},
     "output_type": "display_data"
    }
   ],
   "source": [
    "plt.Figure(figsize=(8, 1)) # Create a new figure with a specified size\n",
    "for i ,col in enumerate(num_cols): # Iterate over the numeric columns in the DataFrame\n",
    "    plt.subplot(1, 2, i+1) # Create a subplot for each numeric column\n",
    "    sns.boxplot(df[col], orient='h')  # Create a horizontal boxen plot for each numeric column in the DataFrame\n",
    "    plt.title(f\"{col} BoxenPlot\")  # Set the title of each subplot to the name of the column\n"
   ]
  },
  {
   "cell_type": "code",
   "execution_count": 22,
   "id": "c49696c2",
   "metadata": {},
   "outputs": [],
   "source": [
    "for col in num_cols:\n",
    "    Q1 = df[col].quantile(0.25)  # Calculate the first quartile (Q1) of the column\n",
    "    Q3 = df[col].quantile(0.75)  # Calculate the third quartile (Q3) of the column\n",
    "    IQR = Q3 - Q1  # Calculate the interquartile range (IQR) of the column\n",
    "\n",
    "    lower_Fance = Q1 - 1.5 * IQR  # Calculate the lower Fance for outliers\n",
    "    upper_Fance = Q3 + 1.5 * IQR  # Calculate the upper Fance for outliers\n",
    "    Lower_outliers = df[df[col] <lower_Fance][col].values\n",
    "    upper_outliers = df[df[col] >upper_Fance][col].values\n",
    "\n",
    "    df[col].replace(Lower_outliers, lower_Fance, inplace=True)  # Replace lower outliers with the lower Fance value\n",
    "    df[col].replace(upper_outliers, upper_Fance, inplace=True)  # Replace upper outliers with the upper Fance value\n",
    "\n",
    "    "
   ]
  },
  {
   "cell_type": "code",
   "execution_count": 23,
   "id": "a4b41b6e",
   "metadata": {},
   "outputs": [
    {
     "data": {
      "image/png": "[encoded data removed]",
      "text/plain": [
       "<Figure size 640x480 with 2 Axes>"
      ]
     },
     "metadata": {},
     "output_type": "display_data"
    }
   ],
   "source": [
    "plt.Figure(figsize=(8, 1)) # Create a new figure with a specified size\n",
    "for i ,col in enumerate(num_cols): # Iterate over the numeric columns in the DataFrame\n",
    "    plt.subplot(1, 2, i+1) # Create a subplot for each numeric column\n",
    "    sns.boxplot(df[col], orient='h')  # Create a horizontal boxen plot for each numeric column in the DataFrame\n",
    "    plt.title(f\"{col} BoxenPlot\")  # Set the title of each subplot to the name of the column"
   ]
  },
  {
   "cell_type": "code",
   "execution_count": 24,
   "id": "8a5a55c2",
   "metadata": {},
   "outputs": [
    {
     "data": {
      "image/png": "[encoded data removed]",
      "text/plain": [
       "<Figure size 640x480 with 2 Axes>"
      ]
     },
     "metadata": {},
     "output_type": "display_data"
    }
   ],
   "source": [
    "plt.Figure(figsize=(9, 2)) # Create a figure with two subplots\n",
    "for i ,col in enumerate(num_cols): # Iterate over the numeric columns in the DataFrame\n",
    "    plt.subplot(1, 2, i+1) # Create a subplot for each numeric column\n",
    "    plt.hist(df[col], edgecolor='black')  # Create a histogram for each numeric column in the DataFrame\n",
    "    plt.title(f\"{col} histogram\")  # Set the title of each subplot to the name of the column"
   ]
  },
  {
   "cell_type": "code",
   "execution_count": 25,
   "id": "5e33945c",
   "metadata": {},
   "outputs": [
    {
     "data": {
      "image/png": "[encoded data removed]",
      "text/plain": [
       "<Figure size 640x480 with 2 Axes>"
      ]
     },
     "metadata": {},
     "output_type": "display_data"
    }
   ],
   "source": [
    "plt.Figure(figsize=(9, 2)) # Create a new figure with a specified size\n",
    "for i ,col in enumerate(num_cols): # Iterate over the numeric columns in the DataFrame\n",
    "    plt.subplot(1, 2, i+1) # Create a subplot for each numeric column\n",
    "    sns.kdeplot(df[col])  # Create a horizontal boxen plot for each numeric column in the DataFrame\n",
    "    plt.title(f\"{col} kdeplot\")  # Set the title of each subplot to the name of the column"
   ]
  },
  {
   "cell_type": "code",
   "execution_count": null,
   "id": "466dfa77",
   "metadata": {},
   "outputs": [
    {
     "data": {
      "text/plain": [
       "Index(['Survived', 'Pclass', 'Sex', 'SibSp', 'Parch', 'Embarked'], dtype='object')"
      ]
     },
     "execution_count": 26,
     "metadata": {},
     "output_type": "execute_result"
    }
   ],
   "source": [
    "Cat_cols =df.select_dtypes('category').columns  #   Select all categorical columns in the DataFrame\n",
    "Cat_cols  # Display the list of numeric column names"
   ]
  },
  {
   "cell_type": "code",
   "execution_count": 41,
   "id": "2e1f867e",
   "metadata": {},
   "outputs": [
    {
     "data": {
      "image/png": "[encoded data removed]",
      "text/plain": [
       "<Figure size 1000x500 with 6 Axes>"
      ]
     },
     "metadata": {},
     "output_type": "display_data"
    }
   ],
   "source": [
    "plt.figure(figsize=(10, 5))  # Create a new figure with a specified size\n",
    "for i ,col in enumerate(Cat_cols): # Iterate over the categorical columns in the DataFrame\n",
    "    plt.subplot(2, 3, i+1) # Create a subplot for each categorical column\n",
    "    sns.countplot(x = col,data=df)  # Create a count plot for each categorical column in the DataFrame\n",
    "    plt.title(f\"{col} distribution countplot\")  # Set the title of each subplot to the name of the columnts\n",
    "\n",
    "plt.subplots_adjust(wspace=0.8, hspace=0.8)  # Adjust the spacing between subplots\n",
    "plt.show()  # Display all the subplots together"
   ]
  },
  {
   "cell_type": "code",
   "execution_count": null,
   "id": "78f5e21c",
   "metadata": {},
   "outputs": [
    {
     "data": {
      "image/png": "[encoded data removed]",
      "text/plain": [
       "<Figure size 1000x500 with 6 Axes>"
      ]
     },
     "metadata": {},
     "output_type": "display_data"
    }
   ],
   "source": [
    "plt.figure(figsize=(10, 5))  # Create a new figure with a specified size\n",
    "for i ,col in enumerate(Cat_cols): # Iterate over the categorical columns in the DataFrame\n",
    "    plt.subplot(2, 3, i+1) # Create a subplot for each categorical column\n",
    "    unique = df[col].value_counts()  # Count the occurrences of each unique value in the categorical column\n",
    "    count = unique.values  # Get the count of each unique value in the categorical column\n",
    "    categories = unique.index  # Get the unique categories in the categorical column\n",
    "    plt.pie(count, labels=categories, startangle=140 , autopct='%1.1d%%')  # Create a pie chart for each categorical column in the DataFrame\n",
    "    plt.title(f\"{col} distribution countplot\")  # Set the title of each subplot to the name of the columnts\n",
    "plt.subplots_adjust(wspace=0.8, hspace=0.8)  # Adjust the spacing between subplots\n",
    "plt.show()  # Display all the subplots together"
   ]
  },
  {
   "cell_type": "code",
   "execution_count": 51,
   "id": "58aa9c3b",
   "metadata": {},
   "outputs": [
    {
     "data": {
      "image/png": "[encoded data removed]",
      "text/plain": [
       "<Figure size 640x480 with 1 Axes>"
      ]
     },
     "metadata": {},
     "output_type": "display_data"
    }
   ],
   "source": [
    "plt.Figure(figsize=(2, 2))  # Create a new figure with a specified size\n",
    "plt.scatter(df['Age'], df['Fare'])  # Create a scatter plot of the 'Age' and 'Fare' columns in the DataFrame\n",
    "plt.xlabel('Age')  # Set the x-axis label to 'Age'\n",
    "plt.ylabel('Fare')  # Set the y-axis label to 'Fare'\n",
    "plt.show()  # Display the scatter plot"
   ]
  },
  {
   "cell_type": "code",
   "execution_count": 52,
   "id": "a90a4168",
   "metadata": {},
   "outputs": [
    {
     "data": {
      "text/plain": [
       "<seaborn.axisgrid.PairGrid at 0x26b4a2b3a10>"
      ]
     },
     "execution_count": 52,
     "metadata": {},
     "output_type": "execute_result"
    },
    {
     "data": {
      "image/png": "[encoded data removed]",
      "text/plain": [
       "<Figure size 500x500 with 6 Axes>"
      ]
     },
     "metadata": {},
     "output_type": "display_data"
    }
   ],
   "source": [
    "sns.pairplot(df)"
   ]
  },
  {
   "cell_type": "code",
   "execution_count": 57,
   "id": "5082a517",
   "metadata": {},
   "outputs": [
    {
     "data": {
      "image/png": "[encoded data removed]",
      "text/plain": [
       "<Figure size 500x500 with 2 Axes>"
      ]
     },
     "metadata": {},
     "output_type": "display_data"
    }
   ],
   "source": [
    "corr = df[['Age','Fare']].corr()  # Calculate the correlation matrix of the DataFrame\n",
    "plt.figure(figsize=(5, 5))  # Create a new figure with a specified size\n",
    "sns.heatmap(corr, annot=True )  # Create a heatmap of the correlation matrix with annotations and a specified color map\n",
    "plt.show()  # Display the heatmap"
   ]
  },
  {
   "cell_type": "code",
   "execution_count": null,
   "id": "74adfb36",
   "metadata": {},
   "outputs": [
    {
     "data": {
      "image/png": "[encoded data removed]",
      "text/plain": [
       "<Figure size 640x480 with 1 Axes>"
      ]
     },
     "metadata": {},
     "output_type": "display_data"
    }
   ],
   "source": [
    "plt.Figure(figsize=(2, 2))  # Create a new figure with a specified size\n",
    "sns.barplot(x='Survived', y='Fare', data=df)  # Create a bar plot showing the average fare for each survival status in the DataFrame\n",
    "plt.show()  # Display the bar plot"
   ]
  },
  {
   "cell_type": "code",
   "execution_count": 60,
   "id": "7c3f6951",
   "metadata": {},
   "outputs": [
    {
     "data": {
      "image/png": "[encoded data removed]",
      "text/plain": [
       "<Figure size 200x200 with 2 Axes>"
      ]
     },
     "metadata": {},
     "output_type": "display_data"
    }
   ],
   "source": [
    "plt.figure(figsize=(2, 2))  # Create a new figure with a specified size\n",
    "agg = df.pivot_table(index='Survived', columns='Sex', values='Age', aggfunc= len)  # Create a pivot table showing the average fare for each survival status and sex in the DataFrame\n",
    "sns.heatmap(agg) # Create a heatmap of the pivot table with annotations and a specified color map\n",
    "plt.show()  # Display the heatmap"
   ]
  },
  {
   "cell_type": "code",
   "execution_count": 61,
   "id": "0587f83a",
   "metadata": {},
   "outputs": [],
   "source": [
    "df.duplicated().sum()  # Check if there are any duplicate rows in the DataFrame and count them\n",
    "df.drop_duplicates(inplace=True)  # Drop duplicate rows from the DataFrame"
   ]
  },
  {
   "cell_type": "code",
   "execution_count": 63,
   "id": "79073ade",
   "metadata": {},
   "outputs": [
    {
     "data": {
      "text/html": [
       "<div>\n",
       "<style scoped>\n",
       "    .dataframe tbody tr th:only-of-type {\n",
       "        vertical-align: middle;\n",
       "    }\n",
       "\n",
       "    .dataframe tbody tr th {\n",
       "        vertical-align: top;\n",
       "    }\n",
       "\n",
       "    .dataframe thead th {\n",
       "        text-align: right;\n",
       "    }\n",
       "</style>\n",
       "<table border=\"1\" class=\"dataframe\">\n",
       "  <thead>\n",
       "    <tr style=\"text-align: right;\">\n",
       "      <th></th>\n",
       "      <th>Survived</th>\n",
       "      <th>Pclass</th>\n",
       "      <th>Sex</th>\n",
       "      <th>Age</th>\n",
       "      <th>SibSp</th>\n",
       "      <th>Parch</th>\n",
       "      <th>Fare</th>\n",
       "      <th>Cabin</th>\n",
       "      <th>Embarked</th>\n",
       "    </tr>\n",
       "  </thead>\n",
       "  <tbody>\n",
       "    <tr>\n",
       "      <th>0</th>\n",
       "      <td>0</td>\n",
       "      <td>3</td>\n",
       "      <td>male</td>\n",
       "      <td>22.0</td>\n",
       "      <td>1</td>\n",
       "      <td>0</td>\n",
       "      <td>7.2500</td>\n",
       "      <td>NaN</td>\n",
       "      <td>S</td>\n",
       "    </tr>\n",
       "    <tr>\n",
       "      <th>1</th>\n",
       "      <td>1</td>\n",
       "      <td>1</td>\n",
       "      <td>female</td>\n",
       "      <td>38.0</td>\n",
       "      <td>1</td>\n",
       "      <td>0</td>\n",
       "      <td>65.6563</td>\n",
       "      <td>C85</td>\n",
       "      <td>C</td>\n",
       "    </tr>\n",
       "    <tr>\n",
       "      <th>2</th>\n",
       "      <td>1</td>\n",
       "      <td>3</td>\n",
       "      <td>female</td>\n",
       "      <td>26.0</td>\n",
       "      <td>0</td>\n",
       "      <td>0</td>\n",
       "      <td>7.9250</td>\n",
       "      <td>NaN</td>\n",
       "      <td>S</td>\n",
       "    </tr>\n",
       "    <tr>\n",
       "      <th>3</th>\n",
       "      <td>1</td>\n",
       "      <td>1</td>\n",
       "      <td>female</td>\n",
       "      <td>35.0</td>\n",
       "      <td>1</td>\n",
       "      <td>0</td>\n",
       "      <td>53.1000</td>\n",
       "      <td>C123</td>\n",
       "      <td>S</td>\n",
       "    </tr>\n",
       "    <tr>\n",
       "      <th>4</th>\n",
       "      <td>0</td>\n",
       "      <td>3</td>\n",
       "      <td>male</td>\n",
       "      <td>35.0</td>\n",
       "      <td>0</td>\n",
       "      <td>0</td>\n",
       "      <td>8.0500</td>\n",
       "      <td>NaN</td>\n",
       "      <td>S</td>\n",
       "    </tr>\n",
       "  </tbody>\n",
       "</table>\n",
       "</div>"
      ],
      "text/plain": [
       "  Survived Pclass     Sex   Age SibSp Parch     Fare Cabin Embarked\n",
       "0        0      3    male  22.0     1     0   7.2500   NaN        S\n",
       "1        1      1  female  38.0     1     0  65.6563   C85        C\n",
       "2        1      3  female  26.0     0     0   7.9250   NaN        S\n",
       "3        1      1  female  35.0     1     0  53.1000  C123        S\n",
       "4        0      3    male  35.0     0     0   8.0500   NaN        S"
      ]
     },
     "execution_count": 63,
     "metadata": {},
     "output_type": "execute_result"
    }
   ],
   "source": [
    "df.head()  # Display the first few rows of the DataFrame"
   ]
  },
  {
   "cell_type": "code",
   "execution_count": 64,
   "id": "9d247268",
   "metadata": {},
   "outputs": [
    {
     "data": {
      "text/html": [
       "<div>\n",
       "<style scoped>\n",
       "    .dataframe tbody tr th:only-of-type {\n",
       "        vertical-align: middle;\n",
       "    }\n",
       "\n",
       "    .dataframe tbody tr th {\n",
       "        vertical-align: top;\n",
       "    }\n",
       "\n",
       "    .dataframe thead th {\n",
       "        text-align: right;\n",
       "    }\n",
       "</style>\n",
       "<table border=\"1\" class=\"dataframe\">\n",
       "  <thead>\n",
       "    <tr style=\"text-align: right;\">\n",
       "      <th></th>\n",
       "      <th>Survived</th>\n",
       "      <th>Pclass</th>\n",
       "      <th>Sex</th>\n",
       "      <th>Age</th>\n",
       "      <th>SibSp</th>\n",
       "      <th>Parch</th>\n",
       "      <th>Fare</th>\n",
       "      <th>Embarked</th>\n",
       "    </tr>\n",
       "  </thead>\n",
       "  <tbody>\n",
       "    <tr>\n",
       "      <th>0</th>\n",
       "      <td>0</td>\n",
       "      <td>3</td>\n",
       "      <td>male</td>\n",
       "      <td>22.0</td>\n",
       "      <td>1</td>\n",
       "      <td>0</td>\n",
       "      <td>7.2500</td>\n",
       "      <td>S</td>\n",
       "    </tr>\n",
       "    <tr>\n",
       "      <th>1</th>\n",
       "      <td>1</td>\n",
       "      <td>1</td>\n",
       "      <td>female</td>\n",
       "      <td>38.0</td>\n",
       "      <td>1</td>\n",
       "      <td>0</td>\n",
       "      <td>65.6563</td>\n",
       "      <td>C</td>\n",
       "    </tr>\n",
       "    <tr>\n",
       "      <th>2</th>\n",
       "      <td>1</td>\n",
       "      <td>3</td>\n",
       "      <td>female</td>\n",
       "      <td>26.0</td>\n",
       "      <td>0</td>\n",
       "      <td>0</td>\n",
       "      <td>7.9250</td>\n",
       "      <td>S</td>\n",
       "    </tr>\n",
       "    <tr>\n",
       "      <th>3</th>\n",
       "      <td>1</td>\n",
       "      <td>1</td>\n",
       "      <td>female</td>\n",
       "      <td>35.0</td>\n",
       "      <td>1</td>\n",
       "      <td>0</td>\n",
       "      <td>53.1000</td>\n",
       "      <td>S</td>\n",
       "    </tr>\n",
       "    <tr>\n",
       "      <th>4</th>\n",
       "      <td>0</td>\n",
       "      <td>3</td>\n",
       "      <td>male</td>\n",
       "      <td>35.0</td>\n",
       "      <td>0</td>\n",
       "      <td>0</td>\n",
       "      <td>8.0500</td>\n",
       "      <td>S</td>\n",
       "    </tr>\n",
       "  </tbody>\n",
       "</table>\n",
       "</div>"
      ],
      "text/plain": [
       "  Survived Pclass     Sex   Age SibSp Parch     Fare Embarked\n",
       "0        0      3    male  22.0     1     0   7.2500        S\n",
       "1        1      1  female  38.0     1     0  65.6563        C\n",
       "2        1      3  female  26.0     0     0   7.9250        S\n",
       "3        1      1  female  35.0     1     0  53.1000        S\n",
       "4        0      3    male  35.0     0     0   8.0500        S"
      ]
     },
     "execution_count": 64,
     "metadata": {},
     "output_type": "execute_result"
    }
   ],
   "source": [
    "df.drop('Cabin' , axis=1, inplace=True)  # Drop the 'Cabin' column from the DataFrame\n",
    "df.head()  # Display the first few rows of the DataFrame after dropping the 'Cab"
   ]
  },
  {
   "cell_type": "code",
   "execution_count": 68,
   "id": "ab001d7c",
   "metadata": {},
   "outputs": [],
   "source": [
    "# X = df.drop('Survived', axis=1)  # Create a new DataFrame containing all columns except 'Survived'\n",
    "X = df.iloc[:, 1:]  # Select all columns except the first column (index 0) from the DataFrame\n",
    "y = df['Survived']  # Create a new Series containing only the 'Survived' column from the DataFrame\n"
   ]
  },
  {
   "cell_type": "code",
   "execution_count": 69,
   "id": "4dba4d34",
   "metadata": {},
   "outputs": [
    {
     "data": {
      "text/html": [
       "<div>\n",
       "<style scoped>\n",
       "    .dataframe tbody tr th:only-of-type {\n",
       "        vertical-align: middle;\n",
       "    }\n",
       "\n",
       "    .dataframe tbody tr th {\n",
       "        vertical-align: top;\n",
       "    }\n",
       "\n",
       "    .dataframe thead th {\n",
       "        text-align: right;\n",
       "    }\n",
       "</style>\n",
       "<table border=\"1\" class=\"dataframe\">\n",
       "  <thead>\n",
       "    <tr style=\"text-align: right;\">\n",
       "      <th></th>\n",
       "      <th>Pclass</th>\n",
       "      <th>Sex</th>\n",
       "      <th>Age</th>\n",
       "      <th>SibSp</th>\n",
       "      <th>Parch</th>\n",
       "      <th>Fare</th>\n",
       "      <th>Embarked</th>\n",
       "    </tr>\n",
       "  </thead>\n",
       "  <tbody>\n",
       "    <tr>\n",
       "      <th>0</th>\n",
       "      <td>3</td>\n",
       "      <td>male</td>\n",
       "      <td>22.0</td>\n",
       "      <td>1</td>\n",
       "      <td>0</td>\n",
       "      <td>7.2500</td>\n",
       "      <td>S</td>\n",
       "    </tr>\n",
       "    <tr>\n",
       "      <th>1</th>\n",
       "      <td>1</td>\n",
       "      <td>female</td>\n",
       "      <td>38.0</td>\n",
       "      <td>1</td>\n",
       "      <td>0</td>\n",
       "      <td>65.6563</td>\n",
       "      <td>C</td>\n",
       "    </tr>\n",
       "    <tr>\n",
       "      <th>2</th>\n",
       "      <td>3</td>\n",
       "      <td>female</td>\n",
       "      <td>26.0</td>\n",
       "      <td>0</td>\n",
       "      <td>0</td>\n",
       "      <td>7.9250</td>\n",
       "      <td>S</td>\n",
       "    </tr>\n",
       "    <tr>\n",
       "      <th>3</th>\n",
       "      <td>1</td>\n",
       "      <td>female</td>\n",
       "      <td>35.0</td>\n",
       "      <td>1</td>\n",
       "      <td>0</td>\n",
       "      <td>53.1000</td>\n",
       "      <td>S</td>\n",
       "    </tr>\n",
       "    <tr>\n",
       "      <th>4</th>\n",
       "      <td>3</td>\n",
       "      <td>male</td>\n",
       "      <td>35.0</td>\n",
       "      <td>0</td>\n",
       "      <td>0</td>\n",
       "      <td>8.0500</td>\n",
       "      <td>S</td>\n",
       "    </tr>\n",
       "  </tbody>\n",
       "</table>\n",
       "</div>"
      ],
      "text/plain": [
       "  Pclass     Sex   Age SibSp Parch     Fare Embarked\n",
       "0      3    male  22.0     1     0   7.2500        S\n",
       "1      1  female  38.0     1     0  65.6563        C\n",
       "2      3  female  26.0     0     0   7.9250        S\n",
       "3      1  female  35.0     1     0  53.1000        S\n",
       "4      3    male  35.0     0     0   8.0500        S"
      ]
     },
     "execution_count": 69,
     "metadata": {},
     "output_type": "execute_result"
    }
   ],
   "source": [
    "X.head()  # Display the first few rows of the DataFrame containing all columns except 'Survived'"
   ]
  },
  {
   "cell_type": "code",
   "execution_count": 70,
   "id": "e7278643",
   "metadata": {},
   "outputs": [
    {
     "data": {
      "text/plain": [
       "0      0\n",
       "1      1\n",
       "2      1\n",
       "3      1\n",
       "4      0\n",
       "      ..\n",
       "885    0\n",
       "887    1\n",
       "888    0\n",
       "889    1\n",
       "890    0\n",
       "Name: Survived, Length: 773, dtype: category\n",
       "Categories (2, int64): [0, 1]"
      ]
     },
     "execution_count": 70,
     "metadata": {},
     "output_type": "execute_result"
    }
   ],
   "source": [
    "y.T"
   ]
  },
  {
   "cell_type": "code",
   "execution_count": 72,
   "id": "1485edb0",
   "metadata": {},
   "outputs": [
    {
     "name": "stdout",
     "output_type": "stream",
     "text": [
      "Collecting scikit-learn\n",
      "  Downloading scikit_learn-1.7.1-cp313-cp313-win_amd64.whl.metadata (11 kB)\n",
      "Requirement already satisfied: numpy>=1.22.0 in c:\\users\\mgama\\ai_amit_diploma\\.venv\\lib\\site-packages (from scikit-learn) (2.3.0)\n",
      "Collecting scipy>=1.8.0 (from scikit-learn)\n",
      "  Downloading scipy-1.16.1-cp313-cp313-win_amd64.whl.metadata (60 kB)\n",
      "Requirement already satisfied: joblib>=1.2.0 in c:\\users\\mgama\\ai_amit_diploma\\.venv\\lib\\site-packages (from scikit-learn) (1.5.1)\n",
      "Collecting threadpoolctl>=3.1.0 (from scikit-learn)\n",
      "  Downloading threadpoolctl-3.6.0-py3-none-any.whl.metadata (13 kB)\n",
      "Downloading scikit_learn-1.7.1-cp313-cp313-win_amd64.whl (8.7 MB)\n",
      "   ---------------------------------------- 0.0/8.7 MB ? eta -:--:--\n",
      "   -- ------------------------------------- 0.5/8.7 MB 3.9 MB/s eta 0:00:03\n",
      "   ------ --------------------------------- 1.3/8.7 MB 3.9 MB/s eta 0:00:02\n",
      "   --------- ------------------------------ 2.1/8.7 MB 3.9 MB/s eta 0:00:02\n",
      "   ------------- -------------------------- 2.9/8.7 MB 3.9 MB/s eta 0:00:02\n",
      "   ------------------ --------------------- 3.9/8.7 MB 3.9 MB/s eta 0:00:02\n",
      "   --------------------- ------------------ 4.7/8.7 MB 3.9 MB/s eta 0:00:02\n",
      "   ------------------------- -------------- 5.5/8.7 MB 3.9 MB/s eta 0:00:01\n",
      "   ---------------------------- ----------- 6.3/8.7 MB 3.8 MB/s eta 0:00:01\n",
      "   ------------------------------- -------- 6.8/8.7 MB 3.7 MB/s eta 0:00:01\n",
      "   ---------------------------------- ----- 7.6/8.7 MB 3.7 MB/s eta 0:00:01\n",
      "   -------------------------------------- - 8.4/8.7 MB 3.7 MB/s eta 0:00:01\n",
      "   ---------------------------------------- 8.7/8.7 MB 3.7 MB/s eta 0:00:00\n",
      "Downloading scipy-1.16.1-cp313-cp313-win_amd64.whl (38.5 MB)\n",
      "   ---------------------------------------- 0.0/38.5 MB ? eta -:--:--\n",
      "    --------------------------------------- 0.5/38.5 MB 3.9 MB/s eta 0:00:10\n",
      "   - -------------------------------------- 1.3/38.5 MB 3.8 MB/s eta 0:00:10\n",
      "   -- ------------------------------------- 2.1/38.5 MB 3.7 MB/s eta 0:00:10\n",
      "   -- ------------------------------------- 2.9/38.5 MB 3.6 MB/s eta 0:00:10\n",
      "   --- ------------------------------------ 3.7/38.5 MB 3.5 MB/s eta 0:00:10\n",
      "   ---- ----------------------------------- 4.2/38.5 MB 3.5 MB/s eta 0:00:10\n",
      "   ----- ---------------------------------- 5.0/38.5 MB 3.5 MB/s eta 0:00:10\n",
      "   ----- ---------------------------------- 5.8/38.5 MB 3.5 MB/s eta 0:00:10\n",
      "   ------ --------------------------------- 6.6/38.5 MB 3.5 MB/s eta 0:00:10\n",
      "   ------- -------------------------------- 7.1/38.5 MB 3.5 MB/s eta 0:00:10\n",
      "   -------- ------------------------------- 7.9/38.5 MB 3.5 MB/s eta 0:00:09\n",
      "   -------- ------------------------------- 8.7/38.5 MB 3.5 MB/s eta 0:00:09\n",
      "   --------- ------------------------------ 9.2/38.5 MB 3.5 MB/s eta 0:00:09\n",
      "   ---------- ----------------------------- 10.0/38.5 MB 3.5 MB/s eta 0:00:09\n",
      "   ----------- ---------------------------- 10.7/38.5 MB 3.5 MB/s eta 0:00:09\n",
      "   ----------- ---------------------------- 11.3/38.5 MB 3.5 MB/s eta 0:00:08\n",
      "   ------------ --------------------------- 12.1/38.5 MB 3.5 MB/s eta 0:00:08\n",
      "   ------------- -------------------------- 12.8/38.5 MB 3.5 MB/s eta 0:00:08\n",
      "   -------------- ------------------------- 13.6/38.5 MB 3.5 MB/s eta 0:00:08\n",
      "   -------------- ------------------------- 14.4/38.5 MB 3.5 MB/s eta 0:00:07\n",
      "   --------------- ------------------------ 15.2/38.5 MB 3.5 MB/s eta 0:00:07\n",
      "   ---------------- ----------------------- 16.0/38.5 MB 3.5 MB/s eta 0:00:07\n",
      "   ----------------- ---------------------- 16.8/38.5 MB 3.5 MB/s eta 0:00:07\n",
      "   ------------------ --------------------- 17.6/38.5 MB 3.5 MB/s eta 0:00:06\n",
      "   ------------------- -------------------- 18.4/38.5 MB 3.5 MB/s eta 0:00:06\n",
      "   ------------------- -------------------- 19.1/38.5 MB 3.5 MB/s eta 0:00:06\n",
      "   -------------------- ------------------- 19.9/38.5 MB 3.5 MB/s eta 0:00:06\n",
      "   --------------------- ------------------ 20.4/38.5 MB 3.5 MB/s eta 0:00:06\n",
      "   ---------------------- ----------------- 21.2/38.5 MB 3.5 MB/s eta 0:00:05\n",
      "   ---------------------- ----------------- 22.0/38.5 MB 3.5 MB/s eta 0:00:05\n",
      "   ----------------------- ---------------- 22.8/38.5 MB 3.5 MB/s eta 0:00:05\n",
      "   ------------------------ --------------- 23.6/38.5 MB 3.5 MB/s eta 0:00:05\n",
      "   ------------------------- -------------- 24.4/38.5 MB 3.5 MB/s eta 0:00:04\n",
      "   -------------------------- ------------- 25.2/38.5 MB 3.5 MB/s eta 0:00:04\n",
      "   -------------------------- ------------- 26.0/38.5 MB 3.5 MB/s eta 0:00:04\n",
      "   --------------------------- ------------ 26.7/38.5 MB 3.5 MB/s eta 0:00:04\n",
      "   ---------------------------- ----------- 27.3/38.5 MB 3.5 MB/s eta 0:00:04\n",
      "   ----------------------------- ---------- 28.0/38.5 MB 3.5 MB/s eta 0:00:03\n",
      "   ----------------------------- ---------- 28.8/38.5 MB 3.5 MB/s eta 0:00:03\n",
      "   ------------------------------ --------- 29.4/38.5 MB 3.5 MB/s eta 0:00:03\n",
      "   ------------------------------- -------- 30.1/38.5 MB 3.5 MB/s eta 0:00:03\n",
      "   -------------------------------- ------- 30.9/38.5 MB 3.5 MB/s eta 0:00:03\n",
      "   -------------------------------- ------- 31.7/38.5 MB 3.5 MB/s eta 0:00:02\n",
      "   --------------------------------- ------ 32.5/38.5 MB 3.5 MB/s eta 0:00:02\n",
      "   ---------------------------------- ----- 33.0/38.5 MB 3.5 MB/s eta 0:00:02\n",
      "   ----------------------------------- ---- 33.8/38.5 MB 3.5 MB/s eta 0:00:02\n",
      "   ----------------------------------- ---- 34.3/38.5 MB 3.5 MB/s eta 0:00:02\n",
      "   ------------------------------------ --- 35.1/38.5 MB 3.5 MB/s eta 0:00:01\n",
      "   ------------------------------------- -- 35.9/38.5 MB 3.5 MB/s eta 0:00:01\n",
      "   ------------------------------------- -- 36.4/38.5 MB 3.5 MB/s eta 0:00:01\n",
      "   -------------------------------------- - 37.0/38.5 MB 3.5 MB/s eta 0:00:01\n",
      "   ---------------------------------------  37.7/38.5 MB 3.5 MB/s eta 0:00:01\n",
      "   ---------------------------------------  38.3/38.5 MB 3.5 MB/s eta 0:00:01\n",
      "   ---------------------------------------- 38.5/38.5 MB 3.4 MB/s eta 0:00:00\n",
      "Downloading threadpoolctl-3.6.0-py3-none-any.whl (18 kB)\n",
      "Installing collected packages: threadpoolctl, scipy, scikit-learn\n",
      "\n",
      "   ------------- -------------------------- 1/3 [scipy]\n",
      "   ------------- -------------------------- 1/3 [scipy]\n",
      "   ------------- -------------------------- 1/3 [scipy]\n",
      "   ------------- -------------------------- 1/3 [scipy]\n",
      "   ------------- -------------------------- 1/3 [scipy]\n",
      "   ------------- -------------------------- 1/3 [scipy]\n",
      "   ------------- -------------------------- 1/3 [scipy]\n",
      "   ------------- -------------------------- 1/3 [scipy]\n",
      "   ------------- -------------------------- 1/3 [scipy]\n",
      "   ------------- -------------------------- 1/3 [scipy]\n",
      "   ------------- -------------------------- 1/3 [scipy]\n",
      "   ------------- -------------------------- 1/3 [scipy]\n",
      "   ------------- -------------------------- 1/3 [scipy]\n",
      "   ------------- -------------------------- 1/3 [scipy]\n",
      "   ------------- -------------------------- 1/3 [scipy]\n",
      "   ------------- -------------------------- 1/3 [scipy]\n",
      "   ------------- -------------------------- 1/3 [scipy]\n",
      "   ------------- -------------------------- 1/3 [scipy]\n",
      "   ------------- -------------------------- 1/3 [scipy]\n",
      "   ------------- -------------------------- 1/3 [scipy]\n",
      "   ------------- -------------------------- 1/3 [scipy]\n",
      "   ------------- -------------------------- 1/3 [scipy]\n",
      "   ------------- -------------------------- 1/3 [scipy]\n",
      "   ------------- -------------------------- 1/3 [scipy]\n",
      "   ------------- -------------------------- 1/3 [scipy]\n",
      "   ------------- -------------------------- 1/3 [scipy]\n",
      "   ------------- -------------------------- 1/3 [scipy]\n",
      "   ------------- -------------------------- 1/3 [scipy]\n",
      "   ------------- -------------------------- 1/3 [scipy]\n",
      "   ------------- -------------------------- 1/3 [scipy]\n",
      "   ------------- -------------------------- 1/3 [scipy]\n",
      "   ------------- -------------------------- 1/3 [scipy]\n",
      "   ------------- -------------------------- 1/3 [scipy]\n",
      "   ------------- -------------------------- 1/3 [scipy]\n",
      "   ------------- -------------------------- 1/3 [scipy]\n",
      "   ------------- -------------------------- 1/3 [scipy]\n",
      "   ------------- -------------------------- 1/3 [scipy]\n",
      "   ------------- -------------------------- 1/3 [scipy]\n",
      "   ------------- -------------------------- 1/3 [scipy]\n",
      "   ------------- -------------------------- 1/3 [scipy]\n",
      "   ------------- -------------------------- 1/3 [scipy]\n",
      "   ------------- -------------------------- 1/3 [scipy]\n",
      "   ------------- -------------------------- 1/3 [scipy]\n",
      "   ------------- -------------------------- 1/3 [scipy]\n",
      "   ------------- -------------------------- 1/3 [scipy]\n",
      "   ------------- -------------------------- 1/3 [scipy]\n",
      "   ------------- -------------------------- 1/3 [scipy]\n",
      "   ------------- -------------------------- 1/3 [scipy]\n",
      "   ------------- -------------------------- 1/3 [scipy]\n",
      "   ------------- -------------------------- 1/3 [scipy]\n",
      "   ------------- -------------------------- 1/3 [scipy]\n",
      "   ------------- -------------------------- 1/3 [scipy]\n",
      "   ------------- -------------------------- 1/3 [scipy]\n",
      "   ------------- -------------------------- 1/3 [scipy]\n",
      "   ------------- -------------------------- 1/3 [scipy]\n",
      "   ------------- -------------------------- 1/3 [scipy]\n",
      "   ------------- -------------------------- 1/3 [scipy]\n",
      "   ------------- -------------------------- 1/3 [scipy]\n",
      "   ------------- -------------------------- 1/3 [scipy]\n",
      "   ------------- -------------------------- 1/3 [scipy]\n",
      "   ------------- -------------------------- 1/3 [scipy]\n",
      "   ------------- -------------------------- 1/3 [scipy]\n",
      "   ------------- -------------------------- 1/3 [scipy]\n",
      "   ------------- -------------------------- 1/3 [scipy]\n",
      "   ------------- -------------------------- 1/3 [scipy]\n",
      "   ------------- -------------------------- 1/3 [scipy]\n",
      "   ------------- -------------------------- 1/3 [scipy]\n",
      "   ------------- -------------------------- 1/3 [scipy]\n",
      "   ------------- -------------------------- 1/3 [scipy]\n",
      "   ------------- -------------------------- 1/3 [scipy]\n",
      "   ------------- -------------------------- 1/3 [scipy]\n",
      "   ------------- -------------------------- 1/3 [scipy]\n",
      "   ------------- -------------------------- 1/3 [scipy]\n",
      "   ------------- -------------------------- 1/3 [scipy]\n",
      "   ------------- -------------------------- 1/3 [scipy]\n",
      "   ------------- -------------------------- 1/3 [scipy]\n",
      "   ------------- -------------------------- 1/3 [scipy]\n",
      "   ------------- -------------------------- 1/3 [scipy]\n",
      "   ------------- -------------------------- 1/3 [scipy]\n",
      "   ------------- -------------------------- 1/3 [scipy]\n",
      "   ------------- -------------------------- 1/3 [scipy]\n",
      "   ------------- -------------------------- 1/3 [scipy]\n",
      "   ------------- -------------------------- 1/3 [scipy]\n",
      "   ------------- -------------------------- 1/3 [scipy]\n",
      "   ------------- -------------------------- 1/3 [scipy]\n",
      "   ------------- -------------------------- 1/3 [scipy]\n",
      "   ------------- -------------------------- 1/3 [scipy]\n",
      "   -------------------------- ------------- 2/3 [scikit-learn]\n",
      "   -------------------------- ------------- 2/3 [scikit-learn]\n",
      "   -------------------------- ------------- 2/3 [scikit-learn]\n",
      "   -------------------------- ------------- 2/3 [scikit-learn]\n",
      "   -------------------------- ------------- 2/3 [scikit-learn]\n",
      "   -------------------------- ------------- 2/3 [scikit-learn]\n",
      "   -------------------------- ------------- 2/3 [scikit-learn]\n",
      "   -------------------------- ------------- 2/3 [scikit-learn]\n",
      "   -------------------------- ------------- 2/3 [scikit-learn]\n",
      "   -------------------------- ------------- 2/3 [scikit-learn]\n",
      "   -------------------------- ------------- 2/3 [scikit-learn]\n",
      "   -------------------------- ------------- 2/3 [scikit-learn]\n",
      "   -------------------------- ------------- 2/3 [scikit-learn]\n",
      "   -------------------------- ------------- 2/3 [scikit-learn]\n",
      "   -------------------------- ------------- 2/3 [scikit-learn]\n",
      "   -------------------------- ------------- 2/3 [scikit-learn]\n",
      "   -------------------------- ------------- 2/3 [scikit-learn]\n",
      "   -------------------------- ------------- 2/3 [scikit-learn]\n",
      "   -------------------------- ------------- 2/3 [scikit-learn]\n",
      "   -------------------------- ------------- 2/3 [scikit-learn]\n",
      "   -------------------------- ------------- 2/3 [scikit-learn]\n",
      "   -------------------------- ------------- 2/3 [scikit-learn]\n",
      "   -------------------------- ------------- 2/3 [scikit-learn]\n",
      "   -------------------------- ------------- 2/3 [scikit-learn]\n",
      "   -------------------------- ------------- 2/3 [scikit-learn]\n",
      "   -------------------------- ------------- 2/3 [scikit-learn]\n",
      "   -------------------------- ------------- 2/3 [scikit-learn]\n",
      "   -------------------------- ------------- 2/3 [scikit-learn]\n",
      "   -------------------------- ------------- 2/3 [scikit-learn]\n",
      "   -------------------------- ------------- 2/3 [scikit-learn]\n",
      "   -------------------------- ------------- 2/3 [scikit-learn]\n",
      "   -------------------------- ------------- 2/3 [scikit-learn]\n",
      "   -------------------------- ------------- 2/3 [scikit-learn]\n",
      "   -------------------------- ------------- 2/3 [scikit-learn]\n",
      "   -------------------------- ------------- 2/3 [scikit-learn]\n",
      "   -------------------------- ------------- 2/3 [scikit-learn]\n",
      "   -------------------------- ------------- 2/3 [scikit-learn]\n",
      "   -------------------------- ------------- 2/3 [scikit-learn]\n",
      "   -------------------------- ------------- 2/3 [scikit-learn]\n",
      "   -------------------------- ------------- 2/3 [scikit-learn]\n",
      "   -------------------------- ------------- 2/3 [scikit-learn]\n",
      "   -------------------------- ------------- 2/3 [scikit-learn]\n",
      "   -------------------------- ------------- 2/3 [scikit-learn]\n",
      "   -------------------------- ------------- 2/3 [scikit-learn]\n",
      "   -------------------------- ------------- 2/3 [scikit-learn]\n",
      "   -------------------------- ------------- 2/3 [scikit-learn]\n",
      "   -------------------------- ------------- 2/3 [scikit-learn]\n",
      "   -------------------------- ------------- 2/3 [scikit-learn]\n",
      "   -------------------------- ------------- 2/3 [scikit-learn]\n",
      "   -------------------------- ------------- 2/3 [scikit-learn]\n",
      "   -------------------------- ------------- 2/3 [scikit-learn]\n",
      "   -------------------------- ------------- 2/3 [scikit-learn]\n",
      "   ---------------------------------------- 3/3 [scikit-learn]\n",
      "\n",
      "Successfully installed scikit-learn-1.7.1 scipy-1.16.1 threadpoolctl-3.6.0\n",
      "Note: you may need to restart the kernel to use updated packages.\n"
     ]
    },
    {
     "name": "stderr",
     "output_type": "stream",
     "text": [
      "\n",
      "[notice] A new release of pip is available: 25.1.1 -> 25.2\n",
      "[notice] To update, run: python.exe -m pip install --upgrade pip\n"
     ]
    }
   ],
   "source": [
    "pip install scikit-learn  "
   ]
  },
  {
   "cell_type": "code",
   "execution_count": null,
   "id": "c691fe17",
   "metadata": {},
   "outputs": [],
   "source": [
    "from sklearn.preprocessing import MinMaxScaler  # Import the MinMaxScaler class from the scikit-learn library\n",
    "scaler = MinMaxScaler()  # Create a new instance of the MinMaxScaler class"
   ]
  },
  {
   "cell_type": "code",
   "execution_count": 77,
   "id": "17c711f5",
   "metadata": {},
   "outputs": [
    {
     "data": {
      "text/html": [
       "<div>\n",
       "<style scoped>\n",
       "    .dataframe tbody tr th:only-of-type {\n",
       "        vertical-align: middle;\n",
       "    }\n",
       "\n",
       "    .dataframe tbody tr th {\n",
       "        vertical-align: top;\n",
       "    }\n",
       "\n",
       "    .dataframe thead th {\n",
       "        text-align: right;\n",
       "    }\n",
       "</style>\n",
       "<table border=\"1\" class=\"dataframe\">\n",
       "  <thead>\n",
       "    <tr style=\"text-align: right;\">\n",
       "      <th></th>\n",
       "      <th>Pclass</th>\n",
       "      <th>Sex</th>\n",
       "      <th>Age</th>\n",
       "      <th>SibSp</th>\n",
       "      <th>Parch</th>\n",
       "      <th>Fare</th>\n",
       "      <th>Embarked</th>\n",
       "    </tr>\n",
       "  </thead>\n",
       "  <tbody>\n",
       "    <tr>\n",
       "      <th>0</th>\n",
       "      <td>3</td>\n",
       "      <td>male</td>\n",
       "      <td>0.375000</td>\n",
       "      <td>1</td>\n",
       "      <td>0</td>\n",
       "      <td>0.110424</td>\n",
       "      <td>S</td>\n",
       "    </tr>\n",
       "    <tr>\n",
       "      <th>1</th>\n",
       "      <td>1</td>\n",
       "      <td>female</td>\n",
       "      <td>0.682692</td>\n",
       "      <td>1</td>\n",
       "      <td>0</td>\n",
       "      <td>1.000000</td>\n",
       "      <td>C</td>\n",
       "    </tr>\n",
       "    <tr>\n",
       "      <th>2</th>\n",
       "      <td>3</td>\n",
       "      <td>female</td>\n",
       "      <td>0.451923</td>\n",
       "      <td>0</td>\n",
       "      <td>0</td>\n",
       "      <td>0.120704</td>\n",
       "      <td>S</td>\n",
       "    </tr>\n",
       "    <tr>\n",
       "      <th>3</th>\n",
       "      <td>1</td>\n",
       "      <td>female</td>\n",
       "      <td>0.625000</td>\n",
       "      <td>1</td>\n",
       "      <td>0</td>\n",
       "      <td>0.808757</td>\n",
       "      <td>S</td>\n",
       "    </tr>\n",
       "    <tr>\n",
       "      <th>4</th>\n",
       "      <td>3</td>\n",
       "      <td>male</td>\n",
       "      <td>0.625000</td>\n",
       "      <td>0</td>\n",
       "      <td>0</td>\n",
       "      <td>0.122608</td>\n",
       "      <td>S</td>\n",
       "    </tr>\n",
       "  </tbody>\n",
       "</table>\n",
       "</div>"
      ],
      "text/plain": [
       "  Pclass     Sex       Age SibSp Parch      Fare Embarked\n",
       "0      3    male  0.375000     1     0  0.110424        S\n",
       "1      1  female  0.682692     1     0  1.000000        C\n",
       "2      3  female  0.451923     0     0  0.120704        S\n",
       "3      1  female  0.625000     1     0  0.808757        S\n",
       "4      3    male  0.625000     0     0  0.122608        S"
      ]
     },
     "execution_count": 77,
     "metadata": {},
     "output_type": "execute_result"
    }
   ],
   "source": [
    "num_cols = X.select_dtypes('number').columns  # Select all numeric columns in the DataFrame\n",
    "scaler.fit(X[num_cols])  # Fit the scaler to the numeric columns in the DataFrame\n",
    "X[num_cols] = scaler.transform(X[num_cols])  # Transform the numeric columns in the DataFrame using the fitted scaler\n",
    "X.head()  # Display the first few rows of the DataFrame after scaling the numeric columns"
   ]
  },
  {
   "cell_type": "code",
   "execution_count": 80,
   "id": "7cec2e42",
   "metadata": {},
   "outputs": [
    {
     "data": {
      "text/html": [
       "<div>\n",
       "<style scoped>\n",
       "    .dataframe tbody tr th:only-of-type {\n",
       "        vertical-align: middle;\n",
       "    }\n",
       "\n",
       "    .dataframe tbody tr th {\n",
       "        vertical-align: top;\n",
       "    }\n",
       "\n",
       "    .dataframe thead th {\n",
       "        text-align: right;\n",
       "    }\n",
       "</style>\n",
       "<table border=\"1\" class=\"dataframe\">\n",
       "  <thead>\n",
       "    <tr style=\"text-align: right;\">\n",
       "      <th></th>\n",
       "      <th>Sex</th>\n",
       "      <th>Embarked</th>\n",
       "    </tr>\n",
       "  </thead>\n",
       "  <tbody>\n",
       "    <tr>\n",
       "      <th>0</th>\n",
       "      <td>2</td>\n",
       "      <td>3</td>\n",
       "    </tr>\n",
       "  </tbody>\n",
       "</table>\n",
       "</div>"
      ],
      "text/plain": [
       "   Sex  Embarked\n",
       "0    2         3"
      ]
     },
     "execution_count": 80,
     "metadata": {},
     "output_type": "execute_result"
    }
   ],
   "source": [
    "str_col = ['Sex' , 'Embarked']  # Create a list of the string columns in the DataFrame\n",
    "pd.DataFrame(X[str_col].nunique()).T # Count the number of unique values in each string column in the DataFrame"
   ]
  },
  {
   "cell_type": "code",
   "execution_count": 81,
   "id": "35d2a7c7",
   "metadata": {},
   "outputs": [
    {
     "name": "stdout",
     "output_type": "stream",
     "text": [
      "Collecting one-hot-encoder\n",
      "  Downloading one_hot_encoder-1.1.tar.gz (2.4 kB)\n",
      "  Installing build dependencies: started\n",
      "  Installing build dependencies: finished with status 'done'\n",
      "  Getting requirements to build wheel: started\n",
      "  Getting requirements to build wheel: finished with status 'done'\n",
      "  Preparing metadata (pyproject.toml): started\n",
      "  Preparing metadata (pyproject.toml): finished with status 'done'\n",
      "Building wheels for collected packages: one-hot-encoder\n",
      "  Building wheel for one-hot-encoder (pyproject.toml): started\n",
      "  Building wheel for one-hot-encoder (pyproject.toml): finished with status 'done'\n",
      "  Created wheel for one-hot-encoder: filename=one_hot_encoder-1.1-py3-none-any.whl size=3545 sha256=b5b6e89aba1d39219fa3952014b321d359a39501d6d7bf4bffaa3999bcbcd8ce\n",
      "  Stored in directory: c:\\users\\mgama\\appdata\\local\\pip\\cache\\wheels\\30\\75\\0b\\d695f28141995bae7b75cae0e03ad7226ad39711963c210372\n",
      "Successfully built one-hot-encoder\n",
      "Installing collected packages: one-hot-encoder\n",
      "Successfully installed one-hot-encoder-1.1\n",
      "Note: you may need to restart the kernel to use updated packages.\n"
     ]
    },
    {
     "name": "stderr",
     "output_type": "stream",
     "text": [
      "\n",
      "[notice] A new release of pip is available: 25.1.1 -> 25.2\n",
      "[notice] To update, run: python.exe -m pip install --upgrade pip\n"
     ]
    }
   ],
   "source": [
    "pip install one-hot-encoder"
   ]
  },
  {
   "cell_type": "code",
   "execution_count": 83,
   "id": "ba33464a",
   "metadata": {},
   "outputs": [
    {
     "name": "stdout",
     "output_type": "stream",
     "text": [
      "Requirement already satisfied: one-hot-encoder in c:\\users\\mgama\\ai_amit_diploma\\.venv\\lib\\site-packages (1.1)\n",
      "Note: you may need to restart the kernel to use updated packages.\n"
     ]
    },
    {
     "name": "stderr",
     "output_type": "stream",
     "text": [
      "\n",
      "[notice] A new release of pip is available: 25.1.1 -> 25.2\n",
      "[notice] To update, run: python.exe -m pip install --upgrade pip\n"
     ]
    }
   ],
   "source": [
    "pip install one-hot-encoder\n"
   ]
  },
  {
   "cell_type": "code",
   "execution_count": 84,
   "id": "ad7c37ce",
   "metadata": {},
   "outputs": [
    {
     "name": "stdout",
     "output_type": "stream",
     "text": [
      "Collecting category-encoders\n",
      "  Downloading category_encoders-2.8.1-py3-none-any.whl.metadata (7.9 kB)\n",
      "Requirement already satisfied: numpy>=1.14.0 in c:\\users\\mgama\\ai_amit_diploma\\.venv\\lib\\site-packages (from category-encoders) (2.3.0)\n",
      "Requirement already satisfied: pandas>=1.0.5 in c:\\users\\mgama\\ai_amit_diploma\\.venv\\lib\\site-packages (from category-encoders) (2.3.0)\n",
      "Collecting patsy>=0.5.1 (from category-encoders)\n",
      "  Downloading patsy-1.0.1-py2.py3-none-any.whl.metadata (3.3 kB)\n",
      "Requirement already satisfied: scikit-learn>=1.6.0 in c:\\users\\mgama\\ai_amit_diploma\\.venv\\lib\\site-packages (from category-encoders) (1.7.1)\n",
      "Requirement already satisfied: scipy>=1.0.0 in c:\\users\\mgama\\ai_amit_diploma\\.venv\\lib\\site-packages (from category-encoders) (1.16.1)\n",
      "Collecting statsmodels>=0.9.0 (from category-encoders)\n",
      "  Downloading statsmodels-0.14.5-cp313-cp313-win_amd64.whl.metadata (9.8 kB)\n",
      "Requirement already satisfied: python-dateutil>=2.8.2 in c:\\users\\mgama\\ai_amit_diploma\\.venv\\lib\\site-packages (from pandas>=1.0.5->category-encoders) (2.9.0.post0)\n",
      "Requirement already satisfied: pytz>=2020.1 in c:\\users\\mgama\\ai_amit_diploma\\.venv\\lib\\site-packages (from pandas>=1.0.5->category-encoders) (2025.2)\n",
      "Requirement already satisfied: tzdata>=2022.7 in c:\\users\\mgama\\ai_amit_diploma\\.venv\\lib\\site-packages (from pandas>=1.0.5->category-encoders) (2025.2)\n",
      "Requirement already satisfied: six>=1.5 in c:\\users\\mgama\\ai_amit_diploma\\.venv\\lib\\site-packages (from python-dateutil>=2.8.2->pandas>=1.0.5->category-encoders) (1.17.0)\n",
      "Requirement already satisfied: joblib>=1.2.0 in c:\\users\\mgama\\ai_amit_diploma\\.venv\\lib\\site-packages (from scikit-learn>=1.6.0->category-encoders) (1.5.1)\n",
      "Requirement already satisfied: threadpoolctl>=3.1.0 in c:\\users\\mgama\\ai_amit_diploma\\.venv\\lib\\site-packages (from scikit-learn>=1.6.0->category-encoders) (3.6.0)\n",
      "Requirement already satisfied: packaging>=21.3 in c:\\users\\mgama\\ai_amit_diploma\\.venv\\lib\\site-packages (from statsmodels>=0.9.0->category-encoders) (25.0)\n",
      "Downloading category_encoders-2.8.1-py3-none-any.whl (85 kB)\n",
      "Downloading patsy-1.0.1-py2.py3-none-any.whl (232 kB)\n",
      "Downloading statsmodels-0.14.5-cp313-cp313-win_amd64.whl (9.6 MB)\n",
      "   ---------------------------------------- 0.0/9.6 MB ? eta -:--:--\n",
      "   -- ------------------------------------- 0.5/9.6 MB 4.0 MB/s eta 0:00:03\n",
      "   ----- ---------------------------------- 1.3/9.6 MB 3.4 MB/s eta 0:00:03\n",
      "   -------- ------------------------------- 2.1/9.6 MB 3.6 MB/s eta 0:00:03\n",
      "   ------------- -------------------------- 3.1/9.6 MB 3.7 MB/s eta 0:00:02\n",
      "   ---------------- ----------------------- 3.9/9.6 MB 3.7 MB/s eta 0:00:02\n",
      "   ------------------- -------------------- 4.7/9.6 MB 3.8 MB/s eta 0:00:02\n",
      "   ---------------------- ----------------- 5.5/9.6 MB 3.8 MB/s eta 0:00:02\n",
      "   -------------------------- ------------- 6.3/9.6 MB 3.8 MB/s eta 0:00:01\n",
      "   ----------------------------- ---------- 7.1/9.6 MB 3.8 MB/s eta 0:00:01\n",
      "   -------------------------------- ------- 7.9/9.6 MB 3.8 MB/s eta 0:00:01\n",
      "   ------------------------------------ --- 8.7/9.6 MB 3.8 MB/s eta 0:00:01\n",
      "   ---------------------------------------  9.4/9.6 MB 3.8 MB/s eta 0:00:01\n",
      "   ---------------------------------------- 9.6/9.6 MB 3.8 MB/s eta 0:00:00\n",
      "Installing collected packages: patsy, statsmodels, category-encoders\n",
      "\n",
      "   ---------------------------------------- 0/3 [patsy]\n",
      "   ---------------------------------------- 0/3 [patsy]\n",
      "   ------------- -------------------------- 1/3 [statsmodels]\n",
      "   ------------- -------------------------- 1/3 [statsmodels]\n",
      "   ------------- -------------------------- 1/3 [statsmodels]\n",
      "   ------------- -------------------------- 1/3 [statsmodels]\n",
      "   ------------- -------------------------- 1/3 [statsmodels]\n",
      "   ------------- -------------------------- 1/3 [statsmodels]\n",
      "   ------------- -------------------------- 1/3 [statsmodels]\n",
      "   ------------- -------------------------- 1/3 [statsmodels]\n",
      "   ------------- -------------------------- 1/3 [statsmodels]\n",
      "   ------------- -------------------------- 1/3 [statsmodels]\n",
      "   ------------- -------------------------- 1/3 [statsmodels]\n",
      "   ------------- -------------------------- 1/3 [statsmodels]\n",
      "   ------------- -------------------------- 1/3 [statsmodels]\n",
      "   ------------- -------------------------- 1/3 [statsmodels]\n",
      "   ------------- -------------------------- 1/3 [statsmodels]\n",
      "   ------------- -------------------------- 1/3 [statsmodels]\n",
      "   ------------- -------------------------- 1/3 [statsmodels]\n",
      "   ------------- -------------------------- 1/3 [statsmodels]\n",
      "   ------------- -------------------------- 1/3 [statsmodels]\n",
      "   ------------- -------------------------- 1/3 [statsmodels]\n",
      "   ------------- -------------------------- 1/3 [statsmodels]\n",
      "   ------------- -------------------------- 1/3 [statsmodels]\n",
      "   ------------- -------------------------- 1/3 [statsmodels]\n",
      "   ------------- -------------------------- 1/3 [statsmodels]\n",
      "   ------------- -------------------------- 1/3 [statsmodels]\n",
      "   ------------- -------------------------- 1/3 [statsmodels]\n",
      "   ------------- -------------------------- 1/3 [statsmodels]\n",
      "   ------------- -------------------------- 1/3 [statsmodels]\n",
      "   ------------- -------------------------- 1/3 [statsmodels]\n",
      "   ------------- -------------------------- 1/3 [statsmodels]\n",
      "   ------------- -------------------------- 1/3 [statsmodels]\n",
      "   ------------- -------------------------- 1/3 [statsmodels]\n",
      "   ------------- -------------------------- 1/3 [statsmodels]\n",
      "   ------------- -------------------------- 1/3 [statsmodels]\n",
      "   ------------- -------------------------- 1/3 [statsmodels]\n",
      "   ------------- -------------------------- 1/3 [statsmodels]\n",
      "   ------------- -------------------------- 1/3 [statsmodels]\n",
      "   ------------- -------------------------- 1/3 [statsmodels]\n",
      "   ------------- -------------------------- 1/3 [statsmodels]\n",
      "   ------------- -------------------------- 1/3 [statsmodels]\n",
      "   ------------- -------------------------- 1/3 [statsmodels]\n",
      "   ------------- -------------------------- 1/3 [statsmodels]\n",
      "   ------------- -------------------------- 1/3 [statsmodels]\n",
      "   ------------- -------------------------- 1/3 [statsmodels]\n",
      "   ------------- -------------------------- 1/3 [statsmodels]\n",
      "   ------------- -------------------------- 1/3 [statsmodels]\n",
      "   ------------- -------------------------- 1/3 [statsmodels]\n",
      "   ------------- -------------------------- 1/3 [statsmodels]\n",
      "   ------------- -------------------------- 1/3 [statsmodels]\n",
      "   ------------- -------------------------- 1/3 [statsmodels]\n",
      "   ------------- -------------------------- 1/3 [statsmodels]\n",
      "   ------------- -------------------------- 1/3 [statsmodels]\n",
      "   ------------- -------------------------- 1/3 [statsmodels]\n",
      "   ------------- -------------------------- 1/3 [statsmodels]\n",
      "   ------------- -------------------------- 1/3 [statsmodels]\n",
      "   ------------- -------------------------- 1/3 [statsmodels]\n",
      "   ------------- -------------------------- 1/3 [statsmodels]\n",
      "   ------------- -------------------------- 1/3 [statsmodels]\n",
      "   ------------- -------------------------- 1/3 [statsmodels]\n",
      "   ------------- -------------------------- 1/3 [statsmodels]\n",
      "   ------------- -------------------------- 1/3 [statsmodels]\n",
      "   ------------- -------------------------- 1/3 [statsmodels]\n",
      "   ------------- -------------------------- 1/3 [statsmodels]\n",
      "   ------------- -------------------------- 1/3 [statsmodels]\n",
      "   ------------- -------------------------- 1/3 [statsmodels]\n",
      "   ------------- -------------------------- 1/3 [statsmodels]\n",
      "   ------------- -------------------------- 1/3 [statsmodels]\n",
      "   ------------- -------------------------- 1/3 [statsmodels]\n",
      "   ------------- -------------------------- 1/3 [statsmodels]\n",
      "   ------------- -------------------------- 1/3 [statsmodels]\n",
      "   ------------- -------------------------- 1/3 [statsmodels]\n",
      "   ------------- -------------------------- 1/3 [statsmodels]\n",
      "   ------------- -------------------------- 1/3 [statsmodels]\n",
      "   ------------- -------------------------- 1/3 [statsmodels]\n",
      "   ------------- -------------------------- 1/3 [statsmodels]\n",
      "   -------------------------- ------------- 2/3 [category-encoders]\n",
      "   -------------------------- ------------- 2/3 [category-encoders]\n",
      "   ---------------------------------------- 3/3 [category-encoders]\n",
      "\n",
      "Successfully installed category-encoders-2.8.1 patsy-1.0.1 statsmodels-0.14.5\n",
      "Note: you may need to restart the kernel to use updated packages.\n"
     ]
    },
    {
     "name": "stderr",
     "output_type": "stream",
     "text": [
      "\n",
      "[notice] A new release of pip is available: 25.1.1 -> 25.2\n",
      "[notice] To update, run: python.exe -m pip install --upgrade pip\n"
     ]
    }
   ],
   "source": [
    "pip install category-encoders\n"
   ]
  },
  {
   "cell_type": "code",
   "execution_count": 86,
   "id": "77d8defa",
   "metadata": {},
   "outputs": [],
   "source": [
    "from category_encoders import OneHotEncoder  # Import the OneHotEncoder class from the category_encoders library\n"
   ]
  },
  {
   "cell_type": "code",
   "execution_count": 88,
   "id": "cf9221b5",
   "metadata": {},
   "outputs": [],
   "source": [
    "encoder = OneHotEncoder(cols=str_col , drop_invariant=True)  # Create a new instance of the OneHotEncoder class and specify the string columns to encode \n",
    "X = encoder.fit_transform(X)  # Transform the string columns in the DataFrame using the OneHotEncoder"
   ]
  },
  {
   "cell_type": "code",
   "execution_count": 89,
   "id": "6cfc210d",
   "metadata": {},
   "outputs": [
    {
     "data": {
      "text/html": [
       "<div>\n",
       "<style scoped>\n",
       "    .dataframe tbody tr th:only-of-type {\n",
       "        vertical-align: middle;\n",
       "    }\n",
       "\n",
       "    .dataframe tbody tr th {\n",
       "        vertical-align: top;\n",
       "    }\n",
       "\n",
       "    .dataframe thead th {\n",
       "        text-align: right;\n",
       "    }\n",
       "</style>\n",
       "<table border=\"1\" class=\"dataframe\">\n",
       "  <thead>\n",
       "    <tr style=\"text-align: right;\">\n",
       "      <th></th>\n",
       "      <th>Pclass</th>\n",
       "      <th>Sex_1</th>\n",
       "      <th>Sex_2</th>\n",
       "      <th>Age</th>\n",
       "      <th>SibSp</th>\n",
       "      <th>Parch</th>\n",
       "      <th>Fare</th>\n",
       "      <th>Embarked_1</th>\n",
       "      <th>Embarked_2</th>\n",
       "      <th>Embarked_3</th>\n",
       "    </tr>\n",
       "  </thead>\n",
       "  <tbody>\n",
       "    <tr>\n",
       "      <th>0</th>\n",
       "      <td>3</td>\n",
       "      <td>1</td>\n",
       "      <td>0</td>\n",
       "      <td>0.375000</td>\n",
       "      <td>1</td>\n",
       "      <td>0</td>\n",
       "      <td>0.110424</td>\n",
       "      <td>1</td>\n",
       "      <td>0</td>\n",
       "      <td>0</td>\n",
       "    </tr>\n",
       "    <tr>\n",
       "      <th>1</th>\n",
       "      <td>1</td>\n",
       "      <td>0</td>\n",
       "      <td>1</td>\n",
       "      <td>0.682692</td>\n",
       "      <td>1</td>\n",
       "      <td>0</td>\n",
       "      <td>1.000000</td>\n",
       "      <td>0</td>\n",
       "      <td>1</td>\n",
       "      <td>0</td>\n",
       "    </tr>\n",
       "    <tr>\n",
       "      <th>2</th>\n",
       "      <td>3</td>\n",
       "      <td>0</td>\n",
       "      <td>1</td>\n",
       "      <td>0.451923</td>\n",
       "      <td>0</td>\n",
       "      <td>0</td>\n",
       "      <td>0.120704</td>\n",
       "      <td>1</td>\n",
       "      <td>0</td>\n",
       "      <td>0</td>\n",
       "    </tr>\n",
       "    <tr>\n",
       "      <th>3</th>\n",
       "      <td>1</td>\n",
       "      <td>0</td>\n",
       "      <td>1</td>\n",
       "      <td>0.625000</td>\n",
       "      <td>1</td>\n",
       "      <td>0</td>\n",
       "      <td>0.808757</td>\n",
       "      <td>1</td>\n",
       "      <td>0</td>\n",
       "      <td>0</td>\n",
       "    </tr>\n",
       "    <tr>\n",
       "      <th>4</th>\n",
       "      <td>3</td>\n",
       "      <td>1</td>\n",
       "      <td>0</td>\n",
       "      <td>0.625000</td>\n",
       "      <td>0</td>\n",
       "      <td>0</td>\n",
       "      <td>0.122608</td>\n",
       "      <td>1</td>\n",
       "      <td>0</td>\n",
       "      <td>0</td>\n",
       "    </tr>\n",
       "  </tbody>\n",
       "</table>\n",
       "</div>"
      ],
      "text/plain": [
       "  Pclass  Sex_1  Sex_2       Age SibSp Parch      Fare  Embarked_1  \\\n",
       "0      3      1      0  0.375000     1     0  0.110424           1   \n",
       "1      1      0      1  0.682692     1     0  1.000000           0   \n",
       "2      3      0      1  0.451923     0     0  0.120704           1   \n",
       "3      1      0      1  0.625000     1     0  0.808757           1   \n",
       "4      3      1      0  0.625000     0     0  0.122608           1   \n",
       "\n",
       "   Embarked_2  Embarked_3  \n",
       "0           0           0  \n",
       "1           1           0  \n",
       "2           0           0  \n",
       "3           0           0  \n",
       "4           0           0  "
      ]
     },
     "execution_count": 89,
     "metadata": {},
     "output_type": "execute_result"
    }
   ],
   "source": [
    "X.head()  # Display the first few rows of the DataFrame after encoding the string columns"
   ]
  },
  {
   "cell_type": "code",
   "execution_count": 90,
   "id": "9cd27385",
   "metadata": {},
   "outputs": [
    {
     "data": {
      "text/html": [
       "<div>\n",
       "<style scoped>\n",
       "    .dataframe tbody tr th:only-of-type {\n",
       "        vertical-align: middle;\n",
       "    }\n",
       "\n",
       "    .dataframe tbody tr th {\n",
       "        vertical-align: top;\n",
       "    }\n",
       "\n",
       "    .dataframe thead th {\n",
       "        text-align: right;\n",
       "    }\n",
       "</style>\n",
       "<table border=\"1\" class=\"dataframe\">\n",
       "  <thead>\n",
       "    <tr style=\"text-align: right;\">\n",
       "      <th></th>\n",
       "      <th>Pclass</th>\n",
       "      <th>Sex_1</th>\n",
       "      <th>Sex_2</th>\n",
       "      <th>Age</th>\n",
       "      <th>SibSp</th>\n",
       "      <th>Parch</th>\n",
       "      <th>Fare</th>\n",
       "      <th>Embarked_1</th>\n",
       "      <th>Embarked_2</th>\n",
       "      <th>Embarked_3</th>\n",
       "    </tr>\n",
       "  </thead>\n",
       "  <tbody>\n",
       "    <tr>\n",
       "      <th>0</th>\n",
       "      <td>3</td>\n",
       "      <td>1</td>\n",
       "      <td>0</td>\n",
       "      <td>0.375000</td>\n",
       "      <td>1</td>\n",
       "      <td>0</td>\n",
       "      <td>0.110424</td>\n",
       "      <td>1</td>\n",
       "      <td>0</td>\n",
       "      <td>0</td>\n",
       "    </tr>\n",
       "    <tr>\n",
       "      <th>1</th>\n",
       "      <td>1</td>\n",
       "      <td>0</td>\n",
       "      <td>1</td>\n",
       "      <td>0.682692</td>\n",
       "      <td>1</td>\n",
       "      <td>0</td>\n",
       "      <td>1.000000</td>\n",
       "      <td>0</td>\n",
       "      <td>1</td>\n",
       "      <td>0</td>\n",
       "    </tr>\n",
       "    <tr>\n",
       "      <th>2</th>\n",
       "      <td>3</td>\n",
       "      <td>0</td>\n",
       "      <td>1</td>\n",
       "      <td>0.451923</td>\n",
       "      <td>0</td>\n",
       "      <td>0</td>\n",
       "      <td>0.120704</td>\n",
       "      <td>1</td>\n",
       "      <td>0</td>\n",
       "      <td>0</td>\n",
       "    </tr>\n",
       "    <tr>\n",
       "      <th>3</th>\n",
       "      <td>1</td>\n",
       "      <td>0</td>\n",
       "      <td>1</td>\n",
       "      <td>0.625000</td>\n",
       "      <td>1</td>\n",
       "      <td>0</td>\n",
       "      <td>0.808757</td>\n",
       "      <td>1</td>\n",
       "      <td>0</td>\n",
       "      <td>0</td>\n",
       "    </tr>\n",
       "    <tr>\n",
       "      <th>4</th>\n",
       "      <td>3</td>\n",
       "      <td>1</td>\n",
       "      <td>0</td>\n",
       "      <td>0.625000</td>\n",
       "      <td>0</td>\n",
       "      <td>0</td>\n",
       "      <td>0.122608</td>\n",
       "      <td>1</td>\n",
       "      <td>0</td>\n",
       "      <td>0</td>\n",
       "    </tr>\n",
       "    <tr>\n",
       "      <th>...</th>\n",
       "      <td>...</td>\n",
       "      <td>...</td>\n",
       "      <td>...</td>\n",
       "      <td>...</td>\n",
       "      <td>...</td>\n",
       "      <td>...</td>\n",
       "      <td>...</td>\n",
       "      <td>...</td>\n",
       "      <td>...</td>\n",
       "      <td>...</td>\n",
       "    </tr>\n",
       "    <tr>\n",
       "      <th>885</th>\n",
       "      <td>3</td>\n",
       "      <td>0</td>\n",
       "      <td>1</td>\n",
       "      <td>0.701923</td>\n",
       "      <td>0</td>\n",
       "      <td>5</td>\n",
       "      <td>0.443598</td>\n",
       "      <td>0</td>\n",
       "      <td>0</td>\n",
       "      <td>1</td>\n",
       "    </tr>\n",
       "    <tr>\n",
       "      <th>887</th>\n",
       "      <td>1</td>\n",
       "      <td>0</td>\n",
       "      <td>1</td>\n",
       "      <td>0.317308</td>\n",
       "      <td>0</td>\n",
       "      <td>0</td>\n",
       "      <td>0.456925</td>\n",
       "      <td>1</td>\n",
       "      <td>0</td>\n",
       "      <td>0</td>\n",
       "    </tr>\n",
       "    <tr>\n",
       "      <th>888</th>\n",
       "      <td>3</td>\n",
       "      <td>0</td>\n",
       "      <td>1</td>\n",
       "      <td>0.490385</td>\n",
       "      <td>1</td>\n",
       "      <td>2</td>\n",
       "      <td>0.357163</td>\n",
       "      <td>1</td>\n",
       "      <td>0</td>\n",
       "      <td>0</td>\n",
       "    </tr>\n",
       "    <tr>\n",
       "      <th>889</th>\n",
       "      <td>1</td>\n",
       "      <td>1</td>\n",
       "      <td>0</td>\n",
       "      <td>0.451923</td>\n",
       "      <td>0</td>\n",
       "      <td>0</td>\n",
       "      <td>0.456925</td>\n",
       "      <td>0</td>\n",
       "      <td>1</td>\n",
       "      <td>0</td>\n",
       "    </tr>\n",
       "    <tr>\n",
       "      <th>890</th>\n",
       "      <td>3</td>\n",
       "      <td>1</td>\n",
       "      <td>0</td>\n",
       "      <td>0.567308</td>\n",
       "      <td>0</td>\n",
       "      <td>0</td>\n",
       "      <td>0.118039</td>\n",
       "      <td>0</td>\n",
       "      <td>0</td>\n",
       "      <td>1</td>\n",
       "    </tr>\n",
       "  </tbody>\n",
       "</table>\n",
       "<p>773 rows × 10 columns</p>\n",
       "</div>"
      ],
      "text/plain": [
       "    Pclass  Sex_1  Sex_2       Age SibSp Parch      Fare  Embarked_1  \\\n",
       "0        3      1      0  0.375000     1     0  0.110424           1   \n",
       "1        1      0      1  0.682692     1     0  1.000000           0   \n",
       "2        3      0      1  0.451923     0     0  0.120704           1   \n",
       "3        1      0      1  0.625000     1     0  0.808757           1   \n",
       "4        3      1      0  0.625000     0     0  0.122608           1   \n",
       "..     ...    ...    ...       ...   ...   ...       ...         ...   \n",
       "885      3      0      1  0.701923     0     5  0.443598           0   \n",
       "887      1      0      1  0.317308     0     0  0.456925           1   \n",
       "888      3      0      1  0.490385     1     2  0.357163           1   \n",
       "889      1      1      0  0.451923     0     0  0.456925           0   \n",
       "890      3      1      0  0.567308     0     0  0.118039           0   \n",
       "\n",
       "     Embarked_2  Embarked_3  \n",
       "0             0           0  \n",
       "1             1           0  \n",
       "2             0           0  \n",
       "3             0           0  \n",
       "4             0           0  \n",
       "..          ...         ...  \n",
       "885           0           1  \n",
       "887           0           0  \n",
       "888           0           0  \n",
       "889           1           0  \n",
       "890           0           1  \n",
       "\n",
       "[773 rows x 10 columns]"
      ]
     },
     "execution_count": 90,
     "metadata": {},
     "output_type": "execute_result"
    }
   ],
   "source": [
    "X"
   ]
  },
  {
   "cell_type": "code",
   "execution_count": null,
   "id": "2a81ab32",
   "metadata": {},
   "outputs": [],
   "source": []
  }
 ],
 "metadata": {
  "kernelspec": {
   "display_name": ".venv",
   "language": "python",
   "name": "python3"
  },
  "language_info": {
   "codemirror_mode": {
    "name": "ipython",
    "version": 3
   },
   "file_extension": ".py",
   "mimetype": "text/x-python",
   "name": "python",
   "nbconvert_exporter": "python",
   "pygments_lexer": "ipython3",
   "version": "3.13.3"
  }
 },
 "nbformat": 4,
 "nbformat_minor": 5
}
