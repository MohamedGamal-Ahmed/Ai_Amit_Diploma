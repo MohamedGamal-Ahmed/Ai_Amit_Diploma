{
 "cells": [
  {
   "cell_type": "code",
   "execution_count": 1,
   "id": "0a9db92d",
   "metadata": {},
   "outputs": [
    {
     "name": "stdout",
     "output_type": "stream",
     "text": [
      "Note: you may need to restart the kernel to use updated packages.\n"
     ]
    },
    {
     "name": "stderr",
     "output_type": "stream",
     "text": [
      "ERROR: Invalid requirement: '#': Expected package name at the start of dependency specifier\n",
      "    #\n",
      "    ^\n"
     ]
    }
   ],
   "source": [
    "pip install psycopg2 # PostgreSQL database adapter for Python\n"
   ]
  },
  {
   "cell_type": "code",
   "execution_count": 2,
   "id": "89399cb6",
   "metadata": {},
   "outputs": [],
   "source": [
    "import psycopg2"
   ]
  },
  {
   "cell_type": "code",
   "execution_count": null,
   "id": "272555bd",
   "metadata": {},
   "outputs": [],
   "source": [
    "import psycopg2\n",
    "my_conn = psycopg2.connect(\n",
    "    host = \"localhost\",\n",
    "    database = \"Hospital\",\n",
    "    user = \"postgres\",\n",
    "    password = \"test_12345\"\n",
    "\n",
    ")\n",
    "\n",
    "my_conn.set_session(autocommit=True)  # enables autocommit mode"
   ]
  },
  {
   "cell_type": "code",
   "execution_count": 4,
   "id": "b1c64c4b",
   "metadata": {},
   "outputs": [
    {
     "name": "stdout",
     "output_type": "stream",
     "text": [
      "('postgres',)\n"
     ]
    }
   ],
   "source": [
    "cur = my_conn.cursor() # Create a cursor object to interact with the database\n",
    "cur.execute(\"SELECT current_user;\") # Execute a SQL query\n",
    "print(cur.fetchone()) # Fetch and print the result of the query\n",
    "# cur.close() # Close the cursor\n",
    "# my_conn.close() # Close the database connection\n"
   ]
  },
  {
   "cell_type": "code",
   "execution_count": 5,
   "id": "2b9e18b5",
   "metadata": {},
   "outputs": [],
   "source": [
    "my_conn.autocommit = True # Enable autocommit mode\n",
    "cur = my_conn.cursor() # Get a cursor object to execute SQL queries\n",
    "cur.execute(\"create database Bike_db;\") # Create a new database named 'Bike_db'"
   ]
  },
  {
   "cell_type": "code",
   "execution_count": 6,
   "id": "d189d1ca",
   "metadata": {},
   "outputs": [
    {
     "name": "stdout",
     "output_type": "stream",
     "text": [
      "('postgres',)\n",
      "('student_managment',)\n",
      "('test',)\n",
      "('Hospital',)\n",
      "('BIKE',)\n",
      "('bike_db',)\n"
     ]
    }
   ],
   "source": [
    "cur.execute(\"select datname from pg_database where datistemplate = false;\")\n",
    "for db in cur.fetchall():\n",
    "    print(db)"
   ]
  },
  {
   "cell_type": "code",
   "execution_count": 8,
   "id": "85489804",
   "metadata": {},
   "outputs": [
    {
     "name": "stdout",
     "output_type": "stream",
     "text": [
      "table created successfully\n"
     ]
    }
   ],
   "source": [
    "cur.execute(\"create table steudent (name varchar(30), phone varchar(20));\")\n",
    "print(\"table created successfully\")"
   ]
  },
  {
   "cell_type": "code",
   "execution_count": 10,
   "id": "35f1731b",
   "metadata": {},
   "outputs": [
    {
     "name": "stdout",
     "output_type": "stream",
     "text": [
      "table created successfully\n"
     ]
    }
   ],
   "source": [
    "cur.execute(\"Alter table steudent add column city varchar(20);\")\n",
    "print(\"table created successfully\")"
   ]
  },
  {
   "cell_type": "code",
   "execution_count": null,
   "id": "5cf523c9",
   "metadata": {},
   "outputs": [
    {
     "name": "stdout",
     "output_type": "stream",
     "text": [
      "Data inserted successfully\n"
     ]
    }
   ],
   "source": [
    "sql = \"insert into steudent (name, phone, city) values (%s, %s, %s);\"\n",
    "data = ('Amit', '1234567890', 'Egypt')\n",
    "cur.execute(sql, data)\n",
    "my_conn.commit() # Commit the transaction\n",
    "print(\"Data inserted successfully\")\n"
   ]
  },
  {
   "cell_type": "code",
   "execution_count": 12,
   "id": "d377df0f",
   "metadata": {},
   "outputs": [
    {
     "name": "stdout",
     "output_type": "stream",
     "text": [
      "Data inserted successfully\n",
      "5 records inserted.\n"
     ]
    }
   ],
   "source": [
    "sql= \"insert into steudent (name, phone, city) values (%s, %s, %s);\"\n",
    "data = [\n",
    "        ('Ravi', '9876543210', 'India'),\n",
    "        ('John', '4567891230', 'USA'),\n",
    "        ('Sara', '3216549870', 'UK'),\n",
    "        ('Mike', '7890123456', 'Canada'),\n",
    "        ('Linda', '6543217890', 'Australia')\n",
    "\n",
    "]\n",
    "cur.executemany(sql, data)\n",
    "my_conn.commit() # Commit the transaction\n",
    "print(\"Data inserted successfully\")\n",
    "print(cur.rowcount, \"records inserted.\")"
   ]
  },
  {
   "cell_type": "code",
   "execution_count": 13,
   "id": "a4165fb5",
   "metadata": {},
   "outputs": [
    {
     "name": "stdout",
     "output_type": "stream",
     "text": [
      "('Amit', '1234567890', 'Egypt')\n",
      "('Ravi', '9876543210', 'India')\n",
      "('John', '4567891230', 'USA')\n",
      "('Sara', '3216549870', 'UK')\n",
      "('Mike', '7890123456', 'Canada')\n",
      "('Linda', '6543217890', 'Australia')\n"
     ]
    }
   ],
   "source": [
    "cur.execute(\"SELECT * FROM steudent;\") # Execute a SQL query\n",
    "results = cur.fetchall() # Fetch all results from the executed query\n",
    "for row in results:\n",
    "    print(row) # Print each row"
   ]
  },
  {
   "cell_type": "code",
   "execution_count": 14,
   "id": "dc60dab0",
   "metadata": {},
   "outputs": [
    {
     "name": "stdout",
     "output_type": "stream",
     "text": [
      "('Amit', '1234567890')\n",
      "('Ravi', '9876543210')\n",
      "('John', '4567891230')\n",
      "('Sara', '3216549870')\n",
      "('Mike', '7890123456')\n",
      "('Linda', '6543217890')\n"
     ]
    }
   ],
   "source": [
    "cur.execute(\"SELECT name, phone FROM steudent;\") # Execute a SQL query\n",
    "results = cur.fetchall() # Fetch all results from the executed query\n",
    "for row in results:\n",
    "    print(row) # Print each row"
   ]
  },
  {
   "cell_type": "code",
   "execution_count": 15,
   "id": "42d09f46",
   "metadata": {},
   "outputs": [
    {
     "name": "stdout",
     "output_type": "stream",
     "text": [
      "[('1234567890',)]\n"
     ]
    }
   ],
   "source": [
    "cur.execute (\"select phone from steudent where name = 'Amit';\") # Execute a SQL query\n",
    "results = cur.fetchall() # Fetch all results from the executed query\n",
    "print(results) # Print each row"
   ]
  },
  {
   "cell_type": "code",
   "execution_count": 17,
   "id": "0a4a1b9c",
   "metadata": {},
   "outputs": [
    {
     "name": "stdout",
     "output_type": "stream",
     "text": [
      "[('Amit', '1234567890', 'Egypt')]\n"
     ]
    }
   ],
   "source": [
    "sql = \"select * from steudent where name = %s;\" \n",
    "name = input(\"Enter name to search: \")\n",
    "data = (name,)\n",
    "cur.execute(sql, data) # Execute a SQL query\n",
    "results = cur.fetchall() # Fetch all results from the executed query\n",
    "print(results) # Print each row"
   ]
  },
  {
   "cell_type": "code",
   "execution_count": 19,
   "id": "a31245f0",
   "metadata": {},
   "outputs": [
    {
     "name": "stderr",
     "output_type": "stream",
     "text": [
      "C:\\Users\\Mgama\\AppData\\Local\\Temp\\ipykernel_10612\\3957483939.py:2: UserWarning: pandas only supports SQLAlchemy connectable (engine/connection) or database string URI or sqlite3 DBAPI2 connection. Other DBAPI2 objects are not tested. Please consider using SQLAlchemy.\n",
      "  df=pd.read_sql(\"SELECT * FROM steudent;\", my_conn) # Read data from the database into a pandas DataFrame\n"
     ]
    },
    {
     "data": {
      "text/html": [
       "<div>\n",
       "<style scoped>\n",
       "    .dataframe tbody tr th:only-of-type {\n",
       "        vertical-align: middle;\n",
       "    }\n",
       "\n",
       "    .dataframe tbody tr th {\n",
       "        vertical-align: top;\n",
       "    }\n",
       "\n",
       "    .dataframe thead th {\n",
       "        text-align: right;\n",
       "    }\n",
       "</style>\n",
       "<table border=\"1\" class=\"dataframe\">\n",
       "  <thead>\n",
       "    <tr style=\"text-align: right;\">\n",
       "      <th></th>\n",
       "      <th>name</th>\n",
       "      <th>phone</th>\n",
       "      <th>city</th>\n",
       "    </tr>\n",
       "  </thead>\n",
       "  <tbody>\n",
       "    <tr>\n",
       "      <th>0</th>\n",
       "      <td>Amit</td>\n",
       "      <td>1234567890</td>\n",
       "      <td>Egypt</td>\n",
       "    </tr>\n",
       "    <tr>\n",
       "      <th>1</th>\n",
       "      <td>Ravi</td>\n",
       "      <td>9876543210</td>\n",
       "      <td>India</td>\n",
       "    </tr>\n",
       "    <tr>\n",
       "      <th>2</th>\n",
       "      <td>John</td>\n",
       "      <td>4567891230</td>\n",
       "      <td>USA</td>\n",
       "    </tr>\n",
       "    <tr>\n",
       "      <th>3</th>\n",
       "      <td>Sara</td>\n",
       "      <td>3216549870</td>\n",
       "      <td>UK</td>\n",
       "    </tr>\n",
       "    <tr>\n",
       "      <th>4</th>\n",
       "      <td>Mike</td>\n",
       "      <td>7890123456</td>\n",
       "      <td>Canada</td>\n",
       "    </tr>\n",
       "  </tbody>\n",
       "</table>\n",
       "</div>"
      ],
      "text/plain": [
       "   name       phone    city\n",
       "0  Amit  1234567890   Egypt\n",
       "1  Ravi  9876543210   India\n",
       "2  John  4567891230     USA\n",
       "3  Sara  3216549870      UK\n",
       "4  Mike  7890123456  Canada"
      ]
     },
     "execution_count": 19,
     "metadata": {},
     "output_type": "execute_result"
    }
   ],
   "source": [
    "import pandas as pd\n",
    "df=pd.read_sql(\"SELECT * FROM steudent;\", my_conn) # Read data from the database into a pandas DataFrame\n",
    "df.head() # Display the first few rows of the DataFrame"
   ]
  },
  {
   "cell_type": "code",
   "execution_count": 29,
   "id": "2abc041a",
   "metadata": {},
   "outputs": [
    {
     "name": "stdout",
     "output_type": "stream",
     "text": [
      "('Ravi', '9876543210', 'India')\n",
      "('John', '4567891230', 'USA')\n",
      "('Sara', '3216549870', 'UK')\n",
      "('Mike', '7890123456', 'Canada')\n",
      "('Linda', '6543217890', 'Australia')\n",
      "('Amit', '123456789', 'Egypt')\n"
     ]
    }
   ],
   "source": [
    "cur.execute(\"update steudent set phone = '123456789' where name = 'Amit';\") # Execute a SQL query\n",
    "my_conn.commit() # Commit the transaction\n",
    "cur.execute (\"select * from steudent \")\n",
    "results = cur.fetchall() # Fetch all results from the executed query\n",
    "for i in results:\n",
    "    print(i)"
   ]
  },
  {
   "cell_type": "code",
   "execution_count": 31,
   "id": "e332d7c8",
   "metadata": {},
   "outputs": [
    {
     "name": "stdout",
     "output_type": "stream",
     "text": [
      "('Ravi', '9876543210', 'India')\n",
      "('John', '4567891230', 'USA')\n",
      "('Sara', '3216549870', 'UK')\n",
      "('Linda', '6543217890', 'Australia')\n",
      "('Amit', '123456789', 'Egypt')\n",
      "('Mike', '00000456', 'Canada')\n"
     ]
    }
   ],
   "source": [
    "update_value = input(\"Enter new phone number: \")\n",
    "condition_value = input(\"Enter name to update phone number: \")\n",
    "data = (update_value, condition_value)\n",
    "sql = cur.execute (\"update steudent set phone = %s where name = %s;\", data) # Execute a SQL query\n",
    "my_conn.commit() # Commit the transaction\n",
    "cur.execute (\"select * from steudent \")\n",
    "results = cur.fetchall() # Fetch all results from the executed query\n",
    "for row in results:\n",
    "    print(row)"
   ]
  },
  {
   "cell_type": "code",
   "execution_count": 32,
   "id": "7207095c",
   "metadata": {},
   "outputs": [
    {
     "name": "stdout",
     "output_type": "stream",
     "text": [
      "1 record(s) deleted successfully.\n",
      "('Ravi', '9876543210', 'India')\n",
      "('John', '4567891230', 'USA')\n",
      "('Sara', '3216549870', 'UK')\n",
      "('Linda', '6543217890', 'Australia')\n",
      "('Amit', '123456789', 'Egypt')\n"
     ]
    }
   ],
   "source": [
    "name_to_delete = input(\"Enter name to delete record: \")\n",
    "cur.execute(\"delete from steudent where name = %s;\", (name_to_delete,)) # Execute a SQL query\n",
    "my_conn.commit() # Commit the transaction\n",
    "if cur.rowcount > 0:\n",
    "    print(f\"{cur.rowcount} record(s) deleted successfully.\")\n",
    "else:\n",
    "    print(\"No records found to delete.\")\n",
    "cur.execute (\"select * from steudent \")\n",
    "results = cur.fetchall() # Fetch all results from the executed query\n",
    "for row in results:\n",
    "    print(row)    "
   ]
  },
  {
   "cell_type": "code",
   "execution_count": null,
   "id": "5a9e2a9e",
   "metadata": {},
   "outputs": [],
   "source": []
  }
 ],
 "metadata": {
  "kernelspec": {
   "display_name": "Python 3",
   "language": "python",
   "name": "python3"
  },
  "language_info": {
   "codemirror_mode": {
    "name": "ipython",
    "version": 3
   },
   "file_extension": ".py",
   "mimetype": "text/x-python",
   "name": "python",
   "nbconvert_exporter": "python",
   "pygments_lexer": "ipython3",
   "version": "3.11.8"
  }
 },
 "nbformat": 4,
 "nbformat_minor": 5
}
