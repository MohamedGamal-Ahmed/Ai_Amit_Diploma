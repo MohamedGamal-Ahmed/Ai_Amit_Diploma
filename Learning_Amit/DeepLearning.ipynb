{
 "cells": [
  {
   "cell_type": "code",
   "execution_count": 31,
   "id": "22ee6062",
   "metadata": {},
   "outputs": [],
   "source": [
    "import numpy as np\n",
    "import pandas as pd\n",
    "from sklearn.datasets import load_breast_cancer\n",
    "import warnings\n",
    "warnings.filterwarnings('ignore')"
   ]
  },
  {
   "cell_type": "code",
   "execution_count": 32,
   "id": "321feb7d",
   "metadata": {},
   "outputs": [
    {
     "data": {
      "text/plain": [
       "dict_keys(['data', 'target', 'frame', 'target_names', 'DESCR', 'feature_names', 'filename', 'data_module'])"
      ]
     },
     "execution_count": 32,
     "metadata": {},
     "output_type": "execute_result"
    }
   ],
   "source": [
    "data = load_breast_cancer()\n",
    "data.keys()"
   ]
  },
  {
   "cell_type": "code",
   "execution_count": 33,
   "id": "92bfd476",
   "metadata": {},
   "outputs": [
    {
     "data": {
      "text/plain": [
       "target\n",
       "1    357\n",
       "0    212\n",
       "Name: count, dtype: int64"
      ]
     },
     "execution_count": 33,
     "metadata": {},
     "output_type": "execute_result"
    }
   ],
   "source": [
    "df = pd.DataFrame(data= data['data'], columns= data.feature_names)\n",
    "df['target']= data['target']\n",
    "df['target'].value_counts()"
   ]
  },
  {
   "cell_type": "code",
   "execution_count": 34,
   "id": "68cc3e53",
   "metadata": {},
   "outputs": [],
   "source": [
    "x = df.iloc[:,:-1].values\n",
    "y = df['target'].values\n"
   ]
  },
  {
   "cell_type": "code",
   "execution_count": 35,
   "id": "842c6ea3",
   "metadata": {},
   "outputs": [],
   "source": [
    "from sklearn.model_selection import train_test_split\n",
    "x_train, x_test, y_train, y_test = train_test_split(x, y, test_size=0.2, random_state=42)"
   ]
  },
  {
   "cell_type": "code",
   "execution_count": 36,
   "id": "4ddf2030",
   "metadata": {},
   "outputs": [],
   "source": [
    "def sigmoid (z):\n",
    "    return 1 / (1 + np.exp(-z))"
   ]
  },
  {
   "cell_type": "code",
   "execution_count": 37,
   "id": "c1a24a2d",
   "metadata": {},
   "outputs": [],
   "source": [
    "def update_weights(x, y, z, weights, lr):\n",
    "    m = len(y)\n",
    "    dw = (1/m) * np.dot(x.T, (z - y))\n",
    "    weights = weights - lr * dw\n",
    "    return weights\n"
   ]
  },
  {
   "cell_type": "code",
   "execution_count": 38,
   "id": "83235c11",
   "metadata": {},
   "outputs": [],
   "source": [
    "def update_bais(x, y,z, bais, lr):\n",
    "    m = len(y)\n",
    "    db=(1/m)*np.sum((z-y))\n",
    "    bais = bais - lr * db\n",
    "    return bais"
   ]
  },
  {
   "cell_type": "code",
   "execution_count": 39,
   "id": "503b89b3",
   "metadata": {},
   "outputs": [],
   "source": [
    "def perceptron(x , weights, bais):\n",
    "    z = np.dot(x, weights) + bais\n",
    "    y_pred = sigmoid(z)\n",
    "    y_p = [1 if y >= 0.5 else 0 for y in y_pred]\n",
    "    return y_p\n"
   ]
  },
  {
   "cell_type": "code",
   "execution_count": 40,
   "id": "0f39915d",
   "metadata": {},
   "outputs": [],
   "source": [
    "def accuracy(y_pred, y_actual):\n",
    "    return np.sum(y_pred == y_actual) / len(y_actual)"
   ]
  },
  {
   "cell_type": "code",
   "execution_count": 45,
   "id": "a8b30bbf",
   "metadata": {},
   "outputs": [
    {
     "data": {
      "text/plain": [
       "array([ 3.21515193e-01,  4.18013209e-01,  1.86703367e+00,  7.61356044e-01,\n",
       "        2.89189804e-03, -1.49037899e-03, -5.89519575e-03, -2.51584724e-03,\n",
       "        5.44281890e-03,  2.33111587e-03,  1.23536352e-03,  3.05140842e-02,\n",
       "       -8.23352330e-03, -8.11600618e-01,  1.52397382e-04, -3.43370993e-04,\n",
       "       -6.69421955e-04, -8.55647824e-05,  4.88647776e-04,  4.97217420e-05,\n",
       "        3.38230464e-01,  5.21025077e-01,  1.88575459e+00, -1.10466286e+00,\n",
       "        3.53694356e-03, -6.49254512e-03, -1.26839985e-02, -2.94848948e-03,\n",
       "        6.99312154e-03,  2.13109389e-03])"
      ]
     },
     "execution_count": 45,
     "metadata": {},
     "output_type": "execute_result"
    }
   ],
   "source": [
    "# traning the model\n",
    "lr = 0.001\n",
    "weights = np.zeros(x_train.shape[1])\n",
    "bais = 0 # weights = np.random.randn(x_train.shape[1])\n",
    "for i in range(1000):\n",
    "    pred = perceptron(x_train, weights, bais)\n",
    "    weights = update_weights(x_train, y_train, pred, weights, lr)\n",
    "    bais = update_bais(x_train, y_train, pred, bais, lr)\n",
    "    \n",
    "weights\n"
   ]
  },
  {
   "cell_type": "code",
   "execution_count": 46,
   "id": "6087b66a",
   "metadata": {},
   "outputs": [
    {
     "data": {
      "text/plain": [
       "np.float64(0.042050549450549486)"
      ]
     },
     "execution_count": 46,
     "metadata": {},
     "output_type": "execute_result"
    }
   ],
   "source": [
    "bais"
   ]
  },
  {
   "cell_type": "code",
   "execution_count": 47,
   "id": "d716fece",
   "metadata": {},
   "outputs": [
    {
     "name": "stdout",
     "output_type": "stream",
     "text": [
      "Accuracy: 0.9473684210526315\n"
     ]
    }
   ],
   "source": [
    "y_pred = perceptron(x_test, weights, bais)\n",
    "print(\"Accuracy:\", accuracy(y_pred, y_test))"
   ]
  },
  {
   "cell_type": "code",
   "execution_count": null,
   "id": "4902b8b4",
   "metadata": {},
   "outputs": [],
   "source": []
  }
 ],
 "metadata": {
  "kernelspec": {
   "display_name": "Python 3",
   "language": "python",
   "name": "python3"
  },
  "language_info": {
   "codemirror_mode": {
    "name": "ipython",
    "version": 3
   },
   "file_extension": ".py",
   "mimetype": "text/x-python",
   "name": "python",
   "nbconvert_exporter": "python",
   "pygments_lexer": "ipython3",
   "version": "3.11.9"
  }
 },
 "nbformat": 4,
 "nbformat_minor": 5
}
