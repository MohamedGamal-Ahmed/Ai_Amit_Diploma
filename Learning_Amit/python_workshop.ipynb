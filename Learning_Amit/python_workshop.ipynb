{
 "cells": [
  {
   "cell_type": "code",
   "execution_count": null,
   "id": "1d5463fc",
   "metadata": {},
   "outputs": [],
   "source": [
    "import random\n",
    "from prettytable import prettytable\n"
   ]
  },
  {
   "cell_type": "code",
   "execution_count": null,
   "id": "135645a5",
   "metadata": {},
   "outputs": [],
   "source": [
    "\n",
    "u = \"Mohamed Gamal\"\n",
    "p = \"1111\"\n",
    "\n",
    "while True:\n",
    "    x = input(\"Enter Your user name: \")\n",
    "    if x == u:\n",
    "        y = input(\"Enter Your Password: \")\n",
    "        if y == p:\n",
    "            s = random.randrange(10000, 100000)\n",
    "            print(\"Your verification code is:\", s)\n",
    "\n",
    "            while True:\n",
    "                l = int(input(\"Enter your verification code: \"))\n",
    "                if l == s:\n",
    "                    print(\"Access granted\" , u)\n",
    "                    break\n",
    "                else:\n",
    "                    print(\"invalid verification code .... please try again.\")\n",
    "            break\n",
    "\n",
    "        else:\n",
    "            print(\"incorrect password . please try again\")\n",
    "    \n",
    "    else:\n",
    "        print(\"incorrect user name . please try again\")\n",
    "        continue\n",
    "\n",
    "\n"
   ]
  },
  {
   "cell_type": "code",
   "execution_count": 6,
   "id": "05445b99",
   "metadata": {},
   "outputs": [
    {
     "name": "stdout",
     "output_type": "stream",
     "text": [
      "+-------+-------+----------+\n",
      "|  name | price | quantity |\n",
      "+-------+-------+----------+\n",
      "| water |  80.0 |   1200   |\n",
      "|  soda | 130.0 |   1200   |\n",
      "| chips |  75.0 |   1200   |\n",
      "| bread |  45.0 |   1200   |\n",
      "|  eggs | 200.0 |   1200   |\n",
      "+-------+-------+----------+\n"
     ]
    }
   ],
   "source": [
    "from prettytable import PrettyTable\n",
    "\n",
    "products = [\n",
    "    {\"name\": \"water\", \"price\": \"80.0\", \"quantity\": 1200},\n",
    "    {\"name\": \"soda\", \"price\": \"130.0\", \"quantity\": 1200},\n",
    "    {\"name\": \"chips\", \"price\": \"75.0\", \"quantity\": 1200},\n",
    "    {\"name\": \"bread\", \"price\": \"45.0\", \"quantity\": 1200},\n",
    "    {\"name\": \"eggs\", \"price\": \"200.0\", \"quantity\": 1200},\n",
    "]\n",
    "\n",
    "table = PrettyTable()\n",
    "table.field_names = [\"name\", \"price\", \"quantity\"]\n",
    "\n",
    "for product in products:\n",
    "    table.add_row([product[\"name\"], product[\"price\"], product[\"quantity\"]])\n",
    "\n",
    "print(table)"
   ]
  },
  {
   "cell_type": "code",
   "execution_count": 1,
   "id": "d6751282",
   "metadata": {},
   "outputs": [],
   "source": [
    "total_discounted_price = 0"
   ]
  },
  {
   "cell_type": "code",
   "execution_count": null,
   "id": "25d61042",
   "metadata": {},
   "outputs": [
    {
     "name": "stdout",
     "output_type": "stream",
     "text": [
      "Discounted Price for water: $15200.00\n"
     ]
    }
   ],
   "source": [
    "while True:\n",
    "    product_name = input(\"Enter product name: \").lower()\n",
    "    product = next((p for p in products if p[\"name\"].lower() == product_name), None)\n",
    "    if product is None:\n",
    "        print(\"Product not found.\")\n",
    "        continue\n",
    "    quantity_required = float(input(\"Enter quantity: \"))\n",
    "    if quantity_required > product[\"quantity\"]:\n",
    "        print(\"Insufficient quantity.\")\n",
    "        continue\n",
    "    discount_percentage = 0.05\n",
    "    discounted_price = float(quantity_required * float(product[\"price\"]) * (1 - discount_percentage))\n",
    "    product[\"quantity\"] -= quantity_required\n",
    "    print(f\"Discounted Price for {product_name}: ${discounted_price:.2f}\")\n",
    "    break"
   ]
  },
  {
   "cell_type": "code",
   "execution_count": null,
   "id": "66430f54",
   "metadata": {},
   "outputs": [],
   "source": []
  }
 ],
 "metadata": {
  "kernelspec": {
   "display_name": "Python 3",
   "language": "python",
   "name": "python3"
  },
  "language_info": {
   "codemirror_mode": {
    "name": "ipython",
    "version": 3
   },
   "file_extension": ".py",
   "mimetype": "text/x-python",
   "name": "python",
   "nbconvert_exporter": "python",
   "pygments_lexer": "ipython3",
   "version": "3.12.4"
  }
 },
 "nbformat": 4,
 "nbformat_minor": 5
}
